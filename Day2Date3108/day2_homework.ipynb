{
 "cells": [
  {
   "cell_type": "code",
   "execution_count": 12,
   "source": [
    "'''  === Bài Tập Số 1: Cách 1 ======'''\r\n",
    "print(\"Nhập 3 số nguyên vào để tìm giá trị lớn nhất:\")\r\n",
    "a=int(input(\"Nhập số thứ 1:\"))\r\n",
    "b=int(input(\"Nhập số thứ 2:\"))\r\n",
    "c=int(input(\"Nhập số thứ 3:\"))\r\n",
    "print(\"Các số đã nhập lần lượt là:\",a,b,c)\r\n",
    "if a>=b and a>=c:\r\n",
    "    print(\"Số lớn nhất là:\", a)\r\n",
    "elif b>=a and b>=c:\r\n",
    "    print(\"Số lớn nhất là: \", b)\r\n",
    "else: print(\"Số lớn nhất là:\", c)\r\n"
   ],
   "outputs": [
    {
     "output_type": "stream",
     "name": "stdout",
     "text": [
      "Nhập 3 số nguyên vào để tìm giá trị lớn nhất:\n",
      "Các số đã nhập lần lượt là: 23 32 12\n",
      "Số lớn nhất là:  32\n"
     ]
    }
   ],
   "metadata": {}
  },
  {
   "cell_type": "code",
   "execution_count": 2,
   "source": [
    "'''  === Bài Tập Số 1: Cách 2 ======'''\r\n",
    "\r\n",
    "print(\"Nhập 3 số nguyên vào để tìm giá trị lớn nhất:\")\r\n",
    "a=int(input(\"Nhập số thứ 1:\"))\r\n",
    "b=int(input(\"Nhập số thứ 2:\"))\r\n",
    "c=int(input(\"Nhập số thứ 3:\"))\r\n",
    "max_number=max(a,b,c)\r\n",
    "print(\"Số lớn nhất trong các số nhập vào là\",max_number)\r\n"
   ],
   "outputs": [
    {
     "output_type": "stream",
     "name": "stdout",
     "text": [
      "Nhập 3 số nguyên vào để tìm giá trị lớn nhất:\n",
      "Số lớn nhất trong các số nhập vào là 23\n"
     ]
    }
   ],
   "metadata": {}
  },
  {
   "cell_type": "code",
   "execution_count": null,
   "source": [
    "'''  === Bài Tập Số 1: Cách 3 ======'''\r\n",
    "print(\"Nhập 3 số nguyên vào để tìm giá trị lớn nhất:\")\r\n",
    "a=int(input(\"Nhập số thứ 1:\"))\r\n",
    "b=int(input(\"Nhập số thứ 2:\"))\r\n",
    "c=int(input(\"Nhập số thứ 3:\"))\r\n",
    "list_number=[a,b,c]\r\n",
    "list_number.sort()\r\n",
    "print(list_number)\r\n",
    "print(\"Số lớn nhất trong các số nhập vào là\",list_number[-1])\r\n"
   ],
   "outputs": [],
   "metadata": {}
  },
  {
   "cell_type": "code",
   "execution_count": 3,
   "source": [
    "''' Bài tập số 2\r\n",
    "https://www.hvdong.com/2019/04/nam-nhuan-la-gi-cach-tinh-nam-nhuan.html\r\n",
    "\r\n",
    "Viết chương trình kiểm tra một năm có phải năm nhuận hay không\r\n",
    "Nhập một năm year - int\r\n",
    "Kiểm tra và in ra kết quả year có phải năm nhuận hay không\r\n",
    "💡 Năm nhuận là năm:\r\n",
    "Chia hết cho 400\r\n",
    "Chia hết cho 4 nhưng không chia hết cho 100\r\n",
    "\r\n",
    "Ví dụ: 1600 và 2000 là các năm nhuận nhưng 1700, 1800 và 1900 không phải năm nhuận. \r\n",
    "Tương tự như vậy, 2100, 2200, 2300, 2500, 2600, 2700, 2900 và 3000 không phải năm nhuận \r\n",
    "nhưng 2400 và 2800 là các năm nhuận.\r\n",
    "============================'''\r\n",
    "\r\n",
    "print(\"Nhập 1 năm:\")\r\n",
    "year_input=int(input())\r\n",
    "if (year_input%4==0 and year_input%100!=0) or (year_input%400==0):\r\n",
    "    print(\"Năm nhập vào\", year_input, \"là năm nhuận\") #Quy ước những năm dương lịch nào chia hết cho 4 thì năm đó là năm nhuận  \r\n",
    "else:\r\n",
    "    print(\"Năm nhập vào\", year_input,\"không phải là năm nhuận\")"
   ],
   "outputs": [
    {
     "output_type": "stream",
     "name": "stdout",
     "text": [
      "Nhập 1 năm:\n",
      "Năm nhập vào 2345 không phải là năm nhuận\n"
     ]
    }
   ],
   "metadata": {}
  },
  {
   "cell_type": "code",
   "execution_count": null,
   "source": [
    "#Viết chương trình tính chỉ số BMI (Body Mass Index - Chỉ số cơ thể)\r\n",
    "#Nhập chiều cao h (đơn vị m) và cân nặng w (đơn vị kg)\r\n",
    "#Tính chỉ số BMI: w / (h * h)\r\n",
    "#In chỉ số và thông báo kết quả theo quy ước:\r\n",
    "##BMI < 17: Gầy độ II\r\n",
    "##17 <= BMI < 18.5: Gầy độ I\r\n",
    "##18.5 <= BMI < 25: Bình thường\r\n",
    "##25 <= BMI < 30: Thừa cân\r\n",
    "##30 <= BMI < 35: Béo phì độ I\r\n",
    "##35 <= BMI: Béo phì độ II\r\n",
    "\r\n",
    "print('\\n\\nBài 3: Tính chỉ số BMI')\r\n",
    "h = float(input(\"\\tNhập chiều cao (m): \\t\"))\r\n",
    "w = float(input(\"\\tNhập cân nặng (kg): \\t\"))\r\n",
    "BMI = round(w / (h * h),2)\r\n",
    "if (BMI < 17):\r\n",
    "  print('\\t\\tChỉ số BMI của bạn: ', BMI, ' - Gầy độ II')\r\n",
    "elif (17 <= BMI < 18.5):\r\n",
    "  print('\\t\\tChỉ số BMI của bạn: ', BMI, ' - Gầy độ I')\r\n",
    "elif (18.5 <= BMI < 25):\r\n",
    "  print('\\t\\tChỉ số BMI của bạn: ', BMI, ' - Bình thường')\r\n",
    "elif (25 <= BMI < 30):\r\n",
    "  print('\\t\\tChỉ số BMI của bạn: ', BMI, ' - Thừa cân')\r\n",
    "elif (30 <= BMI < 35):\r\n",
    "  print('\\t\\tChỉ số BMI của bạn: ', BMI, ' - Béo phì độ I')\r\n",
    "else:\r\n",
    "  print('\\t\\tChỉ số BMI của bạn: ', BMI, ' - Béo phì độ II')"
   ],
   "outputs": [],
   "metadata": {}
  },
  {
   "cell_type": "code",
   "execution_count": 1,
   "source": [
    "''' Bài tập số 3\r\n",
    "Viết chương trình tính chỉ số BMI (Body Mass Index - Chỉ số cơ thể)\r\n",
    "\r\n",
    "Nhập chiều cao h (đơn vị m) và cân nặng w (đơn vị kg)\r\n",
    "Tính chỉ số BMI: w / (h * h)\r\n",
    "In chỉ số và thông báo kết quả theo quy ước:\r\n",
    "BMI < 17: Gầy độ II\r\n",
    "17 <= BMI < 18.5: Gầy độ I\r\n",
    "18.5 <= BMI < 25: Bình thường\r\n",
    "25 <= BMI < 30: Thừa cân\r\n",
    "30 <= BMI < 35: Béo phì độ I\r\n",
    "35 <= BMI: Béo phì độ II\r\n",
    "\r\n",
    "'''\r\n",
    "\r\n",
    "print(\"Nhập chiều cao (m):\")\r\n",
    "h=float(input())\r\n",
    "print(\"Nhập cân nặng (kg):\")\r\n",
    "w=float(input())\r\n",
    "bmi=w/(h*h)\r\n",
    "print(\"Chỉ số BMI của bạn:\", bmi)\r\n",
    "if bmi<17:\r\n",
    "    print(\"Gầy độ II\")\r\n",
    "elif bmi>=17 and bmi<18.5:\r\n",
    "    print(\"Gầy độ I\")\r\n",
    "elif bmi>=18.5 and bmi<25:\r\n",
    "    print(\"Bình thường\")\r\n",
    "elif bmi>=25 and bmi<30:\r\n",
    "    print(\"Thừa cân\")\r\n",
    "elif bmi>=30 and bmi<35:\r\n",
    "    print(\"Béo phì độ I\")\r\n",
    "else:\r\n",
    "    print(\"Béo phì độ II\")\r\n",
    "\r\n"
   ],
   "outputs": [
    {
     "output_type": "stream",
     "name": "stdout",
     "text": [
      "Nhập chiều cao (m):\n"
     ]
    },
    {
     "output_type": "error",
     "ename": "KeyboardInterrupt",
     "evalue": "Interrupted by user",
     "traceback": [
      "\u001b[1;31m---------------------------------------------------------------------------\u001b[0m",
      "\u001b[1;31mKeyboardInterrupt\u001b[0m                         Traceback (most recent call last)",
      "\u001b[1;32m~\\AppData\\Local\\Temp/ipykernel_22968/1254083614.py\u001b[0m in \u001b[0;36m<module>\u001b[1;34m\u001b[0m\n\u001b[0;32m     15\u001b[0m \u001b[1;33m\u001b[0m\u001b[0m\n\u001b[0;32m     16\u001b[0m \u001b[0mprint\u001b[0m\u001b[1;33m(\u001b[0m\u001b[1;34m\"Nhập chiều cao (m):\"\u001b[0m\u001b[1;33m)\u001b[0m\u001b[1;33m\u001b[0m\u001b[1;33m\u001b[0m\u001b[0m\n\u001b[1;32m---> 17\u001b[1;33m \u001b[0mh\u001b[0m\u001b[1;33m=\u001b[0m\u001b[0mfloat\u001b[0m\u001b[1;33m(\u001b[0m\u001b[0minput\u001b[0m\u001b[1;33m(\u001b[0m\u001b[1;33m)\u001b[0m\u001b[1;33m)\u001b[0m\u001b[1;33m\u001b[0m\u001b[1;33m\u001b[0m\u001b[0m\n\u001b[0m\u001b[0;32m     18\u001b[0m \u001b[0mprint\u001b[0m\u001b[1;33m(\u001b[0m\u001b[1;34m\"Nhập cân nặng (kg):\"\u001b[0m\u001b[1;33m)\u001b[0m\u001b[1;33m\u001b[0m\u001b[1;33m\u001b[0m\u001b[0m\n\u001b[0;32m     19\u001b[0m \u001b[0mw\u001b[0m\u001b[1;33m=\u001b[0m\u001b[0mfloat\u001b[0m\u001b[1;33m(\u001b[0m\u001b[0minput\u001b[0m\u001b[1;33m(\u001b[0m\u001b[1;33m)\u001b[0m\u001b[1;33m)\u001b[0m\u001b[1;33m\u001b[0m\u001b[1;33m\u001b[0m\u001b[0m\n",
      "\u001b[1;32mC:\\Python37\\lib\\site-packages\\ipykernel\\kernelbase.py\u001b[0m in \u001b[0;36mraw_input\u001b[1;34m(self, prompt)\u001b[0m\n\u001b[0;32m   1008\u001b[0m             \u001b[0mself\u001b[0m\u001b[1;33m.\u001b[0m\u001b[0m_parent_ident\u001b[0m\u001b[1;33m[\u001b[0m\u001b[1;34m\"shell\"\u001b[0m\u001b[1;33m]\u001b[0m\u001b[1;33m,\u001b[0m\u001b[1;33m\u001b[0m\u001b[1;33m\u001b[0m\u001b[0m\n\u001b[0;32m   1009\u001b[0m             \u001b[0mself\u001b[0m\u001b[1;33m.\u001b[0m\u001b[0mget_parent\u001b[0m\u001b[1;33m(\u001b[0m\u001b[1;34m\"shell\"\u001b[0m\u001b[1;33m)\u001b[0m\u001b[1;33m,\u001b[0m\u001b[1;33m\u001b[0m\u001b[1;33m\u001b[0m\u001b[0m\n\u001b[1;32m-> 1010\u001b[1;33m             \u001b[0mpassword\u001b[0m\u001b[1;33m=\u001b[0m\u001b[1;32mFalse\u001b[0m\u001b[1;33m,\u001b[0m\u001b[1;33m\u001b[0m\u001b[1;33m\u001b[0m\u001b[0m\n\u001b[0m\u001b[0;32m   1011\u001b[0m         )\n\u001b[0;32m   1012\u001b[0m \u001b[1;33m\u001b[0m\u001b[0m\n",
      "\u001b[1;32mC:\\Python37\\lib\\site-packages\\ipykernel\\kernelbase.py\u001b[0m in \u001b[0;36m_input_request\u001b[1;34m(self, prompt, ident, parent, password)\u001b[0m\n\u001b[0;32m   1049\u001b[0m             \u001b[1;32mexcept\u001b[0m \u001b[0mKeyboardInterrupt\u001b[0m\u001b[1;33m:\u001b[0m\u001b[1;33m\u001b[0m\u001b[1;33m\u001b[0m\u001b[0m\n\u001b[0;32m   1050\u001b[0m                 \u001b[1;31m# re-raise KeyboardInterrupt, to truncate traceback\u001b[0m\u001b[1;33m\u001b[0m\u001b[1;33m\u001b[0m\u001b[1;33m\u001b[0m\u001b[0m\n\u001b[1;32m-> 1051\u001b[1;33m                 \u001b[1;32mraise\u001b[0m \u001b[0mKeyboardInterrupt\u001b[0m\u001b[1;33m(\u001b[0m\u001b[1;34m\"Interrupted by user\"\u001b[0m\u001b[1;33m)\u001b[0m \u001b[1;32mfrom\u001b[0m \u001b[1;32mNone\u001b[0m\u001b[1;33m\u001b[0m\u001b[1;33m\u001b[0m\u001b[0m\n\u001b[0m\u001b[0;32m   1052\u001b[0m             \u001b[1;32mexcept\u001b[0m \u001b[0mException\u001b[0m\u001b[1;33m:\u001b[0m\u001b[1;33m\u001b[0m\u001b[1;33m\u001b[0m\u001b[0m\n\u001b[0;32m   1053\u001b[0m                 \u001b[0mself\u001b[0m\u001b[1;33m.\u001b[0m\u001b[0mlog\u001b[0m\u001b[1;33m.\u001b[0m\u001b[0mwarning\u001b[0m\u001b[1;33m(\u001b[0m\u001b[1;34m\"Invalid Message:\"\u001b[0m\u001b[1;33m,\u001b[0m \u001b[0mexc_info\u001b[0m\u001b[1;33m=\u001b[0m\u001b[1;32mTrue\u001b[0m\u001b[1;33m)\u001b[0m\u001b[1;33m\u001b[0m\u001b[1;33m\u001b[0m\u001b[0m\n",
      "\u001b[1;31mKeyboardInterrupt\u001b[0m: Interrupted by user"
     ]
    }
   ],
   "metadata": {}
  },
  {
   "cell_type": "code",
   "execution_count": 2,
   "source": [
    "h = float(input(\"Chiều cao của bạn là (m): \"))\r\n",
    "w = float(input(\"Cân nặng của bạn là (kg): \"))\r\n",
    "BMI =  w / (h * h)\r\n",
    "print (\"BMI = \" , BMI)\r\n",
    " \r\n",
    "if BMI < 17:\r\n",
    "    print(\"Chỉ số cơ thể của bạn là : Gầy độ II\")\r\n",
    "elif 17 <= BMI < 18.5:\r\n",
    "    print(\"Chỉ số cơ thể của bạn là : Gầy độ I\")\r\n",
    "\r\n",
    "elif 18.5 <= BMI < 25:\r\n",
    "  print(\"Chỉ số cơ thể của bạn là : Bình thường\")\r\n",
    "\r\n",
    "elif 25 <= BMI < 30:\r\n",
    "  print(\"Chỉ số cơ thể của bạn là : Thừa cân\")\r\n",
    "\r\n",
    "elif 25 <= BMI < 30:\r\n",
    "  print(\"Chỉ số cơ thể của bạn là : Thừa cân\")\r\n",
    "\r\n",
    "elif 30 <= BMI < 35:\r\n",
    "  print(\"Chỉ số cơ thể của bạn là : Béo phì dộ I\")\r\n",
    "\r\n",
    "else:\r\n",
    "    print(\"Chỉ số cơ thể của bạn là : Béo phì độ II\")"
   ],
   "outputs": [
    {
     "output_type": "error",
     "ename": "ValueError",
     "evalue": "could not convert string to float: ",
     "traceback": [
      "\u001b[1;31m---------------------------------------------------------------------------\u001b[0m",
      "\u001b[1;31mValueError\u001b[0m                                Traceback (most recent call last)",
      "\u001b[1;32m~\\AppData\\Local\\Temp/ipykernel_22968/1831132466.py\u001b[0m in \u001b[0;36m<module>\u001b[1;34m\u001b[0m\n\u001b[1;32m----> 1\u001b[1;33m \u001b[0mh\u001b[0m \u001b[1;33m=\u001b[0m \u001b[0mfloat\u001b[0m\u001b[1;33m(\u001b[0m\u001b[0minput\u001b[0m\u001b[1;33m(\u001b[0m\u001b[1;34m\"Chiều cao của bạn là (m): \"\u001b[0m\u001b[1;33m)\u001b[0m\u001b[1;33m)\u001b[0m\u001b[1;33m\u001b[0m\u001b[1;33m\u001b[0m\u001b[0m\n\u001b[0m\u001b[0;32m      2\u001b[0m \u001b[0mw\u001b[0m \u001b[1;33m=\u001b[0m \u001b[0mfloat\u001b[0m\u001b[1;33m(\u001b[0m\u001b[0minput\u001b[0m\u001b[1;33m(\u001b[0m\u001b[1;34m\"Cân nặng của bạn là (kg): \"\u001b[0m\u001b[1;33m)\u001b[0m\u001b[1;33m)\u001b[0m\u001b[1;33m\u001b[0m\u001b[1;33m\u001b[0m\u001b[0m\n\u001b[0;32m      3\u001b[0m \u001b[0mBMI\u001b[0m \u001b[1;33m=\u001b[0m  \u001b[0mw\u001b[0m \u001b[1;33m/\u001b[0m \u001b[1;33m(\u001b[0m\u001b[0mh\u001b[0m \u001b[1;33m*\u001b[0m \u001b[0mh\u001b[0m\u001b[1;33m)\u001b[0m\u001b[1;33m\u001b[0m\u001b[1;33m\u001b[0m\u001b[0m\n\u001b[0;32m      4\u001b[0m \u001b[0mprint\u001b[0m \u001b[1;33m(\u001b[0m\u001b[1;34m\"BMI = \"\u001b[0m \u001b[1;33m,\u001b[0m \u001b[0mBMI\u001b[0m\u001b[1;33m)\u001b[0m\u001b[1;33m\u001b[0m\u001b[1;33m\u001b[0m\u001b[0m\n\u001b[0;32m      5\u001b[0m \u001b[1;33m\u001b[0m\u001b[0m\n",
      "\u001b[1;31mValueError\u001b[0m: could not convert string to float: "
     ]
    }
   ],
   "metadata": {}
  }
 ],
 "metadata": {
  "orig_nbformat": 4,
  "language_info": {
   "name": "python",
   "version": "3.7.6",
   "mimetype": "text/x-python",
   "codemirror_mode": {
    "name": "ipython",
    "version": 3
   },
   "pygments_lexer": "ipython3",
   "nbconvert_exporter": "python",
   "file_extension": ".py"
  },
  "kernelspec": {
   "name": "python3",
   "display_name": "Python 3.7.6 64-bit"
  },
  "interpreter": {
   "hash": "04635d289a519a1410467dd0afb0db42f9184808881ca68b2eb5a687a20a5a94"
  }
 },
 "nbformat": 4,
 "nbformat_minor": 2
}