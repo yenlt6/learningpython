{
 "metadata": {
  "language_info": {
   "codemirror_mode": {
    "name": "ipython",
    "version": 3
   },
   "file_extension": ".py",
   "mimetype": "text/x-python",
   "name": "python",
   "nbconvert_exporter": "python",
   "pygments_lexer": "ipython3",
   "version": "3.7.6"
  },
  "orig_nbformat": 4,
  "kernelspec": {
   "name": "python3",
   "display_name": "Python 3.7.6 64-bit"
  },
  "interpreter": {
   "hash": "04635d289a519a1410467dd0afb0db42f9184808881ca68b2eb5a687a20a5a94"
  }
 },
 "nbformat": 4,
 "nbformat_minor": 2,
 "cells": [
  {
   "cell_type": "code",
   "execution_count": 5,
   "source": [
    "''' Bài tập 1: Cách 1:\r\n",
    "Viết chương trình chuyển đổi từ số giây (nguyên dương) thành giờ, phút, giây tương ứng\r\n",
    "Nhập số giây sec (int)\r\n",
    "Quy đổi và in ra giá trị giờ phút giây tương ứng\r\n",
    "💡 VD: Nhập 123 -> 0 giờ, 2 phút, 3 giây'''\r\n",
    "\r\n",
    "sec_input=int(input(\"Nhập số giây:\"))\r\n",
    "minute=sec_input//60\r\n",
    "hour=minute//60\r\n",
    "sec=sec_input%60\r\n",
    "minute=minute-hour*60\r\n",
    "\r\n",
    "print(\"Giờ sau khi quy đổi từ\",sec_input,\"s là:\",hour,\"giờ\", minute,\"phút\", sec,\"giây\")"
   ],
   "outputs": [
    {
     "output_type": "stream",
     "name": "stdout",
     "text": [
      "Giờ sau khi quy đổi từ 459821 s là: 127 giờ 43 phút 41 giây\n"
     ]
    }
   ],
   "metadata": {}
  },
  {
   "cell_type": "code",
   "execution_count": 7,
   "source": [
    "'''ài tập 1: Cách 2\r\n",
    "Viết chương trình chuyển đổi từ số giây (nguyên dương) thành giờ, phút, giây tương ứng\r\n",
    "Nhập số giây sec (int)\r\n",
    "Quy đổi và in ra giá trị giờ phút giây tương ứng\r\n",
    "💡 VD: Nhập 123 -> 0 giờ, 2 phút, 3 giây'''\r\n",
    "\r\n",
    "sec_input=int(input(\"Nhập số giây:\"))\r\n",
    "hour=sec_input//3600\r\n",
    "minute=(sec_input-hour*3600)//60\r\n",
    "sec=sec_input%60\r\n",
    "print(str(hour) + \" giờ,\" +str(minute) + \" phút,\" + str(sec) + \" giây\")"
   ],
   "outputs": [
    {
     "output_type": "stream",
     "name": "stdout",
     "text": [
      "43 giờ,23 phút,54 giây\n"
     ]
    }
   ],
   "metadata": {}
  },
  {
   "cell_type": "code",
   "execution_count": 1,
   "source": [
    "''' Bài tập số 2: \r\n",
    "Viết chương trình quy đổi độ dài từ đơn vị km sang các đơn vị khác\r\n",
    "Nhập giá trị độ dài length - float (đơn vị km)\r\n",
    "Quy đổi sang các đơn vị m, dm, cm, mm, mile, inch và in kết quả (làm tròn đến 2 chữ số thập phân)\r\n",
    "💡 Bảng đơn vị\r\n",
    "\r\n",
    "1 km = 1000 m\r\n",
    "1 km = 10000 dm\r\n",
    "1 km = 100000 cm\r\n",
    "1 km = 1000000 mm\r\n",
    "1 km = 1.609344 mile\r\n",
    "1 km = 39370.1 inch\r\n",
    "Có thể thêm một số đơn vị khác'''\r\n",
    "number_km=float(input())\r\n",
    "m=number_km*10**3\r\n",
    "dm=number_km*10**4\r\n",
    "cm=number_km*10**5\r\n",
    "mm=number_km*10**6\r\n",
    "mile=number_km*1.609344\r\n",
    "inch=number_km*39370.1\r\n",
    "# round(mile,2)\r\n",
    "inch=number_km*39370.1\r\n",
    "inch=number_km*39370.1\r\n",
    "print(\"Quy đổi {0:.2f} km = {1:.2f} m = {2:.2f} dm= {3:.2f} cm= {4:.2f} mm= {5:.2f} mile= {0:.2f}inch\".format(number_km,m,dm,cm,mm,mile,inch))"
   ],
   "outputs": [
    {
     "output_type": "stream",
     "name": "stdout",
     "text": [
      "Quy đổi 12.50 km = 12500.00 m = 125000.00 dm= 1250000.00 cm= 12500000.00 mm= 20.12 mile= 12.50inch\n"
     ]
    }
   ],
   "metadata": {}
  },
  {
   "cell_type": "code",
   "execution_count": 3,
   "source": [
    "print(\"Only {0:.2f}% of the {1} produced worldwide is {2}!\".format(0.5155675, \"data\", \"analyzed\"))"
   ],
   "outputs": [
    {
     "output_type": "stream",
     "name": "stdout",
     "text": [
      "Only 0.52% of the data produced worldwide is analyzed!\n"
     ]
    }
   ],
   "metadata": {}
  },
  {
   "cell_type": "code",
   "execution_count": 2,
   "source": [
    "'''Viết chương trình chuyển đổi nhiệt độ từ thang nhiệt Celcius sang các thang nhiệt Farenheit, Keven và Rankine\r\n",
    "\r\n",
    "Nhập nhiệt độ (°C - float)\r\n",
    "Quy đổi và in ra °F tương ứng (°F = °C * 9 / 5 + 32)\r\n",
    "Quy đổi và in ra °K tương ứng (°K = °C + 273.15)\r\n",
    "Quy đổi và in ra °R tương ứng (°R = (°C + 273.15) * 9 / 5))'''\r\n",
    "\r\n",
    "print(\"Nhap nhiet do:\")\r\n",
    "temperature_c=float(input())\r\n",
    "temperature_f=temperature_c*9/5 +32\r\n",
    "print(\"Quy đổi {0:.2f} °C\".format(temperature_c))\r\n",
    "print(\"ra °F : {0:.2f}\".format(temperature_f))\r\n",
    "print(\"ra °K : {0:.2f}\".format(temperature_c +273.15 ))\r\n",
    "print(\"ra °R : {0:.2f}\".format((temperature_c+ 273.15) * 9 / 5))"
   ],
   "outputs": [
    {
     "output_type": "stream",
     "name": "stdout",
     "text": [
      "Nhap nhiet do:\n",
      "Quy đổi 23.50 °C\n",
      "ra °F : 74.30\n",
      "ra °K : 296.65\n",
      "ra °R : 533.97\n"
     ]
    }
   ],
   "metadata": {}
  }
 ]
}