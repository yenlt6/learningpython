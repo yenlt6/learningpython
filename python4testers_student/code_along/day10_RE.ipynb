{
 "cells": [
  {
   "cell_type": "code",
   "execution_count": null,
   "source": [
    "s = 'foo123bar'\r\n",
    "'123' in s"
   ],
   "outputs": [],
   "metadata": {}
  },
  {
   "cell_type": "code",
   "execution_count": null,
   "source": [
    "# dùng find() hoặc index() để tìm vị trí chuỗi con\r\n",
    "s.find('123')       # s.index('123')"
   ],
   "outputs": [],
   "metadata": {}
  },
  {
   "cell_type": "markdown",
   "source": [
    "## Regular Expression (Regex) - Biểu thức chính quy\r\n",
    "\r\n",
    "Dùng nhiều trong thực tế. Ngắn gọn nhưng khá khó đọc, và khó hiểu\r\n",
    "Vấn đề chung: Cho một chuỗi (file contents, log, website source,...) xác định xem chuỗi có khớp một mẫu cho sẵn hoặc thu thập những chuỗi con chứa những thông tin cần thiết. Vd:\r\n",
    "* chuỗi có phải là đường dẫn URL hợp lệ\r\n",
    "* ngày giờ của những thông báo warning trong log file?\r\n",
    "* username và document nào được người dùng yêu cầu qua URL"
   ],
   "metadata": {}
  },
  {
   "cell_type": "code",
   "execution_count": null,
   "source": [
    "import re   # search, match, findall\r\n",
    "\r\n",
    "address = \"Bằng Lăng Tím 256, Q.Long Biên\"\r\n",
    "pattern = \"256\"\r\n",
    "re.search(pattern, address)"
   ],
   "outputs": [],
   "metadata": {}
  },
  {
   "cell_type": "code",
   "execution_count": null,
   "source": [
    "if re.search(\"123\", address):     # Match Object is truthy\r\n",
    "    print('Found a match')\r\n",
    "else:\r\n",
    "    print('No match')"
   ],
   "outputs": [],
   "metadata": {}
  },
  {
   "cell_type": "markdown",
   "source": [
    "### Special Metacharacters ---> Superpower"
   ],
   "metadata": {}
  },
  {
   "cell_type": "code",
   "execution_count": null,
   "source": [
    "from IPython.core.interactiveshell import InteractiveShell\r\n",
    "InteractiveShell.ast_node_interactivity = \"all\"\r\n",
    "\r\n",
    "def regex_generic(pattern, search_string):\r\n",
    "    match = re.match(pattern, search_string)\r\n",
    "\r\n",
    "    if match:\r\n",
    "        template = \"Chuỗi '{}' khớp với mẫu '{}'\"\r\n",
    "    else:\r\n",
    "        template = \"Chuỗi '{}' KHÔNG khớp với mẫu '{}'\"\r\n",
    "\r\n",
    "    print(template.format(pattern, search_string))"
   ],
   "outputs": [],
   "metadata": {}
  },
  {
   "cell_type": "code",
   "execution_count": null,
   "source": [
    "regex_generic(\"hello world\", \"hello worl\")\r\n",
    "regex_generic(\"hello world\", \"ello world\")"
   ],
   "outputs": [],
   "metadata": {}
  },
  {
   "cell_type": "code",
   "execution_count": null,
   "source": [
    "regex_generic(\"hello world\", \"^hello world$\")   # đầu và đuôi\r\n",
    "re.search('^foo', 'foobar')"
   ],
   "outputs": [],
   "metadata": {}
  },
  {
   "cell_type": "markdown",
   "source": [
    "## Dấu . trong mẫu khớp với bất kỳ ký tự nào (trừ newline)."
   ],
   "metadata": {}
  },
  {
   "cell_type": "code",
   "execution_count": null,
   "source": [
    "# regex_generic(\"hello world\", \"hel.o world\")\r\n",
    "# regex_generic(\"helpo world\", \"hel.o world\")\r\n",
    "# regex_generic(\"hel o world\", \"hel.o world\")\r\n",
    "# regex_generic(\"helo world\",  \"hel.o world\")\r\n",
    "re.match(\"hel.o world\", \"hello world\")"
   ],
   "outputs": [],
   "metadata": {}
  },
  {
   "cell_type": "code",
   "execution_count": null,
   "source": [
    "re.match(\"hel.o world\", \"helpo world\")"
   ],
   "outputs": [],
   "metadata": {}
  },
  {
   "cell_type": "code",
   "execution_count": null,
   "source": [
    "re.match(\"hel.o world\", \"helo world\")"
   ],
   "outputs": [],
   "metadata": {}
  },
  {
   "cell_type": "code",
   "execution_count": null,
   "source": [
    "# [] chứa 1 tập ký tự được khớp\r\n",
    "re.search('ba[artz][qut]', 'foobarquxgjkkjgkjhkhlkjhklb ghjgfhdgdghfhgf bazux')"
   ],
   "outputs": [],
   "metadata": {}
  },
  {
   "cell_type": "code",
   "execution_count": null,
   "source": [
    "# kết hợp với dấu - thể hiện range ký tự\r\n",
    "# regex_generic(\"hello   world\", \"hello [a-z] world\")\r\n",
    "# regex_generic(\"hello b world\", \"hello [a-z] world\")\r\n",
    "# regex_generic(\"hello 2 world\", \"hello [a-zA-Z0-9] world\")"
   ],
   "outputs": [],
   "metadata": {}
  },
  {
   "cell_type": "code",
   "execution_count": null,
   "source": [
    "re.search(\"^hello [^a-z] world\", \"hello   world dgdgf hello   world asldfjalskdfjl;ksdfd jasdlkf jas\")"
   ],
   "outputs": [],
   "metadata": {}
  },
  {
   "cell_type": "code",
   "execution_count": null,
   "source": [
    "re.findall(\"^hello [^a-z] world\", \"hello 5 world dgdgf hello   world asldfjalskdfjl;ksdfd jasdlkf jas\")"
   ],
   "outputs": [],
   "metadata": {}
  },
  {
   "cell_type": "code",
   "execution_count": null,
   "source": [
    "re.findall(\" he\", \"hello he 5 world dgdgf hello   world s healsdfjalskdfjl;ksdfd jasdlkf jas\")"
   ],
   "outputs": [],
   "metadata": {}
  },
  {
   "cell_type": "code",
   "execution_count": null,
   "source": [
    "re.search(\"hello [a-z] world$\", \"asldfjalskdfjl;ksdfd  hello b world\")"
   ],
   "outputs": [],
   "metadata": {}
  },
  {
   "cell_type": "code",
   "execution_count": null,
   "source": [
    "re.search(\"hello [a-zA-Z0-9] world\", \"hello 8 world asldfjalskdfjl;ksdfd jasdlkf jas\")"
   ],
   "outputs": [],
   "metadata": {}
  },
  {
   "cell_type": "code",
   "execution_count": null,
   "source": [
    "# ^ tìm tất cả những ký tự không nằm trong set được mô tả\r\n",
    "re.search('[^0-9]', '12345foo')"
   ],
   "outputs": [],
   "metadata": {}
  },
  {
   "cell_type": "markdown",
   "source": [
    "## Ký tự đặc biệt \\"
   ],
   "metadata": {}
  },
  {
   "cell_type": "code",
   "execution_count": null,
   "source": [
    "str1 = \"She said: \\\"He's a handsome man\\\"!!! \""
   ],
   "outputs": [],
   "metadata": {}
  },
  {
   "cell_type": "code",
   "execution_count": null,
   "source": [
    "# regex_generic(\"0.05\", \"0\\.[0-9][0-9]\")\r\n",
    "# regex_generic(\"005\", \"0\\.[0-9][0-9]\")\r\n",
    "# regex_generic(\"0,05\", \"0\\.[0-9][0-9]\")"
   ],
   "outputs": [],
   "metadata": {}
  },
  {
   "cell_type": "code",
   "execution_count": null,
   "source": [
    "re.search(\"0\\.[0-9][0-9]\", \"0.00000005\")"
   ],
   "outputs": [],
   "metadata": {}
  },
  {
   "cell_type": "markdown",
   "source": [
    "* \\w tương đương với [a-zA-Z0-9_]\r\n",
    "* \\W ngược lại \\w, tương đương [^a-zA-Z0-9_]\r\n",
    "* \\d == [0-9]\r\n",
    "* \\D tương đương [^0-9]"
   ],
   "metadata": {}
  },
  {
   "cell_type": "code",
   "execution_count": null,
   "source": [
    "regex_generic(\"(abc]\", \"\\(abc\\]\")   # \\ khớp ký tự liền sau\r\n",
    "regex_generic(\" 1a\", \"\\s\\d\\w\")      # \\s thay cho khoảng trắng, \\w thay cho chữ, số hoặc _ và \\d thay cho chữ số\r\n",
    "regex_generic(\"\\t5n\", \"s\\d\\w\")      # \\t thay cho TAB"
   ],
   "outputs": [],
   "metadata": {}
  },
  {
   "cell_type": "code",
   "execution_count": null,
   "source": [
    "re.search('\\W', 'a_1*3Qb')"
   ],
   "outputs": [],
   "metadata": {}
  },
  {
   "cell_type": "code",
   "execution_count": null,
   "source": [
    "re.search('\\S', '  \\n foo  \\n  ')       # \\S ngược lại với \\s: khớp ký tự không phải khoảng trắng"
   ],
   "outputs": [],
   "metadata": {}
  },
  {
   "cell_type": "markdown",
   "source": [
    "### Raw string\r\n",
    "Dùng r'' string cho các pattern regex nếu chứa \\ hoặc /."
   ],
   "metadata": {}
  },
  {
   "cell_type": "markdown",
   "source": [
    "## Khớp nhiều ký tự\r\n",
    "* '*'\r\n",
    "* '+'\r\n",
    "* '?'"
   ],
   "metadata": {}
  },
  {
   "cell_type": "code",
   "execution_count": null,
   "source": [
    "regex_generic(\"hello\", r\"hel*o\")\r\n",
    "regex_generic(\"heo\", r\"hel*o\")              # ký tự liền trước xuất hiện 0 hoặc nhiều lần\r\n",
    "regex_generic(\"hellllllo\", \"hel*o\")"
   ],
   "outputs": [],
   "metadata": {}
  },
  {
   "cell_type": "code",
   "execution_count": null,
   "source": [
    "re.match(\"he(l*)o\", \"heo\")"
   ],
   "outputs": [],
   "metadata": {}
  },
  {
   "cell_type": "code",
   "execution_count": null,
   "source": [
    "# thú vị hơn khi ta dùng * với nhóm ký tự hoặc .\r\n",
    "regex_generic(\"A string.\", r\"[A-Z][a-z]* [a-z]*\\.\")          # chỉ cho phép 1 khoảng trắng (2 từ)\r\n",
    "regex_generic(\"No .\", \"[A-Z][a-z]* [a-z]*\\.\")\r\n",
    "regex_generic(\"\", \"[a-z]*.*\")"
   ],
   "outputs": [],
   "metadata": {}
  },
  {
   "cell_type": "code",
   "execution_count": null,
   "source": [
    "re.search(\"[A-Z][a-z\\*]* [a-z]*\\.\", \"Whogonn*amissme string. sadfsdfsadf  sadfsa f\")"
   ],
   "outputs": [],
   "metadata": {}
  },
  {
   "cell_type": "code",
   "execution_count": null,
   "source": [
    "page = \"<html><body>sdfjadslkfjas l asdkfjl;dfj</body></html>\"\r\n",
    "pattern = \".*(<body>.*</body>).*\"\r\n",
    "m = re.search(pattern, page)\r\n",
    "m.groups()[0]"
   ],
   "outputs": [],
   "metadata": {}
  },
  {
   "cell_type": "code",
   "execution_count": null,
   "source": [
    "regex_generic(\"0.4\", \"\\d+\\.\\d+\")            # dấu + tương tự dấu * nhưng cần ít nhất 1 lần xuất hiện\r\n",
    "regex_generic(\"1.002\", \"\\d+\\.\\d+\")\r\n",
    "regex_generic(\"1.\", \"\\d+\\.\\d+\")\r\n",
    "regex_generic(\"01%\", \"\\d?\\d%\")              # dấu ? cho phép 0 hoặc 1 lần nhưng không được hơn\r\n",
    "regex_generic(\"99%\", \"\\d?\\d%\")\r\n",
    "regex_generic(\"999%\", \"\\d?\\d%\")"
   ],
   "outputs": [],
   "metadata": {}
  },
  {
   "cell_type": "code",
   "execution_count": null,
   "source": [
    "re.search(\"\\d+\\.\\d?\", \"17655443.57\")"
   ],
   "outputs": [],
   "metadata": {}
  },
  {
   "cell_type": "markdown",
   "source": [
    "### Non-greedy (lazy version) với ?"
   ],
   "metadata": {}
  },
  {
   "cell_type": "code",
   "execution_count": null,
   "source": [
    "re.search('<.*>', '%<foo> <bar> <baz>%')        # khớp chuỗi dài nhất có thể"
   ],
   "outputs": [],
   "metadata": {}
  },
  {
   "cell_type": "code",
   "execution_count": null,
   "source": [
    "re.search('<.*?>', '%<foo> <bar> <baz>%')       # thêm dấu ? để khớp chuỗi ngắn nhất"
   ],
   "outputs": [],
   "metadata": {}
  },
  {
   "cell_type": "code",
   "execution_count": null,
   "source": [
    "re.search('ba?', 'baaaa')       # dấu ? khớp 0 hoặc 1 lần\r\n",
    "# vs\r\n",
    "re.search('ba??', 'baaaa')"
   ],
   "outputs": [],
   "metadata": {}
  },
  {
   "cell_type": "markdown",
   "source": [
    "## Nhóm các mẫu lại với nhau"
   ],
   "metadata": {}
  },
  {
   "cell_type": "code",
   "execution_count": null,
   "source": [
    "regex_generic(\"abccc\", \"abc{3}\")\r\n",
    "regex_generic(\"abccc\", \"(abc){3}\")          # dùng () để nhóm lại nhiều ký tự như một\r\n",
    "regex_generic(\"abcabcabc\", \"(abc){3}\")"
   ],
   "outputs": [],
   "metadata": {}
  },
  {
   "cell_type": "code",
   "execution_count": null,
   "source": [
    "# kết hợp nhóm và dấu lặp lại bắt đầu cho ta muôn vàn khả năng. Một câu tiếng Anh đơn giản có thể được khớp như sau\r\n",
    "regex_generic(\"Eat.\", \"[A-Z][a-z]*( [a-z]+)*\\.$\")\r\n",
    "regex_generic(\"Eat more good food.\", \"[A-Z][a-z]*( [a-z]+)*\\.$\")\r\n",
    "regex_generic(\"A good meal.\", \"[A-Z][a-z]*( [a-z]+)*\\.$\")"
   ],
   "outputs": [],
   "metadata": {}
  },
  {
   "cell_type": "code",
   "execution_count": null,
   "source": [
    "m = re.search(\"[A-Z][a-z]*( [a-z]+)*\\.$\", \"Eat more good food.\")"
   ],
   "outputs": [],
   "metadata": {}
  },
  {
   "cell_type": "markdown",
   "source": [
    "## Lấy ra những giá trị cần thiết từ RE\r\n",
    "Khi nhóm biểu thức regex, ta có thể áp dụng metacharacter cho toàn bộ nhóm như 1 đơn vị. Và cho phép lấy ra nhóm con khớp với pattern theo nhiều cách khác nhau."
   ],
   "metadata": {}
  },
  {
   "cell_type": "code",
   "execution_count": null,
   "source": [
    "pattern = \"^([a-zA-Z.]+)@([a-z.]+\\.[a-z]{2,3})\" \r\n",
    "search_string = \"\"\"tgg some.user@example.com\r\n",
    "hang.nguyen@onemount.vn fsdfassda fsdf\r\n",
    "\"\"\" \r\n",
    "match = re.search(pattern, search_string, re.MULTILINE) \r\n",
    " \r\n",
    "if match: \r\n",
    "    domain = match.groups()[1] \r\n",
    "    print(domain)\r\n",
    "    print(match.groups()[0]) "
   ],
   "outputs": [],
   "metadata": {}
  },
  {
   "cell_type": "code",
   "execution_count": null,
   "source": [
    "import re\r\n",
    "re.findall('a.', 'abacadefagah')            # Không có nhóm (), trả ra các chuỗi con khớp với mẫu"
   ],
   "outputs": [],
   "metadata": {}
  },
  {
   "cell_type": "code",
   "execution_count": null,
   "source": [
    "re.findall('a(.)', 'abacadefagah')          # Có 1 nhóm, trả ra một list các giá trị trong nhóm"
   ],
   "outputs": [],
   "metadata": {}
  },
  {
   "cell_type": "code",
   "execution_count": null,
   "source": [
    "re.findall('([a-z])(.)', 'abacadedja')        # Có nhiều nhóm, trả ra list những tuple mà mỗi tuple chứa lần lượt các giá trị khớp với nhóm"
   ],
   "outputs": [],
   "metadata": {}
  },
  {
   "cell_type": "code",
   "execution_count": null,
   "source": [
    "re.findall('((a)(.))', 'abacadefagah')      #   tương tự trên, trả ra nhóm cha và các nhóm con."
   ],
   "outputs": [],
   "metadata": {}
  },
  {
   "cell_type": "code",
   "execution_count": null,
   "source": [
    "m = re.search('(a)(.)', 'abacadefagah') \r\n",
    "m.groups()"
   ],
   "outputs": [],
   "metadata": {}
  },
  {
   "cell_type": "code",
   "execution_count": null,
   "source": [
    "m = re.search('((a)(.))', 'abacadefagah') \r\n",
    "m.group()"
   ],
   "outputs": [],
   "metadata": {}
  },
  {
   "cell_type": "code",
   "execution_count": null,
   "source": [
    "# Một vài ví dụ thực tiễn\r\n",
    "# Ngày tháng năm    \"\\d{2}-\\d{2}-\\d{4}\"\r\n",
    "phoneNumRegex = re.compile(r'\\d\\d\\d-\\d\\d\\d-\\d\\d\\d\\d')\r\n",
    "match_obj = phoneNumRegex.search('My number is 415-555-4242.')\r\n",
    "print('Phone number found: ' + match_obj.group())"
   ],
   "outputs": [],
   "metadata": {}
  },
  {
   "cell_type": "markdown",
   "source": [
    "## Các tính năng khác:\r\n",
    "* Backreferences\r\n",
    "```\r\n",
    "regex = r'(\\w+),\\1'\r\n",
    "m = re.search(regex, 'foo,foo')\r\n",
    "```\r\n",
    "* Lookahead and Lookbehind (non-captured). Lookbehind chỉ cho phép số lượng ký tự biết trước\r\n",
    "```\r\n",
    "re.search('foo(?=[a-z])', 'foobar')\r\n",
    "# vs\r\n",
    "re.search('foo([a-z])', 'foobar')\r\n",
    "\r\n",
    "# 3 ký tự a đứng trước def\r\n",
    "re.search('(?<=a{3})def', 'aaadef')\r\n",
    "```\r\n",
    "* Dùng flags\r\n",
    "```\r\n",
    "re.IGNORECASE\r\n",
    "re.MULTILINE\r\n",
    "re.VERBOSE      # allow whitespace và comment trong regex\r\n",
    "```"
   ],
   "metadata": {}
  },
  {
   "cell_type": "code",
   "execution_count": null,
   "source": [
    "# regex = r'^(\\(\\d{3}\\))?\\s*\\d{3}[-.]\\d{4}$'\r\n",
    "regex = r'''^               # Start of string\r\n",
    "             (\\(\\d{3}\\))?    # Optional area code\r\n",
    "             \\s*             # Optional whitespace\r\n",
    "             \\d{3}           # Three-digit prefix\r\n",
    "             [-.]            # Separator character\r\n",
    "             \\d{4}           # Four-digit line number\r\n",
    "             $               # Anchor at end of string\r\n",
    "             '''\r\n",
    "re.search(regex, '414-9229', re.VERBOSE)\r\n",
    "re.search(regex, '(712)414-9229', re.X)"
   ],
   "outputs": [],
   "metadata": {}
  },
  {
   "cell_type": "markdown",
   "source": [
    "### match() và search()"
   ],
   "metadata": {}
  },
  {
   "cell_type": "code",
   "execution_count": null,
   "source": [
    "re.search(r'\\d+', 'foo123bar')"
   ],
   "outputs": [],
   "metadata": {}
  },
  {
   "cell_type": "code",
   "execution_count": null,
   "source": [
    "print(re.match(r'\\d+', 'foo123bar'))        # match (chỉ khớp ở đầu chuỗi)"
   ],
   "outputs": [],
   "metadata": {}
  },
  {
   "cell_type": "markdown",
   "source": [
    "## References\r\n",
    "* [8 regular expression nên biết](https://code.tutsplus.com/tutorials/8-regular-expressions-you-should-know--net-6149)\r\n",
    "* [CheatSheet](https://www.shortcutfoo.com/app/dojos/python-regex/cheatsheet)\r\n",
    "* [Awesome Regex](https://github.com/aloisdg/awesome-regex)"
   ],
   "metadata": {}
  }
 ],
 "metadata": {
  "orig_nbformat": 4,
  "language_info": {
   "name": "python",
   "version": "3.9.7",
   "mimetype": "text/x-python",
   "codemirror_mode": {
    "name": "ipython",
    "version": 3
   },
   "pygments_lexer": "ipython3",
   "nbconvert_exporter": "python",
   "file_extension": ".py"
  },
  "kernelspec": {
   "name": "python3",
   "display_name": "Python 3.9.7 64-bit ('python_tester_env': venv)"
  },
  "interpreter": {
   "hash": "bd454e041cfbb879d13b54c8ad3696129392157108d388f38111cd59b6a48c26"
  }
 },
 "nbformat": 4,
 "nbformat_minor": 2
}