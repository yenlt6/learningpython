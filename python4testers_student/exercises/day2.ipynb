{
 "cells": [
  {
   "cell_type": "markdown",
   "source": [
    "Viết chương trình Python kiểm tra số lớn nhất trong 3 số\r\n",
    "\r\n",
    "- Khai báo 3 biến `a`, `b`, `c` nhập giá trị số bất kỳ (int)\r\n",
    "- Kiểm tra và in ra số lớn nhất trong 3 số đó"
   ],
   "metadata": {}
  },
  {
   "cell_type": "code",
   "execution_count": 2,
   "source": [
    "a, b, c = 12, 16, 19\r\n",
    "print(max(a,b,c))\r\n",
    "if a >= b:\r\n",
    "    if a >= c:\r\n",
    "        print(\"Max is: \", a)\r\n",
    "    else:\r\n",
    "        print(\"Max is: \", c)\r\n",
    "else:\r\n",
    "    if b >= c:\r\n",
    "        print(\"Max is: \", b)\r\n",
    "    else:\r\n",
    "        print(\"Max is: \", c)"
   ],
   "outputs": [
    {
     "output_type": "stream",
     "name": "stdout",
     "text": [
      "19\n",
      "Max is:  19\n"
     ]
    }
   ],
   "metadata": {}
  },
  {
   "cell_type": "markdown",
   "source": [
    "Viết chương trình kiểm tra một năm có phải năm nhuận hay không\r\n",
    "\r\n",
    "- Nhập một năm `year` - int\r\n",
    "- Kiểm tra và in ra kết quả `year` có phải năm nhuận hay không\r\n",
    "\r\n",
    "💡 Năm nhuận là năm:\r\n",
    "\r\n",
    "- Chia hết cho 400\r\n",
    "- Chia hết cho 4 **nhưng** không chia hết cho 100"
   ],
   "metadata": {}
  },
  {
   "cell_type": "code",
   "execution_count": 1,
   "source": [
    "year = int(input())\r\n",
    "if year%400==0: \r\n",
    "    print('Năm ', year, ' là năm nhuận' )\r\n",
    "elif (year % 4 == 0) and (year % 100 != 0):\r\n",
    "    print('Năm ', year, ' là năm nhuận' )\r\n",
    "else:\r\n",
    "    print('Năm ', year, ' không phải là năm nhuận' )"
   ],
   "outputs": [
    {
     "output_type": "stream",
     "name": "stdout",
     "text": [
      "1900 không là năm nhuận\n"
     ]
    }
   ],
   "metadata": {}
  },
  {
   "cell_type": "markdown",
   "source": [
    "Viết chương trình tính chỉ số BMI (Body Mass Index - Chỉ số cơ thể)\r\n",
    "\r\n",
    "- Nhập chiều cao `h` (đơn vị m) và cân nặng `w` (đơn vị kg)\r\n",
    "- Tính chỉ số BMI: `w / (h * h)`\r\n",
    "- In chỉ số và thông báo kết quả theo quy ước:\r\n",
    "    -  BMI < 17: Gầy độ II\r\n",
    "    - 17 <= BMI < 18.5: Gầy độ I\r\n",
    "    - 18.5 <= BMI < 25: Bình thường\r\n",
    "    - 25 <= BMI < 30: Thừa cân\r\n",
    "    - 30 <= BMI < 35: Béo phì độ I\r\n",
    "    - 35 <= BMI: Béo phì độ II"
   ],
   "metadata": {}
  },
  {
   "cell_type": "code",
   "execution_count": null,
   "source": [
    "print('\\n\\nBài 3: Tính chỉ số BMI')\r\n",
    "h = float(input(\"\\tNhập chiều cao (m): \\t\"))\r\n",
    "w = float(input(\"\\tNhập cân nặng (kg): \\t\"))\r\n",
    "BMI = round(w / (h * h),2)\r\n",
    "if (BMI < 17):\r\n",
    "  print('\\t\\tChỉ số BMI của bạn: ', BMI, ' - Gầy độ II')\r\n",
    "elif (17 <= BMI < 18.5):\r\n",
    "  print('\\t\\tChỉ số BMI của bạn: ', BMI, ' - Gầy độ I')\r\n",
    "elif (18.5 <= BMI < 25):\r\n",
    "  print('\\t\\tChỉ số BMI của bạn: ', BMI, ' - Bình thường')\r\n",
    "elif (25 <= BMI < 30):\r\n",
    "  print('\\t\\tChỉ số BMI của bạn: ', BMI, ' - Thừa cân')\r\n",
    "elif (30 <= BMI < 35):\r\n",
    "  print('\\t\\tChỉ số BMI của bạn: ', BMI, ' - Béo phì độ I')\r\n",
    "else:\r\n",
    "  print('\\t\\tChỉ số BMI của bạn: ', BMI, ' - Béo phì độ II')"
   ],
   "outputs": [],
   "metadata": {}
  },
  {
   "cell_type": "markdown",
   "source": [],
   "metadata": {}
  }
 ],
 "metadata": {
  "orig_nbformat": 4,
  "language_info": {
   "name": "python",
   "version": "3.9.5",
   "mimetype": "text/x-python",
   "codemirror_mode": {
    "name": "ipython",
    "version": 3
   },
   "pygments_lexer": "ipython3",
   "nbconvert_exporter": "python",
   "file_extension": ".py"
  },
  "kernelspec": {
   "name": "python3",
   "display_name": "Python 3.9.5 64-bit ('python_tester_env': venv)"
  },
  "interpreter": {
   "hash": "24cd0c75bfe4a706d6789947de4493a267f99aa12d72755b5ca874abcfbcc979"
  }
 },
 "nbformat": 4,
 "nbformat_minor": 2
}