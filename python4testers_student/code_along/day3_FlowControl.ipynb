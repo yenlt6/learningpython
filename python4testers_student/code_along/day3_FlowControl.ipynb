{
 "cells": [
  {
   "cell_type": "markdown",
   "source": [
    "## If Condition - Phân nhánh điều khiển"
   ],
   "metadata": {}
  },
  {
   "cell_type": "code",
   "execution_count": null,
   "source": [
    "if 25 < 30:\r\n",
    "    print(\"25 is less than 30\")"
   ],
   "outputs": [],
   "metadata": {}
  },
  {
   "cell_type": "code",
   "execution_count": null,
   "source": [
    "if 25 > 30:\r\n",
    "    print(\"Really? Is 25 greater than 30?\")"
   ],
   "outputs": [],
   "metadata": {}
  },
  {
   "cell_type": "code",
   "execution_count": null,
   "source": [
    "if not 35 == 32:\r\n",
    "    print(\"35 and 32 are NOT exactly the same value\")"
   ],
   "outputs": [],
   "metadata": {}
  },
  {
   "cell_type": "code",
   "execution_count": null,
   "source": [
    "if 35 = 35:\r\n",
    "    print(\"Both values are the same\")"
   ],
   "outputs": [],
   "metadata": {}
  },
  {
   "cell_type": "code",
   "execution_count": null,
   "source": [
    "num = 255\r\n",
    "if num > 0:\r\n",
    "    print(\"The number is greater than zero: \", num)"
   ],
   "outputs": [],
   "metadata": {}
  },
  {
   "cell_type": "code",
   "execution_count": null,
   "source": [
    "if num:\r\n",
    "    print(\"The number is greater than zero: \", num)"
   ],
   "outputs": [],
   "metadata": {}
  },
  {
   "cell_type": "code",
   "execution_count": null,
   "source": [
    "if 35 + 165 == 100 + 100:\r\n",
    "    print(\"Correct\")"
   ],
   "outputs": [],
   "metadata": {}
  },
  {
   "cell_type": "code",
   "execution_count": null,
   "source": [
    "if 55 >= 45:    \r\n",
    "    print(\"inside if\")\r\n",
    "print(\"Right?\")\r\n"
   ],
   "outputs": [],
   "metadata": {}
  },
  {
   "cell_type": "code",
   "execution_count": null,
   "source": [
    "salary = 1000\r\n",
    "expense = 770\r\n",
    "living_within_means = False\r\n",
    "if salary - expense > 0:\r\n",
    "    living_within_means = True\r\n",
    "print(\"Lương thời buổi dịch bệnh có đủ sống không?\", living_within_means)"
   ],
   "outputs": [],
   "metadata": {}
  },
  {
   "cell_type": "code",
   "execution_count": null,
   "source": [
    "salary = 1000\r\n",
    "expenses = 770\r\n",
    "living_within_means = salary - expenses > 0\r\n",
    "if living_within_means and expenses > 0:\r\n",
    "    print(\"Có lẽ bạn nên tiếp kiệm thêm chút nữa?\")\r\n",
    "else:\r\n",
    "    print(\"Tiết kiệm nhiều quá rồi!!\")"
   ],
   "outputs": [],
   "metadata": {}
  },
  {
   "cell_type": "code",
   "execution_count": null,
   "source": [
    "working_year = 2\r\n",
    "if 1< working_year < 3:     # điều kiện kép (not a good idea)\r\n",
    "    print(\"Được 4 ngày phép\")\r\n",
    "elif working_year < 5:\r\n",
    "    print(\"Được 5 ngày phép\")"
   ],
   "outputs": [],
   "metadata": {}
  },
  {
   "cell_type": "markdown",
   "source": [
    "## Phân nhánh nhiều điều kiện"
   ],
   "metadata": {}
  },
  {
   "cell_type": "code",
   "execution_count": null,
   "source": [
    "# cho các danh sách sau:\r\n",
    "residential_complex = [\"Gardenia\", \"Time City\", \"Ocean Park\", \"Royal City\"]\r\n",
    "commercial_complex = [\"Nguyễn Chí Thanh\", \"Trần Duy Hưng\", \"Metropolis\"]\r\n",
    "\r\n",
    "# hãy kiểm tra liệu \"Ocean Park\" có phải là khu phức hợp của Vin không. Nếu đúng in ra thông báo"
   ],
   "outputs": [],
   "metadata": {}
  },
  {
   "cell_type": "code",
   "execution_count": null,
   "source": [
    "price_dict = {\"Gardenia\": 2.4e9, \"Time City\": 1.9e9, \"Ocean Park\": 0.9e9, residential_complex[-1]: 3.2e9}"
   ],
   "outputs": [],
   "metadata": {}
  },
  {
   "cell_type": "code",
   "execution_count": null,
   "source": [
    "amount = 3e9\r\n",
    "\r\n",
    "# thử tìm khu vực sang trọng nhất mà tôi có thể mua chung cư được.\r\n",
    "# if amount < 0.9e9:\r\n",
    "#     print(\"\")\r\n",
    "# elif amount < 1.9e9:\r\n",
    "#     print(\"\")\r\n",
    "# elif amount < 2.4e9\r\n",
    "#     print(\"\")"
   ],
   "outputs": [],
   "metadata": {}
  },
  {
   "cell_type": "markdown",
   "source": [
    "## For loop - Vòng lặp"
   ],
   "metadata": {}
  },
  {
   "cell_type": "code",
   "execution_count": null,
   "source": [
    "for co in residential_complex:\r\n",
    "    print(co)"
   ],
   "outputs": [],
   "metadata": {}
  },
  {
   "cell_type": "code",
   "execution_count": null,
   "source": [
    "co"
   ],
   "outputs": [],
   "metadata": {}
  },
  {
   "cell_type": "code",
   "execution_count": null,
   "source": [
    "for character in [\"P\", \"h\", \"a\", \"n\", \"t\", \"o\", \"m\"]:\r\n",
    "    print(character)"
   ],
   "outputs": [],
   "metadata": {}
  },
  {
   "cell_type": "code",
   "execution_count": null,
   "source": [
    "for character in \"\"\"Phantom\"\"\": # string is iterable\r\n",
    "    print(character)"
   ],
   "outputs": [],
   "metadata": {}
  },
  {
   "cell_type": "markdown",
   "source": [
    "## Range dùng trong For"
   ],
   "metadata": {}
  },
  {
   "cell_type": "code",
   "execution_count": null,
   "source": [
    "r = range(10)\r\n",
    "r"
   ],
   "outputs": [],
   "metadata": {}
  },
  {
   "cell_type": "code",
   "execution_count": null,
   "source": [
    "tuple(r)"
   ],
   "outputs": [],
   "metadata": {}
  },
  {
   "cell_type": "code",
   "execution_count": null,
   "source": [
    "list(r)"
   ],
   "outputs": [],
   "metadata": {}
  },
  {
   "cell_type": "code",
   "execution_count": null,
   "source": [
    "list(range(2, 10))"
   ],
   "outputs": [],
   "metadata": {}
  },
  {
   "cell_type": "code",
   "execution_count": null,
   "source": [
    "for i in range(6):\r\n",
    "    print(i)"
   ],
   "outputs": [],
   "metadata": {}
  },
  {
   "cell_type": "code",
   "execution_count": null,
   "source": [
    "for i in range(2, 11, 2):\r\n",
    "    print(i)"
   ],
   "outputs": [],
   "metadata": {}
  },
  {
   "cell_type": "code",
   "execution_count": null,
   "source": [
    "for i in range(2, 11, 3):\r\n",
    "    print(i)"
   ],
   "outputs": [],
   "metadata": {}
  },
  {
   "cell_type": "code",
   "execution_count": null,
   "source": [
    "range(3.1415)"
   ],
   "outputs": [],
   "metadata": {}
  },
  {
   "cell_type": "code",
   "execution_count": null,
   "source": [
    "for _ in range(7):\r\n",
    "    print(\"Python thật dễ\")"
   ],
   "outputs": [],
   "metadata": {}
  },
  {
   "cell_type": "markdown",
   "source": [
    "## While loop - Vòng lặp vô hạn"
   ],
   "metadata": {}
  },
  {
   "cell_type": "code",
   "execution_count": null,
   "source": [
    "while False:\r\n",
    "    print(\"Dòng này không được in\")"
   ],
   "outputs": [],
   "metadata": {}
  },
  {
   "cell_type": "code",
   "execution_count": null,
   "source": [
    "a = 5\r\n",
    "while a < 10:\r\n",
    "    print(a)"
   ],
   "outputs": [],
   "metadata": {}
  },
  {
   "cell_type": "code",
   "execution_count": null,
   "source": [
    "# thử in ra tất cả các số chẵn từ 14 đến <20"
   ],
   "outputs": [],
   "metadata": {}
  },
  {
   "cell_type": "code",
   "execution_count": null,
   "source": [
    "# Use case 1\r\n",
    "p = 5\r\n",
    "while p:\r\n",
    "    print(\"p vẫn là số dương\", p)\r\n",
    "    p -= 1"
   ],
   "outputs": [],
   "metadata": {}
  },
  {
   "cell_type": "code",
   "execution_count": null,
   "source": [
    "# Use case 2: Get input from users\r\n",
    "car = input(\"Thủ đô của Afganistan là thành phố nào?\")\r\n",
    "while car != \"Kabul\":\r\n",
    "    car = input(\"Sai rồi, hãy đoán lại nhé\\n\")\r\n",
    "\r\n",
    "print(\"Đúng rồi\")"
   ],
   "outputs": [],
   "metadata": {}
  },
  {
   "cell_type": "code",
   "execution_count": null,
   "source": [
    "# Use case 3: Traverse from both ends\r\n",
    "# cho A = [2, 5, 7, 11, 14, 24] & sum = 21\r\n",
    "# tìm 2 số trong mảng A có tổng bằng sum.\r\n",
    "A = [2, 5, 7, 11, 14, 24]\r\n",
    "i = 0\r\n",
    "j = len(A)-1\r\n",
    "while i < j:\r\n",
    "    print(A[i], \" \", A[j])\r\n",
    "    i += 1\r\n",
    "    j -= 1"
   ],
   "outputs": [],
   "metadata": {}
  },
  {
   "cell_type": "code",
   "execution_count": null,
   "source": [
    "# Use case 4: Game/Event loop"
   ],
   "outputs": [],
   "metadata": {}
  },
  {
   "cell_type": "markdown",
   "source": [
    "## Break, Continue và Pass - Điều khiển vòng lặp"
   ],
   "metadata": {}
  },
  {
   "cell_type": "code",
   "execution_count": null,
   "source": [
    "for c in residential_complex:\r\n",
    "    print(c)\r\n",
    "    break"
   ],
   "outputs": [],
   "metadata": {}
  },
  {
   "cell_type": "code",
   "execution_count": null,
   "source": [
    "c"
   ],
   "outputs": [],
   "metadata": {}
  },
  {
   "cell_type": "code",
   "execution_count": null,
   "source": [
    "for c in residential_complex:\r\n",
    "    print(c)\r\n",
    "    if c == \"Ocean Park\":\r\n",
    "        print(\"Đây là khu nhà yêu thích của tôi\")\r\n",
    "        break"
   ],
   "outputs": [],
   "metadata": {}
  },
  {
   "cell_type": "code",
   "execution_count": null,
   "source": [
    "num_list = [100, 34, 67, 12, 89, 78, 21, 36]\r\n",
    "# Hãy in số đầu tiên của dãy mà chia hết cho 3\r\n",
    "# hoặc in dòng \"không phải là số chia hết cho 3\""
   ],
   "outputs": [],
   "metadata": {}
  },
  {
   "cell_type": "code",
   "execution_count": null,
   "source": [
    "for c in residential_complex:\r\n",
    "    if c == \"Gardenia\":\r\n",
    "        continue\r\n",
    "    print(c)"
   ],
   "outputs": [],
   "metadata": {}
  },
  {
   "cell_type": "code",
   "execution_count": null,
   "source": [
    "for i in range(10):\r\n",
    "    if i % 2 == 0:\r\n",
    "        continue\r\n",
    "\r\n",
    "    print(i)"
   ],
   "outputs": [],
   "metadata": {}
  },
  {
   "cell_type": "code",
   "execution_count": null,
   "source": [
    "# cho range(10, 21), hãy in ra tất cả các số trong range ngoại trừ các số >= 13 và <=16\r\n",
    "# ta sẽ được gì nếu dùng break thay cho continue"
   ],
   "outputs": [],
   "metadata": {}
  },
  {
   "cell_type": "code",
   "execution_count": null,
   "source": [
    "for i in range(10,21):\r\n",
    "    if i < 13: pass\r\n",
    "    print(i)"
   ],
   "outputs": [],
   "metadata": {}
  }
 ],
 "metadata": {
  "orig_nbformat": 4,
  "language_info": {
   "name": "python",
   "version": "3.9.5",
   "mimetype": "text/x-python",
   "codemirror_mode": {
    "name": "ipython",
    "version": 3
   },
   "pygments_lexer": "ipython3",
   "nbconvert_exporter": "python",
   "file_extension": ".py"
  },
  "kernelspec": {
   "name": "python3",
   "display_name": "Python 3.9.5 64-bit ('python_tester_env': venv)"
  },
  "interpreter": {
   "hash": "24cd0c75bfe4a706d6789947de4493a267f99aa12d72755b5ca874abcfbcc979"
  }
 },
 "nbformat": 4,
 "nbformat_minor": 2
}