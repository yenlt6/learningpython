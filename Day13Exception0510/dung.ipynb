{
 "cells": [
  {
   "cell_type": "code",
   "execution_count": 2,
   "source": [
    "import math\r\n",
    "\r\n",
    "class Fraction:\r\n",
    "    def __init__(self, nr, dr):\r\n",
    "        assert  dr != 0, f\"ZeroDevisonError: mẫu số {dr} ko hợp lệ\"\r\n",
    "        self.nr = nr\r\n",
    "        self.dr = dr\r\n",
    "        self.reduce()\r\n",
    "    \r\n",
    "    def __repr__(self):\r\n",
    "        \r\n",
    "            if self.dr != 0:\r\n",
    "                if self.nr == 0:\r\n",
    "                    return f\"0\"\r\n",
    "                elif self.dr == 1:\r\n",
    "                    return f\"{self.nr}\"\r\n",
    "                if self.nr // self.dr <0:\r\n",
    "                    self.nr = self.nr * (-1)\r\n",
    "                    return(f\"{self.nr}/{abs(self.dr)}\")\r\n",
    "                return f\"{abs(self.nr)}/{abs(self.dr)}\"\r\n",
    "       \r\n",
    "    \r\n",
    "    # def __repr__(self):\r\n",
    "    #     try: \r\n",
    "    #         if self.dr != 0:\r\n",
    "    #             if self.nr == 0:\r\n",
    "    #                 return f\"0\"\r\n",
    "    #             elif self.dr == 1:\r\n",
    "    #                 return f\"{self.nr}\"\r\n",
    "    #             if self.nr // self.dr <0:\r\n",
    "    #                 self.nr = self.nr * (-1)\r\n",
    "    #                 return(f\"{self.nr}/{abs(self.dr)}\")\r\n",
    "    #             return f\"{abs(self.nr)}/{abs(self.dr)}\"\r\n",
    "    #     except AssertionError as e:\r\n",
    "    #         print(\"Error:\", e)\r\n",
    "    \r\n",
    "    def hcf(self):\r\n",
    "            mins = min(abs(self.nr), abs(self.dr))\r\n",
    "            for ucln in range (mins, 0, -1):\r\n",
    "                if self.nr % ucln == 0 and self.dr % ucln == 0:\r\n",
    "                    return ucln\r\n",
    "    \r\n",
    "    def reduce(self):\r\n",
    "            if self.dr != 0 and self.dr != 1 and self.nr != 0:\r\n",
    "                ucln = self.hcf()\r\n",
    "                self.nr = int(self.nr/ucln)\r\n",
    "                self.dr = int(self.dr/ucln)\r\n",
    "\r\n",
    "        \r\n",
    "    def __mul__(self, other):\r\n",
    "        if type(other) == int:\r\n",
    "           return Fraction(self.nr * other, self.dr) \r\n",
    "        return Fraction(self.nr * other.nr, self.dr * other.dr)\r\n",
    "    \r\n",
    "    def __add__(self, other):\r\n",
    "        if type(other) == int:\r\n",
    "            return Fraction(self.nr + other * self.dr, self.dr)\r\n",
    "        return Fraction(self.nr * other.dr + other.nr * self.dr, self.dr * other.dr)\r\n",
    "    \r\n",
    "    def __sub__(self, other):\r\n",
    "        if type(other) == int:\r\n",
    "            return Fraction(self.nr - other * self.dr, self.dr)\r\n",
    "        return Fraction(self.nr * other.dr - other.nr * self.dr, self.dr * other.dr)\r\n",
    "\r\n",
    "\r\n",
    "\r\n",
    "# x = Fraction(2,6)\r\n",
    "# print(x)\r\n",
    "# y = Fraction(-1,-6)\r\n",
    "# print(y)\r\n",
    "# print(x*y)\r\n",
    "# print(x+y)\r\n",
    "# print(x-y)\r\n",
    "\r\n",
    "try:\r\n",
    "    result = Fraction(4,0)    \r\n",
    "    print(f\"{result!r}\")\r\n",
    "except AssertionError as e:\r\n",
    "    print(\"Error:\", e)"
   ],
   "outputs": [
    {
     "output_type": "error",
     "ename": "AssertionError",
     "evalue": "ZeroDevisonError: mẫu số 0 ko hợp lệ",
     "traceback": [
      "\u001b[1;31m---------------------------------------------------------------------------\u001b[0m",
      "\u001b[1;31mAssertionError\u001b[0m                            Traceback (most recent call last)",
      "\u001b[1;32mC:\\Users\\YENLT6~1\\AppData\\Local\\Temp/ipykernel_12328/3177210822.py\u001b[0m in \u001b[0;36m<module>\u001b[1;34m\u001b[0m\n\u001b[0;32m     60\u001b[0m \u001b[1;31m# print(x-y)\u001b[0m\u001b[1;33m\u001b[0m\u001b[1;33m\u001b[0m\u001b[1;33m\u001b[0m\u001b[0m\n\u001b[0;32m     61\u001b[0m \u001b[1;33m\u001b[0m\u001b[0m\n\u001b[1;32m---> 62\u001b[1;33m \u001b[0mz\u001b[0m \u001b[1;33m=\u001b[0m \u001b[0mFraction\u001b[0m\u001b[1;33m(\u001b[0m\u001b[1;36m4\u001b[0m\u001b[1;33m,\u001b[0m\u001b[1;36m0\u001b[0m\u001b[1;33m)\u001b[0m\u001b[1;33m\u001b[0m\u001b[1;33m\u001b[0m\u001b[0m\n\u001b[0m\u001b[0;32m     63\u001b[0m \u001b[0mprint\u001b[0m\u001b[1;33m(\u001b[0m\u001b[0mz\u001b[0m\u001b[1;33m)\u001b[0m\u001b[1;33m\u001b[0m\u001b[1;33m\u001b[0m\u001b[0m\n",
      "\u001b[1;32mC:\\Users\\YENLT6~1\\AppData\\Local\\Temp/ipykernel_12328/3177210822.py\u001b[0m in \u001b[0;36m__init__\u001b[1;34m(self, nr, dr)\u001b[0m\n\u001b[0;32m      3\u001b[0m \u001b[1;32mclass\u001b[0m \u001b[0mFraction\u001b[0m\u001b[1;33m:\u001b[0m\u001b[1;33m\u001b[0m\u001b[1;33m\u001b[0m\u001b[0m\n\u001b[0;32m      4\u001b[0m     \u001b[1;32mdef\u001b[0m \u001b[0m__init__\u001b[0m\u001b[1;33m(\u001b[0m\u001b[0mself\u001b[0m\u001b[1;33m,\u001b[0m \u001b[0mnr\u001b[0m\u001b[1;33m,\u001b[0m \u001b[0mdr\u001b[0m\u001b[1;33m)\u001b[0m\u001b[1;33m:\u001b[0m\u001b[1;33m\u001b[0m\u001b[1;33m\u001b[0m\u001b[0m\n\u001b[1;32m----> 5\u001b[1;33m         \u001b[1;32massert\u001b[0m  \u001b[0mdr\u001b[0m \u001b[1;33m!=\u001b[0m \u001b[1;36m0\u001b[0m\u001b[1;33m,\u001b[0m \u001b[1;34mf\"ZeroDevisonError: mẫu số {dr} ko hợp lệ\"\u001b[0m\u001b[1;33m\u001b[0m\u001b[1;33m\u001b[0m\u001b[0m\n\u001b[0m\u001b[0;32m      6\u001b[0m         \u001b[0mself\u001b[0m\u001b[1;33m.\u001b[0m\u001b[0mnr\u001b[0m \u001b[1;33m=\u001b[0m \u001b[0mnr\u001b[0m\u001b[1;33m\u001b[0m\u001b[1;33m\u001b[0m\u001b[0m\n\u001b[0;32m      7\u001b[0m         \u001b[0mself\u001b[0m\u001b[1;33m.\u001b[0m\u001b[0mdr\u001b[0m \u001b[1;33m=\u001b[0m \u001b[0mdr\u001b[0m\u001b[1;33m\u001b[0m\u001b[1;33m\u001b[0m\u001b[0m\n",
      "\u001b[1;31mAssertionError\u001b[0m: ZeroDevisonError: mẫu số 0 ko hợp lệ"
     ]
    }
   ],
   "metadata": {}
  }
 ],
 "metadata": {
  "orig_nbformat": 4,
  "language_info": {
   "name": "python",
   "version": "3.7.6",
   "mimetype": "text/x-python",
   "codemirror_mode": {
    "name": "ipython",
    "version": 3
   },
   "pygments_lexer": "ipython3",
   "nbconvert_exporter": "python",
   "file_extension": ".py"
  },
  "kernelspec": {
   "name": "python3",
   "display_name": "Python 3.7.6 64-bit (system)"
  },
  "interpreter": {
   "hash": "04635d289a519a1410467dd0afb0db42f9184808881ca68b2eb5a687a20a5a94"
  }
 },
 "nbformat": 4,
 "nbformat_minor": 2
}