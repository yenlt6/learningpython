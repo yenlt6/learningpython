{
 "cells": [
  {
   "cell_type": "markdown",
   "source": [
    "# Python - Lập trình hướng đối tượng"
   ],
   "metadata": {}
  },
  {
   "cell_type": "markdown",
   "source": [
    "## Class variables (Class attributes)\n",
    "\n",
    "Class variables được khai báo bên ngoài tất cả phương thức, là dữ liệu thuộc về lớp, được chia sẻ bởi tất cả đối tượng sinh ra từ lớp đó"
   ],
   "metadata": {}
  },
  {
   "cell_type": "code",
   "execution_count": 1,
   "source": [
    "class Person:\r\n",
    "    species = \"Homo Sapiens\"\r\n",
    "    count = 0\r\n",
    "\r\n",
    "    def __init__(self, name, age):\r\n",
    "        self.name = name\r\n",
    "        self.age = age\r\n",
    "        Person.count += 1\r\n",
    "\r\n",
    "ba = Person(\"Ba\", 29)\r\n",
    "beo = Person(\"Béo\", 29)\r\n",
    "\r\n",
    "print(Person.species)\r\n",
    "print(ba.species)\r\n",
    "print(beo.species)\r\n",
    "\r\n",
    "print(Person.count)\r\n",
    "\r\n",
    "print(id(ba.species))\r\n",
    "print(id(beo.species))"
   ],
   "outputs": [
    {
     "output_type": "stream",
     "name": "stdout",
     "text": [
      "Homo Sapiens\n",
      "Homo Sapiens\n",
      "Homo Sapiens\n",
      "2\n",
      "1646528278768\n",
      "1646528278768\n"
     ]
    }
   ],
   "metadata": {}
  },
  {
   "cell_type": "code",
   "execution_count": 11,
   "source": [
    "class BankAccount:\r\n",
    "    rate = 0.05\r\n",
    "    minimum_balance = 50000\r\n",
    "\r\n",
    "    def __init__(self, account_number, account_name, balance=0):\r\n",
    "        self._account_number = account_number\r\n",
    "        self._account_name = account_name\r\n",
    "        self._balance = balance\r\n",
    "\r\n",
    "    def display(self):\r\n",
    "        print(self._account_number, self._account_name, self._balance, \"₫\")\r\n",
    "\r\n",
    "    def withdraw(self, amount):\r\n",
    "        self._balance -= amount\r\n",
    "\r\n",
    "    def deposite(self, amount):\r\n",
    "        self._balance += amount\r\n",
    "\r\n",
    "\r\n",
    "my_account = BankAccount(1, \"Ba\", 0)"
   ],
   "outputs": [],
   "metadata": {}
  },
  {
   "cell_type": "markdown",
   "source": [
    "## Class methods\n",
    "\n",
    "Tương tự class variables, class methods là các phương thức thuộc về lớp, tham số đầu tiên theo quy ước là `cls` tham chiếu đến lớp thay vì instance"
   ],
   "metadata": {}
  },
  {
   "cell_type": "code",
   "execution_count": 12,
   "source": [
    "class Person:\r\n",
    "    species = \"Homo Sapiens\"\r\n",
    "    count = 0\r\n",
    "\r\n",
    "    def __init__(self, name):\r\n",
    "        self.name = name\r\n",
    "        Person.count += 1\r\n",
    "\r\n",
    "    @classmethod\r\n",
    "    def show_count(cls):\r\n",
    "        print(f\"There are {cls.count} {cls.species} on earth\")\r\n",
    "\r\n",
    "\r\n",
    "Person.show_count()\r\n",
    "\r\n",
    "adam = Person(\"Adam\")\r\n",
    "eva = Person(\"Eva\")\r\n",
    "\r\n",
    "Person.show_count()"
   ],
   "outputs": [
    {
     "output_type": "stream",
     "name": "stdout",
     "text": [
      "There are 0 Homo Sapiens on earth\n",
      "There are 2 Homo Sapiens on earth\n"
     ]
    }
   ],
   "metadata": {}
  },
  {
   "cell_type": "markdown",
   "source": [
    "Class methods hữu ích trong việc tạo Factory methods\n",
    "\n",
    "💡 Factory methods là một design pattern để tạo ra các đối tượng (thường được gọi là sản phẩm - product) theo các cách thức cụ thể"
   ],
   "metadata": {}
  },
  {
   "cell_type": "code",
   "execution_count": 6,
   "source": [
    "s = \"Ba, 29\"\r\n",
    "d = {\"name\": \"Béo\", \"age\": 92}\r\n",
    "\r\n",
    "class Person:\r\n",
    "    def __init__(self, name, age):\r\n",
    "        self.name = name\r\n",
    "        self.age = age\r\n",
    "\r\n",
    "    @classmethod\r\n",
    "    def from_str(cls, s):\r\n",
    "        name, age = s.split(\",\")\r\n",
    "        return cls(name, int(age))\r\n",
    "\r\n",
    "    @classmethod\r\n",
    "    def from_dict(cls, d):\r\n",
    "        return cls(**d)\r\n",
    "    \r\n",
    "    def display(self):\r\n",
    "        print(self.name, self.age)\r\n",
    "\r\n",
    "ba = Person.from_str(s)\r\n",
    "ba.display()\r\n",
    "\r\n",
    "beo = Person.from_dict(d)\r\n",
    "beo.display()"
   ],
   "outputs": [
    {
     "output_type": "stream",
     "name": "stdout",
     "text": [
      "Ba 29\n",
      "Béo 92\n"
     ]
    }
   ],
   "metadata": {}
  },
  {
   "cell_type": "code",
   "execution_count": 7,
   "source": [
    "# BankAccount.from_csv(file) -> BankAccount[]\r\n",
    "# Sử dụng vòng lặp -> BankAccount[]\r\n",
    "# Account Number        Account Name        Balance\r\n",
    "# 1                     Ba                  100000000\r\n",
    "# 2                     Béo                 200000000\r\n",
    "# import pandas as pd\r\n",
    "# a=pd.read_csv(\"C:/1D/GitHub/learningpython/Day102509/bank_accounts.csv\")\r\n",
    "# print(type(a))\r\n",
    "# print(a)\r\n",
    "\r\n",
    "\r\n",
    "import csv\r\n",
    "with open('bank_accounts.csv', 'r') as file:\r\n",
    "    reader = csv.reader(file)\r\n",
    "    print(reader)\r\n",
    "    for row in reader:\r\n",
    "        print(row)\r\n",
    "\r\n",
    "@classmethod\r\n",
    "    def from_csv(cls, csv_file):\r\n",
    "        accounts = []\r\n",
    "\r\n",
    "        with open(csv_file) as file:\r\n",
    "            reader = csv.reader(file)\r\n",
    "\r\n",
    "            for account_number, account_name, balance in reader:\r\n",
    "                accounts.append(\r\n",
    "                    cls(account_number, account_name, int(balance)))\r\n",
    "\r\n",
    "        return accounts\r\n"
   ],
   "outputs": [
    {
     "output_type": "stream",
     "name": "stdout",
     "text": [
      "<_csv.reader object at 0x0000017F657E64A8>\n",
      "['1', 'Ba Nguyá»…n', '1000000000']\n",
      "['2', 'BÃ©o Ãš', '20000000000']\n"
     ]
    }
   ],
   "metadata": {}
  },
  {
   "cell_type": "markdown",
   "source": [
    "### Exercise\n",
    "\n",
    "Thêm 2 phương thức cho class `BankAccount` để khởi tạo từ file csv hoặc json, đầu vào là tên file, kết quả trả về một list.\n",
    "\n",
    "Chỉnh sửa phương thức `display()` để in ra thông tin theo dạng bảng"
   ],
   "metadata": {}
  },
  {
   "cell_type": "markdown",
   "source": [
    "## Magic methods\n",
    "\n",
    "Magic cung cấp một cách thức đơn giản hơn để làm việc với các objects"
   ],
   "metadata": {}
  },
  {
   "cell_type": "markdown",
   "source": [
    "Để tùy chỉnh giá trị trả về khi chuyển đổi object thành chuỗi, sử dụng magic method `__repr__()`"
   ],
   "metadata": {}
  },
  {
   "cell_type": "code",
   "execution_count": 8,
   "source": [
    "class Point:\r\n",
    "    def __init__(self, x, y):\r\n",
    "        self.x = x\r\n",
    "        self.y = y\r\n",
    "\r\n",
    "    def __eq__(self, other):\r\n",
    "        return self.x == other.x and self.y == other.y\r\n",
    "\r\n",
    "    def __gt__(self, other): #geater than\r\n",
    "        return self.x > other.x and self.y > other.y\r\n",
    "\r\n",
    "    def __ge__(self, other):\r\n",
    "        return self.x >= other.x and self.y >= other.y\r\n",
    "\r\n",
    "    def __add__(self, other):\r\n",
    "        return Point(self.x + other.x, self.y + other.y)\r\n",
    "    \r\n",
    "    def __repr__(self):\r\n",
    "        return f\"Point({self.x}, {self.y})\"\r\n",
    "    \r\n",
    "    def display(self):\r\n",
    "        return f\"Point({self.x}, {self.y})\"\r\n",
    "\r\n",
    "p1 = Point(0, 0)\r\n",
    "p2 = Point(1, 1)\r\n",
    "print(p1)\r\n",
    "\r\n",
    "print(p1)\r\n",
    "print(p1 < p2)\r\n",
    "print(p1 <= p2)\r\n",
    "print(p1 + p2)"
   ],
   "outputs": [
    {
     "output_type": "stream",
     "name": "stdout",
     "text": [
      "Point(0, 0)\n",
      "Point(0, 0)\n",
      "True\n",
      "True\n",
      "Point(1, 1)\n"
     ]
    }
   ],
   "metadata": {}
  },
  {
   "cell_type": "code",
   "execution_count": 9,
   "source": [
    "class TagCloud:\r\n",
    "    def __init__(self):\r\n",
    "        self.tags = {}\r\n",
    "\r\n",
    "    def add(self, tag):\r\n",
    "        self.tags[tag.lower()] = self.tags.get(tag.lower(), 0) + 1\r\n",
    "\r\n",
    "    def __getitem__(self, tag):\r\n",
    "        return self.tags.get(tag.lower(), 0) #Kierm tra xem có chưa, chưa có thì khởi tạo, có rồi thì lấy ra\r\n",
    "\r\n",
    "    def __setitem__(self, tag, value):\r\n",
    "        self.tags[tag.lower()] = self[tag.lower()] + value\r\n",
    "\r\n",
    "    def __iter__(self):\r\n",
    "        return iter(self.tags)\r\n",
    "\r\n",
    "tags = TagCloud()\r\n",
    "tags.add(\"Python\") #{\"python\":1}\r\n",
    "tags.add(\"python\") #{\"python\":2}\r\n",
    "tags[\"magic methods\"] = 10  ##{\"python\":2,\"magic methods\":10}\r\n",
    "print(tags[\"python\"])\r\n",
    "print(tags[\"magic methods\"])\r\n",
    "print(tags[\"none key\"])\r\n",
    "\r\n",
    "for tag in tags:\r\n",
    "    print(tag, tags[tag])"
   ],
   "outputs": [
    {
     "output_type": "stream",
     "name": "stdout",
     "text": [
      "2\n",
      "10\n",
      "0\n",
      "python 2\n",
      "magic methods 10\n"
     ]
    }
   ],
   "metadata": {}
  },
  {
   "cell_type": "markdown",
   "source": [
    "### Exercise\n",
    "\n",
    "Tạo class `Fraction` (phân số)\n",
    "\n",
    "- Hàm khởi tạo nhận 2 giá trị `nr` (tử số) và `dr` (mẫu số)\n",
    "- Nếu `dr` âm, chuyển dấu cho `nr` (VD: 1/-2 => -1/2)\n",
    "- Triển khai phương thức phù hợp để in ra phân số (VD: `print(fr)` => `-1/2`)\n",
    "- Viết hàm `hcf` tìm ước chung lớn nhất của `nr` và `dr`\n",
    "- Thêm phương thức `reduce` rút gọn phân số (gọi trong `__init__`)\n",
    "- Nếu `nr == 0`, chỉ in ra `0`\n",
    "- Nếu `dr == 0`, raise ZeroDevisonError\n",
    "- Nếu `dr == 1`, chỉ in ra `nr`\n",
    "- Triển khai các phương thức phù hợp cho phép +-*/ với 2 `Fraction` hoặc 1 `Fraction` với 1 số (`int` hoặc `float`), kết quả trả về 1 `Fraction` mới"
   ],
   "metadata": {}
  },
  {
   "cell_type": "code",
   "execution_count": 23,
   "source": [
    "from solutions.fraction import Fraction\r\n",
    "\r\n",
    "fr = Fraction(1, 2)\r\n",
    "other = Fraction(1.5, -3)\r\n",
    "print(fr, other)\r\n",
    "\r\n",
    "print()\r\n",
    "\r\n",
    "print(fr + other)\r\n",
    "print(fr - other)\r\n",
    "print(fr * other)\r\n",
    "print(fr / other)\r\n",
    "\r\n",
    "print()\r\n",
    "\r\n",
    "fr = Fraction(1, 2)\r\n",
    "print(fr + 1)\r\n",
    "print(fr - 1.5)\r\n",
    "print(fr * 2)\r\n",
    "print(fr / 2)"
   ],
   "outputs": [
    {
     "output_type": "stream",
     "name": "stdout",
     "text": [
      "1/2 -1/2\n",
      "\n",
      "0\n",
      "1\n",
      "-1/4\n",
      "-1\n",
      "\n",
      "3/2\n",
      "-1\n",
      "1\n",
      "1/4\n"
     ]
    }
   ],
   "metadata": {}
  }
 ],
 "metadata": {
  "orig_nbformat": 4,
  "language_info": {
   "name": "python",
   "version": "3.7.6",
   "mimetype": "text/x-python",
   "codemirror_mode": {
    "name": "ipython",
    "version": 3
   },
   "pygments_lexer": "ipython3",
   "nbconvert_exporter": "python",
   "file_extension": ".py"
  },
  "kernelspec": {
   "name": "python3",
   "display_name": "Python 3.7.6 64-bit"
  },
  "interpreter": {
   "hash": "04635d289a519a1410467dd0afb0db42f9184808881ca68b2eb5a687a20a5a94"
  }
 },
 "nbformat": 4,
 "nbformat_minor": 2
}