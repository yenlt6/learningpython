{
 "metadata": {
  "language_info": {
   "codemirror_mode": {
    "name": "ipython",
    "version": 3
   },
   "file_extension": ".py",
   "mimetype": "text/x-python",
   "name": "python",
   "nbconvert_exporter": "python",
   "pygments_lexer": "ipython3",
   "version": "3.9.5"
  },
  "orig_nbformat": 4,
  "kernelspec": {
   "name": "python3",
   "display_name": "Python 3.9.5 64-bit ('python_tester_env': venv)"
  },
  "interpreter": {
   "hash": "24cd0c75bfe4a706d6789947de4493a267f99aa12d72755b5ca874abcfbcc979"
  }
 },
 "nbformat": 4,
 "nbformat_minor": 2,
 "cells": [
  {
   "cell_type": "markdown",
   "source": [
    "## Tạo Python class"
   ],
   "metadata": {}
  },
  {
   "cell_type": "code",
   "execution_count": null,
   "source": [
    "class MyFirstClass:\r\n",
    "    pass"
   ],
   "outputs": [],
   "metadata": {}
  },
  {
   "cell_type": "code",
   "execution_count": null,
   "source": [
    "a = MyFirstClass()\r\n",
    "b = MyFirstClass()\r\n",
    "print(a)"
   ],
   "outputs": [],
   "metadata": {}
  },
  {
   "cell_type": "code",
   "execution_count": null,
   "source": [
    "print(b)"
   ],
   "outputs": [],
   "metadata": {}
  },
  {
   "cell_type": "markdown",
   "source": [
    "## Tạo class mới và thêm thuộc tính (Attribute)"
   ],
   "metadata": {}
  },
  {
   "cell_type": "code",
   "execution_count": null,
   "source": [
    "class Point: \r\n",
    "    pass \r\n",
    " \r\n",
    "p1 = Point() \r\n",
    "p2 = Point() \r\n",
    " \r\n",
    "p1.x = 5    # thêm thuộc tính tùy thích với cú pháp <object>.<attribute> = <value> (dot notation)\r\n",
    "p1.y = 4 \r\n",
    " \r\n",
    "p2.x = 3 \r\n",
    "p2.y = 6 \r\n",
    "\r\n",
    "print(p1)\r\n",
    "print(p1.x, p1.y) \r\n",
    "print(p2.x, p2.y) "
   ],
   "outputs": [],
   "metadata": {}
  },
  {
   "cell_type": "markdown",
   "source": [
    "Trong Python, một phương thức (method) có định nghĩa giống hệt như một hàm (function). Điểm khác biệt duy nhất là tất cả methods cần một đối số bắt buộc (thông thường được đặt tên là `self`). Đối số này tham chiếu đến đối tượng đã gọi đến method này. Vd dưới đây ta thêm method reset vào class Point ở trên và gọi đến thuộc tính x, y của đối tượng đó."
   ],
   "metadata": {}
  },
  {
   "cell_type": "code",
   "execution_count": null,
   "source": [
    "class Point: \r\n",
    "    def reset(self): \r\n",
    "        self.x = 0 \r\n",
    "        self.y = 0 \r\n",
    " \r\n",
    "p = Point() \r\n",
    "p.reset() \r\n",
    "print(p.x, p.y) "
   ],
   "outputs": [],
   "metadata": {}
  },
  {
   "cell_type": "code",
   "execution_count": null,
   "source": [
    "Point.reset(p) \r\n",
    "print(p.x, p.y) "
   ],
   "outputs": [],
   "metadata": {}
  },
  {
   "cell_type": "markdown",
   "source": [
    "## Nhiều đối số"
   ],
   "metadata": {}
  },
  {
   "cell_type": "code",
   "execution_count": null,
   "source": [
    "from IPython.core.interactiveshell import InteractiveShell\r\n",
    "InteractiveShell.ast_node_interactivity = \"all\"\r\n",
    "\r\n",
    "import math\r\n",
    "\r\n",
    "class Point:\r\n",
    "    \"Represents a point in two-dimensional geometric coordinates\"\r\n",
    "\r\n",
    "    def move(self, x, y):\r\n",
    "        \"Move the point to a new location in 2D space.\"\r\n",
    "        self.x = x\r\n",
    "        self.y = y\r\n",
    "\r\n",
    "    def reset(self):\r\n",
    "        \"Reset the point back to the geometric origin: 0, 0\"\r\n",
    "        self.move(0, 0)\r\n",
    "\r\n",
    "    def calculate_distance(self, other_point):\r\n",
    "        \"\"\"Calculate the distance from this point to a second\r\n",
    "        point passed as a parameter.\r\n",
    "        This function uses the Pythagorean Theorem to calculate\r\n",
    "        the distance between the two points. The distance is\r\n",
    "        returned as a float.\"\"\"\r\n",
    "\r\n",
    "        return math.sqrt((self.x - other_point.x) ** 2 + (self.y - other_point.y) ** 2)\r\n",
    "\r\n",
    "# how to use it:\r\n",
    "point1 = Point()\r\n",
    "point2 = Point()\r\n",
    "\r\n",
    "point1.reset()\r\n",
    "point2.move(5, 0)\r\n",
    "print(point2.calculate_distance(point1))\r\n",
    "assert point2.calculate_distance(point1) == point1.calculate_distance(point2)\r\n",
    "point1.move(3, 4)\r\n",
    "print(point1.calculate_distance(point2))\r\n",
    "print(point1.calculate_distance(point1))"
   ],
   "outputs": [],
   "metadata": {}
  },
  {
   "cell_type": "code",
   "execution_count": null,
   "source": [
    "# giúp mình giúp người\r\n",
    "help(Point)"
   ],
   "outputs": [],
   "metadata": {}
  },
  {
   "cell_type": "markdown",
   "source": [
    "## Instance Variable vs Class Variable"
   ],
   "metadata": {}
  },
  {
   "cell_type": "code",
   "execution_count": null,
   "source": [
    "class RateOfInterest:\r\n",
    "\r\n",
    "    def __init__(self, name, loan, interest):\r\n",
    "        self.name = name\r\n",
    "        self.loan = loan\r\n",
    "        self.interest = interest\r\n",
    "\r\n",
    "    def calc_interest(self):\r\n",
    "        print(\"Total interest: \", self.loan * self.interest)\r\n",
    "\r\n",
    "p1 = RateOfInterest(\"Hương\", 5000000, 0.10)\r\n",
    "p1.calc_interest()\r\n",
    "\r\n",
    "p2 = RateOfInterest(\"Thảo\", 2000000, 0.10)\r\n",
    "p2.calc_interest()"
   ],
   "outputs": [],
   "metadata": {}
  },
  {
   "cell_type": "code",
   "execution_count": null,
   "source": [
    "class RateOfInterest:\r\n",
    "    interest = 0.09\r\n",
    "    def __init__(self, name, loan):\r\n",
    "        self.name = name\r\n",
    "        self.loan = loan\r\n",
    "\r\n",
    "    def calc_interest(self):\r\n",
    "        print(\"Total interest: \", self.loan * self.interest)        # compare with RateOfInterest.interest\r\n",
    "\r\n",
    "p1 = RateOfInterest(\"Hương\", 5000000)\r\n",
    "# RateOfInterest.interest = 0.08\r\n",
    "p1.calc_interest()\r\n",
    "\r\n",
    "p2 = RateOfInterest(\"Thảo\", 2000000)\r\n",
    "p2.interest = 0.11\r\n",
    "p2.calc_interest()"
   ],
   "outputs": [],
   "metadata": {}
  }
 ]
}