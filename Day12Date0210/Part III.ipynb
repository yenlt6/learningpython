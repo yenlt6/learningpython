{
 "cells": [
  {
   "cell_type": "markdown",
   "metadata": {},
   "source": [
    "# Python - Lập trình hướng đối tượng"
   ]
  },
  {
   "cell_type": "code",
   "execution_count": 1,
   "metadata": {},
   "outputs": [
    {
     "name": "stdout",
     "output_type": "stream",
     "text": [
      "['__class__', '__delattr__', '__dict__', '__dir__', '__doc__', '__eq__', '__format__', '__ge__', '__getattribute__', '__gt__', '__hash__', '__init__', '__init_subclass__', '__le__', '__lt__', '__module__', '__ne__', '__new__', '__reduce__', '__reduce_ex__', '__repr__', '__setattr__', '__sizeof__', '__str__', '__subclasshook__', '__weakref__']\n"
     ]
    }
   ],
   "source": [
    "class Child:\n",
    "    pass\n",
    "class XYZ(Child):\n",
    "    pass\n",
    "print(dir(XYZ))"
   ]
  },
  {
   "cell_type": "code",
   "execution_count": null,
   "metadata": {},
   "outputs": [],
   "source": [
    "class A: #Single\n",
    "    pass\n",
    "\n",
    "class B: #Single\n",
    "    pass\n",
    "\n",
    "class C: #Single\n",
    "    pass\n",
    "\n",
    "class E(A,B,C): #Multiple\n",
    "    pass"
   ]
  },
  {
   "cell_type": "code",
   "execution_count": 12,
   "metadata": {},
   "outputs": [
    {
     "name": "stdout",
     "output_type": "stream",
     "text": [
      "['__class__', '__delattr__', '__dict__', '__dir__', '__doc__', '__eq__', '__format__', '__ge__', '__getattribute__', '__gt__', '__hash__', '__init__', '__init_subclass__', '__le__', '__lt__', '__module__', '__ne__', '__new__', '__reduce__', '__reduce_ex__', '__repr__', '__setattr__', '__sizeof__', '__str__', '__subclasshook__', '__weakref__']\n",
      "['__class__', '__delattr__', '__dir__', '__doc__', '__eq__', '__format__', '__ge__', '__getattribute__', '__gt__', '__hash__', '__init__', '__init_subclass__', '__le__', '__lt__', '__ne__', '__new__', '__reduce__', '__reduce_ex__', '__repr__', '__setattr__', '__sizeof__', '__str__', '__subclasshook__']\n"
     ]
    }
   ],
   "source": [
    "class Demo(object):\n",
    "    pass\n",
    "\n",
    "print(dir(Demo))\n",
    "print(dir(object))"
   ]
  },
  {
   "cell_type": "markdown",
   "metadata": {},
   "source": [
    "## Inheritance\n",
    "\n",
    "Kế thừa (inheritance) là một tính chất quan trọng trong lập trình hướng đối tượng. "
   ]
  },
  {
   "cell_type": "code",
   "execution_count": null,
   "metadata": {},
   "outputs": [],
   "source": [
    "class Base:\n",
    "    def __init__(self) -> None:\n",
    "        pass\n",
    "\n",
    "class Child(Base):             #Cú pháp kế thừa\n",
    "    def __init__(self) -> None:   #\n",
    "        super().__init__()     #super() => base class"
   ]
  },
  {
   "cell_type": "code",
   "execution_count": 1,
   "metadata": {},
   "outputs": [],
   "source": [
    "class Person:\n",
    "    def __init__(self, name, age, address, phone):\n",
    "        self.name = name \n",
    "        self.age = age \n",
    "        self.address = address\n",
    "        self.phone = phone\n",
    "    \n",
    "    def greet(self):\n",
    "        print(\"Hello, I'm\", self.name)\n",
    "\n",
    "    def is_adult(self):\n",
    "        return True if self.age >= 18 else False\n",
    "\n",
    "    def contact(self):\n",
    "        print(self.address, self.phone)"
   ]
  },
  {
   "cell_type": "markdown",
   "metadata": {},
   "source": [
    "Kế thừa lớp `Person`, `Employee` có toàn bộ thuộc tính và phương thức của `Person`"
   ]
  },
  {
   "cell_type": "code",
   "execution_count": 4,
   "metadata": {},
   "outputs": [
    {
     "name": "stdout",
     "output_type": "stream",
     "text": [
      "Hello, I'm Ba\n",
      "Cầu Giấy 09xx\n",
      "True\n"
     ]
    }
   ],
   "source": [
    "class Employee(Person): # Cú pháp kế thừa\n",
    "    pass\n",
    "\n",
    "e = Employee(\"Ba\", 29, \"Cầu Giấy\", \"09xx\")\n",
    "e.greet()\n",
    "e.contact()\n",
    "print(e.is_adult())"
   ]
  },
  {
   "cell_type": "markdown",
   "metadata": {},
   "source": [
    "Mở rộng thêm một số thuộc tính mới và ghi đè (overriding) các phương thức"
   ]
  },
  {
   "cell_type": "code",
   "execution_count": 2,
   "metadata": {},
   "outputs": [
    {
     "name": "stdout",
     "output_type": "stream",
     "text": [
      "Hello, I'm Ba\n",
      "I'm Teacher\n"
     ]
    }
   ],
   "source": [
    "class Employee(Person):\n",
    "    def __init__(self, name, age, address, phone, salary, roll):\n",
    "        self.name = name\n",
    "        self.age = age \n",
    "        self.address = address\n",
    "        self.phone = phone\n",
    "        self.salary = salary\n",
    "        self.roll = roll\n",
    "\n",
    "    def greet(self):\n",
    "        print(\"Hello, I'm\", self.name)\n",
    "        print(\"I'm\", self.roll)\n",
    "\n",
    "e = Employee(\"Ba\", 29, \"Cầu Giấy\", \"09xx\", 1000, \"Teacher\")\n",
    "e.greet()"
   ]
  },
  {
   "cell_type": "markdown",
   "metadata": {},
   "source": [
    "`super()` tham chiếu đến lớp cha"
   ]
  },
  {
   "cell_type": "code",
   "execution_count": 3,
   "metadata": {},
   "outputs": [
    {
     "name": "stdout",
     "output_type": "stream",
     "text": [
      "Hello, I'm Ba\n",
      "I'm Teacher\n"
     ]
    }
   ],
   "source": [
    "class Employee(Person): #supper() => Person ( supper tham chiếu đến lớp cha, gọi tới thuộc tính và phương thức của lớp cha)\n",
    "    def __init__(self, name, age, address, phone, salary, roll):\n",
    "        super().__init__(name, age, address, phone)\n",
    "        self.salary = salary\n",
    "        self.roll = roll\n",
    "\n",
    "    def greet(self):\n",
    "        super().greet()\n",
    "        print(\"I'm\", self.roll)\n",
    "\n",
    "\n",
    "e = Employee(\"Ba\", 29, \"Cầu Giấy\", \"09xx\", 1000, \"Teacher\")\n",
    "e.greet()\n",
    "\n",
    "\n",
    "# tất cả các class trong python, từ base class .. thì nó ngầm định là kế thừa từ lớp cơ sở nhất là object\n",
    "#Single_inheristance\n",
    "#mutiple-ingeristance\n",
    "#Đa kế thừa: multiple ingeristance, khác với multileve (kế thừa nhiều cấp độ)"
   ]
  },
  {
   "cell_type": "markdown",
   "metadata": {},
   "source": [
    "## Object Class\n",
    "\n",
    "Trong Python, class `object` là lớp cơ sở nhất, mọi class dù trực tiếp hay gián tiếp đều kế thừa từ nó, ngoại trừ các exceptions có base class là `BaseException`"
   ]
  },
  {
   "cell_type": "code",
   "execution_count": 4,
   "metadata": {},
   "outputs": [
    {
     "name": "stdout",
     "output_type": "stream",
     "text": [
      "['__class__', '__delattr__', '__dir__', '__doc__', '__eq__', '__format__', '__ge__', '__getattribute__', '__gt__', '__hash__', '__init__', '__init_subclass__', '__le__', '__lt__', '__ne__', '__new__', '__reduce__', '__reduce_ex__', '__repr__', '__setattr__', '__sizeof__', '__str__', '__subclasshook__']\n",
      "\n",
      "['__class__', '__delattr__', '__dict__', '__dir__', '__doc__', '__eq__', '__format__', '__ge__', '__getattribute__', '__gt__', '__hash__', '__init__', '__init_subclass__', '__le__', '__lt__', '__module__', '__ne__', '__new__', '__reduce__', '__reduce_ex__', '__repr__', '__setattr__', '__sizeof__', '__str__', '__subclasshook__', '__weakref__']\n"
     ]
    }
   ],
   "source": [
    "class Animal(object):\n",
    "    pass\n",
    "\n",
    "class Cat(Animal):\n",
    "    pass\n",
    "\n",
    "\n",
    "obj = object()\n",
    "cat = Cat()\n",
    "\n",
    "print(dir(obj))\n",
    "print()\n",
    "print(dir(cat))"
   ]
  },
  {
   "cell_type": "markdown",
   "metadata": {},
   "source": [
    "Ở ví dụ trên, `Cat` kế thừa từ `Animal` và gián tiếp kế thừa từ `object`, đây được gọi là **kế thừa nhiều cấp - multi-level inheritance**"
   ]
  },
  {
   "cell_type": "code",
   "execution_count": null,
   "metadata": {},
   "outputs": [],
   "source": [
    "class A: #single"
   ]
  },
  {
   "cell_type": "markdown",
   "metadata": {},
   "source": [
    "## Composition\n",
    "\n",
    "Ví dụ, lớp `Car` **CÓ MỘT** thành phần thuộc lớp `Engine`"
   ]
  },
  {
   "cell_type": "code",
   "execution_count": 6,
   "metadata": {},
   "outputs": [
    {
     "name": "stdout",
     "output_type": "stream",
     "text": [
      "Engine Run\n"
     ]
    }
   ],
   "source": [
    "class Car:\n",
    "    def __init__(self, engine):\n",
    "        self.engine = engine\n",
    "\n",
    "    def run(self):\n",
    "        self.engine.run()\n",
    "\n",
    "class Engine:\n",
    "    def run(self):\n",
    "        print(\"Engine Run\")\n",
    "\n",
    "v12 = Engine()\n",
    "maybach = Car(v12)\n",
    "\n",
    "maybach.run()"
   ]
  },
  {
   "cell_type": "markdown",
   "metadata": {},
   "source": [
    "## Polymorphism"
   ]
  },
  {
   "cell_type": "code",
   "execution_count": 7,
   "metadata": {},
   "outputs": [
    {
     "name": "stdout",
     "output_type": "stream",
     "text": [
      "2\n",
      "ab\n"
     ]
    }
   ],
   "source": [
    "# Ví dụ đa hình thể hiện thông qua toán tử  : Đa hình ( cùng toán tử  + có thể thực hiện với nhiều loại dữ liệu khác nhau)\n",
    "\n",
    "print(1 + 1)\n",
    "print(\"a\" + \"b\")"
   ]
  },
  {
   "cell_type": "code",
   "execution_count": 8,
   "metadata": {},
   "outputs": [
    {
     "name": "stdout",
     "output_type": "stream",
     "text": [
      "5\n",
      "3\n",
      "2\n"
     ]
    }
   ],
   "source": [
    "# Ví dụ đa hình thể hiện thông qua hàm \n",
    "# có thể hoạt động với nhiều kiểu dữ liệu khác nhau\n",
    "\n",
    "print(len(\"hello\"))\n",
    "print(len([\"a\", \"b\", \"c\"]))\n",
    "print(len({\"x\": 1, \"y\": 2}))"
   ]
  },
  {
   "cell_type": "code",
   "execution_count": 9,
   "metadata": {},
   "outputs": [
    {
     "name": "stdout",
     "output_type": "stream",
     "text": [
      "5\n",
      "2.9047375096555625\n",
      "28.259999999999998\n"
     ]
    }
   ],
   "source": [
    "# Ví dụ đa hình thể hiện thông qua lớp\n",
    "# Python không hỗ trợ method overriding như Java\n",
    "\n",
    "class Rectangle:\n",
    "    def __init__(self, length, breadth):\n",
    "        self.length = length\n",
    "        self.breadth = breadth\n",
    "\n",
    "    def area(self):\n",
    "        return self.length * self.breadth\n",
    "\n",
    "class Triangle:\n",
    "    def __init__(self, s1, s2, s3):\n",
    "        self.s1 = s1\n",
    "        self.s2 = s2\n",
    "        self.s3 = s3\n",
    "\n",
    "    def area(self):\n",
    "        # Công thức heron\n",
    "        sp = (self.s1 + self.s2 + self.s3) / 2\n",
    "        return (sp * (sp - self.s1) * (sp - self.s2) * (sp - self.s3)) ** 0.5\n",
    "\n",
    "class Circle:\n",
    "    def __init__(self, r):\n",
    "        self.r = r \n",
    "    \n",
    "    def area(self):\n",
    "        return 3.14 * self.r * self.r\n",
    "\n",
    "r = Rectangle(1, 5)\n",
    "t = Triangle(2, 4, 3)\n",
    "c = Circle(3)\n",
    "\n",
    "def find_area(shape):\n",
    "    print(shape.area())\n",
    "\n",
    "find_area(r)\n",
    "find_area(t)\n",
    "find_area(c)"
   ]
  },
  {
   "cell_type": "code",
   "execution_count": 10,
   "metadata": {},
   "outputs": [
    {
     "name": "stdout",
     "output_type": "stream",
     "text": [
      "| STT       | Dien Tich       | Chu Vi          |\n",
      "|-----------|-----------------|-----------------|\n",
      "\n",
      "dien tich: 1\n",
      "Chu vi: 4\n",
      "dien tich: 2\n",
      "Chu vi: 6\n",
      "dien tich: 3\n",
      "Chu vi: 8\n",
      "dien tich: 3\n",
      "Chu vi: 8\n",
      "dien tich: 5\n",
      "Chu vi: 12\n",
      "dien tich: 1\n",
      "Chu vi: 4\n",
      "dien tich: 4\n",
      "Chu vi: 8\n",
      "dien tich: 9\n",
      "Chu vi: 12\n",
      "dien tich: 16\n",
      "Chu vi: 16\n",
      "dien tich: 25\n",
      "Chu vi: 20\n"
     ]
    }
   ],
   "source": [
    "# Ví dụ đa hình thể hiện thông qua lớp\n",
    "# Python không hỗ trợ method overriding như Java\n",
    "'''khai báo Square, Rectangular có methods tính chu vi, diện tích\n",
    "Khởi tạo từ mỗi class 5 object, cho vào 1 list\n",
    "Viết hàm print_details(obj) in ra chu vi và diện tích của các obj trong list'''\n",
    "\n",
    "class Rectangle:\n",
    "    def __init__(self, length, breadth):\n",
    "        self.length = length\n",
    "        self.breadth = breadth\n",
    "    def __str__(self):\n",
    "        return (f\"Ractangular: {self.length},{self.breadth}\")\n",
    "\n",
    "    def area(self):\n",
    "        return self.length * self.breadth\n",
    "    \n",
    "    def perimeter(self):\n",
    "        return (self.length + self.breadth)*2\n",
    "\n",
    "class Square:\n",
    "    def __init__(self, length):\n",
    "        self.length = length\n",
    "    def __str__(self):\n",
    "        return (f\"Square: {self.length}\")\n",
    "\n",
    "    def area(self):\n",
    "        # Công thức heron\n",
    "        sp = self.length*self.length\n",
    "        return sp\n",
    "\n",
    "    def perimeter(self):\n",
    "        return self.length*4\n",
    "\n",
    "rectangle_list = [Rectangle(1, 1),Rectangle(1, 2),Rectangle(1, 3),Rectangle(1, 3),Rectangle(1, 5),Square(1),Square(2),Square(3),Square(4),Square(5)]\n",
    "square_list = [Square(1),Square(2),Square(3),Square(4),Square(5)]\n",
    "\n",
    "r = Rectangle(1, 5)\n",
    "t = Triangle(2, 4, 3)\n",
    "c = Circle(3)\n",
    "\n",
    "def find_area(shape):\n",
    "    print(shape.area())\n",
    "\n",
    "def print_details(obj):\n",
    "    # for i in range (0,len(obj)):\n",
    "    #     print(f\"| {i:9} | {self.account_name:15} | {self.balance:>15} |\")\n",
    "\n",
    "    for i in obj:\n",
    "     print(\"dien tich:\",i.area())\n",
    "     print(\"Chu vi:\",i.perimeter())\n",
    "    #  print(\n",
    "    #         f\"| {:9} | {self.account_name:15} | {self.balance:>15} |\")\n",
    "\n",
    "\n",
    "\n",
    "print(f\"| {'STT':9} | {'Dien Tich':15} | {'Chu Vi':15} |\")\n",
    "print(f\"|{'-' * 11}|{ '-' * 17 }|{'-' * 17}|\")\n",
    "\n",
    "\n",
    "print()\n",
    "print_details(rectangle_list)\n",
    "# print_details(square_list)\n"
   ]
  },
  {
   "cell_type": "markdown",
   "metadata": {},
   "source": [
    "### Exercises\n",
    "\n",
    "1. Tạo class `SavingAccount` kế thừa từ `BankAccount`, bổ sung:\n",
    "- `monthly_interest_rate`: Lãi suất hàng tháng = `0.005`\n",
    "- `calculate_interest()`: tính tiền lãi hàng tháng, công thức `balance * monthly_interest_rate`\n",
    "\n",
    "2. Tạo class `Customer` bao gồm một số thông tin:\n",
    "- `name`, `date_of_birth`, `email`, `phone`\n",
    "- `get_info()` hiển thị thông tin Customer\n",
    "\n",
    "3. Thay đổi class `BankAccount`:\n",
    "- `_account_name` thành `_owner` là một `Customer`\n",
    "- `display()` hiển thị thông tin số tài khoản, thông tin khách hàng và số dư"
   ]
  },
  {
   "cell_type": "markdown",
   "metadata": {},
   "source": []
  }
 ],
 "metadata": {
  "interpreter": {
   "hash": "04635d289a519a1410467dd0afb0db42f9184808881ca68b2eb5a687a20a5a94"
  },
  "kernelspec": {
   "display_name": "Python 3.7.6 64-bit",
   "name": "python3"
  },
  "language_info": {
   "codemirror_mode": {
    "name": "ipython",
    "version": 3
   },
   "file_extension": ".py",
   "mimetype": "text/x-python",
   "name": "python",
   "nbconvert_exporter": "python",
   "pygments_lexer": "ipython3",
   "version": "3.7.6"
  }
 },
 "nbformat": 4,
 "nbformat_minor": 5
}
