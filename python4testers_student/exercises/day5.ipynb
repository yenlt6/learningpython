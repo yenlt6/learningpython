{
 "cells": [
  {
   "cell_type": "markdown",
   "source": [
    "## Fifa Competition JSON\r\n",
    "Paste đường link sau https://jsonmock.hackerrank.com/api/football_matches?team1=Barcelona&year=2011&page=1 vào trình duyệt của bạn và right click save as - download file json về máy của bạn. Đây là danh sách tất cả các trận đấu của Barcelona trong năm 2011. Hãy xem xét cấu trúc của file json này\r\n",
    "\r\n",
    "* 'page': 1,          <-- trang hiện tại\r\n",
    "* 'per_page': 10,     <-- số trận đấu trên mỗi trang\r\n",
    "* 'total': 6,         <-- tổng số trận đấu trả về\r\n",
    "* 'total_pages': 1,   <-- tổng số trang\r\n",
    "* 'data'              <-- list chi tiết thông tin về trận đấu\r\n",
    "\r\n",
    "Hãy viết chương trình đếm tổng số bàn thắng mà đội này ghi được (team1goals) và bị thủng lưới (team2goals) trong năm."
   ],
   "metadata": {}
  },
  {
   "cell_type": "code",
   "execution_count": null,
   "source": [
    "import requests\r\n",
    "import json\r\n",
    "\r\n",
    "def get_winner(competition, year):\r\n",
    "    URL = \"https://jsonmock.hackerrank.com/api/football_competitions?name=\" + competition + \"&year=\" + str(year)\r\n",
    "    getData = requests.get(URL)\r\n",
    "    getJson = json.loads(getData.content)\r\n",
    "\r\n",
    "    team = \"\"\r\n",
    "    for i in getJson['data']:\r\n",
    "        team = i[\"winner\"]\r\n",
    "        break\r\n",
    "    return team\r\n",
    "\r\n",
    "get_winner(\"English Premier League\", 2014)"
   ],
   "outputs": [],
   "metadata": {}
  },
  {
   "cell_type": "code",
   "execution_count": 16,
   "source": [
    "def count_goals(link):\r\n",
    "    getData = requests.get(link)\r\n",
    "    getJson = json.loads(getData.content)\r\n",
    "\r\n",
    "    goal_for, goal_against = 0, 0\r\n",
    "    for rec in getJson['data']:\r\n",
    "        goal_for += int(rec['team1goals'])\r\n",
    "        goal_against += int(rec['team2goals'])\r\n",
    "\r\n",
    "    return goal_for, goal_against\r\n",
    "\r\n",
    "URL = \"https://jsonmock.hackerrank.com/api/football_matches?team1=Barcelona&year=2011&page=1\"\r\n",
    "print(count_goals(URL))"
   ],
   "outputs": [
    {
     "output_type": "stream",
     "name": "stdout",
     "text": [
      "(20, 6)\n"
     ]
    }
   ],
   "metadata": {}
  },
  {
   "cell_type": "code",
   "execution_count": 22,
   "source": [
    "def get_total_goals(team, year):\r\n",
    "    c = 0\r\n",
    "    for t in range(1,3):\r\n",
    "        r = requests.get(f'https://jsonmock.hackerrank.com/api/football_matches?team{t}={team}&year={str(year)}&page=1').json()\r\n",
    "        total = r['total_pages']\r\n",
    "        per_page = r['per_page']\r\n",
    "\r\n",
    "        for j in range(1, total + 1):\r\n",
    "            r = requests.get(f'https://jsonmock.hackerrank.com/api/football_matches?team{t}={team}&year={str(year)}&page={str(j)}').json()\r\n",
    "            try:\r\n",
    "                for i in range(0, per_page):\r\n",
    "                    n_goal = r['data'][i][f'team{t}goals']\r\n",
    "                    c += int(n_goal)\r\n",
    "            except:\r\n",
    "                # print(\"Exception at: \", r)\r\n",
    "                pass\r\n",
    "    return c\r\n",
    "\r\n",
    "print(get_total_goals('AC Milan', 2014))"
   ],
   "outputs": [
    {
     "output_type": "stream",
     "name": "stdout",
     "text": [
      "56\n"
     ]
    }
   ],
   "metadata": {}
  }
 ],
 "metadata": {
  "orig_nbformat": 4,
  "language_info": {
   "name": "python",
   "version": "3.9.5",
   "mimetype": "text/x-python",
   "codemirror_mode": {
    "name": "ipython",
    "version": 3
   },
   "pygments_lexer": "ipython3",
   "nbconvert_exporter": "python",
   "file_extension": ".py"
  },
  "kernelspec": {
   "name": "python3",
   "display_name": "Python 3.9.5 64-bit ('python_tester_env': venv)"
  },
  "interpreter": {
   "hash": "24cd0c75bfe4a706d6789947de4493a267f99aa12d72755b5ca874abcfbcc979"
  }
 },
 "nbformat": 4,
 "nbformat_minor": 2
}