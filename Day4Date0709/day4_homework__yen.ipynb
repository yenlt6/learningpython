{
 "cells": [
  {
   "cell_type": "code",
   "execution_count": 70,
   "source": [
    "#BTVN01: Function - Đếm loại ký tự\r\n",
    "# Viết hàm có đầu vào là 1 chuỗi, trả ra số chữ cái, số ký tự viết hoa, số ký tự viết thường và số chữ số trong chuỗi đó. Giả sử đầu vào sau được cấp cho hàm:\r\n",
    "# s = \"Hello World! 123\"\r\n",
    "# Hàm count_char_type(s) sẽ trả ra 1 dict {\"LETTERS\":10, \"CASE\": {\"UPPER CASE\":2, \"LOWER CASE\":8}, \"DIGITS\":3}. Lưu ý: value của key \"CASE\" là một dict có 2 keys là \"UPPER CASE\", \"LOWER CASE\".\r\n",
    "# a) Viết hàm trên dùng bất kỳ hàm built in nào của python\r\n",
    "# b) Viết hàm chỉ dùng 1 hàm built in duy nhất.\r\n",
    "# Gợi ý: Bộ ký tự đơn giản in ra màn hình được còn được gọi là bộ mã ASCII (đọc là 'As key') nguyên gốc gồm 128 ký tự. Bạn có thể in ra thử với câu lệnh sau.\r\n",
    "# ASCII = \"\".join(chr(x) for x in range(33, 128))\r\n",
    "# print(ASCII)\r\n",
    "###############Dùng built có sẵn#########################\r\n",
    "\r\n",
    "s = \"Hello World, yenlt6! 123\"\r\n",
    "def count_char_type1(s):\r\n",
    "    dict={\"LETTERS\":00, \"CASE\": {\"UPPER CASE\":0, \"LOWER CASE\":0}, \"DIGITS\":0}\r\n",
    "    count=0\r\n",
    "    for i in s:\r\n",
    "        if i.isupper():          \r\n",
    "            dict[\"CASE\"][\"UPPER CASE\"] +=1\r\n",
    "            count+=1           \r\n",
    "        elif i.islower():            \r\n",
    "            dict[\"CASE\"][\"LOWER CASE\"] +=1\r\n",
    "            count+=1\r\n",
    "        elif i.isdigit():         \r\n",
    "            dict[\"DIGITS\"]+=1\r\n",
    "    dict[\"LETTERS\"]=count    \r\n",
    "    return dict\r\n",
    "print(\"Dict tao ra: \",count_char_type1(s))"
   ],
   "outputs": [
    {
     "output_type": "stream",
     "name": "stdout",
     "text": [
      "Dict tao ra:  {'LETTERS': 15, 'CASE': {'UPPER CASE': 2, 'LOWER CASE': 13}, 'DIGITS': 4}\n"
     ]
    }
   ],
   "metadata": {}
  },
  {
   "cell_type": "code",
   "execution_count": 71,
   "source": [
    "s1 = \"Hello World! 09123\"\r\n",
    "def count_char_type2(s):\r\n",
    "    count=0\r\n",
    "    dict={\"LETTERS\":0, \"CASE\": {\"UPPER CASE\":0, \"LOWER CASE\":0}, \"DIGITS\":0}\r\n",
    "    for i in s:        \r\n",
    "        if check_upper(i):           \r\n",
    "            dict[\"CASE\"][\"UPPER CASE\"] +=1\r\n",
    "            count+=1        \r\n",
    "        elif check_lower(i):           \r\n",
    "            dict[\"CASE\"][\"LOWER CASE\"] +=1\r\n",
    "            count+=1\r\n",
    "        elif check_digit(i):          \r\n",
    "            dict[\"DIGITS\"]+=1\r\n",
    "    dict[\"LETTERS\"]=count\r\n",
    "    return dict \r\n",
    "def check_upper(c):\r\n",
    "    if c >= 'A' and c <= 'Z':\r\n",
    "        return True\r\n",
    "    else:\r\n",
    "        return False\r\n",
    "def check_lower(c):\r\n",
    "    if c >='a' and c<='z':\r\n",
    "        return True\r\n",
    "    else:\r\n",
    "        return False\r\n",
    "def check_digit(ddd):\r\n",
    "    list_digit=['0','1','2','3','4','5','6','7','8','9']    \r\n",
    "    if ddd in list_digit:               \r\n",
    "        return True\r\n",
    "    else:\r\n",
    "        return False\r\n",
    "print(\"Dict tao ra: \",count_char_type2(s1))"
   ],
   "outputs": [
    {
     "output_type": "stream",
     "name": "stdout",
     "text": [
      "Dict tao ra:  {'LETTERS': 10, 'CASE': {'UPPER CASE': 2, 'LOWER CASE': 8}, 'DIGITS': 5}\n"
     ]
    }
   ],
   "metadata": {}
  },
  {
   "cell_type": "code",
   "execution_count": 72,
   "source": [
    "''' ==== Bài 2 =====\r\n",
    "Cho một list A các điểm thi (từ 0-10) của các học viên trong lớp. Viết 3 hàm tính:\r\n",
    "giá trị trung bình (mean) của dãy.\r\n",
    "trung vị (median) của dãy A. trung vị là một số đứng ở vị trí giữa trong dãy số đã được sắp xếp theo thứ tự tăng dần, median chia dãy số cho trước thành 2 nửa bằng nhau. Nếu độ dài của dãy số là số lẻ, thì số ở giữa là median, nếu chiều dài của dãy số là số chẵn thì median được xác định bằng cách lấy trung bình của hai số ở giữa.\r\n",
    "mode của dãy A. Mode là phần tử có số lần xuất hiện nhiều nhất trong dãy. Mode sẽ giúp ta trả lời câu hỏi: \"Trong lớp này, học viên đạt Điểm số nào nhiều nhất?\".\r\n",
    "Lưu ý: kết quả trả ra sẽ là 1 list vì mode có thể nhiều hơn 1 giá trị.\r\n",
    "Vd:\r\n",
    "A = [7, 8, 9, 2, 10, 9, 9, 9, 9, 4, 5, 6, 1, 5, 6, 7, 8, 6, 1, 10] ==> (mean(A), median(A), mode(A)) == (6.55, 7.0, [9])\r\n",
    "B=[4,4,5,4,5,5] thì (mean(B), median(B), mode(B)) == (4.5, 4.5, [4,5])\r\n",
    "'''\r\n",
    "A = [7, 8, 9, 2, 10, 9, 9, 9, 9, 4, 5, 6, 1, 5, 6, 7, 8, 6, 1, 10]\r\n",
    "def meanList(list_var):    \r\n",
    "    sum=0\r\n",
    "    for i in list_var:\r\n",
    "        sum+=i    \r\n",
    "    return sum/len(list_var)\r\n",
    "def medianList(list_var):\r\n",
    "    list_temp=sorted(list_var)\r\n",
    "    len_list=len(list_temp)\r\n",
    "    print(\"dãy sau khi sắp xếp\",list_temp)\r\n",
    "    print(\"Chiều dài dãy\",len_list)\r\n",
    "    median=0\r\n",
    "    if (len_list%2!=0):\r\n",
    "        print(\"Chiều dài của dãy là số lẻ, trung vị là số ở giữa\")\r\n",
    "        median_index=len_list//2\r\n",
    "        median=list_temp[median_index]        \r\n",
    "    else:\r\n",
    "        print(\"Chiều dài của dãy là số chẵn, trung vị là lấy trung bình của hai số ở giữa\")\r\n",
    "        index_1=len_list//2\r\n",
    "        index_2=index_1-1\r\n",
    "        median=(list_temp[index_1] + list_temp[index_2])/2   \r\n",
    "    return median\r\n",
    "print(\"==== Điểm trung bình của lớp là:====\",meanList(A))\r\n",
    "print(\"==== Điểm trung vị của lớp là =====\",medianList(A))\r\n"
   ],
   "outputs": [
    {
     "output_type": "stream",
     "name": "stdout",
     "text": [
      "==== Điểm trung bình của lớp là:==== 6.55\n",
      "dãy sau khi sắp xếp [1, 1, 2, 4, 5, 5, 6, 6, 6, 7, 7, 8, 8, 9, 9, 9, 9, 9, 10, 10]\n",
      "Chiều dài dãy 20\n",
      "Chiều dài của dãy là số chẵn, trung vị là lấy trung bình của hai số ở giữa\n",
      "==== Điểm trung vị của lớp là ===== 7.0\n"
     ]
    }
   ],
   "metadata": {}
  },
  {
   "cell_type": "code",
   "execution_count": 73,
   "source": [
    "'''Mode là phần tử có số lần xuất hiện nhiều nhất trong dãy'''\r\n",
    "\r\n",
    "from collections import Counter\r\n",
    "A = [7, 8, 9, 2, 10, 9, 9, 9, 9, 4, 5, 6, 1, 5, 6, 7, 8, 6, 1, 10]\r\n",
    "def mode_funct(list_var):\r\n",
    "    dict_1={}\r\n",
    "    for i in A:\r\n",
    "        value=A.count(i)      \r\n",
    "        dict_1[i]=value\r\n",
    "    print(dict_1)\r\n",
    "    max_key = max(dict_1, key=dict_1.get) #get key with max value\r\n",
    "    return max_key\r\n",
    "\r\n",
    "print(\"Mode là phần tử có số lần xuất hiện nhiều nhất trong dãy, Mode của A =\",mode_funct(A))"
   ],
   "outputs": [
    {
     "output_type": "stream",
     "name": "stdout",
     "text": [
      "{7: 2, 8: 2, 9: 5, 2: 1, 10: 2, 4: 1, 5: 2, 6: 3, 1: 2}\n",
      "Mode là phần tử có số lần xuất hiện nhiều nhất trong dãy, Mode của A = 9\n"
     ]
    }
   ],
   "metadata": {}
  }
 ],
 "metadata": {
  "orig_nbformat": 4,
  "language_info": {
   "name": "python",
   "version": "3.7.6",
   "mimetype": "text/x-python",
   "codemirror_mode": {
    "name": "ipython",
    "version": 3
   },
   "pygments_lexer": "ipython3",
   "nbconvert_exporter": "python",
   "file_extension": ".py"
  },
  "kernelspec": {
   "name": "python3",
   "display_name": "Python 3.7.6 64-bit"
  },
  "interpreter": {
   "hash": "04635d289a519a1410467dd0afb0db42f9184808881ca68b2eb5a687a20a5a94"
  }
 },
 "nbformat": 4,
 "nbformat_minor": 2
}