{
 "cells": [
  {
   "cell_type": "markdown",
   "source": [
    "# Python - Lập trình hướng đối tượng"
   ],
   "metadata": {}
  },
  {
   "cell_type": "markdown",
   "source": [
    "## Class variables (Class attributes)\n",
    "\n",
    "Class variables được khai báo bên ngoài tất cả phương thức, là dữ liệu thuộc về lớp, được chia sẻ bởi tất cả đối tượng sinh ra từ lớp đó"
   ],
   "metadata": {}
  },
  {
   "cell_type": "code",
   "execution_count": 1,
   "source": [
    "class Person:\n",
    "    species = \"Homo Sapiens\"\n",
    "    count = 0\n",
    "\n",
    "    def __init__(self, name, age):\n",
    "        self.name = name\n",
    "        self.age = age\n",
    "        Person.count += 1\n",
    "\n",
    "ba = Person(\"Ba\", 29)\n",
    "beo = Person(\"Béo\", 29)\n",
    "\n",
    "print(Person.species)\n",
    "print(ba.species)\n",
    "print(beo.species)\n",
    "\n",
    "print(Person.count)\n",
    "\n",
    "print(id(ba.species))\n",
    "print(id(beo.species))"
   ],
   "outputs": [
    {
     "output_type": "stream",
     "name": "stdout",
     "text": [
      "Homo Sapiens\n",
      "Homo Sapiens\n",
      "Homo Sapiens\n",
      "2\n",
      "4386129264\n",
      "4386129264\n"
     ]
    }
   ],
   "metadata": {}
  },
  {
   "cell_type": "code",
   "execution_count": 5,
   "source": [
    "class BankAccount:\n",
    "    rate = 0.05\n",
    "    minimum_balance = 50000\n",
    "\n",
    "    def __init__(self, account_number, account_name, balance=0):\n",
    "        self._account_number = account_number\n",
    "        self._account_name = account_name\n",
    "        self._balance = balance\n",
    "\n",
    "    def display(self):\n",
    "        print(self._account_number, self._account_name, self._balance, \"₫\")\n",
    "\n",
    "    def withdraw(self, amount):\n",
    "        self._balance -= amount\n",
    "\n",
    "    def deposite(self, amount):\n",
    "        self._balance += amount\n",
    "\n",
    "\n",
    "my_account = BankAccount(1, \"Ba\", 0)\n",
    "other_account = BankAccount(2, \"Bar\", 0)\n",
    "\n",
    "print(my_account.rate)\n",
    "print(other_account.rate)\n",
    "print(BankAccount.rate)\n",
    "print(id(my_account.rate), id(other_account.rate), id(BankAccount.rate))\n",
    "\n",
    "my_account.rate = 1 # self.rate = 1 instance variable mới\n",
    "print(my_account.rate)\n",
    "print(other_account.rate)\n",
    "print(BankAccount.rate)\n",
    "print(id(my_account.rate), id(other_account.rate), id(BankAccount.rate))"
   ],
   "outputs": [
    {
     "output_type": "stream",
     "name": "stdout",
     "text": [
      "0.05\n",
      "0.05\n",
      "0.05\n",
      "4386080688 4386080688 4386080688\n",
      "1\n",
      "0.05\n",
      "0.05\n",
      "4335249712 4386080688 4386080688\n"
     ]
    }
   ],
   "metadata": {}
  },
  {
   "cell_type": "markdown",
   "source": [
    "## Class methods\n",
    "\n",
    "Tương tự class variables, class methods là các phương thức thuộc về lớp, tham số đầu tiên theo quy ước là `cls` tham chiếu đến lớp thay vì instance"
   ],
   "metadata": {}
  },
  {
   "cell_type": "code",
   "execution_count": 6,
   "source": [
    "class Person:\n",
    "    species = \"Homo Sapiens\"\n",
    "    count = 0\n",
    "\n",
    "    def __init__(self, name): # instance methods\n",
    "        self.name = name\n",
    "        Person.count += 1\n",
    "\n",
    "    @classmethod\n",
    "    def show_count(cls): # cls => Person \n",
    "        print(f\"There are {cls.count} {cls.species} on earth\")\n",
    "\n",
    "    def display(self): # instance methods\n",
    "        print(self.name)\n",
    "\n",
    "\n",
    "Person.show_count()\n",
    "\n",
    "adam = Person(\"Adam\")\n",
    "eva = Person(\"Eva\")\n",
    "\n",
    "adam.display() # self = adam\n",
    "adam.show_count() # cls = Person\n",
    "\n",
    "Person.show_count()"
   ],
   "outputs": [
    {
     "output_type": "stream",
     "name": "stdout",
     "text": [
      "There are 0 Homo Sapiens on earth\n",
      "Adam\n",
      "There are 2 Homo Sapiens on earth\n",
      "There are 2 Homo Sapiens on earth\n"
     ]
    }
   ],
   "metadata": {}
  },
  {
   "cell_type": "markdown",
   "source": [
    "Class methods hữu ích trong việc tạo Factory methods\n",
    "\n",
    "💡 Factory methods là một design pattern để tạo ra các đối tượng (thường được gọi là sản phẩm - product) theo các cách thức cụ thể"
   ],
   "metadata": {}
  },
  {
   "cell_type": "code",
   "execution_count": 2,
   "source": [
    "s = \"Ba, 29\"\n",
    "d = {\"name\": \"Béo\", \"age\": 92}\n",
    "\n",
    "class Person:\n",
    "    def __init__(self, name, age):\n",
    "        self.name = name\n",
    "        self.age = age\n",
    "\n",
    "    @classmethod\n",
    "    def from_str(cls, s): \n",
    "        name, age = s.split(\",\")\n",
    "        return cls(name, int(age))\n",
    "\n",
    "    @classmethod\n",
    "    def from_dict(cls, d):\n",
    "        return cls(**d) # cls(name=\"Béo\", age=92)\n",
    "    \n",
    "    def display(self):\n",
    "        print(self.name, self.age)\n",
    "\n",
    "p = Person(\"Ba\", 29)\n",
    "p.display()\n",
    "\n",
    "ba = Person.from_str(s)\n",
    "ba.display()\n",
    "\n",
    "beo = Person.from_dict(d)\n",
    "beo.display()\n",
    "\n",
    "# BankAccount.from_csv(file) -> BankAccount[]\n",
    "# Sử dụng vòng lặp -> BankAccount[]\n",
    "# Account Number        Account Name        Balance\n",
    "# 1                     Ba                  100000000\n",
    "# 2                     Béo                 200000000"
   ],
   "outputs": [
    {
     "output_type": "stream",
     "name": "stdout",
     "text": [
      "Ba 29\n",
      "Béo 92\n"
     ]
    }
   ],
   "metadata": {}
  },
  {
   "cell_type": "markdown",
   "source": [
    "### Exercise\n",
    "\n",
    "Thêm 2 phương thức cho class `BankAccount` để khởi tạo từ file csv hoặc json, đầu vào là tên file, kết quả trả về một list.\n",
    "\n",
    "Chỉnh sửa phương thức `display()` để in ra thông tin theo dạng bảng"
   ],
   "metadata": {}
  },
  {
   "cell_type": "markdown",
   "source": [
    "## Magic methods\n",
    "\n",
    "Magic cung cấp một cách thức đơn giản hơn để làm việc với các objects"
   ],
   "metadata": {}
  },
  {
   "cell_type": "markdown",
   "source": [
    "Để tùy chỉnh giá trị trả về khi chuyển đổi object thành chuỗi, sử dụng magic method `__repr__()`"
   ],
   "metadata": {}
  },
  {
   "cell_type": "code",
   "execution_count": 24,
   "source": [
    "class Point:\n",
    "    def __init__(self, x, y):\n",
    "        self.x = x\n",
    "        self.y = y\n",
    "\n",
    "    def __eq__(self, other):\n",
    "        return self.x == other.x and self.y == other.y\n",
    "\n",
    "    def __gt__(self, other): # greater than >\n",
    "        return self.x > other.x and self.y > other.y\n",
    "\n",
    "    def __repr__(self):\n",
    "        return f\"Point({self.x}, {self.y})\"\n",
    "\n",
    "    def __pos__(self):\n",
    "        return self.x\n",
    "\n",
    "    def __add__(self, other):\n",
    "        if type(other) == int:\n",
    "            return Point(self.x + other, self.y + other)\n",
    "\n",
    "        return Point(self.x + other.x, self.y + other.y)\n",
    "\n",
    "p1 = Point(2, 1)\n",
    "p2 = Point(1, 1)\n",
    "\n",
    "print(p1 == p2) # __eq__\n",
    "\n",
    "print(p1 > p2) # __gt__\n",
    "print(p1 < p2) # __lt__\n",
    "print(p1)       # __repr__\n",
    "\n",
    "print(+p1)\n",
    "print(p1 + p2)\n",
    "\n",
    "print(p1 + 2)\n",
    "# print(p1)\n",
    "# print(p1 < p2)\n",
    "# print(p1 <= p2)\n",
    "# print(p1 + p2)\n",
    "\n",
    "# list, dict, tupple, class\n"
   ],
   "outputs": [
    {
     "output_type": "stream",
     "name": "stdout",
     "text": [
      "False\n",
      "False\n",
      "False\n",
      "Point(2, 1)\n",
      "2\n",
      "Point(3, 2)\n",
      "Point(4, 3)\n"
     ]
    }
   ],
   "metadata": {}
  },
  {
   "cell_type": "code",
   "execution_count": 32,
   "source": [
    "class TagCloud:\n",
    "    def __init__(self):\n",
    "        self.tags = {}\n",
    "\n",
    "    def add(self, tag):\n",
    "        self.tags[tag.lower()] = self.tags.get(tag.lower(), 0) + 1\n",
    "\n",
    "    def __getitem__(self, tag):\n",
    "        return self.tags.get(tag.lower(), 0)\n",
    "\n",
    "    def __setitem__(self, tag, value):\n",
    "        self.tags[tag.lower()] = self[tag.lower()] + value\n",
    "\n",
    "    def __iter__(self):\n",
    "        return iter(self.tags)\n",
    "\n",
    "tags = TagCloud() # {}\n",
    "tags.add(\"Python\") # {\"python\": 1}\n",
    "tags.add(\"python\") # {\"python\": 2}\n",
    "\n",
    "tags[\"magic methods\"] = 10 # {\"python\": 2, \"magic methods\": 10}\n",
    "print(tags[\"python\"])\n",
    "print(tags[\"magic methods\"])\n",
    "print(tags[\"none key\"])\n",
    "\n",
    "for tag in tags: # __iter__(self)\n",
    "    print(tag, tags[tag])"
   ],
   "outputs": [
    {
     "output_type": "stream",
     "name": "stdout",
     "text": [
      "2\n",
      "10\n",
      "0\n",
      "python 2\n",
      "magic methods 10\n"
     ]
    }
   ],
   "metadata": {}
  },
  {
   "cell_type": "markdown",
   "source": [
    "### Exercise\n",
    "\n",
    "Tạo class `Fraction` (phân số)\n",
    "\n",
    "- Hàm khởi tạo nhận 2 giá trị `nr` (tử số) và `dr` (mẫu số)\n",
    "- Nếu `dr` âm, chuyển dấu cho `nr` (VD: 1/-2 => -1/2)\n",
    "- Triển khai phương thức phù hợp để in ra phân số (VD: `print(fr)` => `-1/2`)\n",
    "- Viết hàm `hcf` tìm ước chung lớn nhất của `nr` và `dr`\n",
    "- Thêm phương thức `reduce` rút gọn phân số (gọi trong `__init__`)\n",
    "- Nếu `nr == 0`, chỉ in ra `0`\n",
    "- Nếu `dr == 0`, raise ZeroDevisonError\n",
    "- Nếu `dr == 1`, chỉ in ra `nr`\n",
    "- Triển khai các phương thức phù hợp cho phép +-*/ với 2 `Fraction` hoặc 1 `Fraction` với 1 số (`int` hoặc `float`), kết quả trả về 1 `Fraction` mới"
   ],
   "metadata": {}
  },
  {
   "cell_type": "code",
   "execution_count": 2,
   "source": [
    "from solutions.fraction import Fraction\n",
    "\n",
    "fr = Fraction(1, 2)\n",
    "other = Fraction(1.5, -3)\n",
    "print(fr, other)\n",
    "\n",
    "print()\n",
    "\n",
    "print(fr + other)\n",
    "print(fr - other)\n",
    "print(fr * other)\n",
    "print(fr / other)\n",
    "\n",
    "print()\n",
    "\n",
    "fr = Fraction(1, 2)\n",
    "print(fr + 1)\n",
    "print(fr - 1.5)\n",
    "print(fr * 2)\n",
    "print(fr / 2)"
   ],
   "outputs": [
    {
     "output_type": "stream",
     "name": "stdout",
     "text": [
      "1/2 -1/2\n",
      "\n",
      "0\n",
      "1\n",
      "-1/4\n",
      "-1\n",
      "\n",
      "3/2\n",
      "-1\n",
      "1\n",
      "1/4\n"
     ]
    }
   ],
   "metadata": {}
  }
 ],
 "metadata": {
  "orig_nbformat": 4,
  "language_info": {
   "name": "python",
   "version": "3.9.6",
   "mimetype": "text/x-python",
   "codemirror_mode": {
    "name": "ipython",
    "version": 3
   },
   "pygments_lexer": "ipython3",
   "nbconvert_exporter": "python",
   "file_extension": ".py"
  },
  "kernelspec": {
   "name": "python3",
   "display_name": "Python 3.9.6 64-bit"
  },
  "interpreter": {
   "hash": "b0fa6594d8f4cbf19f97940f81e996739fb7646882a419484c72d19e05852a7e"
  }
 },
 "nbformat": 4,
 "nbformat_minor": 2
}