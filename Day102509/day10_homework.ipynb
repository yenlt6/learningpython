{
 "cells": [
  {
   "cell_type": "code",
   "execution_count": null,
   "source": [
    "### Exercise\r\n",
    "'''\r\n",
    "Thay đổi các thuộc tính `account_number`, `account_name`, `balance` trong class `BankAccount` thành thuộc tính ẩn, và triển khai thêm các phương thức:\r\n",
    "\r\n",
    "- `get_account_number()`\r\n",
    "- `get_account_name()`\r\n",
    "- `get_balance()`\r\n",
    "- `set_balance()` - `balance` phải lớn hơn hoặc bằng `0`\r\n",
    "\r\n",
    "Thay đổi các phương thức `display()`, `withdraw()` và `deposit()` sử dụng các phương thức getter và setter trên.\r\n",
    "\r\n",
    "Chú ý:\r\n",
    "\r\n",
    "- Với `withdraw()`, `amount` phải lớn hơn `0` và nhỏ hơn `balance` ( rut tien)\r\n",
    "- Với `deposit()`, `amount` phải lớn hơn `0` ( nap tien)\r\n",
    "\r\n",
    "Nếu giá trị không phù hợp thì thông báo ra `console`'''"
   ],
   "outputs": [],
   "metadata": {}
  },
  {
   "cell_type": "code",
   "execution_count": 2,
   "source": [
    "\r\n",
    "class BankAccount:\r\n",
    "    def __init__(self,account_number, account_name, balance=0):\r\n",
    "        self.set_account_number(account_number)\r\n",
    "        self._account_name=account_name\r\n",
    "        self.set_balance(balance)\r\n",
    "\r\n",
    "    def get_account_number(self):\r\n",
    "        return self._account_number\r\n",
    "\r\n",
    "    def get_account_name(self):\r\n",
    "        return self._account_name\r\n",
    "\r\n",
    "    def get_balance(self):\r\n",
    "        return self._balance\r\n",
    "        \r\n",
    "    def set_balance(self,new_balance):\r\n",
    "        if new_balance<0 :\r\n",
    "            print(\"balance phải lớn hơn hoặc bằng 0\")\r\n",
    "        else :\r\n",
    "            self._balance=new_balance\r\n",
    "    def set_account_number(self,account_number):\r\n",
    "        self._account_number=account_number\r\n",
    "    \r\n",
    "    def display(self):        \r\n",
    "        print(\"account_name_number_balance:\",self.get_account_name(),self.get_account_number(),self.get_balance())\r\n",
    "        \r\n",
    "    #Rút tiền ra khỏi tài khoản\r\n",
    "    #`amount` phải lớn hơn `0` và nhỏ hơn `balance`\r\n",
    "    def withdraw(self,amount):\r\n",
    "        if amount<=0 or (amount>=self.get_balance()):\r\n",
    "            print(\"So tien rui ra phai >0 va < balance\")           \r\n",
    "        else :\r\n",
    "            a = self.get_balance() - amount\r\n",
    "            self.set_balance(a)          \r\n",
    "    \r\n",
    "    #Nap tiền, so tien nap vao phai >0\r\n",
    "    def deposit(self,amount):\r\n",
    "        if amount<=0:\r\n",
    "            print(\"So tien nap vao phai >0\")\r\n",
    "        else:\r\n",
    "            b = self.get_balance() + amount\r\n",
    "            self.set_balance(b)        \r\n",
    "\r\n",
    "yenlt6=BankAccount(1111111,\"Le Thi Yen\", 15_000_000)\r\n",
    "yenlt6.display()\r\n",
    "yenlt6.withdraw(5000)\r\n",
    "yenlt6.display()\r\n",
    "yenlt6.deposit(1000_000_000_000)\r\n",
    "yenlt6.display()"
   ],
   "outputs": [
    {
     "output_type": "stream",
     "name": "stdout",
     "text": [
      "account_name_number_balance: Le Thi Yen 1111111 15000000\n",
      "account_name_number_balance: Le Thi Yen 1111111 14995000\n",
      "account_name_number_balance: Le Thi Yen 1111111 1000014995000\n"
     ]
    }
   ],
   "metadata": {}
  }
 ],
 "metadata": {
  "orig_nbformat": 4,
  "language_info": {
   "name": "python",
   "version": "3.7.6",
   "mimetype": "text/x-python",
   "codemirror_mode": {
    "name": "ipython",
    "version": 3
   },
   "pygments_lexer": "ipython3",
   "nbconvert_exporter": "python",
   "file_extension": ".py"
  },
  "kernelspec": {
   "name": "python3",
   "display_name": "Python 3.7.6 64-bit"
  },
  "interpreter": {
   "hash": "04635d289a519a1410467dd0afb0db42f9184808881ca68b2eb5a687a20a5a94"
  }
 },
 "nbformat": 4,
 "nbformat_minor": 2
}