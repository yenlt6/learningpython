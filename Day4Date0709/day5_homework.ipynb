{
 "cells": [
  {
   "cell_type": "code",
   "execution_count": null,
   "source": [
    "'''\r\n",
    "Hãy vào đường link dưới đây để tải về file .py có viết sẵn khung code và yêu cầu cho bài tập này.\r\n",
    "Có 2 file text là sample input. Bài này sẽ cần dùng 1 chút kiến thức về việc open 1 file. Bạn có thể xem ở notebook buổi sau ở đây hoặc tìm tài liệu trên mạng.\r\n",
    "\r\n",
    "2 Câu lệnh ví dụ sau dùng để chạy chương trình khi bạn đã code xong.\r\n",
    "\r\n",
    "python wordcount.py --count small.txt\r\n",
    "python wordcount.py --topcount small.txt'''\r\n"
   ],
   "outputs": [],
   "metadata": {}
  },
  {
   "cell_type": "code",
   "execution_count": 3,
   "source": [
    "'''\r\n",
    "Điểm thi học kỳ của sinh viên được lưu ở định dạng 1 tuple có 3 phần tử (m1, m2, e) gồm:\r\n",
    "m1 = midterm1\r\n",
    "m2 = midterm2\r\n",
    "e = endterm\r\n",
    "Cho một list gồm danh sách điểm thi của sinh viên 1 lớp. Viết chương trình Python để sắp xếp danh sách trước theo thứ tự tăng dần theo phần tử cuối cùng trong mỗi tuple (sắp xếp theo điểm cuối kỳ - endterm tăng dần).\r\n",
    "vd sort_list_last([(1, 2, 5), (9, 1, 2), (6, 4, 4), (3, 2, 3), (10, 2, 1)]) == [(10, 2, 1), (9, 1, 2), (3, 2, 3), (6, 4, 4), (1, 2, 5)]\r\n",
    "'''\r\n",
    "\r\n",
    "def sortedByEndtTerm(list_vlue):\r\n",
    "    return sorted(list_vlue,key=lambda x: x[::-1])\r\n",
    "\r\n",
    "list_1=[(1, 2, 5), (9, 1, 2), (6, 4, 4), (3, 2, 3), (10, 2, 1)]\r\n",
    "print(\"Sắp xếp danh sách trước theo thứ tự tăng dần theo phần tử cuối cùng trong mỗi tuple (sắp xếp theo điểm cuối kỳ - endterm tăng dần):\")\r\n",
    "print(sortedByEndtTerm(list_1))\r\n"
   ],
   "outputs": [
    {
     "output_type": "stream",
     "name": "stdout",
     "text": [
      "Sắp xếp danh sách trước theo thứ tự tăng dần theo phần tử cuối cùng trong mỗi tuple (sắp xếp theo điểm cuối kỳ - endterm tăng dần):\n",
      "[(10, 2, 1), (9, 1, 2), (3, 2, 3), (6, 4, 4), (1, 2, 5)]\n"
     ]
    }
   ],
   "metadata": {}
  },
  {
   "cell_type": "code",
   "execution_count": 59,
   "source": [
    "''' ==== Bai 2 =======\r\n",
    "Cho 1 chuỗi A (vd: \"tHE fOX iS cOMING fOR tHE cHICKEN\"). \r\n",
    "Viết hàm đảo ngược thứ tự các từ trong chuỗi và đổi tất cả các chữ cái từ hoa thành thường và ngược lại. \r\n",
    "(kết quả là \"Chicken The For Coming Is Fox The\")'''\r\n",
    "\r\n",
    "s=\"tHE fOX iS cOMING fOR tHE cHICKEN\"\r\n",
    "def reverseString(s):\r\n",
    "    list_s=[]\r\n",
    "    for i in range(0,len(s)):\r\n",
    "        list_s.append(s[i])\r\n",
    "    for j in range(0,len(list_s)):\r\n",
    "        if list_s[j].isupper():\r\n",
    "            list_s[j]=list_s[j].lower()\r\n",
    "        elif list_s[j].islower():\r\n",
    "            list_s[j]=list_s[j].upper()\r\n",
    "    print(\"Biến chuỗi đã cho thành list, và đổi chữ hoa thành thường, thường thành hoa\",list_s)\r\n",
    "    list_3=''.join(list_s)\r\n",
    "    print(\"Biến thành một chuỗi với các từ:\", list_3)    \r\n",
    "    list_4=list_3.split(\" \");\r\n",
    "    list_5=list_4[::-1]\r\n",
    "    s_3=' '.join(list_5)\r\n",
    "    return s_3\r\n",
    "\r\n",
    "print(\"Sau khi dao chuoi:\",reverseString(s))\r\n",
    "\r\n",
    "\r\n",
    "\r\n",
    "\r\n"
   ],
   "outputs": [
    {
     "output_type": "stream",
     "name": "stdout",
     "text": [
      "Biến chuỗi đã cho thành list, và đổi chữ hoa thành thường, thường thành hoa ['T', 'h', 'e', ' ', 'F', 'o', 'x', ' ', 'I', 's', ' ', 'C', 'o', 'm', 'i', 'n', 'g', ' ', 'F', 'o', 'r', ' ', 'T', 'h', 'e', ' ', 'C', 'h', 'i', 'c', 'k', 'e', 'n']\n",
      "Biến thành một chuỗi với các từ: The Fox Is Coming For The Chicken\n",
      "sau khi dao chuoi: Chicken The For Coming Is Fox The\n"
     ]
    }
   ],
   "metadata": {}
  }
 ],
 "metadata": {
  "orig_nbformat": 4,
  "language_info": {
   "name": "python",
   "version": "3.7.6",
   "mimetype": "text/x-python",
   "codemirror_mode": {
    "name": "ipython",
    "version": 3
   },
   "pygments_lexer": "ipython3",
   "nbconvert_exporter": "python",
   "file_extension": ".py"
  },
  "kernelspec": {
   "name": "python3",
   "display_name": "Python 3.7.6 64-bit"
  },
  "interpreter": {
   "hash": "04635d289a519a1410467dd0afb0db42f9184808881ca68b2eb5a687a20a5a94"
  }
 },
 "nbformat": 4,
 "nbformat_minor": 2
}