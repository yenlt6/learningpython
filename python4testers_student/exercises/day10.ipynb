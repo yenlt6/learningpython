{
 "cells": [
  {
   "cell_type": "code",
   "execution_count": null,
   "source": [
    "# Remove special symbols/Punctuation from a given string\r\n",
    "import re\r\n",
    "\r\n",
    "str1 = \"/*Jon is @developer & musician\"\r\n",
    "print(\"Original string is \", str1)\r\n",
    "\r\n",
    "str2 = re.sub(r'[^\\w\\s]', '', str1)\r\n",
    "print(\"New string is \", str2)"
   ],
   "outputs": [],
   "metadata": {}
  }
 ],
 "metadata": {
  "orig_nbformat": 4,
  "language_info": {
   "name": "python"
  }
 },
 "nbformat": 4,
 "nbformat_minor": 2
}