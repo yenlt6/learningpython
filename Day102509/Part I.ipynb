{
 "cells": [
  {
   "cell_type": "markdown",
   "metadata": {
    "tags": []
   },
   "source": [
    "# Python - Lập trình hướng đối tượng"
   ]
  },
  {
   "cell_type": "markdown",
   "metadata": {
    "tags": []
   },
   "source": [
    "## Khai báo class\n",
    "\n",
    "Khai báo một class mới với từ khóa `class`. Theo quy ước, tên class có dạng UpperCamelCase (ký tự đầu tiên của mỗi từ được viết hoa). Khi khai báo, một Class Object mới được tạo.\n",
    "\n",
    "💡 Khai báo Class xác định một kiểu dữ liệu tùy chỉnh"
   ]
  },
  {
   "cell_type": "code",
   "execution_count": 5,
   "metadata": {},
   "outputs": [
    {
     "name": "stdout",
     "output_type": "stream",
     "text": [
      "2120055267592\n",
      "Lớp mô tả cho các con mèo\n",
      "<class '__main__.Cat'>\n",
      "<class 'int'>\n"
     ]
    }
   ],
   "source": [
    "class Cat:\n",
    "    \"\"\"Lớp mô tả cho các con mèo\"\"\"\n",
    "    pass\n",
    "\n",
    "print(id(Cat))\n",
    "print(Cat.__doc__)\n",
    "print(Cat)\n",
    "\n",
    "# Tương tự như những kiểu được định nghĩa sẵn\n",
    "print(int)"
   ]
  },
  {
   "cell_type": "markdown",
   "metadata": {
    "tags": []
   },
   "source": [
    "## Khởi tạo instance object\n",
    "\n",
    "Từ class, chúng ta có thể tạo ra các objects, object là một thể hiện (instance) của class"
   ]
  },
  {
   "cell_type": "code",
   "execution_count": 6,
   "metadata": {},
   "outputs": [
    {
     "name": "stdout",
     "output_type": "stream",
     "text": [
      "2120067904584 2120067220552\n",
      "\n",
      "<__main__.Cat object at 0x000001ED9DE4F448>\n",
      "<class '__main__.Cat'>\n",
      "True\n"
     ]
    }
   ],
   "source": [
    "# Tạo ra 2 con mèo\n",
    "lucy = Cat()\n",
    "kitty = Cat()\n",
    "\n",
    "print(id(lucy), id(kitty))\n",
    "\n",
    "print()\n",
    "print(lucy)\n",
    "print(type(lucy))\n",
    "\n",
    "# Kiểm tra một object có phải instance của class cụ thể hay không\n",
    "print(isinstance(lucy, Cat))"
   ]
  },
  {
   "cell_type": "markdown",
   "metadata": {},
   "source": [
    "## Khai báo phương thức\n",
    "\n",
    "Khai báo một phương thức trong class tương tự như khai báo hàm thông thường, ngoại trừ việc nó có một tham số bắt buộc `self`. Các phương thức sẽ được chia sẻ chung bởi các đối tượng được tạo từ class"
   ]
  },
  {
   "cell_type": "code",
   "execution_count": 7,
   "metadata": {},
   "outputs": [],
   "source": [
    "class Cat:\n",
    "    \"\"\"Lớp mô tả cho các con mèo\"\"\"\n",
    "\n",
    "    def run(self):\n",
    "        print(\"Running\")\n",
    "\n",
    "    def meow(self):\n",
    "        print(\"Meow meow\")\n",
    "\n",
    "    def eat(self):\n",
    "        print(\"Eating\")\n",
    "\n",
    "    def sleep(self):\n",
    "        print(\"Sleeping\")"
   ]
  },
  {
   "cell_type": "markdown",
   "metadata": {},
   "source": [
    "## Gọi phương thức\n",
    "\n",
    "Để gọi phương thức trên một đối tượng cụ thể, sử dụng cú pháp `object_name.method_name()`"
   ]
  },
  {
   "cell_type": "code",
   "execution_count": 8,
   "metadata": {},
   "outputs": [
    {
     "name": "stdout",
     "output_type": "stream",
     "text": [
      "Meow meow\n",
      "Running\n",
      "Meow meow\n",
      "Running\n"
     ]
    }
   ],
   "source": [
    "lucy = Cat()\n",
    "kitty = Cat()\n",
    "\n",
    "# Phương thức được chia sẻ chung giữa các đối tượng\n",
    "lucy.meow()\n",
    "lucy.run()\n",
    "\n",
    "kitty.meow()\n",
    "kitty.run()"
   ]
  },
  {
   "cell_type": "markdown",
   "metadata": {},
   "source": [
    "## Tham số Self\n",
    "\n",
    "Khi khai báo các phương thức cho một lớp, bắt buộc phải có tham số `self` (theo quy ước, có thể sử dụng tên khác ví dụ `this`), mặc dù vậy khi gọi phương thức, chúng ta không cần truyền giá trị cho nó. Python sẽ tự xác định giá trị cho `self`, chính là đối tượng gọi phương thức"
   ]
  },
  {
   "cell_type": "code",
   "execution_count": 4,
   "metadata": {},
   "outputs": [
    {
     "name": "stdout",
     "output_type": "stream",
     "text": [
      "<__main__.Cat object at 0x000001FE87AC83C8> Meow meow\n",
      "<__main__.Cat object at 0x000001FE879FA1C8> Meow meow\n",
      "<__main__.Cat object at 0x000001FE87AC83C8> Meow meow\n",
      "<__main__.Cat object at 0x000001FE879FA1C8> Meow meow\n"
     ]
    }
   ],
   "source": [
    "class Cat:\n",
    "    \"\"\"Lớp mô tả cho các con mèo\"\"\"\n",
    "    def meow(self):\n",
    "        print(self, \"Meow meow\")\n",
    "\n",
    "lucy = Cat()\n",
    "kitty = Cat()\n",
    "\n",
    "lucy.meow() # self = lucy\n",
    "kitty.meow() # self = kitty\n",
    "\n",
    "# Tương tự với cách gọi này\n",
    "Cat.meow(lucy) # self = lucy\n",
    "Cat.meow(kitty) # self = kitty"
   ]
  },
  {
   "cell_type": "markdown",
   "metadata": {},
   "source": [
    "## Instance variables\n",
    "\n",
    "Instance variables - thuộc tính là các giá trị riêng của mỗi object, có thể khai báo và gán giá trị giống như một biến thông thường, cú pháp `object.property_name = value`"
   ]
  },
  {
   "cell_type": "code",
   "execution_count": 8,
   "metadata": {},
   "outputs": [
    {
     "name": "stdout",
     "output_type": "stream",
     "text": [
      "Lucyaaaa\n",
      "Whitedddd\n"
     ]
    },
    {
     "ename": "AttributeError",
     "evalue": "'Cat' object has no attribute 'name'",
     "output_type": "error",
     "traceback": [
      "\u001b[1;31m---------------------------------------------------------------------------\u001b[0m",
      "\u001b[1;31mAttributeError\u001b[0m                            Traceback (most recent call last)",
      "\u001b[1;32m~\\AppData\\Local\\Temp/ipykernel_13344/986748335.py\u001b[0m in \u001b[0;36m<module>\u001b[1;34m\u001b[0m\n\u001b[0;32m      7\u001b[0m \u001b[0mprint\u001b[0m\u001b[1;33m(\u001b[0m\u001b[0mlucy\u001b[0m\u001b[1;33m.\u001b[0m\u001b[0mcolor\u001b[0m\u001b[1;33m)\u001b[0m\u001b[1;33m\u001b[0m\u001b[1;33m\u001b[0m\u001b[0m\n\u001b[0;32m      8\u001b[0m \u001b[1;33m\u001b[0m\u001b[0m\n\u001b[1;32m----> 9\u001b[1;33m \u001b[0mprint\u001b[0m\u001b[1;33m(\u001b[0m\u001b[0mkitty\u001b[0m\u001b[1;33m.\u001b[0m\u001b[0mname\u001b[0m\u001b[1;33m)\u001b[0m \u001b[1;31m# Error\u001b[0m\u001b[1;33m\u001b[0m\u001b[1;33m\u001b[0m\u001b[0m\n\u001b[0m",
      "\u001b[1;31mAttributeError\u001b[0m: 'Cat' object has no attribute 'name'"
     ]
    }
   ],
   "source": [
    "lucy.breed = \"Persian\"\n",
    "lucy.name = \"Lucyaaaa\"\n",
    "lucy.age = 2\n",
    "lucy.color = \"Whitedddd\"\n",
    "\n",
    "print(lucy.name)\n",
    "print(lucy.color)\n",
    "\n",
    "print(kitty.name) # Error"
   ]
  },
  {
   "cell_type": "markdown",
   "metadata": {},
   "source": [
    "## Truy cập thuộc tính trong phương thức\n",
    "\n",
    "Các phương thức có thể truy cập đến thuộc tính bên trong đối tượng thông qua `self`, cú pháp `self.property_name`"
   ]
  },
  {
   "cell_type": "code",
   "execution_count": 13,
   "metadata": {},
   "outputs": [
    {
     "name": "stdout",
     "output_type": "stream",
     "text": [
      "Lucy is eating\n",
      "Kitty is eating\n"
     ]
    }
   ],
   "source": [
    "class Cat:\n",
    "    def eat(self):\n",
    "        print(self.name, \"is eating\")\n",
    "\n",
    "lucy = Cat()\n",
    "kitty = Cat()\n",
    "\n",
    "lucy.name = \"Lucy\"\n",
    "kitty.name = \"Kitty\"\n",
    " \n",
    "lucy.eat() # self = lucy => self.name = lucy.name\n",
    "kitty.eat() # self = kitty => self.name = kitty.name"
   ]
  },
  {
   "cell_type": "markdown",
   "metadata": {},
   "source": [
    "Ngoài ra, một phương thức cũng có thể được dùng để khai báo một thuộc tính hay gọi đến phương thức khác của chính đối tượng cũng thông qua `self`"
   ]
  },
  {
   "cell_type": "code",
   "execution_count": 9,
   "metadata": {},
   "outputs": [
    {
     "name": "stdout",
     "output_type": "stream",
     "text": [
      "Woof woof\n",
      "Milo is running\n"
     ]
    }
   ],
   "source": [
    "class Dog:\n",
    "    def set_details(self, name):\n",
    "        self.name = name\n",
    "\n",
    "    def bark(self):\n",
    "        print(\"Woof woof\")\n",
    "\n",
    "    def run(self):\n",
    "        self.bark()\n",
    "        print(self.name, \"is running\")\n",
    "\n",
    "milo = Dog()\n",
    "milo.set_details(\"Milo\") # self = milo => self.name = milo.name\n",
    "milo.run() # self = milo => self.bark() = milo.bark()"
   ]
  },
  {
   "cell_type": "markdown",
   "metadata": {},
   "source": [
    "### Exercise\n",
    "\n",
    "Khai báo một class BankAccount đại diện cho một tài khoản ngân hàng, có 4 phương thức:\n",
    "- `set_details(account_number, account_name, balance)`: tạo 3 instance variable tương ứng (mặc định `balance = 0`)\n",
    "- `display()`: Hiển thị thông tin tài khoản\n",
    "- `withdraw(amount)` và `deposit(amount)`: thực hiện trừ tiền và nạp tiền với giá trị `amount` tương ứng\n",
    "\n",
    "💡 Chú ý tham số"
   ]
  },
  {
   "cell_type": "code",
   "execution_count": 13,
   "metadata": {},
   "outputs": [
    {
     "name": "stdout",
     "output_type": "stream",
     "text": [
      "account_name_number_balance: Le Thi Yen 1111111 15000000\n",
      "account_name_number_balance: Le Thi Yen 1111111 14995000\n",
      "account_name_number_balance: Le Thi Yen 1111111 14998000\n"
     ]
    }
   ],
   "source": [
    "class BankAccount:\n",
    "    def __init__(self,account_number, account_name, balance=0):\n",
    "        self.account_number=account_number\n",
    "        self.account_name=account_name\n",
    "        self.balance=balance\n",
    "    \n",
    "    def display(self):        \n",
    "        print(\"account_name_number_balance:\",self.account_name,self.account_number,self.balance)\n",
    "        \n",
    "    \n",
    "    \n",
    "    #Rút tiền ra khỏi tài khoản\n",
    "    def withdraw(self,amount):\n",
    "        self.balance -= amount\n",
    "    \n",
    "    #Nap tiền\n",
    "    def deposit(self,amount):\n",
    "        self.balance += amount\n",
    "\n",
    "yenlt6=BankAccount(1111111,\"Le Thi Yen\", 15_000_000)\n",
    "# yenlt6.set_details(1111111,\"Le Thi Yen\", 15_000_000)\n",
    "yenlt6.display()\n",
    "yenlt6.withdraw(5000)\n",
    "yenlt6.display()\n",
    "yenlt6.deposit(3_000)\n",
    "yenlt6.display()"
   ]
  },
  {
   "cell_type": "markdown",
   "metadata": {},
   "source": [
    "## Hàm khởi tạo\n",
    "\n",
    "Thay vì khai báo thuộc tính sau khi khởi tạo đối tượng, có thể khai báo một phương thức đặc biệt **`__init__()`** - được gọi là hàm khởi tạo\n",
    "\n",
    "Phương thức **`__init__()`** sẽ được gọi ngay sau khi đối tượng được khởi tạo, thông thường nó sẽ có nhiệm vụ khai báo instance variables.\n",
    "\n",
    "Các đối số cho **`__init__()`** được truyền ngay trong cú pháp khởi tạo đối tượng"
   ]
  },
  {
   "cell_type": "code",
   "execution_count": 14,
   "metadata": {},
   "outputs": [
    {
     "name": "stdout",
     "output_type": "stream",
     "text": [
      "Milo woof woof\n"
     ]
    }
   ],
   "source": [
    "class Dog:\n",
    "    def __init__(self, breed, gender, name, age, color):\n",
    "        self.breed = breed\n",
    "        self.gender = gender\n",
    "        self.name = name\n",
    "        self.age = age\n",
    "        self.color = color\n",
    "    \n",
    "    def bark(self):\n",
    "        print(self.name, \"woof woof\")\n",
    "        \n",
    "\n",
    "milo = Dog(\"Corgi\", \"Male\", \"Milo\", 1, \"Brown\")\n",
    "\n",
    "milo.bark()"
   ]
  },
  {
   "cell_type": "markdown",
   "metadata": {},
   "source": [
    "### Exercise\n",
    "\n",
    "Chuyển đổi phương thức `set_details()` của class `BankAccount` thành `__init__()`"
   ]
  },
  {
   "cell_type": "markdown",
   "metadata": {},
   "source": [
    "## Data hiding\n",
    "\n",
    "Mã bên ngoài không được phép truy cập trực tiếp tới các thuộc tính hay phương thức private"
   ]
  },
  {
   "cell_type": "code",
   "execution_count": 15,
   "metadata": {},
   "outputs": [
    {
     "name": "stdout",
     "output_type": "stream",
     "text": [
      "888\n",
      "None\n",
      "999\n",
      "None\n"
     ]
    }
   ],
   "source": [
    "class Product:\n",
    "    def __init__(self, cost, price):\n",
    "        self._cost = cost               # Private\n",
    "        self.price = price              # Public\n",
    "\n",
    "    def _profit(self):                   # Private\n",
    "        pass\n",
    "\n",
    "    def order(self):                    # Public\n",
    "        pass\n",
    "\n",
    "ip = Product(888, 999)\n",
    "\n",
    "# Các thuộc tính và phương thức này vẫn có thể truy cập trực tiếp\n",
    "print(ip._cost)\n",
    "print(ip._profit())\n",
    "\n",
    "print(ip.price)\n",
    "print(ip.order())"
   ]
  },
  {
   "cell_type": "markdown",
   "metadata": {},
   "source": [
    "💡 Ngoài ra, còn một số quy ước đặt tên khác sử dụng dấu _"
   ]
  },
  {
   "cell_type": "code",
   "execution_count": null,
   "metadata": {},
   "outputs": [],
   "source": [
    "class Product:\n",
    "    def __init__(self, cost):\n",
    "        self.__cost = cost              # Sử dụng 2 dấu gạch trước tên để tránh xung đột\n",
    "        # __cost => _Product__cost      # với các thuộc tính của lớp con\n",
    "\n",
    "class_ = \"abc\"                          # Sử dụng 1 dấu gạch ở sau tên để tránh xung đột\n",
    "list_ = 123                             # với built-in type"
   ]
  },
  {
   "cell_type": "markdown",
   "metadata": {},
   "source": [
    "## Getter/Setter\n",
    "\n",
    "Khi sử dụng thuộc tính ẩn, chúng ta cần hạn chế truy cập trực tiếp đến nó. Thay vào đó, triển khai các phương thức để truy cập như getter (để đọc giá trị) và setter (để đặt giá trị) cho thuộc tính.\n",
    "\n",
    "Getter/setter hữu ích trong việc kiểm soát quyền truy cập và xác thực dữ liệu trước khi thay đổi một giá trị,  cho phép biến một thuộc tính thành dạng chỉ đọc (chỉ triển khai getter) hay chỉ ghi (chỉ triển khai setter)"
   ]
  },
  {
   "cell_type": "code",
   "execution_count": 31,
   "metadata": {},
   "outputs": [
    {
     "name": "stdout",
     "output_type": "stream",
     "text": [
      "{'_name': 'Ba', '_age': 12}\n",
      "Ba - 12\n"
     ]
    }
   ],
   "source": [
    "class Person:\n",
    "    def __init__(self, name, age):\n",
    "        self._name = name\n",
    "        self.set_age(age)\n",
    "\n",
    "    def get_name(self):\n",
    "        return self._name\n",
    "\n",
    "    def get_age(self):\n",
    "        return self._age\n",
    "\n",
    "    def set_age(self, new_age):\n",
    "        if 0 < new_age < 100:\n",
    "            self._age = new_age\n",
    "        else:\n",
    "            print(\"Tuổi không hợp lệ\")\n",
    "    \n",
    "    def display(self):\n",
    "        print(f\"{self.get_name()} - {self.get_age()}\")\n",
    "\n",
    "ba = Person(\"Ba\", 12)\n",
    "print(ba.__dict__)\n",
    "ba.display()"
   ]
  },
  {
   "cell_type": "markdown",
   "metadata": {},
   "source": [
    "### Exercise\n",
    "\n",
    "Thay đổi các thuộc tính `account_number`, `account_name`, `balance` trong class `BankAccount` thành thuộc tính ẩn, và triển khai thêm các phương thức:\n",
    "\n",
    "- `get_account_number()`\n",
    "- `get_account_name()`\n",
    "- `get_balance()`\n",
    "- `set_balance()` - `balance` phải lớn hơn hoặc bằng `0`\n",
    "\n",
    "Thay đổi các phương thức `display()`, `withdraw()` và `deposit()` sử dụng các phương thức getter và setter trên.\n",
    "\n",
    "Chú ý:\n",
    "\n",
    "- Với `withdraw()`, `amount` phải lớn hơn `0` và nhỏ hơn `balance` ( rut tien)\n",
    "- Với `deposit()`, `amount` phải lớn hơn `0` ( nap tien)\n",
    "\n",
    "Nếu giá trị không phù hợp thì thông báo ra `console`"
   ]
  },
  {
   "cell_type": "code",
   "execution_count": 30,
   "metadata": {},
   "outputs": [
    {
     "name": "stdout",
     "output_type": "stream",
     "text": [
      "account_name_number_balance: Le Thi Yen 1111111 15000000\n",
      "account_name_number_balance: Le Thi Yen 1111111 14995000\n",
      "account_name_number_balance: Le Thi Yen 1111111 1000014995000\n"
     ]
    }
   ],
   "source": [
    "class BankAccount:\n",
    "    def __init__(self,account_number, account_name, balance=0):\n",
    "        self.set_account_number(account_number)\n",
    "        self._account_name=account_name\n",
    "        self.set_balance(balance)\n",
    "\n",
    "    def get_account_number(self):\n",
    "        return self._account_number\n",
    "\n",
    "    def get_account_name(self):\n",
    "        return self._account_name\n",
    "\n",
    "    def get_balance(self):\n",
    "        return self._balance\n",
    "        \n",
    "    def set_balance(self,new_balance):\n",
    "        if new_balance<0 :\n",
    "            print(\"balance phải lớn hơn hoặc bằng 0\")\n",
    "        else :\n",
    "            self._balance=new_balance\n",
    "    def set_account_number(self,account_number):\n",
    "        self._account_number=account_number\n",
    "    \n",
    "    def display(self):        \n",
    "        print(\"account_name_number_balance:\",self.get_account_name(),self.get_account_number(),self.get_balance())\n",
    "      \n",
    "    \n",
    "    \n",
    "    #Rút tiền ra khỏi tài khoản\n",
    "    #`amount` phải lớn hơn `0` và nhỏ hơn `balance`\n",
    "    def withdraw(self,amount):\n",
    "        if amount<=0 or (amount>=self.get_balance()):\n",
    "            print(\"So tien rui ra phai >0 va < balance\")           \n",
    "        else :\n",
    "            a = self.get_balance() - amount\n",
    "            self.set_balance(a) \n",
    "           \n",
    "    \n",
    "    #Nap tiền, so tien nap vao phai >0\n",
    "    def deposit(self,amount):\n",
    "        if amount<=0:\n",
    "            print(\"So tien nap vao phai >0\")\n",
    "        else:\n",
    "            b = self.get_balance() + amount\n",
    "            self.set_balance(b)\n",
    "        \n",
    "\n",
    "yenlt6=BankAccount(1111111,\"Le Thi Yen\", 15_000_000)\n",
    "# yenlt6.set_details(1111111,\"Le Thi Yen\", 15_000_000)\n",
    "yenlt6.display()\n",
    "yenlt6.withdraw(5000)\n",
    "yenlt6.display()\n",
    "yenlt6.deposit(1000_000_000_000)\n",
    "yenlt6.display()"
   ]
  },
  {
   "cell_type": "markdown",
   "metadata": {},
   "source": [
    "## @property\n",
    "\n",
    "Getter/setter phổ biến ở trong các ngôn ngữ khác như Java, tuy nhiên, Python hỗ trợ một cú pháp đơn giản gọn gàng hơn sử dụng **`@property`**\n",
    "\n",
    "💡 **`@property`** được gọi là **decorator**, đây là một khái niệm nâng cao (Higher-Order Function). Có nhiều decorator khác nhau có sẵn, hoặc cũng có thể tự định nghĩa decorator.\n",
    "\n",
    "Trong trường hợp này hiểu đơn giản decorator giống như thẻ đánh dấu HTML, nó đánh dấu một phương thức và coi nó giống như một thuộc tính thông thường"
   ]
  },
  {
   "cell_type": "code",
   "execution_count": null,
   "metadata": {},
   "outputs": [],
   "source": [
    "class Person:\n",
    "    def __init__(self, name, age):\n",
    "        self._name = name\n",
    "        self._age = age\n",
    "\n",
    "    @property                       # Getter\n",
    "    def name(self):                 # Khai báo thuộc tính name\n",
    "        return self._name\n",
    "\n",
    "    @property                       # Setter\n",
    "    def age(self):                  # Khai báo thuộc tính age\n",
    "        return self._age\n",
    "\n",
    "    @age.setter\n",
    "    def age(self, new_age):         # Khai báo setter cho age\n",
    "        if 0 < new_age < 100:\n",
    "            self._age = new_age\n",
    "        else:\n",
    "            print(\"Tuổi không hợp lệ\")\n",
    "\n",
    "    @age.deleter                    # Khai báo deleter\n",
    "    def age(self):                  # Deleter được gọi khi muốn xóa thuộc tính\n",
    "        print(\"Xóa thuộc tính _age\")\n",
    "\n",
    "    def display(self):\n",
    "        print(f\"{self.name} - {self.age}\")  # Truy cập giống như thuộc tính thông thường\n",
    "\n",
    "\n",
    "ba = Person(\"Ba\", 29)\n",
    "ba.display()\n",
    "\n",
    "print(ba.name)      # Gọi getter\n",
    "\n",
    "ba.age = 30         # Gọi setter, new_age = 30\n",
    "print(ba.age)\n",
    "\n",
    "del ba.age\n",
    "print(ba.age)\n",
    "\n",
    "ba.name = \"Béo\"     # Error, không có setter"
   ]
  },
  {
   "cell_type": "code",
   "execution_count": null,
   "metadata": {},
   "outputs": [],
   "source": [
    "class BankAccount:\n",
    "    def __init__(self,account_number, account_name, balance=0):\n",
    "        self.account_number=account_number\n",
    "        self.account_name=account_name\n",
    "        self.balance=balance\n",
    "    \n",
    "    @property                       \n",
    "    def account_number(self):               \n",
    "        return self.account_number\n",
    "\n",
    "    @property                       \n",
    "    def account_name(self):               \n",
    "        return self.account_name\n",
    "\n",
    "    @property                       \n",
    "    def balance(self):               \n",
    "        return self.balance\n",
    "\n",
    "\n",
    "    def display(self):\n",
    "        print(\"Thông tin tài khoản ngân hàng, tên tài khoản, số tài khoản, số dư:\")\n",
    "        print(\"account_name:\",self.account_name)\n",
    "        print(\"account_name:\",self.account_number)\n",
    "        print(\"account_name:\",self.balance)\n",
    "    \n",
    "    \n",
    "    #Rút tiền ra khỏi tài khoản\n",
    "    def withdraw(self,amount):\n",
    "        self.balance -= amount\n",
    "    \n",
    "    #Nap tiền\n",
    "    def deposit(self,amount):\n",
    "        self.balance += amount\n",
    "\n",
    "yenlt6=BankAccount(1111111,\"Le Thi Yen\", 15_000_000)\n",
    "# yenlt6.set_details(1111111,\"Le Thi Yen\", 15_000_000)\n",
    "yenlt6.display()\n",
    "yenlt6.withdraw(5000)\n",
    "yenlt6.display()\n",
    "yenlt6.deposit(3_000)\n",
    "yenlt6.display()"
   ]
  },
  {
   "cell_type": "markdown",
   "metadata": {},
   "source": [
    "Một ví dụ khác hữu ích của **`@property`** là khai báo các thuộc tính với giá trị được tính toán dựa trên những giá trị khác, tự động cập nhật khi các giá trị phụ thuộc thay đổi, đồng thời không cho phép người dùng tùy chỉnh giá trị này"
   ]
  },
  {
   "cell_type": "code",
   "execution_count": 2,
   "metadata": {},
   "outputs": [
    {
     "name": "stdout",
     "output_type": "stream",
     "text": [
      "5.385164807134504\n",
      "7.0710678118654755\n"
     ]
    }
   ],
   "source": [
    "class Rectangle:\n",
    "    def __init__(self, length, breadth):\n",
    "        self.length = length\n",
    "        self.breadth = breadth\n",
    "\n",
    "    @property\n",
    "    def diagonal(self):\n",
    "        return (self.length ** 2 + self.breadth ** 2) ** 0.5\n",
    "\n",
    "\n",
    "r = Rectangle(2, 5)\n",
    "print(r.diagonal)\n",
    "\n",
    "r.length = 5\n",
    "print(r.diagonal)"
   ]
  },
  {
   "cell_type": "markdown",
   "metadata": {},
   "source": [
    "### Exercise\n",
    "\n",
    "Thay thế getter/setter trong class `BankAccount` thành property tương ứng, chỉnh sửa các phương thức `withdraw()` và `deposit()` sử dụng property"
   ]
  }
 ],
 "metadata": {
  "interpreter": {
   "hash": "04635d289a519a1410467dd0afb0db42f9184808881ca68b2eb5a687a20a5a94"
  },
  "kernelspec": {
   "display_name": "Python 3.7.6 64-bit",
   "name": "python3"
  },
  "language_info": {
   "codemirror_mode": {
    "name": "ipython",
    "version": 3
   },
   "file_extension": ".py",
   "mimetype": "text/x-python",
   "name": "python",
   "nbconvert_exporter": "python",
   "pygments_lexer": "ipython3",
   "version": "3.7.6"
  }
 },
 "nbformat": 4,
 "nbformat_minor": 5
}
