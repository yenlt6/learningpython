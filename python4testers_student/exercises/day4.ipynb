{
 "cells": [
  {
   "cell_type": "markdown",
   "source": [
    "## 1\r\n",
    "Viết hàm có đầu vào là 1 chuỗi, trả ra số chữ cái, số ký tự viết hoa, số ký tự viết thường và số chữ số trong chuỗi đó. Giả sử đầu vào sau được cấp cho hàm:\r\n",
    "\r\n",
    "s = \"Hello World! Az129\"\r\n",
    "\r\n",
    "Hàm count_char_type(s) sẽ trả ra 1 dict {\"LETTERS\":12, \"CASE\": {\"UPPER CASE\":3, \"LOWER CASE\":9}, \"DIGITS\":3}. Lưu ý: value của key \"CASE\" là một dict có 2 keys là \"UPPER CASE\", \"LOWER CASE\".\r\n",
    "\r\n",
    "1. Viết hàm trên dùng bất kỳ hàm built in nào của python\r\n",
    "2. Viết hàm chỉ dùng 1 hàm built in duy nhất.\r\n",
    "**Gợi ý**: Bộ ký tự đơn giản in ra màn hình được còn được gọi là bộ mã ASCII (đọc là 'As key') nguyên gốc gồm 128 ký tự. Bạn có thể in ra thử với câu lệnh sau.\r\n",
    "```python\r\n",
    "ASCII = \"\".join(chr(x) for x in range(33, 128))\r\n",
    "print(ASCII)\r\n",
    "```\r\n",
    "Tài liệu tham khảo [tiếng Anh](https://www.alpharithms.com/python-ord-built-in-function-192516/). Bạn có thể tìm các tài liệu tiếng Việt các khái niệm tương tự có rất nhiều."
   ],
   "metadata": {}
  },
  {
   "cell_type": "code",
   "execution_count": null,
   "source": [
    "def count_char_type(s):\r\n",
    "    ans = {\"LETTERS\": 0, \"CASE\": {\"UPPER CASE\":0, \"LOWER CASE\":0}, \"DIGITS\":0}\r\n",
    "    for c in s:\r\n",
    "        if 48 <= ord(c) <= 57: ans[\"DIGITS\"] += 1        # c.isdigit()\r\n",
    "        elif 65 <= ord(c) <= 90 or 97 <= ord(c) <= 122:  # c.isalpha()\r\n",
    "            ans[\"LETTERS\"] += 1\r\n",
    "            if 65 <= ord(c) <= 90:                       # c.isupper()\r\n",
    "                ans[\"CASE\"][\"UPPER CASE\"]+=1\r\n",
    "            else:\r\n",
    "                ans[\"CASE\"][\"LOWER CASE\"]+=1\r\n",
    "        else:\r\n",
    "            pass\r\n",
    "    return ans\r\n",
    "\r\n",
    "count_char_type(\"Hello World! Az129\")"
   ],
   "outputs": [],
   "metadata": {}
  },
  {
   "cell_type": "code",
   "execution_count": null,
   "source": [
    "# all ASCII characters\r\n",
    "ASCII = \"\".join(chr(x) for x in range(33, 128))\r\n",
    "print(ASCII)"
   ],
   "outputs": [],
   "metadata": {}
  },
  {
   "cell_type": "markdown",
   "source": [
    "## 2\r\n",
    "Cho một list A các điểm thi (từ 0-10) của các học viên trong lớp. Viết 3 hàm tính:\r\n",
    "\r\n",
    "1. giá trị trung bình (mean) của dãy.\r\n",
    "2. trung vị (median) của dãy A. trung vị là một số đứng ở vị trí giữa trong dãy số **đã được sắp xếp theo thứ tự tăng dần**, median chia dãy số cho trước thành 2 nửa bằng nhau. Nếu độ dài của dãy số là số lẻ, thì số ở giữa là median, nếu chiều dài của dãy số là số chẵn thì median được xác định bằng cách lấy trung bình của hai số ở giữa.\r\n",
    "3. mode của dãy A. Mode là phần tử có số lần xuất hiện nhiều nhất trong dãy. Mode sẽ giúp ta trả lời câu hỏi: \"Trong lớp này, học viên đạt Điểm số nào nhiều nhất?\".\r\n",
    "**Lưu ý**: kết quả trả ra sẽ là 1 list vì mode có thể nhiều hơn 1 giá trị.\r\n",
    "\r\n",
    "Vd: \r\n",
    "* A = [7, 8, 9, 2, 10, 9, 9, 9, 9, 4, 5, 6, 1, 5, 6, 7, 8, 6, 1, 10] ==> (mean(A), median(A), mode(A)) == (6.55, 7.0, [9])\r\n",
    "* B=[4,4,5,4,5,5] thì (mean(B), median(B), mode(B)) == (4.5, 4.5, [4,5])"
   ],
   "metadata": {}
  },
  {
   "cell_type": "code",
   "execution_count": null,
   "source": [
    "def mean(A):\r\n",
    "    return sum(A)/len(A)\r\n",
    "\r\n",
    "\"\"\"finds the 'middle-most' value of v\"\"\"\r\n",
    "def median(v):\r\n",
    "    n = len(v)\r\n",
    "    sorted_v = sorted(v)\r\n",
    "    midpoint = n // 2\r\n",
    "    if n % 2 == 1:\r\n",
    "        # if odd, return the middle value\r\n",
    "        return sorted_v[midpoint]\r\n",
    "    else:\r\n",
    "        # if even, return the average of the middle values\r\n",
    "        lo = midpoint - 1\r\n",
    "        hi = midpoint\r\n",
    "    return (sorted_v[lo] + sorted_v[hi]) / 2\r\n",
    "\r\n",
    "from collections import Counter\r\n",
    "\"\"\"returns a list, might be more than one mode\"\"\"\r\n",
    "def mode(x):\r\n",
    "    counts = Counter(x)\r\n",
    "    max_count = max(counts.values())\r\n",
    "    return [x_i for x_i, count in counts.items()\r\n",
    "                if count == max_count]"
   ],
   "outputs": [],
   "metadata": {}
  },
  {
   "cell_type": "markdown",
   "source": [
    "## 3\r\n",
    "Điểm thi học kỳ của sinh viên được lưu ở định dạng 1 tuple có 3 phần tử (m1, m2, e) gồm:\r\n",
    "m1 = midterm1\r\n",
    "m2 = midterm2\r\n",
    "e = endterm \r\n",
    "\r\n",
    "Cho một list gồm danh sách điểm thi của sinh viên 1 lớp. Viết chương trình Python để sắp xếp danh sách trước theo thứ tự tăng dần theo phần tử cuối cùng trong mỗi tuple (sắp xếp theo điểm cuối kỳ - endterm tăng dần)."
   ],
   "metadata": {}
  },
  {
   "cell_type": "code",
   "execution_count": null,
   "source": [
    "def sort_list_last(tuples):\r\n",
    "  def last(n): return n[-1]\r\n",
    "  return sorted(tuples, key=last)\r\n",
    "\r\n",
    "print(sort_list_last([(1, 2, 5), (9, 1, 2), (6, 4, 4), (3, 2, 3), (10, 2, 1)]))"
   ],
   "outputs": [],
   "metadata": {}
  },
  {
   "cell_type": "markdown",
   "source": [
    "## 4\r\n",
    "Cho 1 chuỗi A (vd: \"tHE fOX iS cOMING fOR tHE cHICKEN\"). Viết hàm đảo ngược thứ tự các từ trong chuỗi và đổi tất cả các chữ cái từ hoa thành thường và ngược lại. (kết quả \"Chicken The For Coming Is Fox The\")"
   ],
   "metadata": {}
  },
  {
   "cell_type": "code",
   "execution_count": null,
   "source": [
    "# Cách số 1\r\n",
    "def reverse_words_order_and_swap_cases(sentence):\r\n",
    "    result = ''\r\n",
    "    reverseWords = sentence[::-1].split(' ')\r\n",
    "    for word in reverseWords:\r\n",
    "        w = ''\r\n",
    "        for c in word:\r\n",
    "            if c.islower():\r\n",
    "                w += c.upper()\r\n",
    "            else:\r\n",
    "                w += c.lower()\r\n",
    "        result += w[::-1] + ' '\r\n",
    "\r\n",
    "    return result.strip()"
   ],
   "outputs": [],
   "metadata": {}
  },
  {
   "cell_type": "code",
   "execution_count": null,
   "source": [
    "# Cách số 2\r\n",
    "def reverse_and_swap(sentence):\r\n",
    "    result = ''\r\n",
    "    reverseWords = sentence[::-1].split(' ')\r\n",
    "    for word in reverseWords:\r\n",
    "        result += word[::-1].swapcase() + ' '\r\n",
    "    return result.strip()\r\n",
    "\r\n",
    "print(reverse_and_swap(\"tHE fOX iS cOMING fOR tHE cHICKEN\"))"
   ],
   "outputs": [],
   "metadata": {}
  },
  {
   "cell_type": "code",
   "execution_count": null,
   "source": [
    "# Cách số 3\r\n",
    "sentence = \"tHE fOX iS cOMING fOR tHE cHICKEN\"\r\n",
    "reverseWords = sentence[::-1].split(' ')\r\n",
    "' '.join(word[::-1].swapcase() for word in reverseWords)"
   ],
   "outputs": [],
   "metadata": {}
  },
  {
   "cell_type": "markdown",
   "source": [
    "Dùng list comprehension lấy ra tất cả các phụ âm trong câu"
   ],
   "metadata": {}
  },
  {
   "cell_type": "code",
   "execution_count": null,
   "source": [
    "def is_consonant(letter):\r\n",
    "    # kiểm tra xem letter có phải là chữ và không phải nguyên âm --> True\r\n",
    "    vowels = 'aeiou'\r\n",
    "    return letter.isalpha() and letter.lower() not in vowels\r\n",
    "consonants = [i for i in sentence if is_consonant(i)]"
   ],
   "outputs": [],
   "metadata": {}
  }
 ],
 "metadata": {
  "orig_nbformat": 4,
  "language_info": {
   "name": "python",
   "version": "3.9.5",
   "mimetype": "text/x-python",
   "codemirror_mode": {
    "name": "ipython",
    "version": 3
   },
   "pygments_lexer": "ipython3",
   "nbconvert_exporter": "python",
   "file_extension": ".py"
  },
  "kernelspec": {
   "name": "python3",
   "display_name": "Python 3.9.5 64-bit ('python_tester_env': venv)"
  },
  "interpreter": {
   "hash": "bd454e041cfbb879d13b54c8ad3696129392157108d388f38111cd59b6a48c26"
  }
 },
 "nbformat": 4,
 "nbformat_minor": 2
}