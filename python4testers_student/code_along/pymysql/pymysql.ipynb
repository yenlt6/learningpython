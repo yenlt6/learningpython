{
 "cells": [
  {
   "cell_type": "markdown",
   "metadata": {},
   "source": [
    "# Python vs MySQL\n",
    "\n",
    "Để truy cập MySQL từ Python cần phải có một driver\n",
    "\n",
    "Cài đặt driver\n",
    "\n",
    "`pip install PyMySQL`"
   ]
  },
  {
   "cell_type": "code",
   "execution_count": 1,
   "metadata": {},
   "outputs": [],
   "source": [
    "# Kết nối đến MySQL\n",
    "from pymysql import connect, cursors\n",
    "\n",
    "config = {\n",
    "    \"host\": \"localhost\",\n",
    "    \"user\": \"root\",\n",
    "    \"password\": \"123456\",\n",
    "    \"database\": \"demo\",\n",
    "}\n",
    "\n",
    "conn = connect(**config)\n",
    "conn.close()"
   ]
  },
  {
   "cell_type": "code",
   "execution_count": 2,
   "metadata": {},
   "outputs": [
    {
     "name": "stdout",
     "output_type": "stream",
     "text": [
      "Connected to database: demo\n"
     ]
    }
   ],
   "source": [
    "# Xử lý exception, tự đóng kết nối\n",
    "from pymysql import connect, cursors, Error\n",
    "\n",
    "config = {\n",
    "    \"host\": \"localhost\",\n",
    "    \"user\": \"root\",\n",
    "    \"password\": \"123456\",\n",
    "    \"database\": \"demo\",\n",
    "    \"cursorclass\": cursors.DictCursor\n",
    "}\n",
    "\n",
    "try:\n",
    "    with connect(**config) as conn:\n",
    "        print(\"Connected to database:\", conn.db.decode(\"UTF-8\"))\n",
    "except Error as e:\n",
    "    print(e)"
   ]
  },
  {
   "cell_type": "code",
   "execution_count": 4,
   "metadata": {},
   "outputs": [
    {
     "name": "stdout",
     "output_type": "stream",
     "text": [
      "102 Barrr 1992-05-24 ba@techmaster.vn\n"
     ]
    }
   ],
   "source": [
    "# Truy vấn dữ liệu\n",
    "def get_all_students():\n",
    "    sql = '''SELECT * FROM students'''\n",
    "\n",
    "    try:\n",
    "        with connect(**config) as conn:\n",
    "            # Cursor Object đại diện cho con trỏ trong CSDL\n",
    "            # Có nhiệm vụ tìm nạp dữ liệu, thực thi câu lệnh\n",
    "            with conn.cursor() as cur:\n",
    "                # Thực thi câu lệnh\n",
    "                cur.execute(sql)\n",
    "                \n",
    "                # Các hàm lấy dữ liệu:\n",
    "                # - fetchone() - Đọc 1 record\n",
    "                # - fetchall() - Đọc toàn bộ records\n",
    "                # - fetchmany(size) - Đọc một số records\n",
    "                return cur.fetchall()\n",
    "    except Error as e:\n",
    "        print(e)\n",
    "\n",
    "def get_student_by_id(id):\n",
    "    # SQL Injection\n",
    "    # Với các truy vấn cần chèn giá trị\n",
    "    # Sử dụng mẫu pyformat\n",
    "    sql = '''SELECT * FROM students WHERE id = %(id)s'''\n",
    "\n",
    "    try:\n",
    "        with connect(**config) as conn:\n",
    "            with conn.cursor() as cur:\n",
    "                # Truyền args cho params\n",
    "                cur.execute(sql, {'id': id})\n",
    "                return cur.fetchone()\n",
    "    except Error as e:\n",
    "        print(e)\n",
    "\n",
    "student = get_student_by_id(102)\n",
    "\n",
    "if student is not None:\n",
    "    id, name, dob, email = student.values()\n",
    "    print(id, name, dob, email)"
   ]
  },
  {
   "cell_type": "code",
   "execution_count": 5,
   "metadata": {},
   "outputs": [
    {
     "name": "stdout",
     "output_type": "stream",
     "text": [
      "102\n"
     ]
    }
   ],
   "source": [
    "# Thêm dữ liệu\n",
    "def add_student(student):\n",
    "    sql = '''\n",
    "    INSERT INTO students (name, dob, email)\n",
    "    VALUES (%(name)s, %(dob)s, %(email)s)\n",
    "    '''\n",
    "\n",
    "    try:\n",
    "        with connect(**config) as conn:\n",
    "            with conn.cursor() as cur:\n",
    "                cur.execute(sql, student)\n",
    "                conn.commit()\n",
    "                return cur.lastrowid\n",
    "    except Error as e:\n",
    "        print(e)\n",
    "\n",
    "new_student = {\n",
    "    \"name\": input(\"Name: \"),\n",
    "    \"dob\": input(\"DOB: \"),\n",
    "    \"email\": input(\"Email: \")\n",
    "}\n",
    "\n",
    "print(add_student(new_student))"
   ]
  },
  {
   "cell_type": "code",
   "execution_count": 6,
   "metadata": {},
   "outputs": [
    {
     "name": "stdout",
     "output_type": "stream",
     "text": [
      "Cập nhật thông tin học viên!\n",
      "Nhấn Enter để bỏ qua, giữ nguyên giá trị hiện tại\n",
      "True\n"
     ]
    }
   ],
   "source": [
    "# Cập nhật dữ liệu\n",
    "def update_student_info(student):\n",
    "    sql = '''\n",
    "    UPDATE students\n",
    "    SET name = %(name)s,\n",
    "        dob = %(dob)s,\n",
    "        email = %(email)s\n",
    "    WHERE id = %(id)s\n",
    "    '''\n",
    "\n",
    "    try:\n",
    "        with connect(**config) as conn:\n",
    "            with conn.cursor() as cur:\n",
    "                cur.execute(sql, student)\n",
    "\n",
    "                if cur.rowcount:\n",
    "                    conn.commit()\n",
    "                    return True\n",
    "                else:\n",
    "                    return False\n",
    "    except Error as e:\n",
    "        print(e)\n",
    "\n",
    "student = get_student_by_id(102)\n",
    "\n",
    "if student is not None:\n",
    "    print(\"Cập nhật thông tin học viên!\")\n",
    "    print(\"Nhấn Enter để bỏ qua, giữ nguyên giá trị hiện tại\")\n",
    "\n",
    "    for key in student:\n",
    "        if key == \"id\": continue\n",
    "\n",
    "        label = f\"{key[0].upper() + key[1:].lower()}: ({student[key]})\"\n",
    "        student[key] = input(label) or student[key]\n",
    "    \n",
    "    print(update_student_info(student))"
   ]
  },
  {
   "cell_type": "code",
   "execution_count": 86,
   "metadata": {},
   "outputs": [
    {
     "name": "stdout",
     "output_type": "stream",
     "text": [
      "True\n"
     ]
    }
   ],
   "source": [
    "# Xóa dữ liệu\n",
    "def delete_student_by_id(id):\n",
    "    sql = '''DELETE FROM students WHERE id = %s'''\n",
    "\n",
    "    try:\n",
    "        with connect(**config) as conn:\n",
    "            with conn.cursor() as cur:\n",
    "                cur.execute(sql, id)\n",
    "\n",
    "                if cur.rowcount:\n",
    "                    conn.commit()\n",
    "                    return True\n",
    "                else:\n",
    "                    return False\n",
    "    except Error as e:\n",
    "        print(e)\n",
    "\n",
    "print(delete_student_by_id(101))"
   ]
  }
 ],
 "metadata": {
  "interpreter": {
   "hash": "b0fa6594d8f4cbf19f97940f81e996739fb7646882a419484c72d19e05852a7e"
  },
  "kernelspec": {
   "display_name": "Python 3.9.6 64-bit",
   "name": "python3"
  },
  "language_info": {
   "codemirror_mode": {
    "name": "ipython",
    "version": 3
   },
   "file_extension": ".py",
   "mimetype": "text/x-python",
   "name": "python",
   "nbconvert_exporter": "python",
   "pygments_lexer": "ipython3",
   "version": "3.9.6"
  },
  "orig_nbformat": 4
 },
 "nbformat": 4,
 "nbformat_minor": 2
}
