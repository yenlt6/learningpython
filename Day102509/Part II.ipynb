{
 "cells": [
  {
   "cell_type": "markdown",
   "metadata": {},
   "source": [
    "# Python - Lập trình hướng đối tượng"
   ]
  },
  {
   "cell_type": "markdown",
   "metadata": {},
   "source": [
    "## Class variables (Class attributes)\n",
    "\n",
    "Class variables được khai báo bên ngoài tất cả phương thức, là dữ liệu thuộc về lớp, được chia sẻ bởi tất cả đối tượng sinh ra từ lớp đó"
   ]
  },
  {
   "cell_type": "code",
   "execution_count": 2,
   "metadata": {},
   "outputs": [
    {
     "name": "stdout",
     "output_type": "stream",
     "text": [
      "Homo Sapiens\n",
      "Homo Sapiens\n",
      "Homo Sapiens\n",
      "2\n",
      "2173510262064\n",
      "2173510262064\n"
     ]
    }
   ],
   "source": [
    "class Person:\n",
    "    species = \"Homo Sapiens\"\n",
    "    count = 0\n",
    "\n",
    "    def __init__(self, name, age):\n",
    "        self.name = name\n",
    "        self.age = age\n",
    "        Person.count += 1\n",
    "\n",
    "ba = Person(\"Ba\", 29)\n",
    "beo = Person(\"Béo\", 29)\n",
    "\n",
    "print(Person.species)\n",
    "print(ba.species)\n",
    "print(beo.species)\n",
    "\n",
    "print(Person.count)\n",
    "\n",
    "print(id(ba.species))\n",
    "print(id(beo.species))"
   ]
  },
  {
   "cell_type": "code",
   "execution_count": 11,
   "metadata": {},
   "outputs": [],
   "source": [
    "class BankAccount:\n",
    "    rate = 0.05\n",
    "    minimum_balance = 50000\n",
    "\n",
    "    def __init__(self, account_number, account_name, balance=0):\n",
    "        self._account_number = account_number\n",
    "        self._account_name = account_name\n",
    "        self._balance = balance\n",
    "\n",
    "    def display(self):\n",
    "        print(self._account_number, self._account_name, self._balance, \"₫\")\n",
    "\n",
    "    def withdraw(self, amount):\n",
    "        self._balance -= amount\n",
    "\n",
    "    def deposite(self, amount):\n",
    "        self._balance += amount\n",
    "\n",
    "\n",
    "my_account = BankAccount(1, \"Ba\", 0)"
   ]
  },
  {
   "cell_type": "markdown",
   "metadata": {},
   "source": [
    "## Class methods\n",
    "\n",
    "Tương tự class variables, class methods là các phương thức thuộc về lớp, tham số đầu tiên theo quy ước là `cls` tham chiếu đến lớp thay vì instance"
   ]
  },
  {
   "cell_type": "code",
   "execution_count": 1,
   "metadata": {},
   "outputs": [
    {
     "name": "stdout",
     "output_type": "stream",
     "text": [
      "There are 0 Homo Sapiens on earth\n",
      "There are 2 Homo Sapiens on earth\n"
     ]
    }
   ],
   "source": [
    "class Person:\n",
    "    species = \"Homo Sapiens\"\n",
    "    count = 0\n",
    "\n",
    "    def __init__(self, name):\n",
    "        self.name = name\n",
    "        Person.count += 1\n",
    "\n",
    "    @classmethod\n",
    "    def show_count(cls):\n",
    "        print(f\"There are {cls.count} {cls.species} on earth\")\n",
    "\n",
    "\n",
    "Person.show_count()\n",
    "\n",
    "adam = Person(\"Adam\")\n",
    "eva = Person(\"Eva\")\n",
    "\n",
    "Person.show_count()"
   ]
  },
  {
   "cell_type": "markdown",
   "metadata": {},
   "source": [
    "Class methods hữu ích trong việc tạo Factory methods\n",
    "\n",
    "💡 Factory methods là một design pattern để tạo ra các đối tượng (thường được gọi là sản phẩm - product) theo các cách thức cụ thể"
   ]
  },
  {
   "cell_type": "code",
   "execution_count": 6,
   "metadata": {},
   "outputs": [
    {
     "name": "stdout",
     "output_type": "stream",
     "text": [
      "Ba 29\n",
      "Béo 92\n"
     ]
    }
   ],
   "source": [
    "s = \"Ba, 29\"\n",
    "d = {\"name\": \"Béo\", \"age\": 92}\n",
    "\n",
    "class Person:\n",
    "    def __init__(self, name, age):\n",
    "        self.name = name\n",
    "        self.age = age\n",
    "\n",
    "    @classmethod\n",
    "    def from_str(cls, s):\n",
    "        name, age = s.split(\",\")\n",
    "        return cls(name, int(age))\n",
    "\n",
    "    @classmethod\n",
    "    def from_dict(cls, d):\n",
    "        return cls(**d)\n",
    "    \n",
    "    def display(self):\n",
    "        print(self.name, self.age)\n",
    "\n",
    "ba = Person.from_str(s)\n",
    "ba.display()\n",
    "\n",
    "beo = Person.from_dict(d)\n",
    "beo.display()"
   ]
  },
  {
   "cell_type": "code",
   "execution_count": 7,
   "metadata": {},
   "outputs": [
    {
     "name": "stdout",
     "output_type": "stream",
     "text": [
      "<_csv.reader object at 0x0000017F657E64A8>\n",
      "['1', 'Ba Nguyá»…n', '1000000000']\n",
      "['2', 'BÃ©o Ãš', '20000000000']\n"
     ]
    }
   ],
   "source": [
    "# BankAccount.from_csv(file) -> BankAccount[]\n",
    "# Sử dụng vòng lặp -> BankAccount[]\n",
    "# Account Number        Account Name        Balance\n",
    "# 1                     Ba                  100000000\n",
    "# 2                     Béo                 200000000\n",
    "# import pandas as pd\n",
    "# a=pd.read_csv(\"C:/1D/GitHub/learningpython/Day102509/bank_accounts.csv\")\n",
    "# print(type(a))\n",
    "# print(a)\n",
    "\n",
    "\n",
    "import csv\n",
    "with open('bank_accounts.csv', 'r') as file:\n",
    "    reader = csv.reader(file)\n",
    "    print(reader)\n",
    "    for row in reader:\n",
    "        print(row)\n",
    "\n",
    "@classmethod\n",
    "    def from_csv(cls, csv_file):\n",
    "        accounts = []\n",
    "\n",
    "        with open(csv_file) as file:\n",
    "            reader = csv.reader(file)\n",
    "\n",
    "            for account_number, account_name, balance in reader:\n",
    "                accounts.append(\n",
    "                    cls(account_number, account_name, int(balance)))\n",
    "\n",
    "        return accounts\n"
   ]
  },
  {
   "cell_type": "markdown",
   "metadata": {},
   "source": [
    "### Exercise\n",
    "\n",
    "Thêm 2 phương thức cho class `BankAccount` để khởi tạo từ file csv hoặc json, đầu vào là tên file, kết quả trả về một list.\n",
    "\n",
    "Chỉnh sửa phương thức `display()` để in ra thông tin theo dạng bảng"
   ]
  },
  {
   "cell_type": "markdown",
   "metadata": {},
   "source": [
    "## Magic methods\n",
    "\n",
    "Magic cung cấp một cách thức đơn giản hơn để làm việc với các objects"
   ]
  },
  {
   "cell_type": "markdown",
   "metadata": {},
   "source": [
    "Để tùy chỉnh giá trị trả về khi chuyển đổi object thành chuỗi, sử dụng magic method `__repr__()`"
   ]
  },
  {
   "cell_type": "code",
   "execution_count": 8,
   "metadata": {},
   "outputs": [
    {
     "name": "stdout",
     "output_type": "stream",
     "text": [
      "Point(0, 0)\n",
      "Point(0, 0)\n",
      "True\n",
      "True\n",
      "Point(1, 1)\n"
     ]
    }
   ],
   "source": [
    "class Point:\n",
    "    def __init__(self, x, y):\n",
    "        self.x = x\n",
    "        self.y = y\n",
    "\n",
    "    def __eq__(self, other):\n",
    "        return self.x == other.x and self.y == other.y\n",
    "\n",
    "    def __gt__(self, other): #geater than\n",
    "        return self.x > other.x and self.y > other.y\n",
    "\n",
    "    def __ge__(self, other):\n",
    "        return self.x >= other.x and self.y >= other.y\n",
    "\n",
    "    def __add__(self, other):\n",
    "        return Point(self.x + other.x, self.y + other.y)\n",
    "    \n",
    "    def __repr__(self):\n",
    "        return f\"Point({self.x}, {self.y})\"\n",
    "    \n",
    "    def display(self):\n",
    "        return f\"Point({self.x}, {self.y})\"\n",
    "\n",
    "p1 = Point(0, 0)\n",
    "p2 = Point(1, 1)\n",
    "print(p1)\n",
    "\n",
    "print(p1)\n",
    "print(p1 < p2)\n",
    "print(p1 <= p2)\n",
    "print(p1 + p2)"
   ]
  },
  {
   "cell_type": "code",
   "execution_count": 9,
   "metadata": {},
   "outputs": [
    {
     "name": "stdout",
     "output_type": "stream",
     "text": [
      "2\n",
      "10\n",
      "0\n",
      "python 2\n",
      "magic methods 10\n"
     ]
    }
   ],
   "source": [
    "class TagCloud:\n",
    "    def __init__(self):\n",
    "        self.tags = {}\n",
    "\n",
    "    def add(self, tag):\n",
    "        self.tags[tag.lower()] = self.tags.get(tag.lower(), 0) + 1\n",
    "\n",
    "    def __getitem__(self, tag):\n",
    "        return self.tags.get(tag.lower(), 0) #Kierm tra xem có chưa, chưa có thì khởi tạo, có rồi thì lấy ra\n",
    "\n",
    "    def __setitem__(self, tag, value):\n",
    "        self.tags[tag.lower()] = self[tag.lower()] + value\n",
    "\n",
    "    def __iter__(self):\n",
    "        return iter(self.tags)\n",
    "\n",
    "tags = TagCloud()\n",
    "tags.add(\"Python\") #{\"python\":1}\n",
    "tags.add(\"python\") #{\"python\":2}\n",
    "tags[\"magic methods\"] = 10  ##{\"python\":2,\"magic methods\":10}\n",
    "print(tags[\"python\"])\n",
    "print(tags[\"magic methods\"])\n",
    "print(tags[\"none key\"])\n",
    "\n",
    "for tag in tags:\n",
    "    print(tag, tags[tag])"
   ]
  },
  {
   "cell_type": "markdown",
   "metadata": {},
   "source": [
    "### Exercise\n",
    "\n",
    "Tạo class `Fraction` (phân số)\n",
    "\n",
    "- Hàm khởi tạo nhận 2 giá trị `nr` (tử số) và `dr` (mẫu số)\n",
    "- Nếu `dr` âm, chuyển dấu cho `nr` (VD: 1/-2 => -1/2)\n",
    "- Triển khai phương thức phù hợp để in ra phân số (VD: `print(fr)` => `-1/2`)\n",
    "- Viết hàm `hcf` tìm ước chung lớn nhất của `nr` và `dr`\n",
    "- Thêm phương thức `reduce` rút gọn phân số (gọi trong `__init__`)\n",
    "- Nếu `nr == 0`, chỉ in ra `0`\n",
    "- Nếu `dr == 0`, raise ZeroDevisonError\n",
    "- Nếu `dr == 1`, chỉ in ra `nr`\n",
    "- Triển khai các phương thức phù hợp cho phép +-*/ với 2 `Fraction` hoặc 1 `Fraction` với 1 số (`int` hoặc `float`), kết quả trả về 1 `Fraction` mới"
   ]
  },
  {
   "cell_type": "code",
   "execution_count": 23,
   "metadata": {},
   "outputs": [
    {
     "name": "stdout",
     "output_type": "stream",
     "text": [
      "1/2 -1/2\n",
      "\n",
      "0\n",
      "1\n",
      "-1/4\n",
      "-1\n",
      "\n",
      "3/2\n",
      "-1\n",
      "1\n",
      "1/4\n"
     ]
    }
   ],
   "source": [
    "from solutions.fraction import Fraction\n",
    "\n",
    "fr = Fraction(1, 2)\n",
    "other = Fraction(1.5, -3)\n",
    "print(fr, other)\n",
    "\n",
    "print()\n",
    "\n",
    "print(fr + other)\n",
    "print(fr - other)\n",
    "print(fr * other)\n",
    "print(fr / other)\n",
    "\n",
    "print()\n",
    "\n",
    "fr = Fraction(1, 2)\n",
    "print(fr + 1)\n",
    "print(fr - 1.5)\n",
    "print(fr * 2)\n",
    "print(fr / 2)"
   ]
  }
 ],
 "metadata": {
  "interpreter": {
   "hash": "04635d289a519a1410467dd0afb0db42f9184808881ca68b2eb5a687a20a5a94"
  },
  "kernelspec": {
   "display_name": "Python 3.7.6 64-bit",
   "name": "python3"
  },
  "language_info": {
   "codemirror_mode": {
    "name": "ipython",
    "version": 3
   },
   "file_extension": ".py",
   "mimetype": "text/x-python",
   "name": "python",
   "nbconvert_exporter": "python",
   "pygments_lexer": "ipython3",
   "version": "3.7.6"
  },
  "orig_nbformat": 4
 },
 "nbformat": 4,
 "nbformat_minor": 2
}
