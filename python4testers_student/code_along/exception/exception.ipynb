{
 "cells": [
  {
   "cell_type": "markdown",
   "source": [
    "# Exceptions"
   ],
   "metadata": {}
  },
  {
   "cell_type": "markdown",
   "source": [
    "## Syntax Error\n",
    "\n",
    "Các lỗi cú pháp thường dễ xử lý, lỗi cú pháp có thể được phát hiện và cảnh báo ngay khi code"
   ],
   "metadata": {}
  },
  {
   "cell_type": "code",
   "execution_count": null,
   "source": [
    "# Lỗi thiếu dấu :\n",
    "if True: print(\"Syntax Error\")\n",
    "\n",
    "# Lỗi thụt lề\n",
    "if True:\n",
    "    x = 1\n",
    "    y = 2"
   ],
   "outputs": [],
   "metadata": {}
  },
  {
   "cell_type": "markdown",
   "source": [
    "## Logical Error (Exceptions)\n",
    "\n",
    "Lỗi xảy ra trong quá trình thực thi chương trình"
   ],
   "metadata": {}
  },
  {
   "cell_type": "code",
   "execution_count": null,
   "source": [
    "# Lỗi chia cho 0\n",
    "# 1 / 0\n",
    "\n",
    "# Lỗi kiểu dữ liệu không phù hợp\n",
    "# 1 + \"1\"\n",
    "\n",
    "# Lỗi index không hợp lệ\n",
    "# l = []\n",
    "# l[0]\n",
    "\n",
    "# Lỗi tệp tin không tồn tại\n",
    "# open(\"demo.txt\")\n",
    "\n",
    "class Demo:\n",
    "    pass\n",
    "\n",
    "# Lỗi attribute không tồn tại\n",
    "# obj = Demo()\n",
    "# obj.x"
   ],
   "outputs": [],
   "metadata": {}
  },
  {
   "cell_type": "markdown",
   "source": [
    "## Raising Exceptions\n",
    "\n",
    "Có thể ném ra một exception với điều kiện nhất định, sử dụng `raise` hoặc `assert`"
   ],
   "metadata": {}
  },
  {
   "cell_type": "code",
   "execution_count": null,
   "source": [
    "def factorial(number):\n",
    "    assert type(number) == int and number >= 0, f\"Giá trị không hợp lệ: '{number}'\" # AssertionError\n",
    "\n",
    "    result = number\n",
    "\n",
    "    if number == 0:\n",
    "        return 1\n",
    "\n",
    "    for i in range(2, number):\n",
    "        result *= i\n",
    "\n",
    "    return result\n",
    "\n",
    "print(factorial(\"abc\"))\n",
    "print(123)"
   ],
   "outputs": [],
   "metadata": {}
  },
  {
   "cell_type": "markdown",
   "source": [
    "## Handling Exceptions\n",
    "\n",
    "Bắt và xử lý exception với khối lệnh `try except`\n",
    "\n",
    "Có thể có nhiều khối `except` để bóc tách và xử lý từng loại lỗi riêng biệt"
   ],
   "metadata": {}
  },
  {
   "cell_type": "code",
   "execution_count": 12,
   "source": [
    "list_ = [\"hello\", 0, 1, -2, 3]\n",
    "\n",
    "for value in list_:\n",
    "    try:\n",
    "        print(f\"{value}! =\", factorial(value))\n",
    "    except AssertionError as e:\n",
    "        print(\"Error:\", e)\n",
    "        print()"
   ],
   "outputs": [
    {
     "output_type": "stream",
     "name": "stdout",
     "text": [
      "Error: Giá trị không hợp lệ: 'hello'\n",
      "\n",
      "0! = 1\n",
      "1! = 1\n",
      "Error: Giá trị không hợp lệ: '-2'\n",
      "\n",
      "3! = 6\n"
     ]
    }
   ],
   "metadata": {}
  },
  {
   "cell_type": "markdown",
   "source": [
    "## Clean-up Actions\n",
    "\n",
    "Khối lệnh `finally` thường chứa các đoạn mã có nhiệm vụ dọn dẹp như đóng file, ngắt kết nối, ...\n",
    "\n",
    "Một số loại đối tượng như file có thể sử dụng với câu lệnh `with` để tự động dọn dẹp khi không còn cần thiết"
   ],
   "metadata": {}
  },
  {
   "cell_type": "code",
   "execution_count": 13,
   "source": [
    "try:\n",
    "    file = open(\"demo.txt\")\n",
    "    for line in file:\n",
    "        print(line, end=\"\")\n",
    "except FileNotFoundError as e:\n",
    "    print(\"Không tìm thấy file demo.txt\")\n",
    "finally:\n",
    "    file.close()"
   ],
   "outputs": [
    {
     "output_type": "stream",
     "name": "stdout",
     "text": [
      "Demo text\n",
      "Line two\n",
      "Lorem ipsum"
     ]
    }
   ],
   "metadata": {}
  },
  {
   "cell_type": "code",
   "execution_count": null,
   "source": [
    "try:\n",
    "    with open(\"demo.txt\") as file:\n",
    "        for line in file:\n",
    "            print(line, end=\"\")\n",
    "except FileNotFoundError as e:\n",
    "    print(\"Không tìm thấy file demo.txt\")"
   ],
   "outputs": [],
   "metadata": {}
  },
  {
   "cell_type": "markdown",
   "source": [
    "## User-defined Exceptions\n",
    "\n",
    "Có thể tạo exception tùy chỉnh bằng cách tạo các class mới. Các class này phải kế thừa (trực tiếp hoặc gián tiếp) từ lớp `Exception`.\n",
    "\n",
    "Các exception theo quy ước có tên kết thúc với `Error` để phân biệt với các class thông thường.\n",
    "\n",
    "Mặc dù các class này có thể hoạt động giống như bất kỳ class thông thường nào, nhưng thường chỉ đơn giản là chứa một vài thuộc tính để mô tả mã lỗi hay thông báo lỗi"
   ],
   "metadata": {}
  },
  {
   "cell_type": "code",
   "execution_count": 20,
   "source": [
    "class Error(Exception):\n",
    "    \"\"\"Base class cho các exception trong module\"\"\"\n",
    "    pass\n",
    "\n",
    "class NotIntegerError(Error):\n",
    "    \"\"\"Ném ra khi giá trị đầu vào không phải integer\"\"\"\n",
    "\n",
    "    def __init__(self, value):\n",
    "        message = f\"Không phải số nguyên: {value}\"\n",
    "        self.value = value\n",
    "        self.message = message\n",
    "\n",
    "class NegativeError(Error):\n",
    "    \"\"\"Ném ra khi giá trị số là số âm\"\"\"\n",
    "    \n",
    "    def __init__(self, value):\n",
    "        message = f\"Không phải số nguyên dương: {value}\"\n",
    "        self.value = value\n",
    "        self.message = message\n",
    "\n",
    "\n",
    "def factorial(number):\n",
    "    if type(number) != int: raise NotIntegerError(number)\n",
    "\n",
    "    if number < 0: raise NegativeError(number)\n",
    "\n",
    "    result = number\n",
    "\n",
    "    if number == 0:\n",
    "        return 1\n",
    "\n",
    "    for i in range(2, number):\n",
    "        result *= i\n",
    "\n",
    "    return result\n",
    "\n",
    "\n",
    "list_ = [\"hello\", 0, 1, -2, 3]\n",
    "\n",
    "for value in list_:\n",
    "    try:\n",
    "        print(f\"{value}! =\", factorial(value))\n",
    "    except (NotIntegerError, NegativeError) as e:\n",
    "        print(e.message)\n",
    "        print()\n",
    "\n",
    "l = []\n",
    "l.i"
   ],
   "outputs": [
    {
     "output_type": "stream",
     "name": "stdout",
     "text": [
      "Không phải số nguyên: hello\n",
      "\n",
      "0! = 1\n",
      "1! = 1\n",
      "Không phải số nguyên dương: -2\n",
      "\n",
      "3! = 6\n"
     ]
    }
   ],
   "metadata": {}
  },
  {
   "cell_type": "markdown",
   "source": [
    "## Excercise\n",
    "\n",
    "Game đoán số\n",
    "\n",
    "Tạo một số nguyên ngẫu nhiên trong khoảng 0 - 50, và gợi ý người dùng đoán một số, nếu trùng, hiển thị kết quả, nếu số đoán lớn hơn hoặc nhỏ hơn, hiển thị một thông báo lỗi tương ứng và gợi ý người dùng đoán lại. \n",
    "\n",
    "Số lần đoán tối đa: 3\n",
    "\n",
    "Xác định và xử lý các exception phù hợp"
   ],
   "metadata": {}
  }
 ],
 "metadata": {
  "orig_nbformat": 4,
  "language_info": {
   "name": "python",
   "version": "3.9.6",
   "mimetype": "text/x-python",
   "codemirror_mode": {
    "name": "ipython",
    "version": 3
   },
   "pygments_lexer": "ipython3",
   "nbconvert_exporter": "python",
   "file_extension": ".py"
  },
  "kernelspec": {
   "name": "python3",
   "display_name": "Python 3.9.6 64-bit"
  },
  "interpreter": {
   "hash": "b0fa6594d8f4cbf19f97940f81e996739fb7646882a419484c72d19e05852a7e"
  }
 },
 "nbformat": 4,
 "nbformat_minor": 2
}