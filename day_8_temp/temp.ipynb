{
 "cells": [
  {
   "cell_type": "code",
   "execution_count": null,
   "source": [
    "hhi chạy sẽ chạy câu lệnh như sau:\r\n",
    "\r\n",
    "python homework8.py animal_code.google.com\r\n",
    "python homework8.py place_code.google.com.vn"
   ],
   "outputs": [],
   "metadata": {}
  }
 ],
 "metadata": {
  "orig_nbformat": 4,
  "language_info": {
   "name": "python"
  }
 },
 "nbformat": 4,
 "nbformat_minor": 2
}