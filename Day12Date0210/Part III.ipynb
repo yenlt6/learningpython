{
 "cells": [
  {
   "cell_type": "markdown",
   "source": [
    "# Python - Lập trình hướng đối tượng"
   ],
   "metadata": {}
  },
  {
   "cell_type": "code",
   "execution_count": 11,
   "source": [
    "class Child:\r\n",
    "    pass\r\n",
    "class XYZ(Child):\r\n",
    "    pass\r\n",
    "print(dir(XYZ))"
   ],
   "outputs": [
    {
     "output_type": "stream",
     "name": "stdout",
     "text": [
      "['__class__', '__delattr__', '__dict__', '__dir__', '__doc__', '__eq__', '__format__', '__ge__', '__getattribute__', '__gt__', '__hash__', '__init__', '__init_subclass__', '__le__', '__lt__', '__module__', '__ne__', '__new__', '__reduce__', '__reduce_ex__', '__repr__', '__setattr__', '__sizeof__', '__str__', '__subclasshook__', '__weakref__']\n"
     ]
    }
   ],
   "metadata": {}
  },
  {
   "cell_type": "code",
   "execution_count": null,
   "source": [
    "class A: #Single\r\n",
    "    pass\r\n",
    "\r\n",
    "class B: #Single\r\n",
    "    pass\r\n",
    "\r\n",
    "class C: #Single\r\n",
    "    pass\r\n",
    "\r\n",
    "class E(A,B,C): #Multiple\r\n",
    "    pass"
   ],
   "outputs": [],
   "metadata": {}
  },
  {
   "cell_type": "code",
   "execution_count": 12,
   "source": [
    "class Demo(object):\r\n",
    "    pass\r\n",
    "\r\n",
    "print(dir(Demo))\r\n",
    "print(dir(object))"
   ],
   "outputs": [
    {
     "output_type": "stream",
     "name": "stdout",
     "text": [
      "['__class__', '__delattr__', '__dict__', '__dir__', '__doc__', '__eq__', '__format__', '__ge__', '__getattribute__', '__gt__', '__hash__', '__init__', '__init_subclass__', '__le__', '__lt__', '__module__', '__ne__', '__new__', '__reduce__', '__reduce_ex__', '__repr__', '__setattr__', '__sizeof__', '__str__', '__subclasshook__', '__weakref__']\n",
      "['__class__', '__delattr__', '__dir__', '__doc__', '__eq__', '__format__', '__ge__', '__getattribute__', '__gt__', '__hash__', '__init__', '__init_subclass__', '__le__', '__lt__', '__ne__', '__new__', '__reduce__', '__reduce_ex__', '__repr__', '__setattr__', '__sizeof__', '__str__', '__subclasshook__']\n"
     ]
    }
   ],
   "metadata": {}
  },
  {
   "cell_type": "markdown",
   "source": [
    "## Inheritance\n",
    "\n",
    "Kế thừa (inheritance) là một tính chất quan trọng trong lập trình hướng đối tượng. "
   ],
   "metadata": {}
  },
  {
   "cell_type": "code",
   "execution_count": null,
   "source": [
    "class Base:\r\n",
    "    def __init__(self) -> None:\r\n",
    "        pass\r\n",
    "\r\n",
    "class Child(Base):             #Cú pháp kế thừa\r\n",
    "    def __init__(self) -> None:   #\r\n",
    "        super().__init__()     #super() => base class"
   ],
   "outputs": [],
   "metadata": {}
  },
  {
   "cell_type": "code",
   "execution_count": 1,
   "source": [
    "class Person:\r\n",
    "    def __init__(self, name, age, address, phone):\r\n",
    "        self.name = name \r\n",
    "        self.age = age \r\n",
    "        self.address = address\r\n",
    "        self.phone = phone\r\n",
    "    \r\n",
    "    def greet(self):\r\n",
    "        print(\"Hello, I'm\", self.name)\r\n",
    "\r\n",
    "    def is_adult(self):\r\n",
    "        return True if self.age >= 18 else False\r\n",
    "\r\n",
    "    def contact(self):\r\n",
    "        print(self.address, self.phone)"
   ],
   "outputs": [],
   "metadata": {}
  },
  {
   "cell_type": "markdown",
   "source": [
    "Kế thừa lớp `Person`, `Employee` có toàn bộ thuộc tính và phương thức của `Person`"
   ],
   "metadata": {}
  },
  {
   "cell_type": "code",
   "execution_count": 4,
   "source": [
    "class Employee(Person): # Cú pháp kế thừa\r\n",
    "    pass\r\n",
    "\r\n",
    "e = Employee(\"Ba\", 29, \"Cầu Giấy\", \"09xx\")\r\n",
    "e.greet()\r\n",
    "e.contact()\r\n",
    "print(e.is_adult())"
   ],
   "outputs": [
    {
     "output_type": "stream",
     "name": "stdout",
     "text": [
      "Hello, I'm Ba\n",
      "Cầu Giấy 09xx\n",
      "True\n"
     ]
    }
   ],
   "metadata": {}
  },
  {
   "cell_type": "markdown",
   "source": [
    "Mở rộng thêm một số thuộc tính mới và ghi đè (overriding) các phương thức"
   ],
   "metadata": {}
  },
  {
   "cell_type": "code",
   "execution_count": 2,
   "source": [
    "class Employee(Person):\r\n",
    "    def __init__(self, name, age, address, phone, salary, roll):\r\n",
    "        self.name = name\r\n",
    "        self.age = age \r\n",
    "        self.address = address\r\n",
    "        self.phone = phone\r\n",
    "        self.salary = salary\r\n",
    "        self.roll = roll\r\n",
    "\r\n",
    "    def greet(self):\r\n",
    "        print(\"Hello, I'm\", self.name)\r\n",
    "        print(\"I'm\", self.roll)\r\n",
    "\r\n",
    "e = Employee(\"Ba\", 29, \"Cầu Giấy\", \"09xx\", 1000, \"Teacher\")\r\n",
    "e.greet()"
   ],
   "outputs": [
    {
     "output_type": "stream",
     "name": "stdout",
     "text": [
      "Hello, I'm Ba\n",
      "I'm Teacher\n"
     ]
    }
   ],
   "metadata": {}
  },
  {
   "cell_type": "markdown",
   "source": [
    "`super()` tham chiếu đến lớp cha"
   ],
   "metadata": {}
  },
  {
   "cell_type": "code",
   "execution_count": 3,
   "source": [
    "class Employee(Person): #supper() => Person ( supper tham chiếu đến lớp cha, gọi tới thuộc tính và phương thức của lớp cha)\r\n",
    "    def __init__(self, name, age, address, phone, salary, roll):\r\n",
    "        super().__init__(name, age, address, phone)\r\n",
    "        self.salary = salary\r\n",
    "        self.roll = roll\r\n",
    "\r\n",
    "    def greet(self):\r\n",
    "        super().greet()\r\n",
    "        print(\"I'm\", self.roll)\r\n",
    "\r\n",
    "\r\n",
    "e = Employee(\"Ba\", 29, \"Cầu Giấy\", \"09xx\", 1000, \"Teacher\")\r\n",
    "e.greet()\r\n",
    "\r\n",
    "\r\n",
    "# tất cả các class trong python, từ base class .. thì nó ngầm định là kế thừa từ lớp cơ sở nhất là object\r\n",
    "#Single_inheristance\r\n",
    "#mutiple-ingeristance\r\n",
    "#Đa kế thừa: multiple ingeristance, khác với multileve (kế thừa nhiều cấp độ)"
   ],
   "outputs": [
    {
     "output_type": "stream",
     "name": "stdout",
     "text": [
      "Hello, I'm Ba\n",
      "I'm Teacher\n"
     ]
    }
   ],
   "metadata": {}
  },
  {
   "cell_type": "markdown",
   "source": [
    "## Object Class\n",
    "\n",
    "Trong Python, class `object` là lớp cơ sở nhất, mọi class dù trực tiếp hay gián tiếp đều kế thừa từ nó, ngoại trừ các exceptions có base class là `BaseException`"
   ],
   "metadata": {}
  },
  {
   "cell_type": "code",
   "execution_count": 4,
   "source": [
    "class Animal(object):\r\n",
    "    pass\r\n",
    "\r\n",
    "class Cat(Animal):\r\n",
    "    pass\r\n",
    "\r\n",
    "\r\n",
    "obj = object()\r\n",
    "cat = Cat()\r\n",
    "\r\n",
    "print(dir(obj))\r\n",
    "print()\r\n",
    "print(dir(cat))"
   ],
   "outputs": [
    {
     "output_type": "stream",
     "name": "stdout",
     "text": [
      "['__class__', '__delattr__', '__dir__', '__doc__', '__eq__', '__format__', '__ge__', '__getattribute__', '__gt__', '__hash__', '__init__', '__init_subclass__', '__le__', '__lt__', '__ne__', '__new__', '__reduce__', '__reduce_ex__', '__repr__', '__setattr__', '__sizeof__', '__str__', '__subclasshook__']\n",
      "\n",
      "['__class__', '__delattr__', '__dict__', '__dir__', '__doc__', '__eq__', '__format__', '__ge__', '__getattribute__', '__gt__', '__hash__', '__init__', '__init_subclass__', '__le__', '__lt__', '__module__', '__ne__', '__new__', '__reduce__', '__reduce_ex__', '__repr__', '__setattr__', '__sizeof__', '__str__', '__subclasshook__', '__weakref__']\n"
     ]
    }
   ],
   "metadata": {}
  },
  {
   "cell_type": "markdown",
   "source": [
    "Ở ví dụ trên, `Cat` kế thừa từ `Animal` và gián tiếp kế thừa từ `object`, đây được gọi là **kế thừa nhiều cấp - multi-level inheritance**"
   ],
   "metadata": {}
  },
  {
   "cell_type": "code",
   "execution_count": null,
   "source": [
    "class A: #single"
   ],
   "outputs": [],
   "metadata": {}
  },
  {
   "cell_type": "markdown",
   "source": [
    "## Composition\n",
    "\n",
    "Ví dụ, lớp `Car` **CÓ MỘT** thành phần thuộc lớp `Engine`"
   ],
   "metadata": {}
  },
  {
   "cell_type": "code",
   "execution_count": 6,
   "source": [
    "class Car:\r\n",
    "    def __init__(self, engine):\r\n",
    "        self.engine = engine\r\n",
    "\r\n",
    "    def run(self):\r\n",
    "        self.engine.run()\r\n",
    "\r\n",
    "class Engine:\r\n",
    "    def run(self):\r\n",
    "        print(\"Engine Run\")\r\n",
    "\r\n",
    "v12 = Engine()\r\n",
    "maybach = Car(v12)\r\n",
    "\r\n",
    "maybach.run()"
   ],
   "outputs": [
    {
     "output_type": "stream",
     "name": "stdout",
     "text": [
      "Engine Run\n"
     ]
    }
   ],
   "metadata": {}
  },
  {
   "cell_type": "markdown",
   "source": [
    "## Polymorphism"
   ],
   "metadata": {}
  },
  {
   "cell_type": "code",
   "execution_count": 7,
   "source": [
    "# Ví dụ đa hình thể hiện thông qua toán tử  : Đa hình ( cùng toán tử  + có thể thực hiện với nhiều loại dữ liệu khác nhau)\r\n",
    "\r\n",
    "print(1 + 1)\r\n",
    "print(\"a\" + \"b\")"
   ],
   "outputs": [
    {
     "output_type": "stream",
     "name": "stdout",
     "text": [
      "2\n",
      "ab\n"
     ]
    }
   ],
   "metadata": {}
  },
  {
   "cell_type": "code",
   "execution_count": 8,
   "source": [
    "# Ví dụ đa hình thể hiện thông qua hàm \r\n",
    "# có thể hoạt động với nhiều kiểu dữ liệu khác nhau\r\n",
    "\r\n",
    "print(len(\"hello\"))\r\n",
    "print(len([\"a\", \"b\", \"c\"]))\r\n",
    "print(len({\"x\": 1, \"y\": 2}))"
   ],
   "outputs": [
    {
     "output_type": "stream",
     "name": "stdout",
     "text": [
      "5\n",
      "3\n",
      "2\n"
     ]
    }
   ],
   "metadata": {}
  },
  {
   "cell_type": "code",
   "execution_count": 9,
   "source": [
    "# Ví dụ đa hình thể hiện thông qua lớp\r\n",
    "# Python không hỗ trợ method overriding như Java\r\n",
    "\r\n",
    "class Rectangle:\r\n",
    "    def __init__(self, length, breadth):\r\n",
    "        self.length = length\r\n",
    "        self.breadth = breadth\r\n",
    "\r\n",
    "    def area(self):\r\n",
    "        return self.length * self.breadth\r\n",
    "\r\n",
    "class Triangle:\r\n",
    "    def __init__(self, s1, s2, s3):\r\n",
    "        self.s1 = s1\r\n",
    "        self.s2 = s2\r\n",
    "        self.s3 = s3\r\n",
    "\r\n",
    "    def area(self):\r\n",
    "        # Công thức heron\r\n",
    "        sp = (self.s1 + self.s2 + self.s3) / 2\r\n",
    "        return (sp * (sp - self.s1) * (sp - self.s2) * (sp - self.s3)) ** 0.5\r\n",
    "\r\n",
    "class Circle:\r\n",
    "    def __init__(self, r):\r\n",
    "        self.r = r \r\n",
    "    \r\n",
    "    def area(self):\r\n",
    "        return 3.14 * self.r * self.r\r\n",
    "\r\n",
    "r = Rectangle(1, 5)\r\n",
    "t = Triangle(2, 4, 3)\r\n",
    "c = Circle(3)\r\n",
    "\r\n",
    "def find_area(shape):\r\n",
    "    print(shape.area())\r\n",
    "\r\n",
    "find_area(r)\r\n",
    "find_area(t)\r\n",
    "find_area(c)"
   ],
   "outputs": [
    {
     "output_type": "stream",
     "name": "stdout",
     "text": [
      "5\n",
      "2.9047375096555625\n",
      "28.259999999999998\n"
     ]
    }
   ],
   "metadata": {}
  },
  {
   "cell_type": "code",
   "execution_count": 10,
   "source": [
    "# Ví dụ đa hình thể hiện thông qua lớp\r\n",
    "# Python không hỗ trợ method overriding như Java\r\n",
    "'''khai báo Square, Rectangular có methods tính chu vi, diện tích\r\n",
    "Khởi tạo từ mỗi class 5 object, cho vào 1 list\r\n",
    "Viết hàm print_details(obj) in ra chu vi và diện tích của các obj trong list'''\r\n",
    "\r\n",
    "class Rectangle:\r\n",
    "    def __init__(self, length, breadth):\r\n",
    "        self.length = length\r\n",
    "        self.breadth = breadth\r\n",
    "    def __str__(self):\r\n",
    "        return (f\"Ractangular: {self.length},{self.breadth}\")\r\n",
    "\r\n",
    "    def area(self):\r\n",
    "        return self.length * self.breadth\r\n",
    "    \r\n",
    "    def perimeter(self):\r\n",
    "        return (self.length + self.breadth)*2\r\n",
    "\r\n",
    "class Square:\r\n",
    "    def __init__(self, length):\r\n",
    "        self.length = length\r\n",
    "    def __str__(self):\r\n",
    "        return (f\"Square: {self.length}\")\r\n",
    "\r\n",
    "    def area(self):\r\n",
    "        # Công thức heron\r\n",
    "        sp = self.length*self.length\r\n",
    "        return sp\r\n",
    "\r\n",
    "    def perimeter(self):\r\n",
    "        return self.length*4\r\n",
    "\r\n",
    "rectangle_list = [Rectangle(1, 1),Rectangle(1, 2),Rectangle(1, 3),Rectangle(1, 3),Rectangle(1, 5),Square(1),Square(2),Square(3),Square(4),Square(5)]\r\n",
    "square_list = [Square(1),Square(2),Square(3),Square(4),Square(5)]\r\n",
    "\r\n",
    "r = Rectangle(1, 5)\r\n",
    "t = Triangle(2, 4, 3)\r\n",
    "c = Circle(3)\r\n",
    "\r\n",
    "def find_area(shape):\r\n",
    "    print(shape.area())\r\n",
    "\r\n",
    "def print_details(obj):\r\n",
    "    # for i in range (0,len(obj)):\r\n",
    "    #     print(f\"| {i:9} | {self.account_name:15} | {self.balance:>15} |\")\r\n",
    "\r\n",
    "    for i in obj:\r\n",
    "     print(\"dien tich:\",i.area())\r\n",
    "     print(\"Chu vi:\",i.perimeter())\r\n",
    "    #  print(\r\n",
    "    #         f\"| {:9} | {self.account_name:15} | {self.balance:>15} |\")\r\n",
    "\r\n",
    "\r\n",
    "\r\n",
    "print(f\"| {'STT':9} | {'Dien Tich':15} | {'Chu Vi':15} |\")\r\n",
    "print(f\"|{'-' * 11}|{ '-' * 17 }|{'-' * 17}|\")\r\n",
    "\r\n",
    "\r\n",
    "print()\r\n",
    "print_details(rectangle_list)\r\n",
    "# print_details(square_list)\r\n"
   ],
   "outputs": [
    {
     "output_type": "stream",
     "name": "stdout",
     "text": [
      "| STT       | Dien Tich       | Chu Vi          |\n",
      "|-----------|-----------------|-----------------|\n",
      "\n",
      "dien tich: 1\n",
      "Chu vi: 4\n",
      "dien tich: 2\n",
      "Chu vi: 6\n",
      "dien tich: 3\n",
      "Chu vi: 8\n",
      "dien tich: 3\n",
      "Chu vi: 8\n",
      "dien tich: 5\n",
      "Chu vi: 12\n",
      "dien tich: 1\n",
      "Chu vi: 4\n",
      "dien tich: 4\n",
      "Chu vi: 8\n",
      "dien tich: 9\n",
      "Chu vi: 12\n",
      "dien tich: 16\n",
      "Chu vi: 16\n",
      "dien tich: 25\n",
      "Chu vi: 20\n"
     ]
    }
   ],
   "metadata": {}
  },
  {
   "cell_type": "markdown",
   "source": [
    "### Exercises\n",
    "\n",
    "1. Tạo class `SavingAccount` kế thừa từ `BankAccount`, bổ sung:\n",
    "- `monthly_interest_rate`: Lãi suất hàng tháng = `0.005`\n",
    "- `calculate_interest()`: tính tiền lãi hàng tháng, công thức `balance * monthly_interest_rate`\n",
    "\n",
    "2. Tạo class `Customer` bao gồm một số thông tin:\n",
    "- `name`, `date_of_birth`, `email`, `phone`\n",
    "- `get_info()` hiển thị thông tin Customer\n",
    "\n",
    "3. Thay đổi class `BankAccount`:\n",
    "- `_account_name` thành `_owner` là một `Customer`\n",
    "- `display()` hiển thị thông tin số tài khoản, thông tin khách hàng và số dư"
   ],
   "metadata": {}
  },
  {
   "cell_type": "markdown",
   "source": [],
   "metadata": {}
  }
 ],
 "metadata": {
  "kernelspec": {
   "name": "python3",
   "display_name": "Python 3.7.6 64-bit"
  },
  "language_info": {
   "codemirror_mode": {
    "name": "ipython",
    "version": 3
   },
   "file_extension": ".py",
   "mimetype": "text/x-python",
   "name": "python",
   "nbconvert_exporter": "python",
   "pygments_lexer": "ipython3",
   "version": "3.7.6"
  },
  "interpreter": {
   "hash": "04635d289a519a1410467dd0afb0db42f9184808881ca68b2eb5a687a20a5a94"
  }
 },
 "nbformat": 4,
 "nbformat_minor": 5
}