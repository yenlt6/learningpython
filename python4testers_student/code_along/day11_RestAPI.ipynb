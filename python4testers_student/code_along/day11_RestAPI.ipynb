{
 "cells": [
  {
   "cell_type": "markdown",
   "source": [
    "## REST = Representational State Transfer\r\n",
    "\r\n",
    "Consume API with HTTP Verbs\r\n",
    "\r\n",
    "### GET & POST"
   ],
   "metadata": {}
  },
  {
   "cell_type": "code",
   "execution_count": null,
   "source": [
    "import requests\r\n",
    "api_url = \"https://jsonplaceholder.typicode.com/todos/1\"\r\n",
    "response = requests.get(api_url)\r\n",
    "response.json()"
   ],
   "outputs": [],
   "metadata": {}
  },
  {
   "cell_type": "code",
   "execution_count": null,
   "source": [
    "print(response.status_code)\r\n",
    "response.headers[\"Content-Type\"]"
   ],
   "outputs": [],
   "metadata": {}
  },
  {
   "cell_type": "code",
   "execution_count": null,
   "source": [
    "# POST\r\n",
    "api_url = \"https://jsonplaceholder.typicode.com/todos\"\r\n",
    "todo = {\"userId\": 1, \"title\": \"Buy milk\", \"completed\": False}       # <--- Dữ liệu gửi lên\r\n",
    "response = requests.post(api_url, json=todo)                        # <-- tự động set request’s HTTP header Content-Type thành application/json\r\n",
    "response.json()"
   ],
   "outputs": [],
   "metadata": {}
  },
  {
   "cell_type": "code",
   "execution_count": null,
   "source": [
    "response.status_code            # thành công trả về 201 (đã tạo mới được resource)"
   ],
   "outputs": [],
   "metadata": {}
  },
  {
   "cell_type": "code",
   "execution_count": null,
   "source": [
    "import json\r\n",
    "todo = {\"userId\": 1, \"title\": \"Buy eggs\", \"completed\": False}\r\n",
    "headers =  {\"Content-Type\":\"application/json\"}              # code tương đương không dùng từ khóa json\r\n",
    "response = requests.post(api_url, data=json.dumps(todo), headers=headers)   # phải serialize dữ liệu\r\n",
    "response.json()"
   ],
   "outputs": [],
   "metadata": {}
  },
  {
   "cell_type": "markdown",
   "source": [
    "### PUT & PATCH & DELETE\r\n",
    "\r\n",
    "Put thay thế hoàn toàn giá trị hiện tại của resource."
   ],
   "metadata": {}
  },
  {
   "cell_type": "code",
   "execution_count": null,
   "source": [
    "api_url = \"https://jsonplaceholder.typicode.com/todos/10\"\r\n",
    "response = requests.get(api_url)\r\n",
    "print(response.json())\r\n",
    "\r\n",
    "todo = {\"userId\": 1, \"title\": \"Wash car\", \"completed\": True}\r\n",
    "response = requests.put(api_url, json=todo)\r\n",
    "response.json()"
   ],
   "outputs": [],
   "metadata": {}
  },
  {
   "cell_type": "code",
   "execution_count": null,
   "source": [
    "response.status_code        # PUT thành công luôn trả về 200"
   ],
   "outputs": [],
   "metadata": {}
  },
  {
   "cell_type": "code",
   "execution_count": null,
   "source": [
    "todo = {\"title\": \"Mow lawn\"}\r\n",
    "response = requests.patch(api_url, json=todo)       # chỉ thay đổi giá trị có trong dữ liệu JSON gửi đi\r\n",
    "response.json()"
   ],
   "outputs": [],
   "metadata": {}
  },
  {
   "cell_type": "code",
   "execution_count": null,
   "source": [
    "response = requests.delete(api_url)\r\n",
    "response.json()"
   ],
   "outputs": [],
   "metadata": {}
  },
  {
   "cell_type": "markdown",
   "source": [
    "## Flask\r\n",
    "Microframework dùng để xây webapp và REST APIs. Nhiệm vụ chính của Flask là xử lý HTTP requests và dẫn chúng đến hàm phù hợp trong app.\r\n",
    "\r\n",
    "Các bước chạy Flask app:\r\n",
    "1. pip install flask\r\n",
    "2. tạo file app.py\r\n",
    "3. set/export FLASK_APP=app.py\r\n",
    "4. set/export FLASK_ENV=development\r\n",
    "    Bên cạnh việc cung cấp các thông báo lỗi hữu ích, chế độ debug sẽ kích hoạt tải lại ứng dụng khi có các thay đổi trong code. Nếu không ở chế độ debug/development, bạn sẽ phải khởi động lại máy chủ sau mỗi lần thay đổi.\r\n",
    "5. flask run\r\n",
    "6. Mở browser tại địa chỉ http://127.0.0.1:5000/countries\r\n",
    "\r\n",
    "Thử POST request:\r\n",
    "```\r\n",
    "curl -i http://127.0.0.1:5000/countries \\\r\n",
    "-X POST \\\r\n",
    "-H 'Content-Type: application/json' \\\r\n",
    "-d '{\"name\":\"Germany\", \"capital\": \"Berlin\", \"area\": 357022}'\r\n",
    "```\r\n",
    "\r\n",
    "Các framework thông dụng khác là **Django** và **FastAPI**"
   ],
   "metadata": {}
  }
 ],
 "metadata": {
  "orig_nbformat": 4,
  "language_info": {
   "name": "python",
   "version": "3.9.5",
   "mimetype": "text/x-python",
   "codemirror_mode": {
    "name": "ipython",
    "version": 3
   },
   "pygments_lexer": "ipython3",
   "nbconvert_exporter": "python",
   "file_extension": ".py"
  },
  "kernelspec": {
   "name": "python3",
   "display_name": "Python 3.9.5 64-bit ('python_tester_env': venv)"
  },
  "interpreter": {
   "hash": "24cd0c75bfe4a706d6789947de4493a267f99aa12d72755b5ca874abcfbcc979"
  }
 },
 "nbformat": 4,
 "nbformat_minor": 2
}