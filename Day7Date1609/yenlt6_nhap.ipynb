{
 "cells": [
  {
   "cell_type": "code",
   "execution_count": null,
   "source": [
    "#https://www.howkteam.vn/course/lap-trinh-python-co-ban/xu-ly-file-trong-python-1570\r\n",
    "import sys\r\n",
    "fobj = open('kteam.txt')\r\n",
    "data=fobj.read()\r\n",
    "print(data)\r\n",
    "fobj.close()"
   ],
   "outputs": [],
   "metadata": {}
  },
  {
   "cell_type": "code",
   "execution_count": 15,
   "source": [
    "list_1=['a','b']\r\n",
    "list_2=['c','d']\r\n",
    "list_3=list_1+list_2\r\n",
    "list_3"
   ],
   "outputs": [
    {
     "output_type": "execute_result",
     "data": {
      "text/plain": [
       "['a', 'b', 'c', 'd']"
      ]
     },
     "metadata": {},
     "execution_count": 15
    }
   ],
   "metadata": {}
  },
  {
   "cell_type": "code",
   "execution_count": 12,
   "source": [
    "fobj = open('kteam.txt')\r\n",
    "list_content = list(fobj)\r\n",
    "list_content"
   ],
   "outputs": [
    {
     "output_type": "execute_result",
     "data": {
      "text/plain": [
       "['How Kteam\\n',\n",
       " 'Free Education\\n',\n",
       " '\\n',\n",
       " 'Share to better\\n',\n",
       " '\\n',\n",
       " \"print('hello world!')\"]"
      ]
     },
     "metadata": {},
     "execution_count": 12
    }
   ],
   "metadata": {}
  },
  {
   "cell_type": "code",
   "execution_count": 14,
   "source": [
    "fobj = open('kteam_2.txt','w')\r\n",
    "fobj.write('Yen oi co len')\r\n",
    "fobj.close()\r\n"
   ],
   "outputs": [],
   "metadata": {}
  },
  {
   "cell_type": "code",
   "execution_count": null,
   "source": [],
   "outputs": [],
   "metadata": {}
  },
  {
   "cell_type": "code",
   "execution_count": 11,
   "source": [
    "fobj = open('kteam.txt')\r\n",
    "data=fobj.readline()\r\n",
    "print(data)\r\n",
    "data1=fobj.readline(3)\r\n",
    "print(data1)\r\n"
   ],
   "outputs": [
    {
     "output_type": "stream",
     "name": "stdout",
     "text": [
      "How Kteam\n",
      "\n",
      "Fre\n"
     ]
    }
   ],
   "metadata": {}
  },
  {
   "cell_type": "code",
   "execution_count": 9,
   "source": [
    "'''# Easy [1] Day different:\r\n",
    "Viết hàm day_diff() nhận vào ngày phải release sản phẩm và ngày đội dev viết xong code. \r\n",
    "Tính số ngày mà team test có để test sản phẩm (= release_date - code_complete_day). Lưu ý,\r\n",
    " ngày release sản phẩm sẽ ở định dạng 19/12/2021 còn ngày code_complete có định dạng 2021-17-05'''\r\n",
    "from datetime import datetime\r\n",
    "def day_diff(release_date, code_complete_day):\r\n",
    "    release_date = datetime.strptime(release_date, \"%d/%m/%Y\")\r\n",
    "    code_complete_day = datetime.strptime(code_complete_day, \"%Y-%d-%m\")\r\n",
    "    return abs((release_date - code_complete_day).days)\r\n",
    "day_diff(\"19/12/2021\",\"2021-17-05\")\r\n",
    "day_diff(\"10/05/2021\",\"2021-01-03\")"
   ],
   "outputs": [
    {
     "output_type": "execute_result",
     "data": {
      "text/plain": [
       "70"
      ]
     },
     "metadata": {},
     "execution_count": 9
    }
   ],
   "metadata": {}
  },
  {
   "cell_type": "code",
   "execution_count": null,
   "source": [
    "# Easy [2] Alphabet and Number:\r\n",
    "'''Viết hàm alpha_num() tìm tất cả những từ trong một câu có chứa cả chữ cái và số. Trả ra danh sách các từ như vậy trong một câu.\r\n",
    "Vd:\r\n",
    "str1 = \"Emma25 is Data scientist50 and AI Expert\"\r\n",
    "alpha_num(str1) == [\"Emma25\", \"scientist50\"]'''\r\n",
    "import re\r\n",
    "def alpha_num(str):\r\n",
    "    str=\"Emma25 is Data scientist50 and AI Expert\"\r\n",
    "    list_1=[]\r\n",
    "    re.search(pattern, s)\r\n",
    "    match = re.match(pattern, search_string)\r\n",
    "    re.findall\r\n",
    "\r\n"
   ],
   "outputs": [],
   "metadata": {}
  },
  {
   "cell_type": "code",
   "execution_count": 3,
   "source": [
    "import re\r\n",
    "a= re.match('/d','Emma25 is Data scientist50 and AI Expert')\r\n",
    "print(\"aaa\",a)\r\n",
    "str1=\"Emma25 is Data scientist50 and AI Expert\"\r\n",
    "# re.findall('[a-z]+[A-Z]+[0-9]+', 'Emma25 is Data scientist50 and AI Expert')\r\n",
    "res = re.findall(r'(?:\\d+[a-zA-Z]+|[a-zA-Z]+\\d+)', str1)\r\n",
    "#[a-zA-Z]*\\d+\r\n",
    "res"
   ],
   "outputs": [
    {
     "output_type": "stream",
     "name": "stdout",
     "text": [
      "aaa None\n"
     ]
    },
    {
     "output_type": "execute_result",
     "data": {
      "text/plain": [
       "['Emma25', 'scientist50']"
      ]
     },
     "metadata": {},
     "execution_count": 3
    }
   ],
   "metadata": {}
  },
  {
   "cell_type": "code",
   "execution_count": 8,
   "source": [
    "def alpha_num(str1):\r\n",
    "    return re.findall(r'(?:\\d+[a-zA-Z]+|[a-zA-Z]+\\d+)', str1)\r\n",
    "# alpha_num(\"Emma25 is Data scientist50 and AI Expert\")\r\n",
    "alpha_num(\"tHE1 fOX iS cOMING2 fOR tHE4 cHICKEN\")"
   ],
   "outputs": [
    {
     "output_type": "execute_result",
     "data": {
      "text/plain": [
       "['tHE1', 'cOMING2', 'tHE4']"
      ]
     },
     "metadata": {},
     "execution_count": 8
    }
   ],
   "metadata": {}
  },
  {
   "cell_type": "markdown",
   "source": [],
   "metadata": {}
  },
  {
   "cell_type": "code",
   "execution_count": 9,
   "source": [
    "str=\"Emma25 is Data scientist50 and AI Expert\"\r\n",
    "def alpha_num(str):\r\n",
    "    str=\"Emma25 is Data scientist50 and AI Expert\"\r\n",
    "    list_1=str.split()\r\n",
    "    list_2=[]\r\n",
    "    print(list_1)\r\n",
    "    for i in list_1:\r\n",
    "        if i.isalpha:\r\n",
    "            list_2.append(i)\r\n",
    "    print(\"List ket qua:\",list_2)\r\n",
    "\r\n",
    "alpha_num(str)   "
   ],
   "outputs": [
    {
     "output_type": "stream",
     "name": "stdout",
     "text": [
      "['Emma25', 'is', 'Data', 'scientist50', 'and', 'AI', 'Expert']\n",
      "List ket qua: ['Emma25', 'is', 'Data', 'scientist50', 'and', 'AI', 'Expert']\n"
     ]
    }
   ],
   "metadata": {}
  },
  {
   "cell_type": "code",
   "execution_count": 17,
   "source": [
    "str1 = \"Emma25 is Data scientist50 and AI Expert\"\r\n",
    "res = []\r\n",
    "temp = str1.split()\r\n",
    "for idx in temp:\r\n",
    "    if any(chr.isalpha() for chr in idx) and any(chr.isdigit() for chr in idx):\r\n",
    "        res.append(idx)\r\n",
    "print(res)"
   ],
   "outputs": [
    {
     "output_type": "stream",
     "name": "stdout",
     "text": [
      "['Emma25', 'scientist50']\n"
     ]
    }
   ],
   "metadata": {}
  },
  {
   "cell_type": "code",
   "execution_count": 13,
   "source": [
    "'''\r\n",
    "# Medium [1] Anagram Number:\r\n",
    "Viết hàm anagram_number() có đầu vào là một số nguyên và trả ra True nếu sau khi đảo ngược thứ tự các chữ số của số đó vẫn cho ta số ban đầu. Trả ra False nếu không giống.\r\n",
    "vd: anagram_number(121121) == True\r\n",
    "    anagram_number(1254) == False'''\r\n",
    "\r\n",
    "def anagram_number(int_number):\r\n",
    "    a=str(int_number)[::-1]\r\n",
    "    if a==str(int_number):\r\n",
    "        return True\r\n",
    "    else :\r\n",
    "         return False\r\n",
    "    \r\n",
    "anagram_number(8888888888888888)"
   ],
   "outputs": [
    {
     "output_type": "execute_result",
     "data": {
      "text/plain": [
       "True"
      ]
     },
     "metadata": {},
     "execution_count": 13
    }
   ],
   "metadata": {}
  },
  {
   "cell_type": "code",
   "execution_count": 14,
   "source": [
    "from datetime import date  "
   ],
   "outputs": [],
   "metadata": {}
  },
  {
   "cell_type": "code",
   "execution_count": null,
   "source": [
    "def romanToInt(s):\r\n",
    "      \"\"\"\r\n",
    "      :type s: str\r\n",
    "      :rtype: int\r\n",
    "      \"\"\"\r\n",
    "      roman = {'I':1,'V':5,'X':10,'L':50,'C':100,'D':500,'M':1000,'IV':4,'IX':9,'XL':40,'XC':90,'CD':400,'CM':900}\r\n",
    "      i = 0\r\n",
    "      num = 0\r\n",
    "      while i < len(s):\r\n",
    "         print(\"y1\",s[i:i+2])\r\n",
    "         if i+1<len(s) and s[i:i+2] in roman:\r\n",
    "            num+=roman[s[i:i+2]]\r\n",
    "            i+=2\r\n",
    "         else:\r\n",
    "            #print(i)\r\n",
    "            num+=roman[s[i]]\r\n",
    "            i+=1\r\n",
    "      return num\r\n",
    "romanToInt(\"MCMXCIV\")\r\n",
    "# romanToInt(\"CDXLIII\")"
   ],
   "outputs": [],
   "metadata": {}
  },
  {
   "cell_type": "code",
   "execution_count": null,
   "source": [
    "def roman_to_int(s):\r\n",
    "    s=\"MCMXCIV\"\r\n",
    "    roman = {'I':1,'V':5,'X':10,'L':50,'C':100,'D':500,'M':1000,'IV':4,'IX':9,'XL':40,'XC':90,'CD':400,'CM':900}\r\n",
    "    i=0\r\n",
    "    result_int=0\r\n",
    "\r\n",
    "    pass"
   ],
   "outputs": [],
   "metadata": {}
  },
  {
   "cell_type": "code",
   "execution_count": null,
   "source": [
    "def romanToInt(s):\r\n",
    "      rom_dict = {'IV':4,'IX':9,'XL':40,'XC':90,'CD':400,'CM':900,'I':1,'V':5,'X':10,'L':50,'C':100,'D':500,'M':1000}\r\n",
    "      i = 0\r\n",
    "      int1 = 0\r\n",
    "      while i < len(s):\r\n",
    "         print(\"y1\",s[i:i+2])\r\n",
    "         if i+1<len(s) and s[i:i+2] in rom_dict:\r\n",
    "            int1+=rom_dict[s[i:i+2]]\r\n",
    "            i+=2\r\n",
    "         else:\r\n",
    "            #print(i)\r\n",
    "            int1+=rom_dict[s[i]]\r\n",
    "            i+=1\r\n",
    "      return int1\r\n",
    "romanToInt(\"MCMXCIV\")\r\n",
    "# romanToInt(\"CDXLIII\")"
   ],
   "outputs": [],
   "metadata": {}
  },
  {
   "cell_type": "code",
   "execution_count": 1,
   "source": [
    "def romanToInt(s):\r\n",
    "      rom_dict = {'IV':4,'IX':9,'XL':40,'XC':90,'CD':400,'CM':900,'I':1,'V':5,'X':10,'L':50,'C':100,'D':500,'M':1000}\r\n",
    "      i = 0\r\n",
    "      int1 = 0\r\n",
    "      for i in range(0,len(s)):\r\n",
    "         print(\"y1\",s[i:i+2])\r\n",
    "         if i+1<len(s) and s[i:i+2] in rom_dict:\r\n",
    "            int1+=rom_dict[s[i:i+2]]\r\n",
    "            i+=2\r\n",
    "         else:\r\n",
    "            #print(i)\r\n",
    "            int1+=rom_dict[s[i]]\r\n",
    "            i+=1\r\n",
    "      return int1\r\n",
    "romanToInt(\"MCMXCIV\")"
   ],
   "outputs": [
    {
     "output_type": "stream",
     "name": "stdout",
     "text": [
      "y1 MC\n",
      "y1 CM\n",
      "y1 MX\n",
      "y1 XC\n",
      "y1 CI\n",
      "y1 IV\n",
      "y1 V\n"
     ]
    },
    {
     "output_type": "execute_result",
     "data": {
      "text/plain": [
       "3099"
      ]
     },
     "metadata": {},
     "execution_count": 1
    }
   ],
   "metadata": {}
  }
 ],
 "metadata": {
  "orig_nbformat": 4,
  "language_info": {
   "name": "python",
   "version": "3.7.6",
   "mimetype": "text/x-python",
   "codemirror_mode": {
    "name": "ipython",
    "version": 3
   },
   "pygments_lexer": "ipython3",
   "nbconvert_exporter": "python",
   "file_extension": ".py"
  },
  "kernelspec": {
   "name": "python3",
   "display_name": "Python 3.7.6 64-bit"
  },
  "interpreter": {
   "hash": "04635d289a519a1410467dd0afb0db42f9184808881ca68b2eb5a687a20a5a94"
  }
 },
 "nbformat": 4,
 "nbformat_minor": 2
}