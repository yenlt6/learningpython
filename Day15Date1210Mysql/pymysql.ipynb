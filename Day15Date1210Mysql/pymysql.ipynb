{
 "cells": [
  {
   "cell_type": "markdown",
   "metadata": {},
   "source": [
    "# Python vs MySQL\n",
    "\n",
    "Để truy cập MySQL từ Python cần phải có một driver\n",
    "\n",
    "Cài đặt driver\n",
    "\n",
    "`pip install PyMySQL`"
   ]
  },
  {
   "cell_type": "code",
   "execution_count": 28,
   "metadata": {},
   "outputs": [
    {
     "data": {
      "text/plain": [
       "'2021-10-16 15:00:05'"
      ]
     },
     "execution_count": 28,
     "metadata": {},
     "output_type": "execute_result"
    }
   ],
   "source": [
    "# import the time module\n",
    "from datetime import datetime\n",
    "\n",
    "today  = datetime.now()\n",
    "\n",
    "\n",
    "today.strftime('%Y-%m-%d %H:%M:%S')"
   ]
  },
  {
   "cell_type": "code",
   "execution_count": null,
   "metadata": {},
   "outputs": [],
   "source": [
    " INSERT INTO some_table \n",
    " (ts_column) \n",
    " VALUES \n",
    " (to_timestamp('16-05-2011 15:36:38', 'dd-mm-yyyy hh24:mi:ss'));"
   ]
  },
  {
   "cell_type": "code",
   "execution_count": null,
   "metadata": {},
   "outputs": [],
   "source": [
    "# Kết nối đến MySQL\n",
    "from pymysql import connect, cursors\n",
    "\n",
    "config = {\n",
    "    \"host\": \"localhost\",\n",
    "    \"user\": \"root\",\n",
    "    \"password\": \"123456\",\n",
    "    \"database\": \"demo\",\n",
    "}\n",
    "\n",
    "conn = connect(**config)\n",
    "conn.close()"
   ]
  },
  {
   "cell_type": "code",
   "execution_count": null,
   "metadata": {},
   "outputs": [],
   "source": [
    "from pymysql import connect, cursors\n",
    "config = {\n",
    "    'host': 'remotemysql.com',\n",
    "    'user': 'UyMDXcxEoz',\n",
    "    'password': 'lFJmWnNbEC',\n",
    "    'database': 'UyMDXcxEoz'\n",
    "}\n",
    "conn = connect(**config)\n",
    "conn.close()"
   ]
  },
  {
   "cell_type": "code",
   "execution_count": 14,
   "metadata": {},
   "outputs": [],
   "source": [
    "from pymysql import connect, cursors\n",
    "\n",
    "config = {\n",
    "    \"host\": \"10.124.60.67\",\n",
    "    \"user\": \"omd_qc\",\n",
    "    \"password\": \"omd_qc\",\n",
    "    \"database\": \"game_log\",\n",
    "}\n",
    "\n",
    "conn = connect(**config)\n",
    "# conn.close()"
   ]
  },
  {
   "cell_type": "code",
   "execution_count": 26,
   "metadata": {},
   "outputs": [
    {
     "data": {
      "text/plain": [
       "datetime.datetime(2021, 10, 16, 7, 57, 34, 721096, tzinfo=datetime.timezone.utc)"
      ]
     },
     "execution_count": 26,
     "metadata": {},
     "output_type": "execute_result"
    }
   ],
   "source": [
    "from datetime import datetime, timezone\n",
    "\n",
    "dt = datetime.now(timezone.utc)\n",
    "dt\n",
    "# cur.execute('INSERT INTO mytable (mycol) VALUES (%s)', (dt,))"
   ]
  },
  {
   "cell_type": "code",
   "execution_count": 36,
   "metadata": {},
   "outputs": [
    {
     "name": "stdout",
     "output_type": "stream",
     "text": [
      "2021-10-16 15:00:05.093357\n"
     ]
    },
    {
     "ename": "InterfaceError",
     "evalue": "(0, '')",
     "output_type": "error",
     "traceback": [
      "\u001b[1;31m---------------------------------------------------------------------------\u001b[0m",
      "\u001b[1;31mTypeError\u001b[0m                                 Traceback (most recent call last)",
      "\u001b[1;32m~\\AppData\\Local\\Temp/ipykernel_12868/2305303078.py\u001b[0m in \u001b[0;36m<module>\u001b[1;34m\u001b[0m\n\u001b[0;32m      8\u001b[0m     \u001b[1;31m#inserting the values into the table\u001b[0m\u001b[1;33m\u001b[0m\u001b[1;33m\u001b[0m\u001b[1;33m\u001b[0m\u001b[0m\n\u001b[1;32m----> 9\u001b[1;33m     \u001b[0mcur\u001b[0m\u001b[1;33m.\u001b[0m\u001b[0mexecute\u001b[0m\u001b[1;33m(\u001b[0m\u001b[0msql\u001b[0m\u001b[1;33m,\u001b[0m\u001b[0mval\u001b[0m\u001b[1;33m)\u001b[0m\u001b[1;33m\u001b[0m\u001b[1;33m\u001b[0m\u001b[0m\n\u001b[0m\u001b[0;32m     10\u001b[0m     \u001b[1;31m#commit the transaction\u001b[0m\u001b[1;33m\u001b[0m\u001b[1;33m\u001b[0m\u001b[1;33m\u001b[0m\u001b[0m\n",
      "\u001b[1;32mC:\\Python37\\lib\\site-packages\\pymysql\\cursors.py\u001b[0m in \u001b[0;36mexecute\u001b[1;34m(self, query, args)\u001b[0m\n\u001b[0;32m    145\u001b[0m \u001b[1;33m\u001b[0m\u001b[0m\n\u001b[1;32m--> 146\u001b[1;33m         \u001b[0mquery\u001b[0m \u001b[1;33m=\u001b[0m \u001b[0mself\u001b[0m\u001b[1;33m.\u001b[0m\u001b[0mmogrify\u001b[0m\u001b[1;33m(\u001b[0m\u001b[0mquery\u001b[0m\u001b[1;33m,\u001b[0m \u001b[0margs\u001b[0m\u001b[1;33m)\u001b[0m\u001b[1;33m\u001b[0m\u001b[1;33m\u001b[0m\u001b[0m\n\u001b[0m\u001b[0;32m    147\u001b[0m \u001b[1;33m\u001b[0m\u001b[0m\n",
      "\u001b[1;32mC:\\Python37\\lib\\site-packages\\pymysql\\cursors.py\u001b[0m in \u001b[0;36mmogrify\u001b[1;34m(self, query, args)\u001b[0m\n\u001b[0;32m    124\u001b[0m         \u001b[1;32mif\u001b[0m \u001b[0margs\u001b[0m \u001b[1;32mis\u001b[0m \u001b[1;32mnot\u001b[0m \u001b[1;32mNone\u001b[0m\u001b[1;33m:\u001b[0m\u001b[1;33m\u001b[0m\u001b[1;33m\u001b[0m\u001b[0m\n\u001b[1;32m--> 125\u001b[1;33m             \u001b[0mquery\u001b[0m \u001b[1;33m=\u001b[0m \u001b[0mquery\u001b[0m \u001b[1;33m%\u001b[0m \u001b[0mself\u001b[0m\u001b[1;33m.\u001b[0m\u001b[0m_escape_args\u001b[0m\u001b[1;33m(\u001b[0m\u001b[0margs\u001b[0m\u001b[1;33m,\u001b[0m \u001b[0mconn\u001b[0m\u001b[1;33m)\u001b[0m\u001b[1;33m\u001b[0m\u001b[1;33m\u001b[0m\u001b[0m\n\u001b[0m\u001b[0;32m    126\u001b[0m \u001b[1;33m\u001b[0m\u001b[0m\n",
      "\u001b[1;31mTypeError\u001b[0m: format requires a mapping",
      "\nDuring handling of the above exception, another exception occurred:\n",
      "\u001b[1;31mInterfaceError\u001b[0m                            Traceback (most recent call last)",
      "\u001b[1;32m~\\AppData\\Local\\Temp/ipykernel_12868/2305303078.py\u001b[0m in \u001b[0;36m<module>\u001b[1;34m\u001b[0m\n\u001b[0;32m     11\u001b[0m     \u001b[0mconn\u001b[0m\u001b[1;33m.\u001b[0m\u001b[0mcommit\u001b[0m\u001b[1;33m(\u001b[0m\u001b[1;33m)\u001b[0m\u001b[1;33m\u001b[0m\u001b[1;33m\u001b[0m\u001b[0m\n\u001b[0;32m     12\u001b[0m \u001b[1;32mexcept\u001b[0m\u001b[1;33m:\u001b[0m\u001b[1;33m\u001b[0m\u001b[1;33m\u001b[0m\u001b[0m\n\u001b[1;32m---> 13\u001b[1;33m     \u001b[0mconn\u001b[0m\u001b[1;33m.\u001b[0m\u001b[0mrollback\u001b[0m\u001b[1;33m(\u001b[0m\u001b[1;33m)\u001b[0m\u001b[1;33m\u001b[0m\u001b[1;33m\u001b[0m\u001b[0m\n\u001b[0m\u001b[0;32m     14\u001b[0m \u001b[0mprint\u001b[0m\u001b[1;33m(\u001b[0m\u001b[0mcur\u001b[0m\u001b[1;33m.\u001b[0m\u001b[0mrowcount\u001b[0m\u001b[1;33m,\u001b[0m\u001b[1;34m\"record inserted!\"\u001b[0m\u001b[1;33m)\u001b[0m\u001b[1;33m\u001b[0m\u001b[1;33m\u001b[0m\u001b[0m\n\u001b[0;32m     15\u001b[0m \u001b[0mconn\u001b[0m\u001b[1;33m.\u001b[0m\u001b[0mclose\u001b[0m\u001b[1;33m(\u001b[0m\u001b[1;33m)\u001b[0m\u001b[1;33m\u001b[0m\u001b[1;33m\u001b[0m\u001b[0m\n",
      "\u001b[1;32mC:\\Python37\\lib\\site-packages\\pymysql\\connections.py\u001b[0m in \u001b[0;36mrollback\u001b[1;34m(self)\u001b[0m\n\u001b[0;32m    477\u001b[0m         \u001b[1;32min\u001b[0m \u001b[0mthe\u001b[0m \u001b[0mspecification\u001b[0m\u001b[1;33m.\u001b[0m\u001b[1;33m\u001b[0m\u001b[1;33m\u001b[0m\u001b[0m\n\u001b[0;32m    478\u001b[0m         \"\"\"\n\u001b[1;32m--> 479\u001b[1;33m         \u001b[0mself\u001b[0m\u001b[1;33m.\u001b[0m\u001b[0m_execute_command\u001b[0m\u001b[1;33m(\u001b[0m\u001b[0mCOMMAND\u001b[0m\u001b[1;33m.\u001b[0m\u001b[0mCOM_QUERY\u001b[0m\u001b[1;33m,\u001b[0m \u001b[1;34m\"ROLLBACK\"\u001b[0m\u001b[1;33m)\u001b[0m\u001b[1;33m\u001b[0m\u001b[1;33m\u001b[0m\u001b[0m\n\u001b[0m\u001b[0;32m    480\u001b[0m         \u001b[0mself\u001b[0m\u001b[1;33m.\u001b[0m\u001b[0m_read_ok_packet\u001b[0m\u001b[1;33m(\u001b[0m\u001b[1;33m)\u001b[0m\u001b[1;33m\u001b[0m\u001b[1;33m\u001b[0m\u001b[0m\n\u001b[0;32m    481\u001b[0m \u001b[1;33m\u001b[0m\u001b[0m\n",
      "\u001b[1;32mC:\\Python37\\lib\\site-packages\\pymysql\\connections.py\u001b[0m in \u001b[0;36m_execute_command\u001b[1;34m(self, command, sql)\u001b[0m\n\u001b[0;32m    791\u001b[0m         \"\"\"\n\u001b[0;32m    792\u001b[0m         \u001b[1;32mif\u001b[0m \u001b[1;32mnot\u001b[0m \u001b[0mself\u001b[0m\u001b[1;33m.\u001b[0m\u001b[0m_sock\u001b[0m\u001b[1;33m:\u001b[0m\u001b[1;33m\u001b[0m\u001b[1;33m\u001b[0m\u001b[0m\n\u001b[1;32m--> 793\u001b[1;33m             \u001b[1;32mraise\u001b[0m \u001b[0merr\u001b[0m\u001b[1;33m.\u001b[0m\u001b[0mInterfaceError\u001b[0m\u001b[1;33m(\u001b[0m\u001b[1;36m0\u001b[0m\u001b[1;33m,\u001b[0m \u001b[1;34m\"\"\u001b[0m\u001b[1;33m)\u001b[0m\u001b[1;33m\u001b[0m\u001b[1;33m\u001b[0m\u001b[0m\n\u001b[0m\u001b[0;32m    794\u001b[0m \u001b[1;33m\u001b[0m\u001b[0m\n\u001b[0;32m    795\u001b[0m         \u001b[1;31m# If the last query was unbuffered, make sure it finishes before\u001b[0m\u001b[1;33m\u001b[0m\u001b[1;33m\u001b[0m\u001b[1;33m\u001b[0m\u001b[0m\n",
      "\u001b[1;31mInterfaceError\u001b[0m: (0, '')"
     ]
    }
   ],
   "source": [
    "\n",
    "cur = conn.cursor()\n",
    "sql = (\"insert into games(play_at,winner) values (%(today)s, '%s')\")\n",
    "#giá trị của một row được cung cấp dưới dạng tuple\n",
    "# val = (dt)\n",
    "val = (today,\"The Mac\")\n",
    "print(today)\n",
    "try:\n",
    "    #inserting the values into the table\n",
    "    cur.execute(sql,val)\n",
    "    #commit the transaction\n",
    "    conn.commit()\n",
    "except:\n",
    "    conn.rollback()\n",
    "print(cur.rowcount,\"record inserted!\")\n",
    "conn.close()"
   ]
  },
  {
   "cell_type": "code",
   "execution_count": 12,
   "metadata": {},
   "outputs": [
    {
     "data": {
      "text/plain": [
       "datetime.datetime(2021, 10, 16, 14, 34, 16, 488702)"
      ]
     },
     "execution_count": 12,
     "metadata": {},
     "output_type": "execute_result"
    }
   ],
   "source": [
    "# import the time module\n",
    "import time\n",
    "from datetime import date\n",
    "\n",
    "from datetime import datetime\n",
    "\n",
    "today  = datetime.now()\n",
    "today\n",
    "\n",
    "\n",
    "  "
   ]
  },
  {
   "cell_type": "code",
   "execution_count": null,
   "metadata": {},
   "outputs": [],
   "source": [
    "DROP DATABASE IF EXISTS game_log;\n",
    "\n",
    "CREATE DATABASE IF NOT EXISTS game_log;\n",
    "\n",
    "CREATE TABLE IF NOT EXISTS game_log.games (\n",
    "\tgame_id INT PRIMARY KEY AUTO_INCREMENT,\n",
    "    play_at DATETIME NOT NULL DEFAULT CURRENT_TIMESTAMP,\n",
    "    winner VARCHAR(6)\n",
    ") ENGINE=InnoDB AUTO_INCREMENT=1001;\n",
    "\n",
    "CREATE TABLE IF NOT EXISTS game_log.logs (\n",
    "\tlog_id INT PRIMARY KEY AUTO_INCREMENT,\n",
    "    game_id INT,\n",
    "    player VARCHAR(6) NOT NULL,\n",
    "    cards CHAR(8) NOT NULL,\n",
    "    point TINYINT NOT NULL,\n",
    "    biggest_card CHAR(2) NOT NULL,\n",
    "    FOREIGN KEY (game_id) REFERENCES UyMDXcxEoz.games(game_id)\n",
    ") ENGINE=InnoDB AUTO_INCREMENT=10001;"
   ]
  },
  {
   "cell_type": "code",
   "execution_count": null,
   "metadata": {},
   "outputs": [],
   "source": [
    "# Thêm dữ liệu\n",
    "def add_winner(student):\n",
    "    sql = '''\n",
    "    INSERT INTO gam (play_at, winner)\n",
    "    VALUES (%(dob)s,%(name)s)\n",
    "    '''\n",
    "\n",
    "    try:\n",
    "        with connect(**config) as conn:\n",
    "            with conn.cursor() as cur:\n",
    "                cur.execute(sql, student)\n",
    "                conn.commit()\n",
    "                return cur.lastrowid\n",
    "    except Error as e:\n",
    "        print(e)\n",
    "\n",
    "new_student = {\n",
    "    \"name\": input(\"Name: \"),\n",
    "    \"dob\": input(\"DOB: \"),\n",
    "    \"email\": input(\"Email: \")\n",
    "}\n",
    "\n",
    "print(add_winner(new_student))"
   ]
  },
  {
   "cell_type": "code",
   "execution_count": 64,
   "metadata": {},
   "outputs": [
    {
     "name": "stdout",
     "output_type": "stream",
     "text": [
      "Connected to database: demo\n"
     ]
    }
   ],
   "source": [
    "# Xử lý exception, tự đóng kết nối\n",
    "from pymysql import connect, cursors, Error\n",
    "\n",
    "config = {\n",
    "    \"host\": \"localhost\",\n",
    "    \"user\": \"root\",\n",
    "    \"password\": \"123456\",\n",
    "    \"database\": \"demo\",\n",
    "    \"cursorclass\": cursors.DictCursor\n",
    "}\n",
    "\n",
    "try:\n",
    "    with connect(**config) as conn:\n",
    "        print(\"Connected to database:\", conn.db.decode(\"UTF-8\"))\n",
    "except Error as e:\n",
    "    print(e)"
   ]
  },
  {
   "cell_type": "code",
   "execution_count": 83,
   "metadata": {},
   "outputs": [
    {
     "name": "stdout",
     "output_type": "stream",
     "text": [
      "101 Ba Còi 1992-05-24 ba@techmaster.vn\n"
     ]
    }
   ],
   "source": [
    "# Truy vấn dữ liệu\n",
    "def get_all_students():\n",
    "    sql = '''SELECT * FROM students'''\n",
    "\n",
    "    try:\n",
    "        with connect(**config) as conn:\n",
    "            # Cursor Object đại diện cho con trỏ trong CSDL\n",
    "            # Có nhiệm vụ tìm nạp dữ liệu, thực thi câu lệnh\n",
    "            with conn.cursor() as cur:\n",
    "                # Thực thi câu lệnh\n",
    "                cur.execute(sql)\n",
    "                \n",
    "                # Các hàm lấy dữ liệu:\n",
    "                # - fetchone() - Đọc 1 record\n",
    "                # - fetchall() - Đọc toàn bộ records\n",
    "                # - fetchmany(size) - Đọc một số records\n",
    "                return cur.fetchall()\n",
    "    except Error as e:\n",
    "        print(e)\n",
    "\n",
    "def get_student_by_id(id):\n",
    "    # Với các truy vấn cần chèn giá trị\n",
    "    # Sử dụng mẫu pyformat\n",
    "    sql = '''SELECT * FROM students WHERE id = %(id)s'''\n",
    "\n",
    "    try:\n",
    "        with connect(**config) as conn:\n",
    "            with conn.cursor() as cur:\n",
    "                # Truyền args cho params\n",
    "                cur.execute(sql, {'id': id})\n",
    "                return cur.fetchone()\n",
    "    except Error as e:\n",
    "        print(e)\n",
    "\n",
    "student = get_student_by_id(101)\n",
    "\n",
    "if student is not None:\n",
    "    id, name, dob, email = student.values()\n",
    "    print(id, name, dob, email)"
   ]
  },
  {
   "cell_type": "code",
   "execution_count": 69,
   "metadata": {},
   "outputs": [
    {
     "name": "stdout",
     "output_type": "stream",
     "text": [
      "102\n"
     ]
    }
   ],
   "source": [
    "# Thêm dữ liệu\n",
    "def add_student(student):\n",
    "    sql = '''\n",
    "    INSERT INTO students (name, dob, email)\n",
    "    VALUES (%(name)s, %(dob)s, %(email)s)\n",
    "    '''\n",
    "\n",
    "    try:\n",
    "        with connect(**config) as conn:\n",
    "            with conn.cursor() as cur:\n",
    "                cur.execute(sql, student)\n",
    "                conn.commit()\n",
    "                return cur.lastrowid\n",
    "    except Error as e:\n",
    "        print(e)\n",
    "\n",
    "new_student = {\n",
    "    \"name\": input(\"Name: \"),\n",
    "    \"dob\": input(\"DOB: \"),\n",
    "    \"email\": input(\"Email: \")\n",
    "}\n",
    "\n",
    "print(add_student(new_student))"
   ]
  },
  {
   "cell_type": "code",
   "execution_count": 78,
   "metadata": {},
   "outputs": [
    {
     "name": "stdout",
     "output_type": "stream",
     "text": [
      "Cập nhật thông tin học viên!\n",
      "Nhấn Enter để bỏ qua, giữ nguyên giá trị hiện tại\n",
      "True\n"
     ]
    }
   ],
   "source": [
    "# Cập nhật dữ liệu\n",
    "def update_student_info(student):\n",
    "    sql = '''\n",
    "    UPDATE students\n",
    "    SET name = %(name)s,\n",
    "        dob = %(dob)s,\n",
    "        email = %(email)s\n",
    "    WHERE id = %(id)s\n",
    "    '''\n",
    "\n",
    "    try:\n",
    "        with connect(**config) as conn:\n",
    "            with conn.cursor() as cur:\n",
    "                cur.execute(sql, student)\n",
    "\n",
    "                if cur.rowcount:\n",
    "                    conn.commit()\n",
    "                    return True\n",
    "                else:\n",
    "                    return False\n",
    "    except Error as e:\n",
    "        print(e)\n",
    "\n",
    "student = get_student_by_id(101)\n",
    "\n",
    "if student is not None:\n",
    "    print(\"Cập nhật thông tin học viên!\")\n",
    "    print(\"Nhấn Enter để bỏ qua, giữ nguyên giá trị hiện tại\")\n",
    "\n",
    "    for key in student:\n",
    "        if key == \"id\": continue\n",
    "\n",
    "        label = f\"{key[0].upper() + key[1:].lower()}: ({student[key]})\"\n",
    "        student[key] = input(label) or student[key]\n",
    "    \n",
    "    print(update_student_info(student))"
   ]
  },
  {
   "cell_type": "code",
   "execution_count": 86,
   "metadata": {},
   "outputs": [
    {
     "name": "stdout",
     "output_type": "stream",
     "text": [
      "True\n"
     ]
    }
   ],
   "source": [
    "# Xóa dữ liệu\n",
    "def delete_student_by_id(id):\n",
    "    sql = '''DELETE FROM students WHERE id = %s'''\n",
    "\n",
    "    try:\n",
    "        with connect(**config) as conn:\n",
    "            with conn.cursor() as cur:\n",
    "                cur.execute(sql, id)\n",
    "\n",
    "                if cur.rowcount:\n",
    "                    conn.commit()\n",
    "                    return True\n",
    "                else:\n",
    "                    return False\n",
    "    except Error as e:\n",
    "        print(e)\n",
    "\n",
    "print(delete_student_by_id(101))"
   ]
  }
 ],
 "metadata": {
  "interpreter": {
   "hash": "04635d289a519a1410467dd0afb0db42f9184808881ca68b2eb5a687a20a5a94"
  },
  "kernelspec": {
   "display_name": "Python 3.7.6 64-bit",
   "name": "python3"
  },
  "language_info": {
   "codemirror_mode": {
    "name": "ipython",
    "version": 3
   },
   "file_extension": ".py",
   "mimetype": "text/x-python",
   "name": "python",
   "nbconvert_exporter": "python",
   "pygments_lexer": "ipython3",
   "version": "3.7.6"
  },
  "orig_nbformat": 4
 },
 "nbformat": 4,
 "nbformat_minor": 2
}
