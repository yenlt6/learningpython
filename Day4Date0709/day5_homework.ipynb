{
 "cells": [
  {
   "cell_type": "code",
   "execution_count": 3,
   "source": [
    "'''\r\n",
    "Điểm thi học kỳ của sinh viên được lưu ở định dạng 1 tuple có 3 phần tử (m1, m2, e) gồm:\r\n",
    "m1 = midterm1\r\n",
    "m2 = midterm2\r\n",
    "e = endterm\r\n",
    "Cho một list gồm danh sách điểm thi của sinh viên 1 lớp. Viết chương trình Python để sắp xếp danh sách trước theo thứ tự tăng dần theo phần tử cuối cùng trong mỗi tuple (sắp xếp theo điểm cuối kỳ - endterm tăng dần).\r\n",
    "vd sort_list_last([(1, 2, 5), (9, 1, 2), (6, 4, 4), (3, 2, 3), (10, 2, 1)]) == [(10, 2, 1), (9, 1, 2), (3, 2, 3), (6, 4, 4), (1, 2, 5)]\r\n",
    "'''\r\n",
    "\r\n",
    "def sortedByEndtTerm(list_vlue):\r\n",
    "    return sorted(list_vlue,key=lambda x: x[::-1])\r\n",
    "\r\n",
    "list_1=[(1, 2, 5), (9, 1, 2), (6, 4, 4), (3, 2, 3), (10, 2, 1)]\r\n",
    "print(\"Sắp xếp danh sách trước theo thứ tự tăng dần theo phần tử cuối cùng trong mỗi tuple (sắp xếp theo điểm cuối kỳ - endterm tăng dần):\")\r\n",
    "print(sortedByEndtTerm(list_1))\r\n"
   ],
   "outputs": [
    {
     "output_type": "stream",
     "name": "stdout",
     "text": [
      "Sắp xếp danh sách trước theo thứ tự tăng dần theo phần tử cuối cùng trong mỗi tuple (sắp xếp theo điểm cuối kỳ - endterm tăng dần):\n",
      "[(10, 2, 1), (9, 1, 2), (3, 2, 3), (6, 4, 4), (1, 2, 5)]\n"
     ]
    }
   ],
   "metadata": {}
  },
  {
   "cell_type": "code",
   "execution_count": 59,
   "source": [
    "''' ==== Bai 2 =======\r\n",
    "Cho 1 chuỗi A (vd: \"tHE fOX iS cOMING fOR tHE cHICKEN\"). \r\n",
    "Viết hàm đảo ngược thứ tự các từ trong chuỗi và đổi tất cả các chữ cái từ hoa thành thường và ngược lại. \r\n",
    "(kết quả là \"Chicken The For Coming Is Fox The\")'''\r\n",
    "\r\n",
    "s=\"tHE fOX iS cOMING fOR tHE cHICKEN\"\r\n",
    "def reverseString(s):\r\n",
    "    list_s=[]\r\n",
    "    for i in range(0,len(s)):\r\n",
    "        list_s.append(s[i])\r\n",
    "    for j in range(0,len(list_s)):\r\n",
    "        if list_s[j].isupper():\r\n",
    "            list_s[j]=list_s[j].lower()\r\n",
    "        elif list_s[j].islower():\r\n",
    "            list_s[j]=list_s[j].upper()\r\n",
    "    print(\"Biến chuỗi đã cho thành list, và đổi chữ hoa thành thường, thường thành hoa\",list_s)\r\n",
    "    list_3=''.join(list_s)\r\n",
    "    print(\"Biến thành một chuỗi với các từ:\", list_3)    \r\n",
    "    list_4=list_3.split(\" \");\r\n",
    "    list_5=list_4[::-1]\r\n",
    "    s_3=' '.join(list_5)\r\n",
    "    return s_3\r\n",
    "\r\n",
    "print(\"Sau khi dao chuoi:\",reverseString(s))\r\n",
    "\r\n",
    "\r\n",
    "\r\n",
    "\r\n"
   ],
   "outputs": [
    {
     "output_type": "stream",
     "name": "stdout",
     "text": [
      "Biến chuỗi đã cho thành list, và đổi chữ hoa thành thường, thường thành hoa ['T', 'h', 'e', ' ', 'F', 'o', 'x', ' ', 'I', 's', ' ', 'C', 'o', 'm', 'i', 'n', 'g', ' ', 'F', 'o', 'r', ' ', 'T', 'h', 'e', ' ', 'C', 'h', 'i', 'c', 'k', 'e', 'n']\n",
      "Biến thành một chuỗi với các từ: The Fox Is Coming For The Chicken\n",
      "sau khi dao chuoi: Chicken The For Coming Is Fox The\n"
     ]
    }
   ],
   "metadata": {}
  },
  {
   "cell_type": "code",
   "execution_count": 3,
   "source": [
    "def take_secon(elemm):\r\n",
    "    return elemm[2]\r\n",
    "\r\n",
    "random =[(1, 2, 5), (9, 1, 2), (6, 4, 4), (3, 2, 3), (10, 2, 1),(9,8,6)]\r\n",
    "sorted_list = sorted(random, key=take_secon)\r\n",
    "print('List đã được sắp xếp:', sorted_list)"
   ],
   "outputs": [
    {
     "output_type": "stream",
     "name": "stdout",
     "text": [
      "List đã được sắp xếp: [(10, 2, 1), (9, 1, 2), (3, 2, 3), (6, 4, 4), (1, 2, 5), (9, 8, 6)]\n"
     ]
    }
   ],
   "metadata": {}
  },
  {
   "cell_type": "code",
   "execution_count": 7,
   "source": [
    "s=\"\"\r\n",
    "str=\"tHE fOX iS cOMING fOR tHE cHICKEN\"\r\n",
    "l=str.split(\" \")\r\n",
    "n= len(l)\r\n",
    "for i in range(0,n):\r\n",
    "    s = s + l[n-i-1] + \" \"\r\n",
    "s1 = \"\"\r\n",
    "print(\"1111\",s)\r\n",
    "for i in s:\r\n",
    "    if i.isupper():\r\n",
    "        i=i.lower()\r\n",
    "    else:\r\n",
    "        i=i.upper()\r\n",
    "\r\n",
    "    s1 = s1 + i\r\n",
    "\r\n",
    "print(s1)"
   ],
   "outputs": [
    {
     "output_type": "stream",
     "name": "stdout",
     "text": [
      "1111 cHICKEN tHE fOR cOMING iS fOX tHE \n",
      "Chicken The For Coming Is Fox The \n"
     ]
    }
   ],
   "metadata": {}
  },
  {
   "cell_type": "code",
   "execution_count": null,
   "source": [
    "import re\r\n",
    "import sys\r\n",
    "from collections import Counter\r\n",
    "\r\n",
    "\r\n",
    "def take_secon(elemm):\r\n",
    "    return elemm[1]\r\n",
    "\r\n",
    "\r\n",
    "# +++your code here+++\r\n",
    "def print_words(filename):\r\n",
    "  f = open(filename)\r\n",
    "  r =f.read().strip().lower()\r\n",
    "  cleanString = re.sub(\"[,.:`?'\\-\\\"\\]\\[!;)(\\*_\\n]\", '', r)\r\n",
    "  li = re.split(\"\\s+\", cleanString)\r\n",
    "  di = Counter(li).items()\r\n",
    "  f.close()\r\n",
    "  return di\r\n",
    "\r\n",
    "def print_top(filename):\r\n",
    "  f = open(filename)\r\n",
    "  r = f.read().strip().lower()\r\n",
    "  cleanString = re.sub(\"[,.:`?'\\-\\\"\\]\\[!;)(\\*_\\n]\", '', r)\r\n",
    "  li = re.split(\"\\s+\", cleanString)\r\n",
    "  di = Counter(li).items()\r\n",
    "  sx = sorted(di, key=take_secon, reverse=True)\r\n",
    "  return sx[0:19]\r\n",
    "\r\n",
    "###\"alice.txt\"\r\n",
    "\r\n",
    "# This basic command line argument parsing code is provided and\r\n",
    "# calls the print_words() and print_top() functions which you must define.\r\n",
    "def main():\r\n",
    "    for i in  print_top(\"alice.txt\"):\r\n",
    "        print(i[0],\":\",i[1])\r\n",
    "\r\n",
    "    print(\"===================================================================\")\r\n",
    "    for i in  print_words(\"alice.txt\"):\r\n",
    "        print(i[0],\":\",i[1])\r\n",
    "\r\n",
    "\r\n",
    "\r\n"
   ],
   "outputs": [],
   "metadata": {}
  },
  {
   "cell_type": "code",
   "execution_count": 4,
   "source": [
    "str=\"tHE fOX iS cOMING fOR tHE cHICKEN\"\r\n",
    "l=str.split(\" \")\r\n",
    "s=\"\"\r\n",
    "n= len(l)\r\n",
    "for i in range(0,n):\r\n",
    "    s = s + l[n-i-1].lower() + \" \"\r\n",
    "print(s)"
   ],
   "outputs": [
    {
     "output_type": "stream",
     "name": "stdout",
     "text": [
      "chicken the for coming is fox the \n"
     ]
    }
   ],
   "metadata": {}
  },
  {
   "cell_type": "code",
   "execution_count": 1,
   "source": [
    "import os\r\n",
    "my_file_handle=open(\"small.docx\")\r\n",
    "my_file_handle.read()"
   ],
   "outputs": [
    {
     "output_type": "error",
     "ename": "FileNotFoundError",
     "evalue": "[Errno 2] No such file or directory: 'small.docx'",
     "traceback": [
      "\u001b[1;31m---------------------------------------------------------------------------\u001b[0m",
      "\u001b[1;31mFileNotFoundError\u001b[0m                         Traceback (most recent call last)",
      "\u001b[1;32m~\\AppData\\Local\\Temp/ipykernel_256/3562272517.py\u001b[0m in \u001b[0;36m<module>\u001b[1;34m\u001b[0m\n\u001b[0;32m      1\u001b[0m \u001b[1;32mimport\u001b[0m \u001b[0mos\u001b[0m\u001b[1;33m\u001b[0m\u001b[1;33m\u001b[0m\u001b[0m\n\u001b[1;32m----> 2\u001b[1;33m \u001b[0mmy_file_handle\u001b[0m\u001b[1;33m=\u001b[0m\u001b[0mopen\u001b[0m\u001b[1;33m(\u001b[0m\u001b[1;34m\"small.docx\"\u001b[0m\u001b[1;33m)\u001b[0m\u001b[1;33m\u001b[0m\u001b[1;33m\u001b[0m\u001b[0m\n\u001b[0m\u001b[0;32m      3\u001b[0m \u001b[0mmy_file_handle\u001b[0m\u001b[1;33m.\u001b[0m\u001b[0mread\u001b[0m\u001b[1;33m(\u001b[0m\u001b[1;33m)\u001b[0m\u001b[1;33m\u001b[0m\u001b[1;33m\u001b[0m\u001b[0m\n",
      "\u001b[1;31mFileNotFoundError\u001b[0m: [Errno 2] No such file or directory: 'small.docx'"
     ]
    }
   ],
   "metadata": {}
  }
 ],
 "metadata": {
  "orig_nbformat": 4,
  "language_info": {
   "name": "python",
   "version": "3.7.6",
   "mimetype": "text/x-python",
   "codemirror_mode": {
    "name": "ipython",
    "version": 3
   },
   "pygments_lexer": "ipython3",
   "nbconvert_exporter": "python",
   "file_extension": ".py"
  },
  "kernelspec": {
   "name": "python3",
   "display_name": "Python 3.7.6 64-bit"
  },
  "interpreter": {
   "hash": "04635d289a519a1410467dd0afb0db42f9184808881ca68b2eb5a687a20a5a94"
  }
 },
 "nbformat": 4,
 "nbformat_minor": 2
}