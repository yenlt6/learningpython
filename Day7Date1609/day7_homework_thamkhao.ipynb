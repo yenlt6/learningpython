{
 "cells": [
  {
   "cell_type": "code",
   "execution_count": 4,
   "source": [
    "'''\r\n",
    "\r\n",
    "'''\r\n",
    "\r\n",
    "import re\r\n",
    "contents = []\r\n",
    "with open('animal_code.google.com', 'r') as file_again:\r\n",
    "    for line in file_again:\r\n",
    "      path= re.search(\"GET (.*?) HTTP\",line).group(1)\r\n",
    "      path1=re.search(\"(.*?)\\.jpg\",path)\r\n",
    "      # b=re.search(\"bar-XYZ; ((.*?)@(.*?)com)\",line)\r\n",
    "      d=re.search(\"/(.\\..\\..\\..)\",line)\r\n",
    "      # if b :\r\n",
    "      #   c= b.group(1)\r\n",
    "      if path1:\r\n",
    "        if d :\r\n",
    "          host = d.group(1)\r\n",
    "          e=\"http://\"+host+path\r\n",
    "          contents.append(e)\r\n",
    "    setContent = set(contents)\r\n",
    "    content= list(setContent)\r\n",
    "for i in content: \r\n",
    "  print(i)"
   ],
   "outputs": [
    {
     "output_type": "stream",
     "name": "stdout",
     "text": [
      "http://2.0.0.6/edu/languages/google-python-class/images/puzzle/a-babg.jpg\n",
      "http://2.0.0.6/edu/languages/google-python-class/images/puzzle/a-babe.jpg\n",
      "http://2.0.0.6/edu/languages/google-python-class/images/puzzle/a-babi.jpg\n",
      "http://2.0.0.6/edu/languages/google-python-class/images/puzzle/a-baaj.jpg\n",
      "http://2.0.0.4/edu/languages/google-python-class/images/puzzle/a-babh.jpg\n",
      "http://2.0.0.4/edu/languages/google-python-class/images/puzzle/a-baab.jpg\n",
      "http://1.5.0.1/edu/languages/google-python-class/images/puzzle/a-baaf.jpg\n",
      "http://2.0.0.6/edu/languages/google-python-class/images/puzzle/a-baai.jpg\n",
      "http://1.5.0.1/edu/languages/google-python-class/images/puzzle/a-baab.jpg\n",
      "http://2.0.0.6/edu/languages/google-python-class/images/puzzle/a-babf.jpg\n",
      "http://2.0.0.4/edu/languages/google-python-class/images/puzzle/a-babj.jpg\n",
      "http://2.0.0.6/edu/languages/google-python-class/images/puzzle/a-baac.jpg\n",
      "http://2.0.0.6/edu/languages/google-python-class/images/puzzle/a-babc.jpg\n",
      "http://1.5.0.1/edu/languages/google-python-class/images/puzzle/a-babc.jpg\n",
      "http://2.0.0.6/edu/languages/google-python-class/images/puzzle/a-baaa.jpg\n",
      "http://1.5.0.1/edu/languages/google-python-class/images/puzzle/a-babi.jpg\n"
     ]
    }
   ],
   "metadata": {}
  }
 ],
 "metadata": {
  "orig_nbformat": 4,
  "language_info": {
   "name": "python",
   "version": "3.7.6",
   "mimetype": "text/x-python",
   "codemirror_mode": {
    "name": "ipython",
    "version": 3
   },
   "pygments_lexer": "ipython3",
   "nbconvert_exporter": "python",
   "file_extension": ".py"
  },
  "kernelspec": {
   "name": "python3",
   "display_name": "Python 3.7.6 64-bit"
  },
  "interpreter": {
   "hash": "04635d289a519a1410467dd0afb0db42f9184808881ca68b2eb5a687a20a5a94"
  }
 },
 "nbformat": 4,
 "nbformat_minor": 2
}