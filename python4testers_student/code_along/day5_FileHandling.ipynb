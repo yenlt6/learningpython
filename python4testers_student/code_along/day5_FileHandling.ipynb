{
 "cells": [
  {
   "cell_type": "markdown",
   "source": [
    "## Module và Package"
   ],
   "metadata": {}
  },
  {
   "cell_type": "code",
   "execution_count": null,
   "source": [
    "import math\r\n",
    "math.pi"
   ],
   "outputs": [],
   "metadata": {}
  },
  {
   "cell_type": "code",
   "execution_count": null,
   "source": [
    "num_list = [0.1]*10\r\n",
    "sum(num_list)"
   ],
   "outputs": [],
   "metadata": {}
  },
  {
   "cell_type": "code",
   "execution_count": null,
   "source": [
    "math.fsum(num_list)"
   ],
   "outputs": [],
   "metadata": {}
  },
  {
   "cell_type": "markdown",
   "source": [
    "## Câu lệnh Import\r\n",
    "Có 4 cách dùng\r\n",
    "* import <module_name>\r\n",
    "* from <module_name> import <name(s)>\r\n",
    "* from <module_name> import <name> as <alt_name>\r\n",
    "* import <module_name> as <alt_name>"
   ],
   "metadata": {}
  },
  {
   "cell_type": "code",
   "execution_count": null,
   "source": [
    "import hello     # module hello.py, chứa class Database\r\n",
    "db = hello.Database()\r\n",
    "# Do queries on db"
   ],
   "outputs": [],
   "metadata": {}
  },
  {
   "cell_type": "code",
   "execution_count": null,
   "source": [
    "from hello import Database \r\n",
    "db = Database()\r\n",
    "# Do queries on db"
   ],
   "outputs": [],
   "metadata": {}
  },
  {
   "cell_type": "code",
   "execution_count": null,
   "source": [
    "from vingroup.vinhome import Database as DB         # tránh trùng tên với class Database trong namespace hiện tại. Hoặc đơn giản là ngắn gọn hơn\r\n",
    "db = DB()\r\n",
    "# Do queries on db"
   ],
   "outputs": [],
   "metadata": {}
  },
  {
   "cell_type": "code",
   "execution_count": null,
   "source": [
    "from hello import Database, Query\r\n",
    "\r\n",
    "# xác định module nằm ở đâu\r\n",
    "hello.__file__"
   ],
   "outputs": [],
   "metadata": {}
  },
  {
   "cell_type": "code",
   "execution_count": null,
   "source": [
    "from hello import *  # DON'T DO THIS, code maintannce is a nightmare"
   ],
   "outputs": [],
   "metadata": {}
  },
  {
   "cell_type": "code",
   "execution_count": null,
   "source": [
    "# dùng hàm dir() để biết những gì đã được import vào trong namespace hiện tại.\r\n",
    "dir()"
   ],
   "outputs": [],
   "metadata": {}
  },
  {
   "cell_type": "code",
   "execution_count": null,
   "source": [
    "import this     # for fun"
   ],
   "outputs": [],
   "metadata": {}
  },
  {
   "cell_type": "markdown",
   "source": [
    "## Packages\r\n",
    "\r\n",
    "Giúp tổ chức code tốt hơn. \r\n",
    "\r\n",
    "```\r\n",
    "parent_directory/ \r\n",
    "    vingroup/ \r\n",
    "        vinmec.py \r\n",
    "        vinhome.py     \r\n",
    "        payments/ \r\n",
    "            __init__.py \r\n",
    "            vinid.py \r\n",
    "        products/\r\n",
    "            vinfast.py\r\n",
    "```"
   ],
   "metadata": {}
  },
  {
   "cell_type": "code",
   "execution_count": null,
   "source": [
    "# PYTHONPATH: danh sách các thư mục sẽ được tìm kiếm\r\n",
    "import sys\r\n",
    "sys.path"
   ],
   "outputs": [],
   "metadata": {}
  },
  {
   "cell_type": "code",
   "execution_count": null,
   "source": [
    "# import <module_name>[, <module_name> ...]\r\n",
    "import vingroup.vinhome, vingroup.vinmec\r\n",
    "vingroup.vinhome.ocean_park()\r\n",
    "\r\n",
    "x = vingroup.vinmec.time_city()\r\n",
    "x"
   ],
   "outputs": [],
   "metadata": {}
  },
  {
   "cell_type": "code",
   "execution_count": null,
   "source": [
    "# from <module_name> import <name(s)>\r\n",
    "from vingroup.vinhome import ocean_park\r\n",
    "ocean_park()"
   ],
   "outputs": [],
   "metadata": {}
  },
  {
   "cell_type": "code",
   "execution_count": null,
   "source": [
    "# from <module_name> import <name> as <alt_name>\r\n",
    "from vingroup.vinmec import time_city as VMTC\r\n",
    "x = VMTC()\r\n",
    "x"
   ],
   "outputs": [],
   "metadata": {}
  },
  {
   "cell_type": "code",
   "execution_count": null,
   "source": [
    "# from <package_name> import <modules_name>[, <module_name> ...]\r\n",
    "from vingroup import vinhome\r\n",
    "vinhome.ocean_park()\r\n",
    "\r\n",
    "# from <package_name> import <module_name> as <alt_name>\r\n",
    "from vingroup import vinmec as VM\r\n",
    "VM.time_city()"
   ],
   "outputs": [],
   "metadata": {}
  },
  {
   "cell_type": "code",
   "execution_count": null,
   "source": [
    "## Restart the notebook\r\n",
    "import vingroup          # <---- cú pháp đúng, nhưng không import module nào trong vingroup\r\n",
    "vingroup"
   ],
   "outputs": [],
   "metadata": {}
  },
  {
   "cell_type": "code",
   "execution_count": null,
   "source": [
    "vingroup.vinhome            # dùng những cách nêu ở trên để truy cập module vinhome, vinmec..."
   ],
   "outputs": [],
   "metadata": {}
  },
  {
   "cell_type": "code",
   "execution_count": null,
   "source": [
    "# __init__.py được chạy khi import package hay module. Dùng để tự động import nhiều modules trong package.\r\n",
    "import vingroup.payments"
   ],
   "outputs": [],
   "metadata": {}
  },
  {
   "cell_type": "code",
   "execution_count": null,
   "source": [
    "vingroup.payments.A"
   ],
   "outputs": [],
   "metadata": {}
  },
  {
   "cell_type": "code",
   "execution_count": null,
   "source": [
    "from vingroup.payments import vinid\r\n",
    "vinid.id()"
   ],
   "outputs": [],
   "metadata": {}
  },
  {
   "cell_type": "markdown",
   "source": [
    "### Một module trong package con có thể gọi đối tượng trong một package con liền kề dùng\r\n",
    "* import tuyệt đối (absolute)"
   ],
   "metadata": {}
  },
  {
   "cell_type": "code",
   "execution_count": null,
   "source": [
    "from vingroup.products import vinfast"
   ],
   "outputs": [],
   "metadata": {}
  },
  {
   "cell_type": "code",
   "execution_count": null,
   "source": [
    "vinfast.id()        # hàm id() của payment được gọi như là của vinfast"
   ],
   "outputs": [],
   "metadata": {}
  },
  {
   "cell_type": "code",
   "execution_count": null,
   "source": [
    "# hoặc import tương đối (relative)\r\n",
    "import importlib\r\n",
    "importlib.reload(vinid)\r\n",
    "from vingroup.payments import vinid"
   ],
   "outputs": [],
   "metadata": {}
  },
  {
   "cell_type": "markdown",
   "source": [
    "## Các cách thực thi chương trình Python\r\n",
    "1. Chạy từng lệnh tương tác (interactive) như ở notebook này hoặc dưới command line (>>>)\r\n",
    "2. Dùng lệnh python hoặc python3. Redirect output với > hoặc >> (python .\\hackathon1\\easy\\basic.py)\r\n",
    "3. Chạy module với -m (phải nằm ở thư mục hiện hành, hoặc trong Python Module Search Path (PMSP))"
   ],
   "metadata": {}
  },
  {
   "cell_type": "code",
   "execution_count": null,
   "source": [
    "!python -m hello\r\n",
    "# %run hello.py"
   ],
   "outputs": [],
   "metadata": {}
  },
  {
   "cell_type": "code",
   "execution_count": null,
   "source": [
    "import sys\r\n",
    "for path in sys.path:\r\n",
    "    print(path)"
   ],
   "outputs": [],
   "metadata": {}
  },
  {
   "cell_type": "markdown",
   "source": [
    "Một vài cách nâng cao khác:\r\n",
    "\r\n",
    "4. Dùng importlib với hàm import_module() có hỗ trợ reload()\r\n",
    "5. Dùng runpy.run_module() hoặc runpy.run_path()\r\n",
    "6. Dùng exec() theo kiểu của hacker (exec(open('hello.py').read()))"
   ],
   "metadata": {}
  },
  {
   "cell_type": "code",
   "execution_count": null,
   "source": [
    "import importlib\r\n",
    "importlib.import_module('hello')"
   ],
   "outputs": [],
   "metadata": {}
  },
  {
   "cell_type": "code",
   "execution_count": null,
   "source": [
    "# run interactively in commandline\r\n",
    "import hello\r\n",
    "import hello  # Second import, which does nothing\r\n",
    "importlib.reload(hello)"
   ],
   "outputs": [],
   "metadata": {}
  },
  {
   "cell_type": "code",
   "execution_count": null,
   "source": [
    "import runpy\r\n",
    "runpy.run_path(path_name='../testing/test_todos.py')"
   ],
   "outputs": [],
   "metadata": {}
  },
  {
   "cell_type": "markdown",
   "source": [
    "## Hàm main() và `__name__ `\r\n",
    "\r\n",
    "Các best practises:\r\n",
    "1. Đặt hầu hết mã vào các function hoặc class.\r\n",
    "2. Sử dụng __name__ để kiểm soát việc thực thi mã.\r\n",
    "3. Tạo một hàm có tên là main() để chứa mã bạn muốn chạy.\r\n",
    "4. Gọi các hàm khác từ hàm main().\r\n",
    "\r\n",
    "Câu hỏi: Tại sao không nên đặt nhiều code trong điều kiện `if __name__ == \"__main__\": `?"
   ],
   "metadata": {}
  },
  {
   "cell_type": "markdown",
   "source": [
    "## Đọc nội dung 1 file"
   ],
   "metadata": {}
  },
  {
   "cell_type": "code",
   "execution_count": null,
   "source": [
    "import os\r\n",
    "os.getcwd()"
   ],
   "outputs": [],
   "metadata": {}
  },
  {
   "cell_type": "code",
   "execution_count": null,
   "source": [
    "open(\"../filekhongtontai.txt\")      # đường dẫn tuyệt đối và đường dẫn tương đối"
   ],
   "outputs": [],
   "metadata": {}
  },
  {
   "cell_type": "code",
   "execution_count": null,
   "source": [
    "open(\"../Pipfile\")"
   ],
   "outputs": [],
   "metadata": {}
  },
  {
   "cell_type": "code",
   "execution_count": null,
   "source": [
    "!dir .."
   ],
   "outputs": [],
   "metadata": {}
  },
  {
   "cell_type": "code",
   "execution_count": null,
   "source": [
    "!type ..\\Pipfile"
   ],
   "outputs": [],
   "metadata": {}
  },
  {
   "cell_type": "code",
   "execution_count": null,
   "source": [
    "file = open(\"..\\Pipfile\")\r\n",
    "file"
   ],
   "outputs": [],
   "metadata": {}
  },
  {
   "cell_type": "code",
   "execution_count": null,
   "source": [
    "file = open(\"..\\Pipfile1\", mode='r')\r\n",
    "file.read()"
   ],
   "outputs": [],
   "metadata": {}
  },
  {
   "cell_type": "code",
   "execution_count": null,
   "source": [
    "file.read()"
   ],
   "outputs": [],
   "metadata": {}
  },
  {
   "cell_type": "code",
   "execution_count": null,
   "source": [
    "file.seek(0)        # vị trí byte số 0"
   ],
   "outputs": [],
   "metadata": {}
  },
  {
   "cell_type": "code",
   "execution_count": null,
   "source": [
    "file.read(5)"
   ],
   "outputs": [],
   "metadata": {}
  },
  {
   "cell_type": "code",
   "execution_count": null,
   "source": [
    "file.read(6)"
   ],
   "outputs": [],
   "metadata": {}
  },
  {
   "cell_type": "code",
   "execution_count": null,
   "source": [
    "file.tell()"
   ],
   "outputs": [],
   "metadata": {}
  },
  {
   "cell_type": "code",
   "execution_count": null,
   "source": [
    "file.read()"
   ],
   "outputs": [],
   "metadata": {}
  },
  {
   "cell_type": "code",
   "execution_count": null,
   "source": [
    "file.close()"
   ],
   "outputs": [],
   "metadata": {}
  },
  {
   "cell_type": "code",
   "execution_count": null,
   "source": [
    "file.read()"
   ],
   "outputs": [],
   "metadata": {}
  },
  {
   "cell_type": "markdown",
   "source": [
    "## Viết và thêm nội dung vào File"
   ],
   "metadata": {}
  },
  {
   "cell_type": "code",
   "execution_count": null,
   "source": [
    "file = open(\"..\\Pipfile\", mode='r')\r\n",
    "file.readline()"
   ],
   "outputs": [],
   "metadata": {}
  },
  {
   "cell_type": "code",
   "execution_count": null,
   "source": [
    "file.readline()"
   ],
   "outputs": [],
   "metadata": {}
  },
  {
   "cell_type": "code",
   "execution_count": null,
   "source": [
    "file.seek(0)"
   ],
   "outputs": [],
   "metadata": {}
  },
  {
   "cell_type": "code",
   "execution_count": null,
   "source": [
    "file.readlines()"
   ],
   "outputs": [],
   "metadata": {}
  },
  {
   "cell_type": "code",
   "execution_count": null,
   "source": [
    "contents = []\r\n",
    "with open('..\\Pipfile', 'r') as file_again:\r\n",
    "    for line in file_again:\r\n",
    "        contents.append(line.rstrip(\"\\n\"))"
   ],
   "outputs": [],
   "metadata": {}
  },
  {
   "cell_type": "code",
   "execution_count": null,
   "source": [
    "print(contents)"
   ],
   "outputs": [],
   "metadata": {}
  },
  {
   "cell_type": "code",
   "execution_count": null,
   "source": [
    "file.seek(0)"
   ],
   "outputs": [],
   "metadata": {}
  },
  {
   "cell_type": "code",
   "execution_count": null,
   "source": [
    "file_again.seek(0)"
   ],
   "outputs": [],
   "metadata": {}
  },
  {
   "cell_type": "code",
   "execution_count": null,
   "source": [
    "!type classiccars.txt"
   ],
   "outputs": [],
   "metadata": {}
  },
  {
   "cell_type": "code",
   "execution_count": null,
   "source": [
    "with open('classiccars.txt', 'a') as f:\r\n",
    "    more_cars = f.write(\"\\nBuick\")\r\n",
    "    print(\"Number of characters: \", more_cars)"
   ],
   "outputs": [],
   "metadata": {}
  },
  {
   "cell_type": "code",
   "execution_count": null,
   "source": [
    "!type classiccars.txt"
   ],
   "outputs": [],
   "metadata": {}
  },
  {
   "cell_type": "code",
   "execution_count": null,
   "source": [
    "open(\"sportcars.txt\", \"r\")"
   ],
   "outputs": [],
   "metadata": {}
  },
  {
   "cell_type": "code",
   "execution_count": null,
   "source": [
    "with open(\"sportcars.txt\", \"w\") as f:\r\n",
    "    f.write(\"Mustang\")"
   ],
   "outputs": [],
   "metadata": {}
  },
  {
   "cell_type": "code",
   "execution_count": null,
   "source": [
    "!type sportcars.txt"
   ],
   "outputs": [],
   "metadata": {}
  },
  {
   "cell_type": "code",
   "execution_count": null,
   "source": [
    "sport_cars = [\"Agera\", \"Regera\", \"Chiron\", \"Veyron\"]"
   ],
   "outputs": [],
   "metadata": {}
  },
  {
   "cell_type": "code",
   "execution_count": null,
   "source": [
    "with open(\"sportcars.txt\", \"w\") as f:\r\n",
    "    for car in sport_cars:\r\n",
    "        f.write(car)"
   ],
   "outputs": [],
   "metadata": {}
  },
  {
   "cell_type": "code",
   "execution_count": null,
   "source": [
    "!type sportcars.txt"
   ],
   "outputs": [],
   "metadata": {}
  },
  {
   "cell_type": "markdown",
   "source": [
    "## Đường dẫn hệ điều hành"
   ],
   "metadata": {}
  },
  {
   "cell_type": "code",
   "execution_count": null,
   "source": [
    "path = os.path.abspath(os.sep.join(['.', 'subdir', 'subsubdir', 'file.ext']))\r\n",
    "path"
   ],
   "outputs": [],
   "metadata": {}
  },
  {
   "cell_type": "code",
   "execution_count": null,
   "source": [
    "import pathlib\r\n",
    "path = (pathlib.Path(\".\") / \"subdir\" / \"subsubdir\" / \"file.ext\").absolute()"
   ],
   "outputs": [],
   "metadata": {}
  },
  {
   "cell_type": "code",
   "execution_count": null,
   "source": [
    "def count_sloc(dir_path):\r\n",
    "    sloc = 0\r\n",
    "    for path in dir_path.iterdir():\r\n",
    "        if path.name.startswith(\".\"):   # hidden dir\r\n",
    "            continue\r\n",
    "        if path.is_dir():\r\n",
    "            sloc += count_sloc(path)\r\n",
    "            continue\r\n",
    "        if path.suffix != \".py\":\r\n",
    "            continue\r\n",
    "\r\n",
    "        with path.open() as file:\r\n",
    "            try:        # guard for UnicodeDecodeError\r\n",
    "                for line in file:\r\n",
    "                    line = line.strip()\r\n",
    "                    if line and not line.startswith(\"#\"):\r\n",
    "                        sloc += 1\r\n",
    "            except:\r\n",
    "                continue\r\n",
    "    return sloc"
   ],
   "outputs": [],
   "metadata": {}
  },
  {
   "cell_type": "code",
   "execution_count": null,
   "source": [
    "root_path = pathlib.Path(\".\")\r\n",
    "folder = (root_path.absolute().parent / \"hackathon1\").resolve()\r\n",
    "print(f\"{count_sloc(folder)} lines of python code\")"
   ],
   "outputs": [],
   "metadata": {}
  },
  {
   "cell_type": "markdown",
   "source": [
    "## File định dạng CSV và JSON"
   ],
   "metadata": {}
  },
  {
   "cell_type": "code",
   "execution_count": null,
   "source": [
    "!type gyms_equipment.csv"
   ],
   "outputs": [],
   "metadata": {}
  },
  {
   "cell_type": "code",
   "execution_count": null,
   "source": [
    "import csv\r\n",
    "\r\n",
    "with open('gyms_equipment.csv', \"r\") as f:\r\n",
    "    csv_reader = csv.reader(f)\r\n",
    "\r\n",
    "    for equipment in csv_reader:\r\n",
    "        print(equipment)"
   ],
   "outputs": [],
   "metadata": {}
  },
  {
   "cell_type": "code",
   "execution_count": null,
   "source": [
    "with open('gyms_equipment_headings.csv', \"r\") as f:\r\n",
    "    csv_reader = csv.DictReader(f)\r\n",
    "\r\n",
    "    for equipment in csv_reader:\r\n",
    "        print(equipment)"
   ],
   "outputs": [],
   "metadata": {}
  },
  {
   "cell_type": "code",
   "execution_count": null,
   "source": [
    "import pandas as pd\r\n",
    "df = pd.read_csv('gyms_equipment_headings.csv')"
   ],
   "outputs": [],
   "metadata": {}
  },
  {
   "cell_type": "code",
   "execution_count": null,
   "source": [
    "import json"
   ],
   "outputs": [],
   "metadata": {}
  },
  {
   "cell_type": "code",
   "execution_count": null,
   "source": [
    "dogs_and_ages = {'Oba': 8, 'Teddy': 10, 'Nemo': 2.5}"
   ],
   "outputs": [],
   "metadata": {}
  },
  {
   "cell_type": "code",
   "execution_count": null,
   "source": [
    "json_string = json.dumps(dogs_and_ages)\r\n",
    "json_string"
   ],
   "outputs": [],
   "metadata": {}
  },
  {
   "cell_type": "code",
   "execution_count": null,
   "source": [
    "type(json_string)"
   ],
   "outputs": [],
   "metadata": {}
  },
  {
   "cell_type": "code",
   "execution_count": null,
   "source": [
    "cake_json_string = \"\"\"\r\n",
    "{\r\n",
    "    \"id\": \"0001\",\r\n",
    "    \"type\": \"donut\",\r\n",
    "    \"name\": \"Cake\",\r\n",
    "    \"ppu\": 0.55,\r\n",
    "    \"batters\":\r\n",
    "        {\r\n",
    "            \"batter\":\r\n",
    "                [\r\n",
    "                    { \"id\": \"1001\", \"type\": \"Regular\" },\r\n",
    "                    { \"id\": \"1002\", \"type\": \"Chocolate\" },\r\n",
    "                    { \"id\": \"1003\", \"type\": \"Blueberry\" },\r\n",
    "                    { \"id\": \"1004\", \"type\": \"Devil's ocean_parkd\" }\r\n",
    "                ]\r\n",
    "        },\r\n",
    "    \"topping\":\r\n",
    "        [\r\n",
    "            { \"id\": \"5001\", \"type\": \"None\" },\r\n",
    "            { \"id\": \"5002\", \"type\": \"Glazed\" },\r\n",
    "            { \"id\": \"5005\", \"type\": \"Sugar\" },\r\n",
    "            { \"id\": \"5007\", \"type\": \"Powdered Sugar\" },\r\n",
    "            { \"id\": \"5006\", \"type\": \"Chocolate with Sprinkles\" },\r\n",
    "            { \"id\": \"5003\", \"type\": \"Chocolate\" },\r\n",
    "            { \"id\": \"5004\", \"type\": \"Maple\" }\r\n",
    "        ]\r\n",
    "}\r\n",
    "\"\"\"\r\n",
    "cake_dict = json.loads(cake_json_string)\r\n",
    "cake_dict"
   ],
   "outputs": [],
   "metadata": {}
  },
  {
   "cell_type": "code",
   "execution_count": null,
   "source": [
    "type(cake_dict)"
   ],
   "outputs": [],
   "metadata": {}
  },
  {
   "cell_type": "code",
   "execution_count": null,
   "source": [
    "with open('data.json', 'w') as cake_file:\r\n",
    "    json.dump(cake_dict, cake_file)"
   ],
   "outputs": [],
   "metadata": {}
  },
  {
   "cell_type": "code",
   "execution_count": null,
   "source": [
    "with open('data.json', 'r') as cake_file:\r\n",
    "    file_json = json.load(cake_file)\r\n",
    "\r\n",
    "file_json"
   ],
   "outputs": [],
   "metadata": {}
  },
  {
   "cell_type": "markdown",
   "source": [
    "## Virtual Environment"
   ],
   "metadata": {}
  },
  {
   "cell_type": "markdown",
   "source": [
    "## Comprehensions\r\n",
    "Giúp chuyển đổi hoặc lọc (filter) một đối tượng có thể duyệt được (iterable) chỉ trong một dòng mã. Đối tượng kết quả có thể là một danh sách, tập hợp hoặc từ điển bình thường"
   ],
   "metadata": {}
  },
  {
   "cell_type": "code",
   "execution_count": null,
   "source": [
    "output_integers = [] \r\n",
    "for car in sport_cars: \r\n",
    "    output_integers.append(len(car) * 2) \r\n",
    "output_integers"
   ],
   "outputs": [],
   "metadata": {}
  },
  {
   "cell_type": "code",
   "execution_count": null,
   "source": [
    "output_integers = [len(car) * 2 for car in sport_cars]      # one-liner\r\n",
    "output_integers\r\n",
    "sport_cars"
   ],
   "outputs": [],
   "metadata": {}
  },
  {
   "cell_type": "code",
   "execution_count": null,
   "source": [
    "output_integers = [len(car) for car in sport_cars if car != \"Chiron\"]\r\n",
    "output_integers"
   ],
   "outputs": [],
   "metadata": {}
  },
  {
   "cell_type": "code",
   "execution_count": null,
   "source": [
    "number_list = [ x**3 for x in range(11) if x % 2 == 0]\r\n",
    "number_list"
   ],
   "outputs": [],
   "metadata": {}
  },
  {
   "cell_type": "code",
   "execution_count": null,
   "source": [
    "obj = [\"Even\" if i%2==0 else \"Odd\" for i in range(10)]\r\n",
    "obj"
   ],
   "outputs": [],
   "metadata": {}
  },
  {
   "cell_type": "code",
   "execution_count": null,
   "source": [
    "filename = 'gyms_equipment_headings.csv'\r\n",
    "with open(filename) as file:\r\n",
    "    header = file.readline().strip().split(\",\")\r\n",
    "    machines = [\r\n",
    "        dict(\r\n",
    "            zip(header, line.strip().split(\",\")))\r\n",
    "        for line in file\r\n",
    "    ]\r\n",
    "\r\n",
    "for m in machines:\r\n",
    "    print(\"Gyms Machines: {Product} -- {Price}\".format(**m))"
   ],
   "outputs": [],
   "metadata": {}
  },
  {
   "cell_type": "code",
   "execution_count": null,
   "source": [
    "s = \"Practice Problems to Drill List Comprehension in Your Head.\"\r\n",
    "\"\".join([char for char in s if char not in [\"a\",\"e\",\"i\",\"o\",\"u\"]])"
   ],
   "outputs": [],
   "metadata": {}
  },
  {
   "cell_type": "code",
   "execution_count": null,
   "source": [
    "# Tìm số có 1 chữ số lớn nhất có thể được chia hết\r\n",
    "nums = [i for i in range(1,101)]\r\n",
    "{num:max([divisor for divisor in range(1,10) if num % divisor == 0]) for num in nums}"
   ],
   "outputs": [],
   "metadata": {}
  },
  {
   "cell_type": "code",
   "execution_count": null,
   "source": [
    "function_list = [member for member in dir(math)]\r\n",
    "function_list"
   ],
   "outputs": [],
   "metadata": {}
  },
  {
   "cell_type": "code",
   "execution_count": null,
   "source": [
    "def ismodulefunction(module, member):\r\n",
    "    module_member = getattr(module, member)\r\n",
    "    member_type = type(module_member).__name__\r\n",
    "    return member_type == \"function\" or member_type == \"builtin_function_or_method\"\r\n",
    "\r\n",
    "function_list = [member for member in dir(math) if ismodulefunction(math, member)]\r\n",
    "function_list"
   ],
   "outputs": [],
   "metadata": {}
  },
  {
   "cell_type": "markdown",
   "source": [
    "## Set and dictionary comprehensions"
   ],
   "metadata": {}
  },
  {
   "cell_type": "code",
   "execution_count": null,
   "source": [
    "s = \"Practice Problems to Drill List Comprehension in Your Head.\"\r\n",
    "words = s.split(\" \")\r\n",
    "{word:len(word) for word in words}"
   ],
   "outputs": [],
   "metadata": {}
  },
  {
   "cell_type": "markdown",
   "source": [
    "## Profiling"
   ],
   "metadata": {}
  },
  {
   "cell_type": "code",
   "execution_count": null,
   "source": [
    "import random\r\n",
    "import timeit\r\n",
    "TAX_RATE = .08\r\n",
    "txns = [random.randrange(100) for _ in range(100000)]\r\n",
    "\r\n",
    "def get_price(txn):\r\n",
    "    return txn * (1 + TAX_RATE)\r\n",
    "\r\n",
    "def get_prices_with_map():\r\n",
    "    return list(map(get_price, txns))\r\n",
    "\r\n",
    "def get_prices_with_comprehension():\r\n",
    "    return [get_price(txn) for txn in txns]\r\n",
    "\r\n",
    "def get_prices_with_loop():\r\n",
    "    prices = []\r\n",
    "    for txn in txns:\r\n",
    "        prices.append(get_price(txn))\r\n",
    "    return prices\r\n",
    "\r\n",
    "timeit.timeit(get_prices_with_map, number=100)"
   ],
   "outputs": [],
   "metadata": {}
  },
  {
   "cell_type": "code",
   "execution_count": null,
   "source": [
    "timeit.timeit(get_prices_with_comprehension, number=100)"
   ],
   "outputs": [],
   "metadata": {}
  },
  {
   "cell_type": "code",
   "execution_count": null,
   "source": [
    "timeit.timeit(get_prices_with_loop, number=100)"
   ],
   "outputs": [],
   "metadata": {}
  }
 ],
 "metadata": {
  "orig_nbformat": 4,
  "language_info": {
   "name": "python",
   "version": "3.9.7",
   "mimetype": "text/x-python",
   "codemirror_mode": {
    "name": "ipython",
    "version": 3
   },
   "pygments_lexer": "ipython3",
   "nbconvert_exporter": "python",
   "file_extension": ".py"
  },
  "kernelspec": {
   "name": "python3",
   "display_name": "Python 3.9.7 64-bit ('python_tester_env': venv)"
  },
  "interpreter": {
   "hash": "bd454e041cfbb879d13b54c8ad3696129392157108d388f38111cd59b6a48c26"
  }
 },
 "nbformat": 4,
 "nbformat_minor": 2
}