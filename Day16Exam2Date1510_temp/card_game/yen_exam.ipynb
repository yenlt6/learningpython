{
 "cells": [
  {
   "cell_type": "code",
   "execution_count": 1,
   "metadata": {},
   "outputs": [
    {
     "name": "stdout",
     "output_type": "stream",
     "text": [
      "4♠\n"
     ]
    }
   ],
   "source": [
    "# Mỗi lá bài bao gồm rank ('A', 1, 2, 3, 4, 5, 6, 7, 8, 9) và suit ('♠', '♣', '♦', '♥')\n",
    "number=4\n",
    "print(f\"{number}♠\")"
   ]
  },
  {
   "cell_type": "code",
   "execution_count": 5,
   "metadata": {},
   "outputs": [
    {
     "name": "stdout",
     "output_type": "stream",
     "text": [
      "True\n"
     ]
    }
   ],
   "source": [
    "class Word(str):\n",
    "    '''Class for words, defining comparison based on word length.'''\n",
    "\n",
    "    def __new__(cls, word):\n",
    "        # Note that we have to use __new__. This is because str is an immutable\n",
    "        # type, so we have to initialize it early (at creation)\n",
    "        if ' ' in word:\n",
    "            print (\"Value contains spaces. Truncating to first space.\")\n",
    "            word = word[:word.index(' ')] # Word is now all chars before first space\n",
    "        return str.__new__(cls, word)\n",
    "\n",
    "    def __gt__(self, other):\n",
    "        return len(self) > len(other)\n",
    "    def __lt__(self, other):\n",
    "        return len(self) < len(other)\n",
    "    def __ge__(self, other):\n",
    "        print(\"Toi dang o trong ham so sanh\")\n",
    "        print(len(self))\n",
    "        print(len(other))\n",
    "        return len(self) >= len(other)\n",
    "    def __le__(self, other):\n",
    "        return len(self) <= len(other)\n",
    "\n",
    "word_1=Word(\"Yen\")\n",
    "word_2=Word(\"Ha\")\n",
    "print(word_1>word_2)"
   ]
  },
  {
   "cell_type": "code",
   "execution_count": 6,
   "metadata": {},
   "outputs": [
    {
     "name": "stdout",
     "output_type": "stream",
     "text": [
      "Akash 2\n",
      "Deependra 40\n",
      "Reaper 44\n"
     ]
    }
   ],
   "source": [
    "# Python3 code here creating class\n",
    "class geeks: \n",
    "    def __init__(self, name, roll): \n",
    "        self.name = name \n",
    "        self.roll = roll\n",
    "   \n",
    "# creating list       \n",
    "list = [] \n",
    "  \n",
    "# appending instances to list \n",
    "list.append( geeks('Akash', 2) )\n",
    "list.append( geeks('Deependra', 40) )\n",
    "list.append( geeks('Reaper', 44) )\n",
    "  \n",
    "for obj in list:\n",
    "    print( obj.name, obj.roll, sep =' ' )\n",
    "  \n",
    "# We can also access instances attributes\n",
    "# as list[0].name, list[0].roll and so on."
   ]
  },
  {
   "cell_type": "code",
   "execution_count": 33,
   "metadata": {},
   "outputs": [],
   "source": [
    "class Card:\n",
    "    '''\n",
    "    Class đại diện cho mỗi lá bài\n",
    "\n",
    "    Mỗi lá bài bao gồm rank ('A', 2, 3, 4, 5, 6, 7, 8, 9) và suit ('♠', '♣', '♦', '♥')\n",
    "    Mỗi lá bài bao gồm rank ('A', 2, 3, 4, 5, 6, 7, 8, 9) và suit ('G', 'H', 'J', 'K')\n",
    "    '''\n",
    "\n",
    "    def __init__(self,rank,suit):\n",
    "        self.rank=rank\n",
    "        self.suit=suit\n",
    "      \n",
    "\n",
    "    def __str__(self):\n",
    "        '''Hiển thị lá bài'''\n",
    "        return f'Card:{self.rank}{self.suit}'\n",
    "       \n",
    "\n",
    "    def __gt__(self, other):\n",
    "        '''So sánh 2 lá bài'''\n",
    "    def __gt__(self, other):        \n",
    "        val1 = 0\n",
    "        val2 = 0        \n",
    "        if self.rank>other.rank:\n",
    "            return True\n",
    "        elif self.rank==other.rank and self.suit>other.suit:\n",
    "            return True\n",
    "        else:\n",
    "            return False\n",
    "           "
   ]
  },
  {
   "cell_type": "code",
   "execution_count": 26,
   "metadata": {},
   "outputs": [
    {
     "name": "stdout",
     "output_type": "stream",
     "text": [
      "Engine Run\n"
     ]
    }
   ],
   "source": [
    "class Car:\n",
    "    def __init__(self, engine):\n",
    "        self.engine = engine\n",
    "\n",
    "    def run(self):\n",
    "        self.engine.run()\n",
    "\n",
    "class Engine:\n",
    "    def run(self):\n",
    "        print(\"Engine Run\")\n",
    "\n",
    "v12 = Engine()\n",
    "maybach = Car(v12)\n",
    "\n",
    "maybach.run()"
   ]
  },
  {
   "cell_type": "code",
   "execution_count": 32,
   "metadata": {},
   "outputs": [
    {
     "name": "stdout",
     "output_type": "stream",
     "text": [
      "Player: Yen, Card(2♠)\n"
     ]
    }
   ],
   "source": [
    "class Player:\n",
    "    list_player=[]\n",
    "    def __init__(self,name,card):\n",
    "        self.name=name\n",
    "        self.card=card\n",
    "    def __str__(self) -> str:\n",
    "        return f'Player: {self.name}, {self.card}'\n",
    "\n",
    "#card_1=Card(\"2\",\"G\")\n",
    "card_1=Card(\"2\",'♠')\n",
    "\n",
    "player_1=Player(\"Yen\",card_1)\n",
    "print(player_1)"
   ]
  },
  {
   "cell_type": "code",
   "execution_count": 46,
   "metadata": {},
   "outputs": [
    {
     "name": "stdout",
     "output_type": "stream",
     "text": [
      "Wellcome!!!\n",
      "   chào mừng đến với game đánh bài 3 cây ( vui thôi nha)\n",
      "   Có bao nhiêu người muốn chơi:\n",
      "Person: ỷn, 20\n",
      "Person: hteee, 29\n",
      "1. Danh sách ngươi chơi (2)\n",
      "2.Thêm người chơi (có thể thêm)\n",
      "3.Loại người chơi ( số người chơi tối thiểu rồi\n",
      "4.Chia bài (có thể chia)\n",
      "5.Lật bài (chưa chia bài)\n",
      "6.Xem lại game vừa chơi\n",
      "7.Xem lịch sử chơi hôm nay\n",
      "8.Công an tới, tốc biến\n",
      "ID Name\n",
      "1. ỷn\n",
      "2. hteee\n",
      "11111111111\n",
      "ID Name\n",
      "1. ỷn\n",
      "2. hteee\n",
      "3. gfds\n",
      "Tôi ở trong hàm loại bỏ người chơi\n",
      "ID Name\n",
      "1. ỷn\n",
      "2. hteee\n",
      "3. gfds\n",
      "2222222222222\n",
      "ID Name\n",
      "1. ỷn\n",
      "2. hteee\n"
     ]
    }
   ],
   "source": [
    "print(\"Wellcome!!!\\n   chào mừng đến với game đánh bài 3 cây ( vui thôi nha)\")\n",
    "print(\"   Có bao nhiêu người muốn chơi:\")\n",
    "number_player=int(input(\"Nhập số người chới:\"))\n",
    "number_player\n",
    "try:\n",
    "    name_1=input(\"Tên người chơi 1:\")\n",
    "    name_2=input(\"Tên người chơi 2:\")\n",
    "except ValueError as e:\n",
    "    print(e)\n",
    "\n",
    "\n",
    "class Person:\n",
    "    list_player=[]\n",
    "    def __init__(self,name,age):\n",
    "        self.name=name\n",
    "        self.age=age\n",
    "    def __str__(self) -> str:      \n",
    "        return f\"Person: {self.name}, {self.age}\"\n",
    "    def list_game(self):\n",
    "        print(\"1. Danh sách ngươi chơi (2)\")\n",
    "        print(\"2.Thêm người chơi (có thể thêm)\")\n",
    "        print(\"3.Loại người chơi ( số người chơi tối thiểu rồi\")\n",
    "        print(\"4.Chia bài (có thể chia)\")\n",
    "        print(\"5.Lật bài (chưa chia bài)\")\n",
    "        print(\"6.Xem lại game vừa chơi\")\n",
    "        print(\"7.Xem lịch sử chơi hôm nay\")\n",
    "        print(\"8.Công an tới, tốc biến\")\n",
    "\n",
    "    @classmethod\n",
    "    def show_players(cls,list_player):\n",
    "        print(\"ID Name\")\n",
    "        for i in range(0,len(list_player)):\n",
    "            print(f\"{i+1}. {list_player[i].name}\")\n",
    "    @classmethod\n",
    "    def add_player(cls):\n",
    "        current_number_player=len(list_player)\n",
    "        current_number_player+=1\n",
    "        name=input(f\"Tên người chơi thứ {current_number_player}:\")\n",
    "        list_player.append(Person(name, 39))\n",
    "\n",
    "    @classmethod\n",
    "    def remove_player(cls):\n",
    "        print(\"Tôi ở trong hàm loại bỏ người chơi\")\n",
    "        Person.show_players(list_player)        \n",
    "        id=int(input(\"Nhập ID người chơi muốn loại:\"))\n",
    "        id-=1\n",
    "        del list_player[id]\n",
    "\n",
    "    @classmethod    \n",
    "    def deal_card(self):\n",
    "            '''Chia bài cho người chơi: sẽ lấy random ra 1 quân bài từ trong bộ bài và gán quân bài đó cho người chơi'''\n",
    "    \n",
    "\n",
    "    \n",
    "        \n",
    "\n",
    "\n",
    "\n",
    "person_1=Person(name_1,20)      \n",
    "person_2=Person(name_2,29)\n",
    "list_player=[]\n",
    "print(person_1)\n",
    "print(person_2)\n",
    "list_player.append(person_1)\n",
    "list_player.append(person_2)\n",
    "person_1.list_game()\n",
    "Person.show_players(list_player)\n",
    "Person.add_player()\n",
    "print(\"11111111111\")\n",
    "Person.show_players(list_player)\n",
    "Person.remove_player()\n",
    "print(\"2222222222222\")\n",
    "Person.show_players(list_player)\n",
    "\n"
   ]
  },
  {
   "cell_type": "code",
   "execution_count": 44,
   "metadata": {},
   "outputs": [
    {
     "name": "stdout",
     "output_type": "stream",
     "text": [
      "Bộ bài sau khi được trộn\n"
     ]
    }
   ],
   "source": [
    "# from Day16Exam2Date1510.card_game.card import Card\n",
    "import random\n",
    "\n",
    "class Deck(Card):    \n",
    "    '''\n",
    "    Class đại diện cho bộ bài, bao gồm 36 lá\n",
    "    '''\n",
    "    # ('A', 2, 3, 4, 5, 6, 7, 8, 9) và suit ('G', 'H', 'J', 'K'); ('♠', '♣', '♦', '♥')\n",
    "\n",
    "    '''Tạo bộ bài: tạo 1 list, mỗi phần tử của list là 1 lá bài gồm 9*4=36 lá bài'''\n",
    "    @classmethod\n",
    "    def build(cls):\n",
    "        list_card=[]        \n",
    "        list_rank = ['A', 2, 3, 4, 5, 6, 7, 8, 9]\n",
    "        list_suit = ['♠', '♣', '♦', '♥']         \n",
    "        for rank in list_rank:\n",
    "            for suit in list_suit:\n",
    "                list_card.append( Card(rank, suit) )\n",
    "        return list_card\n",
    "      \n",
    "    @classmethod\n",
    "    def shuffle_card(cls,list_card):\n",
    "        #random.choice(list_card)\n",
    "        list_card_temp=[]\n",
    "        for i in range (0, len(list_card)):\n",
    "            random_index=random.randint(0,35)\n",
    "            list_card_temp.append(list_card[random_index])\n",
    "        '''Trộn bài, random(list)'''\n",
    "        return list_card_temp\n",
    "\n",
    "    # def shuffle_card(self,list_card):\n",
    "    #     '''Trộn bài, random(list)'''\n",
    "    #     return random.choice(list_card) \n",
    "    #      \n",
    "    '''Rút một lá bài từ bộ bài: lấy random 1 lá bài từ bộ bài, tức là lấy random 1 phần tử trong list ra'''\n",
    "    @classmethod\n",
    "    def deal_card(cls,list_card,list_player):\n",
    "            #self.remove(card_item)\n",
    "            for i in range(0,3):\n",
    "                for i in range(0,len(list_player)):\n",
    "                    list_player[i].card=list_card[i]\n",
    "        \n",
    "        \n",
    "\n",
    "card_1=Deck.build()\n",
    "# for i in card_1:\n",
    "#     print(i)\n",
    "\n",
    "print(\"Bộ bài sau khi được trộn\")\n",
    "card_2=Deck.shuffle_card(card_1)\n",
    "# for i in card_2:\n",
    "#     print(i)\n",
    "\n",
    "Deck.deal_card(card_2,list_player)\n",
    "\n",
    "# card_2=Deck.shuffle_card(card_1)\n",
    "# print(\"============\")\n",
    "# print(card_2)"
   ]
  }
 ],
 "metadata": {
  "interpreter": {
   "hash": "04635d289a519a1410467dd0afb0db42f9184808881ca68b2eb5a687a20a5a94"
  },
  "kernelspec": {
   "display_name": "Python 3.7.6 64-bit",
   "name": "python3"
  },
  "language_info": {
   "codemirror_mode": {
    "name": "ipython",
    "version": 3
   },
   "file_extension": ".py",
   "mimetype": "text/x-python",
   "name": "python",
   "nbconvert_exporter": "python",
   "pygments_lexer": "ipython3",
   "version": "3.7.6"
  },
  "orig_nbformat": 4
 },
 "nbformat": 4,
 "nbformat_minor": 2
}
