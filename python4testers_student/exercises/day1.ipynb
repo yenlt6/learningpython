{
 "cells": [
  {
   "cell_type": "markdown",
   "source": [
    "Viết chương trình quy đổi độ dài từ đơn vị km sang các đơn vị khác. Nhập giá trị độ dài length - float (đơn vị km). Quy đổi sang các đơn vị m, dm, cm, mm, mile, inch và in kết quả (làm tròn đến 2 chữ số thập phân)💡 Bảng đơn vị\r\n",
    "\t- 1 km = 1000 m\r\n",
    "\t- 1 km = 10000 dm\r\n",
    "\t- 1 km = 100000 cm\r\n",
    "\t- 1 km = 1000000 mm\r\n",
    "\t- 1 km = 1.609344 mile\r\n",
    "\t- 1 km = 39370.1 inch\r\n",
    "\t- Có thể thêm một số đơn vị khác"
   ],
   "metadata": {}
  },
  {
   "cell_type": "code",
   "execution_count": null,
   "source": [
    "print(\"Nhập số muốn quy đổi độ dài từ km sang:\")\r\n",
    "km = float(input())\r\n",
    "print(\"Số km bạn vừa nhập là:\",km,\"km\")\r\n",
    "print(type(km))\r\n",
    "\r\n",
    "m = round(km*1000, 2)\r\n",
    "print(\"Đổi từ km sang dm:\",m)\r\n",
    "\r\n",
    "dm = round(km*10000, 2)\r\n",
    "print(\"Đổi từ km sang dm:\",dm)\r\n",
    "\r\n",
    "cm = round(km*100000, 2)\r\n",
    "print(\"Đổi từ km sang cm:\",cm)\r\n",
    "\r\n",
    "mm = round(km*1e6, 2)      # 1e6 = 10^6\r\n",
    "print(\"Đổi từ km sang mm:\",mm)\r\n",
    "\r\n",
    "mile = round((km*1.609344), 2)\r\n",
    "print(\"Đổi từ km sang mile:\",mile)\r\n",
    "\r\n",
    "inch = round(km * 39370.1, 2)\r\n",
    "print(\"Đổi từ km sang inch:\",inch)"
   ],
   "outputs": [],
   "metadata": {}
  },
  {
   "cell_type": "markdown",
   "source": [
    "Viết chương trình chuyển đổi từ số giây (nguyên dương) thành giờ, phút, giây tương ứng\r\n",
    "\r\n",
    "Nhập số giây sec (int)\r\n",
    "Quy đổi và in ra giá trị giờ phút giây tương ứng\r\n",
    "💡 VD: Nhập 123 -> 0 giờ, 2 phút, 3 giây"
   ],
   "metadata": {}
  },
  {
   "cell_type": "code",
   "execution_count": null,
   "source": [
    "# -----Convert inputted seconds to hour, minute and second-----\r\n",
    "int_sec = input(\"Nhập số giây: \")\r\n",
    "int_hour = int(int_sec) // 3600\r\n",
    "int_mins = int(int_sec) % 3600 // 60\r\n",
    "int_sec = int(int_sec) % 3600 % 60\r\n",
    "print(\"Số giờ: \" , int_hour, \"hrs\")\r\n",
    "print(\"Số phút: \", int_mins, \"mins\")\r\n",
    "print(\"Số giây: \", int_sec, \"secs\")"
   ],
   "outputs": [],
   "metadata": {}
  },
  {
   "cell_type": "markdown",
   "source": [
    "Viết chương trình chuyển đổi nhiệt độ từ thang nhiệt Celcius sang các thang nhiệt Farenheit, Keven và Rankine\r\n",
    "\r\n",
    "Nhập nhiệt độ (°C - float)\r\n",
    "Quy đổi và in ra °F tương ứng (°F = °C * 9 / 5 + 32)\r\n",
    "Quy đổi và in ra °K tương ứng (°K = °C + 273.15)\r\n",
    "Quy đổi và in ra °R tương ứng (°R = (°C + 273.15) * 9 / 5))"
   ],
   "metadata": {}
  },
  {
   "cell_type": "code",
   "execution_count": null,
   "source": [
    "print(\"Mời bạn nhập nhiệt độ Celcius để quy đổi sang đơn vị nhiệt độ khác:\")\r\n",
    "c = float(input())\r\n",
    "f = c* 9 / 5 + 32\r\n",
    "k = c + 273.15\r\n",
    "r = (c + 273.15) * 9 / 5\r\n",
    "print('Kết quả quy đổi đơn vị: ')\r\n",
    "print( c, '°C = ', f, '°F')\r\n",
    "print( c, '°C = ', k, '°K')\r\n",
    "print( c, '°C = ', r, '°R')"
   ],
   "outputs": [],
   "metadata": {}
  }
 ],
 "metadata": {
  "orig_nbformat": 4,
  "language_info": {
   "name": "python"
  }
 },
 "nbformat": 4,
 "nbformat_minor": 2
}