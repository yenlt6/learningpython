{
 "cells": [
  {
   "cell_type": "code",
   "execution_count": 10,
   "source": [
    "start=\"*\"\r\n",
    "space= \" \"\r\n",
    "continue_start=\"Y\"\r\n",
    "# print(      # f-string Python\r\n",
    "#     f\"{start:>4}\\n\"\r\n",
    "#     f\"{2*start:>4}\\n\"\r\n",
    "#     f\"{3*start:>4}\\n\"\r\n",
    "#     f\"{4*start:>4}\\n\"\r\n",
    "# )  \r\n",
    "\r\n",
    "while continue_start==\"Y\" or continue_start==\"y\":\r\n",
    "    print(\"nhập số * bạn muốn in\")\r\n",
    "    number_start=int(input())\r\n",
    "    for i in range(1,number_start+1):\r\n",
    "        space_number=number_start-i\r\n",
    "        # print(f\"{i*start:>number_start}\\n\")      \r\n",
    "        print(space_number*space + i*start)    \r\n",
    "    print(\"Nhâp Y để tiếp tục\")\r\n",
    "    continue_start=input()\r\n",
    "    \r\n"
   ],
   "outputs": [
    {
     "output_type": "stream",
     "name": "stdout",
     "text": [
      "nhập số * bạn muốn in\n",
      "    *\n",
      "   **\n",
      "  ***\n",
      " ****\n",
      "*****\n",
      "Nhâp Y để tiếp tục\n",
      "nhập số * bạn muốn in\n",
      "     *\n",
      "    **\n",
      "   ***\n",
      "  ****\n",
      " *****\n",
      "******\n",
      "Nhâp Y để tiếp tục\n"
     ]
    }
   ],
   "metadata": {}
  },
  {
   "cell_type": "code",
   "execution_count": 11,
   "source": [
    "start=\"*\"\r\n",
    "space= \" \"\r\n",
    "continue_start=\"Y\"\r\n",
    "# print(      # f-string Python\r\n",
    "#     f\"{start:>4}\\n\"\r\n",
    "#     f\"{2*start:>4}\\n\"\r\n",
    "#     f\"{3*start:>4}\\n\"\r\n",
    "#     f\"{4*start:>4}\\n\"\r\n",
    "# )  \r\n",
    "\r\n",
    "while continue_start==\"Y\" or continue_start==\"y\":\r\n",
    "    print(\"nhập số * bạn muốn in\")\r\n",
    "    number_start=int(input())\r\n",
    "    for i in range(1,number_start+1):\r\n",
    "        space_number=number_start-i\r\n",
    "        # print(f\"{i*start:>number_start}\\n\")\r\n",
    "        if(i==number_start):\r\n",
    "            print(i*2*start)      \r\n",
    "        else:\r\n",
    "            print(space_number*space + i*start) \r\n",
    "    for j in range(number_start,0,-1):\r\n",
    "        print(number_start*space + j*start) \r\n",
    "    print(\"Nhâp Y để tiếp tục\")\r\n",
    "    continue_start=input()"
   ],
   "outputs": [
    {
     "output_type": "stream",
     "name": "stdout",
     "text": [
      "nhập số * bạn muốn in\n",
      "   *\n",
      "  **\n",
      " ***\n",
      "********\n",
      "Nhâp Y để tiếp tục\n"
     ]
    }
   ],
   "metadata": {}
  }
 ],
 "metadata": {
  "orig_nbformat": 4,
  "language_info": {
   "name": "python",
   "version": "3.7.6",
   "mimetype": "text/x-python",
   "codemirror_mode": {
    "name": "ipython",
    "version": 3
   },
   "pygments_lexer": "ipython3",
   "nbconvert_exporter": "python",
   "file_extension": ".py"
  },
  "kernelspec": {
   "name": "python3",
   "display_name": "Python 3.7.6 64-bit"
  },
  "interpreter": {
   "hash": "04635d289a519a1410467dd0afb0db42f9184808881ca68b2eb5a687a20a5a94"
  }
 },
 "nbformat": 4,
 "nbformat_minor": 2
}