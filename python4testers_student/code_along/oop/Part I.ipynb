{
 "cells": [
  {
   "cell_type": "markdown",
   "source": [
    "# Python - Lập trình hướng đối tượng"
   ],
   "metadata": {
    "tags": []
   }
  },
  {
   "cell_type": "markdown",
   "source": [
    "## Khai báo class\n",
    "\n",
    "Khai báo một class mới với từ khóa `class`. Theo quy ước, tên class có dạng UpperCamelCase (ký tự đầu tiên của mỗi từ được viết hoa). Khi khai báo, một Class Object mới được tạo.\n",
    "\n",
    "💡 Khai báo Class xác định một kiểu dữ liệu tùy chỉnh"
   ],
   "metadata": {
    "tags": []
   }
  },
  {
   "cell_type": "code",
   "execution_count": 3,
   "source": [
    "class Cat:\n",
    "    \"\"\"Lớp mô tả cho các con mèo\"\"\"\n",
    "    pass\n",
    "\n",
    "print(id(Cat))\n",
    "print(Cat.__doc__)\n",
    "print(Cat)\n",
    "\n",
    "# Tương tự như những kiểu được định nghĩa sẵn\n",
    "print(int)"
   ],
   "outputs": [
    {
     "output_type": "stream",
     "name": "stdout",
     "text": [
      "4425526288\n",
      "Lớp mô tả cho các con mèo\n",
      "<class '__main__.Cat'>\n",
      "<class 'int'>\n",
      "<class 'int'>\n"
     ]
    }
   ],
   "metadata": {}
  },
  {
   "cell_type": "markdown",
   "source": [
    "## Khởi tạo instance object\n",
    "\n",
    "Từ class, chúng ta có thể tạo ra các objects, object là một thể hiện (instance) của class"
   ],
   "metadata": {
    "tags": []
   }
  },
  {
   "cell_type": "code",
   "execution_count": 6,
   "source": [
    "# Tạo ra 2 con mèo\n",
    "lucy = Cat()\n",
    "kitty = Cat()\n",
    "\n",
    "print(id(lucy), id(kitty))\n",
    "\n",
    "print()\n",
    "print(lucy)\n",
    "print(type(lucy))\n",
    "\n",
    "# Kiểm tra một object có phải instance của class cụ thể hay không\n",
    "print(isinstance(lucy, Cat))"
   ],
   "outputs": [
    {
     "output_type": "stream",
     "name": "stdout",
     "text": [
      "4428888096 4428887568\n",
      "\n",
      "<__main__.Cat object at 0x107fb7820>\n",
      "<class '__main__.Cat'>\n",
      "True\n",
      "3\n",
      "False\n"
     ]
    }
   ],
   "metadata": {}
  },
  {
   "cell_type": "markdown",
   "source": [
    "## Khai báo phương thức\n",
    "\n",
    "Khai báo một phương thức trong class tương tự như khai báo hàm thông thường, ngoại trừ việc nó có một tham số bắt buộc `self`. Các phương thức sẽ được chia sẻ chung bởi các đối tượng được tạo từ class"
   ],
   "metadata": {}
  },
  {
   "cell_type": "code",
   "execution_count": 8,
   "source": [
    "class Cat:\n",
    "    \"\"\"Lớp mô tả cho các con mèo\"\"\"\n",
    "\n",
    "    def run(self):\n",
    "        print(\"Running\")\n",
    "\n",
    "    def meow(self):\n",
    "        print(\"Meow meow\")\n",
    "\n",
    "    def eat(self):\n",
    "        print(\"Eating\")\n",
    "\n",
    "    def sleep(self):\n",
    "        print(\"Sleeping\")"
   ],
   "outputs": [],
   "metadata": {}
  },
  {
   "cell_type": "markdown",
   "source": [
    "## Gọi phương thức\n",
    "\n",
    "Để gọi phương thức trên một đối tượng cụ thể, sử dụng cú pháp `object_name.method_name()`"
   ],
   "metadata": {}
  },
  {
   "cell_type": "code",
   "execution_count": 9,
   "source": [
    "lucy = Cat()\n",
    "kitty = Cat()\n",
    "\n",
    "# Phương thức được chia sẻ chung giữa các đối tượng\n",
    "lucy.meow()\n",
    "lucy.run()\n",
    "\n",
    "kitty.meow()\n",
    "kitty.run()"
   ],
   "outputs": [
    {
     "output_type": "stream",
     "name": "stdout",
     "text": [
      "Meow meow\n",
      "Running\n",
      "Meow meow\n",
      "Running\n"
     ]
    }
   ],
   "metadata": {}
  },
  {
   "cell_type": "markdown",
   "source": [
    "## Tham số Self\n",
    "\n",
    "Khi khai báo các phương thức cho một lớp, bắt buộc phải có tham số `self` (theo quy ước, có thể sử dụng tên khác ví dụ `this`), mặc dù vậy khi gọi phương thức, chúng ta không cần truyền giá trị cho nó. Python sẽ tự xác định giá trị cho `self`, chính là đối tượng gọi phương thức"
   ],
   "metadata": {}
  },
  {
   "cell_type": "code",
   "execution_count": 10,
   "source": [
    "class Cat:\n",
    "    \"\"\"Lớp mô tả cho các con mèo\"\"\"\n",
    "    def meow(self):\n",
    "        print(self, \"Meow meow\")\n",
    "\n",
    "lucy = Cat()\n",
    "kitty = Cat()\n",
    "\n",
    "lucy.meow() # self = lucy\n",
    "kitty.meow() # self = kitty\n",
    "\n",
    "# Tương tự với cách gọi này\n",
    "Cat.meow(lucy) # self = lucy\n",
    "Cat.meow(kitty) # self = kitty"
   ],
   "outputs": [
    {
     "output_type": "stream",
     "name": "stdout",
     "text": [
      "<__main__.Cat object at 0x107fb7910> Meow meow\n",
      "<__main__.Cat object at 0x107fb7eb0> Meow meow\n",
      "<__main__.Cat object at 0x107fb7910> Meow meow\n",
      "<__main__.Cat object at 0x107fb7eb0> Meow meow\n"
     ]
    }
   ],
   "metadata": {}
  },
  {
   "cell_type": "markdown",
   "source": [
    "## Instance variables\n",
    "\n",
    "Instance variables - thuộc tính là các giá trị riêng của mỗi object, có thể khai báo và gán giá trị giống như một biến thông thường, cú pháp `object.property_name = value`"
   ],
   "metadata": {}
  },
  {
   "cell_type": "code",
   "execution_count": 14,
   "source": [
    "lucy.breed = \"Persian\"\n",
    "lucy.name = \"Lucy\"\n",
    "lucy.age = 2\n",
    "lucy.color = \"White\"\n",
    "\n",
    "print(lucy.name)\n",
    "print(lucy.color)\n",
    "\n",
    "print(kitty.name, kitty.age, kitty.breed, kitty.color) # Error\n",
    "kitty.meow()"
   ],
   "outputs": [
    {
     "output_type": "stream",
     "name": "stdout",
     "text": [
      "Lucy\n",
      "White\n",
      "Kitty 3 British Grey\n",
      "<__main__.Cat object at 0x107fb7eb0> Meow meow\n"
     ]
    }
   ],
   "metadata": {}
  },
  {
   "cell_type": "markdown",
   "source": [
    "## Truy cập thuộc tính trong phương thức\n",
    "\n",
    "Các phương thức có thể truy cập đến thuộc tính bên trong đối tượng thông qua `self`, cú pháp `self.property_name`"
   ],
   "metadata": {}
  },
  {
   "cell_type": "code",
   "execution_count": 15,
   "source": [
    "class Cat:\n",
    "    def eat(self):\n",
    "        print(self.name, \"is eating\")\n",
    "\n",
    "lucy = Cat()\n",
    "kitty = Cat()\n",
    "\n",
    "lucy.name = \"Lucy\"\n",
    "kitty.name = \"Kitty\"\n",
    " \n",
    "lucy.eat() # self = lucy => self.name = lucy.name\n",
    "kitty.eat() # self = kitty => self.name = kitty.name"
   ],
   "outputs": [
    {
     "output_type": "stream",
     "name": "stdout",
     "text": [
      "Lucy is eating\n",
      "Kitty is eating\n"
     ]
    }
   ],
   "metadata": {}
  },
  {
   "cell_type": "markdown",
   "source": [
    "Ngoài ra, một phương thức cũng có thể được dùng để khai báo một thuộc tính hay gọi đến phương thức khác của chính đối tượng cũng thông qua `self`"
   ],
   "metadata": {}
  },
  {
   "cell_type": "code",
   "execution_count": 20,
   "source": [
    "class Dog:\n",
    "    # DRY - Don't repeat your self\n",
    "    def set_details(self, name, color):\n",
    "        self.name = name\n",
    "\n",
    "    def bark(self):\n",
    "        print(\"Woof woof\")\n",
    "\n",
    "    def run(self):\n",
    "        self.bark()\n",
    "        print(self.name, \"is running\")\n",
    "\n",
    "milo = Dog()\n",
    "milo.set_details(\"Milo\", \"Yellow\") # self = milo => self.name = milo.name\n",
    "milo.run() # self = milo => self.bark() = milo.bark()"
   ],
   "outputs": [
    {
     "output_type": "stream",
     "name": "stdout",
     "text": [
      "Woof woof\n",
      "Milo is running\n"
     ]
    }
   ],
   "metadata": {}
  },
  {
   "cell_type": "markdown",
   "source": [
    "### Exercise\n",
    "\n",
    "Khai báo một class BankAccount đại diện cho một tài khoản ngân hàng, có 4 phương thức:\n",
    "- `set_details(account_number, account_name, balance)`: tạo 3 instance variable tương ứng (mặc định `balance = 0`)\n",
    "- `display()`: Hiển thị thông tin tài khoản\n",
    "- `withdraw(amount)` và `deposit(amount)`: thực hiện trừ tiền và nạp tiền với giá trị `amount` tương ứng\n",
    "\n",
    "💡 Chú ý tham số"
   ],
   "metadata": {}
  },
  {
   "cell_type": "markdown",
   "source": [
    "## Hàm khởi tạo\n",
    "\n",
    "Thay vì khai báo thuộc tính sau khi khởi tạo đối tượng, có thể khai báo một phương thức đặc biệt **`__init__()`** - được gọi là hàm khởi tạo\n",
    "\n",
    "Phương thức **`__init__()`** sẽ được gọi ngay sau khi đối tượng được khởi tạo, thông thường nó sẽ có nhiệm vụ khai báo instance variables.\n",
    "\n",
    "Các đối số cho **`__init__()`** được truyền ngay trong cú pháp khởi tạo đối tượng"
   ],
   "metadata": {}
  },
  {
   "cell_type": "code",
   "execution_count": 21,
   "source": [
    "class Dog:\n",
    "    def __init__(self, breed, gender, name, age, color):\n",
    "        self.breed = breed\n",
    "        self.gender = gender\n",
    "        self.name = name\n",
    "        self.age = age\n",
    "        self.color = color\n",
    "    \n",
    "    def bark(self):\n",
    "        print(self.name, \"woof woof\")\n",
    "        \n",
    "\n",
    "# DRY\n",
    "milo = Dog(\"Corgi\", \"Male\", \"Milo\", 1, \"Brown\")\n",
    "milo.bark()"
   ],
   "outputs": [
    {
     "output_type": "stream",
     "name": "stdout",
     "text": [
      "Milo woof woof\n"
     ]
    }
   ],
   "metadata": {}
  },
  {
   "cell_type": "markdown",
   "source": [
    "### Exercise\n",
    "\n",
    "Chuyển đổi phương thức `set_details()` của class `BankAccount` thành `__init__()`"
   ],
   "metadata": {}
  },
  {
   "cell_type": "markdown",
   "source": [
    "## Data hiding\n",
    "\n",
    "Mã bên ngoài không được phép truy cập trực tiếp tới các thuộc tính hay phương thức private"
   ],
   "metadata": {}
  },
  {
   "cell_type": "code",
   "execution_count": 22,
   "source": [
    "class Product:\n",
    "    def __init__(self, cost, price):\n",
    "        self._cost = cost               # Private\n",
    "        self.price = price              # Public\n",
    "\n",
    "    def _profit(self):                   # Private\n",
    "        pass\n",
    "\n",
    "    def order(self):                    # Public\n",
    "        pass\n",
    "\n",
    "ip = Product(888, 999)\n",
    "\n",
    "# Các thuộc tính và phương thức này vẫn có thể truy cập trực tiếp\n",
    "print(ip._cost)\n",
    "print(ip._profit())\n",
    "\n",
    "print(ip.price)\n",
    "print(ip.order())"
   ],
   "outputs": [
    {
     "output_type": "stream",
     "name": "stdout",
     "text": [
      "888\n",
      "None\n",
      "999\n",
      "None\n"
     ]
    }
   ],
   "metadata": {}
  },
  {
   "cell_type": "markdown",
   "source": [
    "💡 Ngoài ra, còn một số quy ước đặt tên khác sử dụng dấu _"
   ],
   "metadata": {}
  },
  {
   "cell_type": "code",
   "execution_count": null,
   "source": [
    "class Product:\n",
    "    def __init__(self, cost):\n",
    "        self.__cost = cost              # Sử dụng 2 dấu gạch trước tên để tránh xung đột\n",
    "        # __cost => _Product__cost      # với các thuộc tính của lớp con\n",
    "\n",
    "class_ = \"abc\"                          # Sử dụng 1 dấu gạch ở sau tên để tránh xung đột\n",
    "list_ = 123                             # với built-in type"
   ],
   "outputs": [],
   "metadata": {}
  },
  {
   "cell_type": "markdown",
   "source": [
    "## Getter/Setter\n",
    "\n",
    "Khi sử dụng thuộc tính ẩn, chúng ta cần hạn chế truy cập trực tiếp đến nó. Thay vào đó, triển khai các phương thức để truy cập như getter (để đọc giá trị) và setter (để đặt giá trị) cho thuộc tính.\n",
    "\n",
    "Getter/setter hữu ích trong việc kiểm soát quyền truy cập và xác thực dữ liệu trước khi thay đổi một giá trị,  cho phép biến một thuộc tính thành dạng chỉ đọc (chỉ triển khai getter) hay chỉ ghi (chỉ triển khai setter)"
   ],
   "metadata": {}
  },
  {
   "cell_type": "code",
   "execution_count": 29,
   "source": [
    "class Person:\n",
    "    def __init__(self, name, age):\n",
    "        self._name = name\n",
    "        self.set_age(age) # gán giá trị tuổi\n",
    "\n",
    "    def get_name(self):\n",
    "        return self._name\n",
    "\n",
    "    def get_age(self):\n",
    "        return self._age # báo lỗi => ba._age\n",
    "\n",
    "    def set_age(self, new_age):\n",
    "        if 0 < new_age < 100:\n",
    "            self._age = new_age\n",
    "        else:\n",
    "            # Không đặt giá trị cho self._age => self sẽ không có thuộc tính _age\n",
    "            print(\"Tuổi không hợp lệ\")\n",
    "    \n",
    "    def display(self):\n",
    "        print(f\"{self.get_name()} - {self.get_age()}\")\n",
    "\n",
    "ba = Person(\"Ba\", 0)\n",
    "print(ba.__dict__)\n",
    "ba.display()\n",
    "\n",
    "# Method overloading"
   ],
   "outputs": [
    {
     "output_type": "stream",
     "name": "stdout",
     "text": [
      "Tuổi không hợp lệ\n",
      "{'_name': 'Ba'}\n"
     ]
    },
    {
     "output_type": "error",
     "ename": "AttributeError",
     "evalue": "'Person' object has no attribute '_age'",
     "traceback": [
      "\u001b[0;31m---------------------------------------------------------------------------\u001b[0m",
      "\u001b[0;31mAttributeError\u001b[0m                            Traceback (most recent call last)",
      "\u001b[0;32m/var/folders/t1/rmz8kpqx6mv_hxwdd62xpxq40000gn/T/ipykernel_26247/2625357873.py\u001b[0m in \u001b[0;36m<module>\u001b[0;34m\u001b[0m\n\u001b[1;32m     22\u001b[0m \u001b[0mba\u001b[0m \u001b[0;34m=\u001b[0m \u001b[0mPerson\u001b[0m\u001b[0;34m(\u001b[0m\u001b[0;34m\"Ba\"\u001b[0m\u001b[0;34m,\u001b[0m \u001b[0;36m0\u001b[0m\u001b[0;34m)\u001b[0m\u001b[0;34m\u001b[0m\u001b[0;34m\u001b[0m\u001b[0m\n\u001b[1;32m     23\u001b[0m \u001b[0mprint\u001b[0m\u001b[0;34m(\u001b[0m\u001b[0mba\u001b[0m\u001b[0;34m.\u001b[0m\u001b[0m__dict__\u001b[0m\u001b[0;34m)\u001b[0m\u001b[0;34m\u001b[0m\u001b[0;34m\u001b[0m\u001b[0m\n\u001b[0;32m---> 24\u001b[0;31m \u001b[0mba\u001b[0m\u001b[0;34m.\u001b[0m\u001b[0mdisplay\u001b[0m\u001b[0;34m(\u001b[0m\u001b[0;34m)\u001b[0m\u001b[0;34m\u001b[0m\u001b[0;34m\u001b[0m\u001b[0m\n\u001b[0m",
      "\u001b[0;32m/var/folders/t1/rmz8kpqx6mv_hxwdd62xpxq40000gn/T/ipykernel_26247/2625357873.py\u001b[0m in \u001b[0;36mdisplay\u001b[0;34m(self)\u001b[0m\n\u001b[1;32m     18\u001b[0m \u001b[0;34m\u001b[0m\u001b[0m\n\u001b[1;32m     19\u001b[0m     \u001b[0;32mdef\u001b[0m \u001b[0mdisplay\u001b[0m\u001b[0;34m(\u001b[0m\u001b[0mself\u001b[0m\u001b[0;34m)\u001b[0m\u001b[0;34m:\u001b[0m\u001b[0;34m\u001b[0m\u001b[0;34m\u001b[0m\u001b[0m\n\u001b[0;32m---> 20\u001b[0;31m         \u001b[0mprint\u001b[0m\u001b[0;34m(\u001b[0m\u001b[0;34mf\"{self.get_name()} - {self.get_age()}\"\u001b[0m\u001b[0;34m)\u001b[0m\u001b[0;34m\u001b[0m\u001b[0;34m\u001b[0m\u001b[0m\n\u001b[0m\u001b[1;32m     21\u001b[0m \u001b[0;34m\u001b[0m\u001b[0m\n\u001b[1;32m     22\u001b[0m \u001b[0mba\u001b[0m \u001b[0;34m=\u001b[0m \u001b[0mPerson\u001b[0m\u001b[0;34m(\u001b[0m\u001b[0;34m\"Ba\"\u001b[0m\u001b[0;34m,\u001b[0m \u001b[0;36m0\u001b[0m\u001b[0;34m)\u001b[0m\u001b[0;34m\u001b[0m\u001b[0;34m\u001b[0m\u001b[0m\n",
      "\u001b[0;32m/var/folders/t1/rmz8kpqx6mv_hxwdd62xpxq40000gn/T/ipykernel_26247/2625357873.py\u001b[0m in \u001b[0;36mget_age\u001b[0;34m(self)\u001b[0m\n\u001b[1;32m      8\u001b[0m \u001b[0;34m\u001b[0m\u001b[0m\n\u001b[1;32m      9\u001b[0m     \u001b[0;32mdef\u001b[0m \u001b[0mget_age\u001b[0m\u001b[0;34m(\u001b[0m\u001b[0mself\u001b[0m\u001b[0;34m)\u001b[0m\u001b[0;34m:\u001b[0m\u001b[0;34m\u001b[0m\u001b[0;34m\u001b[0m\u001b[0m\n\u001b[0;32m---> 10\u001b[0;31m         \u001b[0;32mreturn\u001b[0m \u001b[0mself\u001b[0m\u001b[0;34m.\u001b[0m\u001b[0m_age\u001b[0m \u001b[0;31m# báo lỗi => ba._age\u001b[0m\u001b[0;34m\u001b[0m\u001b[0;34m\u001b[0m\u001b[0m\n\u001b[0m\u001b[1;32m     11\u001b[0m \u001b[0;34m\u001b[0m\u001b[0m\n\u001b[1;32m     12\u001b[0m     \u001b[0;32mdef\u001b[0m \u001b[0mset_age\u001b[0m\u001b[0;34m(\u001b[0m\u001b[0mself\u001b[0m\u001b[0;34m,\u001b[0m \u001b[0mnew_age\u001b[0m\u001b[0;34m)\u001b[0m\u001b[0;34m:\u001b[0m\u001b[0;34m\u001b[0m\u001b[0;34m\u001b[0m\u001b[0m\n",
      "\u001b[0;31mAttributeError\u001b[0m: 'Person' object has no attribute '_age'"
     ]
    }
   ],
   "metadata": {}
  },
  {
   "cell_type": "markdown",
   "source": [
    "### Exercise\n",
    "\n",
    "Thay đổi các thuộc tính `account_number`, `account_name`, `balance` trong class `BankAccount` thành thuộc tính ẩn, và triển khai thêm các phương thức:\n",
    "\n",
    "- `get_account_number()`\n",
    "- `get_account_name()`\n",
    "- `get_balance()`\n",
    "- `set_balance()` - `balance` phải lớn hơn hoặc bằng `0`\n",
    "\n",
    "Thay đổi các phương thức `display()`, `withdraw()` và `deposit()` sử dụng các phương thức getter và setter trên.\n",
    "\n",
    "Chú ý:\n",
    "\n",
    "- Với `withdraw()`, `amount` phải lớn hơn `0` và nhỏ hơn `balance`\n",
    "- Với `deposit()`, `amount` phải lớn hơn `0`\n",
    "\n",
    "Nếu giá trị không phù hợp thì thông báo ra `console`"
   ],
   "metadata": {}
  },
  {
   "cell_type": "markdown",
   "source": [
    "## @property\n",
    "\n",
    "Getter/setter phổ biến ở trong các ngôn ngữ khác như Java, tuy nhiên, Python hỗ trợ một cú pháp đơn giản gọn gàng hơn sử dụng **`@property`**\n",
    "\n",
    "💡 **`@property`** được gọi là **decorator**, đây là một khái niệm nâng cao (Higher-Order Function). Có nhiều decorator khác nhau có sẵn, hoặc cũng có thể tự định nghĩa decorator.\n",
    "\n",
    "Trong trường hợp này hiểu đơn giản decorator giống như thẻ đánh dấu HTML, nó đánh dấu một phương thức và coi nó giống như một thuộc tính thông thường"
   ],
   "metadata": {}
  },
  {
   "cell_type": "code",
   "execution_count": 1,
   "source": [
    "class Person:\n",
    "    def __init__(self, name, age):\n",
    "        self._name = name\n",
    "        self.age = age\n",
    "\n",
    "    @property                       # Getter\n",
    "    def name(self):                 # Khai báo thuộc tính name\n",
    "        return self._name\n",
    "\n",
    "    @property                       # Getter\n",
    "    def age(self):                  # Khai báo thuộc tính age\n",
    "        return self._age\n",
    "\n",
    "    @age.setter\n",
    "    def age(self, new_age):         # Khai báo setter cho age\n",
    "        if 0 < new_age < 100:\n",
    "            self._age = new_age\n",
    "        else:\n",
    "            print(\"Tuổi không hợp lệ\")\n",
    "\n",
    "    @age.deleter                    # Khai báo deleter\n",
    "    def age(self):                  # Deleter được gọi khi muốn xóa thuộc tính\n",
    "        print(\"Xóa thuộc tính _age\")\n",
    "\n",
    "    def display(self):\n",
    "        print(f\"{self.name} - {self.age}\")  # Truy cập giống như thuộc tính thông thường\n",
    "\n",
    "\n",
    "ba = Person(\"Ba\", 29)\n",
    "ba.display()\n",
    "\n",
    "print(ba.name)      # Gọi getter ba.get_name()\n",
    "\n",
    "ba.age = 30         # Gọi setter, new_age = 30\n",
    "print(ba.age)       # Gọi getter\n",
    "\n",
    "del ba.age\n",
    "print(ba.age)\n",
    "\n",
    "ba.name = \"Béo\"     # Error, không có setter"
   ],
   "outputs": [
    {
     "output_type": "stream",
     "name": "stdout",
     "text": [
      "Ba - 29\n",
      "Ba\n",
      "30\n",
      "Xóa thuộc tính _age\n",
      "30\n"
     ]
    },
    {
     "output_type": "error",
     "ename": "AttributeError",
     "evalue": "can't set attribute",
     "traceback": [
      "\u001b[0;31m---------------------------------------------------------------------------\u001b[0m",
      "\u001b[0;31mAttributeError\u001b[0m                            Traceback (most recent call last)",
      "\u001b[0;32m/var/folders/t1/rmz8kpqx6mv_hxwdd62xpxq40000gn/T/ipykernel_86662/1368569780.py\u001b[0m in \u001b[0;36m<module>\u001b[0;34m\u001b[0m\n\u001b[1;32m     38\u001b[0m \u001b[0mprint\u001b[0m\u001b[0;34m(\u001b[0m\u001b[0mba\u001b[0m\u001b[0;34m.\u001b[0m\u001b[0mage\u001b[0m\u001b[0;34m)\u001b[0m\u001b[0;34m\u001b[0m\u001b[0;34m\u001b[0m\u001b[0m\n\u001b[1;32m     39\u001b[0m \u001b[0;34m\u001b[0m\u001b[0m\n\u001b[0;32m---> 40\u001b[0;31m \u001b[0mba\u001b[0m\u001b[0;34m.\u001b[0m\u001b[0mname\u001b[0m \u001b[0;34m=\u001b[0m \u001b[0;34m\"Béo\"\u001b[0m     \u001b[0;31m# Error, không có setter\u001b[0m\u001b[0;34m\u001b[0m\u001b[0;34m\u001b[0m\u001b[0m\n\u001b[0m",
      "\u001b[0;31mAttributeError\u001b[0m: can't set attribute"
     ]
    }
   ],
   "metadata": {}
  },
  {
   "cell_type": "markdown",
   "source": [
    "Một ví dụ khác hữu ích của **`@property`** là khai báo các thuộc tính với giá trị được tính toán dựa trên những giá trị khác, tự động cập nhật khi các giá trị phụ thuộc thay đổi, đồng thời không cho phép người dùng tùy chỉnh giá trị này"
   ],
   "metadata": {}
  },
  {
   "cell_type": "code",
   "execution_count": 2,
   "source": [
    "class Rectangle:\n",
    "    def __init__(self, length, breadth):\n",
    "        self.length = length\n",
    "        self.breadth = breadth\n",
    "\n",
    "    @property\n",
    "    def diagonal(self):\n",
    "        return (self.length ** 2 + self.breadth ** 2) ** 0.5\n",
    "\n",
    "\n",
    "r = Rectangle(2, 5)\n",
    "print(r.diagonal)\n",
    "\n",
    "r.length = 5\n",
    "print(r.diagonal)"
   ],
   "outputs": [
    {
     "output_type": "stream",
     "name": "stdout",
     "text": [
      "5.385164807134504\n",
      "7.0710678118654755\n"
     ]
    }
   ],
   "metadata": {}
  },
  {
   "cell_type": "markdown",
   "source": [
    "### Exercise\n",
    "\n",
    "Thay thế getter/setter trong class `BankAccount` thành property tương ứng, chỉnh sửa các phương thức `withdraw()` và `deposit()` sử dụng property"
   ],
   "metadata": {}
  }
 ],
 "metadata": {
  "interpreter": {
   "hash": "b0fa6594d8f4cbf19f97940f81e996739fb7646882a419484c72d19e05852a7e"
  },
  "kernelspec": {
   "name": "python3",
   "display_name": "Python 3.9.6 64-bit"
  },
  "language_info": {
   "codemirror_mode": {
    "name": "ipython",
    "version": 3
   },
   "file_extension": ".py",
   "mimetype": "text/x-python",
   "name": "python",
   "nbconvert_exporter": "python",
   "pygments_lexer": "ipython3",
   "version": "3.9.6"
  }
 },
 "nbformat": 4,
 "nbformat_minor": 5
}