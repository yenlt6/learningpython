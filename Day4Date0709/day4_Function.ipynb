{
 "cells": [
  {
   "cell_type": "markdown",
   "source": [
    "## Định nghĩa và gọi Hàm tự viết"
   ],
   "metadata": {}
  },
  {
   "cell_type": "code",
   "execution_count": 1,
   "source": [
    "def do_something():\r\n",
    "    pass\r\n",
    "do_something()"
   ],
   "outputs": [],
   "metadata": {}
  },
  {
   "cell_type": "code",
   "execution_count": null,
   "source": [
    "def greet():\r\n",
    "    print(\"Chào buổi chiều!!\")\r\n",
    "\r\n",
    "greet()"
   ],
   "outputs": [],
   "metadata": {}
  },
  {
   "cell_type": "code",
   "execution_count": null,
   "source": [
    "say_hello()"
   ],
   "outputs": [],
   "metadata": {}
  },
  {
   "cell_type": "code",
   "execution_count": null,
   "source": [
    "# hãy định nghĩa hàm này rồi chạy lại dòng trên"
   ],
   "outputs": [],
   "metadata": {}
  },
  {
   "cell_type": "code",
   "execution_count": null,
   "source": [
    "print(some_var)"
   ],
   "outputs": [],
   "metadata": {}
  },
  {
   "cell_type": "code",
   "execution_count": null,
   "source": [
    "def causes_error():\r\n",
    "    print(some_var)"
   ],
   "outputs": [],
   "metadata": {}
  },
  {
   "cell_type": "code",
   "execution_count": null,
   "source": [
    "causes_error()          # scope of variable"
   ],
   "outputs": [],
   "metadata": {}
  },
  {
   "cell_type": "code",
   "execution_count": null,
   "source": [
    "def calculate_sum():\r\n",
    "    print(\"Sum of 2, 3, 4 is\", 2 + 3 + 4)\r\n",
    "\r\n",
    "calculate_sum()"
   ],
   "outputs": [],
   "metadata": {}
  },
  {
   "cell_type": "code",
   "execution_count": null,
   "source": [
    "a = 2\r\n",
    "b, c = 3, 4\r\n",
    "\r\n",
    "def calculate_sum():\r\n",
    "    result = a + b +c\r\n",
    "\r\n",
    "    print(\"Sum of a, b, c is\", result)\r\n",
    "\r\n",
    "    if result < 10:\r\n",
    "        print(\"The sum is less than 10\")\r\n",
    "\r\n",
    "calculate_sum()"
   ],
   "outputs": [],
   "metadata": {}
  },
  {
   "cell_type": "code",
   "execution_count": null,
   "source": [
    "a = 1\r\n",
    "calculate_sum()"
   ],
   "outputs": [],
   "metadata": {}
  },
  {
   "cell_type": "markdown",
   "source": [
    "## Truyền đối số và giá trị trả về"
   ],
   "metadata": {}
  },
  {
   "cell_type": "code",
   "execution_count": null,
   "source": [
    "def calculate_sum(a, b, c):\r\n",
    "    result = a + b + c\r\n",
    "    print(\"Sum of a, b, c is\", result)\r\n",
    "\r\n",
    "    if result < 10:\r\n",
    "        print(\"The sum is less than 10!\")\r\n",
    "    else:\r\n",
    "        print(\"The sum is greater than 10!\")\r\n",
    "\r\n",
    "calculate_sum(2)"
   ],
   "outputs": [],
   "metadata": {}
  },
  {
   "cell_type": "code",
   "execution_count": null,
   "source": [
    "calculate_sum(2, 3, 4)"
   ],
   "outputs": [],
   "metadata": {}
  },
  {
   "cell_type": "code",
   "execution_count": null,
   "source": [
    "x, y, z = 100, 200, 300\r\n",
    "calculate_sum(x, y, z)"
   ],
   "outputs": [],
   "metadata": {}
  },
  {
   "cell_type": "code",
   "execution_count": null,
   "source": [
    "def luy_thua(num, exponent):\r\n",
    "    power = num ** exponent\r\n",
    "    return power\r\n",
    "\r\n",
    "luy_thua(5, 2)"
   ],
   "outputs": [],
   "metadata": {}
  },
  {
   "cell_type": "code",
   "execution_count": null,
   "source": [
    "result = luy_thua(4, 2)\r\n",
    "result"
   ],
   "outputs": [],
   "metadata": {}
  },
  {
   "cell_type": "code",
   "execution_count": null,
   "source": [
    "def square_and_cube(num):\r\n",
    "    square = num ** 2\r\n",
    "    cube = num ** 3\r\n",
    "    return square, cube\r\n",
    "\r\n",
    "square_and_cube(12)"
   ],
   "outputs": [],
   "metadata": {}
  },
  {
   "cell_type": "code",
   "execution_count": null,
   "source": [
    "# gán kết quả về cho 2 biến riêng biệt"
   ],
   "outputs": [],
   "metadata": {}
  },
  {
   "cell_type": "code",
   "execution_count": null,
   "source": [
    "def divisible_by_5(num):\r\n",
    "    if num % 5 == 0:\r\n",
    "        return \"This number is divisible by 5\"\r\n",
    "\r\n",
    "# what happen when it's not?"
   ],
   "outputs": [],
   "metadata": {}
  },
  {
   "cell_type": "markdown",
   "source": [
    "## Thay đổi đối số đầu vào"
   ],
   "metadata": {}
  },
  {
   "cell_type": "code",
   "execution_count": null,
   "source": [
    "int_var = 3\r\n",
    "float_var = 2.5\r\n",
    "string_var = \"Hello\"\r\n",
    "bool_var = True"
   ],
   "outputs": [],
   "metadata": {}
  },
  {
   "cell_type": "code",
   "execution_count": null,
   "source": [
    "def reassign_arguments(int_var, float_var, string_var, bool_var):\r\n",
    "    int_var = 30\r\n",
    "    float_var = 30.3\r\n",
    "    string_var = \"Goodbye!!\"\r\n",
    "    bool_var = False\r\n",
    "    \r\n",
    "    print(\"Inside the function: \", int_var, float_var, string_var, bool_var)"
   ],
   "outputs": [],
   "metadata": {}
  },
  {
   "cell_type": "code",
   "execution_count": null,
   "source": [
    "print(\"Outside the function: \", int_var, float_var, string_var, bool_var)"
   ],
   "outputs": [],
   "metadata": {}
  },
  {
   "cell_type": "code",
   "execution_count": null,
   "source": [
    "reassign_arguments(int_var, float_var, string_var, bool_var)"
   ],
   "outputs": [],
   "metadata": {}
  },
  {
   "cell_type": "code",
   "execution_count": null,
   "source": [
    "print(\"Outside the function: \", int_var, float_var, string_var, bool_var)"
   ],
   "outputs": [],
   "metadata": {}
  },
  {
   "cell_type": "code",
   "execution_count": null,
   "source": [
    "a_list = ['VietNam', 'China', 'US']\r\n",
    "a_tuple = ('Cầu Giấy', 'Bình Thạnh')\r\n",
    "a_dictionary = {'Cầu Giấy': 30, 'Bình Thạnh': 9000}"
   ],
   "outputs": [],
   "metadata": {}
  },
  {
   "cell_type": "code",
   "execution_count": null,
   "source": [
    "def reassign_arguments(a_list, a_tuple, a_dictionary):\r\n",
    "    a_list = ['Russia']\r\n",
    "    a_tuple = ('Thủ Đức')\r\n",
    "    a_dictionary = {'Thủ Đức': 13000}\r\n",
    "\r\n",
    "    print(\"Inside the function: \", a_list, a_tuple, a_dictionary)"
   ],
   "outputs": [],
   "metadata": {}
  },
  {
   "cell_type": "code",
   "execution_count": null,
   "source": [
    "print(\"Outside the function: \", a_list, a_tuple, a_dictionary)"
   ],
   "outputs": [],
   "metadata": {}
  },
  {
   "cell_type": "code",
   "execution_count": null,
   "source": [
    "reassign_arguments(a_list, a_tuple, a_dictionary)"
   ],
   "outputs": [],
   "metadata": {}
  },
  {
   "cell_type": "code",
   "execution_count": null,
   "source": [
    "print(\"Outside the function: \", a_list, a_tuple, a_dictionary)"
   ],
   "outputs": [],
   "metadata": {}
  },
  {
   "cell_type": "code",
   "execution_count": null,
   "source": [
    "logistic_centers = ['Bắc Ninh', 'Bình Dương', 'Tân Vạn', 'Bắc Giang']\r\n",
    "def modify_list(logistic_center):\r\n",
    "    logistic_center.append('Cần Thơ')"
   ],
   "outputs": [],
   "metadata": {}
  },
  {
   "cell_type": "code",
   "execution_count": null,
   "source": [
    "modify_list(logistic_centers)\r\n",
    "logistic_centers"
   ],
   "outputs": [],
   "metadata": {}
  },
  {
   "cell_type": "code",
   "execution_count": null,
   "source": [
    "def modify_list(a_list):\r\n",
    "    a_list[1] = \"Đà Nẵng\"\r\n",
    "    a_list.pop()"
   ],
   "outputs": [],
   "metadata": {}
  },
  {
   "cell_type": "code",
   "execution_count": null,
   "source": [
    "modify_list(logistic_centers)\r\n",
    "logistic_centers"
   ],
   "outputs": [],
   "metadata": {}
  },
  {
   "cell_type": "code",
   "execution_count": null,
   "source": [
    "def modify_dict(a_dict):\r\n",
    "    del a_dict['Cầu Giấy']\r\n",
    "\r\n",
    "    a_dict['Bình Thạnh'] = 9500\r\n",
    "    a_dict = {}\r\n",
    "\r\n",
    "modify_dict(a_dictionary)\r\n",
    "a_dictionary"
   ],
   "outputs": [],
   "metadata": {}
  },
  {
   "cell_type": "markdown",
   "source": [
    "## Đối số có từ khóa - Keyword Arguments"
   ],
   "metadata": {}
  },
  {
   "cell_type": "code",
   "execution_count": 2,
   "source": [
    "def vinfast_car(model, year, hp, engine, zero_to_sixty, top_speed, price):\r\n",
    "    other_details = hp, engine, zero_to_sixty, top_speed, price\r\n",
    "\r\n",
    "    print(\"Name of the car: Vinfast \", model)\r\n",
    "    print(\"Year: \", year)\r\n",
    "    print(\"0 to 60: \", zero_to_sixty)\r\n",
    "    print(\"Price: \", price)\r\n",
    "    print(\"Remaining details (hp, engine, zero_to_sixty, top_speed, price): \", other_details)"
   ],
   "outputs": [],
   "metadata": {}
  },
  {
   "cell_type": "code",
   "execution_count": 3,
   "source": [
    "vinfast_car(\"Lux SA2.0\", \r\n",
    "            \"2020\", \r\n",
    "            228, \r\n",
    "            2.0,\r\n",
    "            4.9,\r\n",
    "            250,\r\n",
    "            1074450000)"
   ],
   "outputs": [
    {
     "output_type": "stream",
     "name": "stdout",
     "text": [
      "Name of the car: Vinfast  Lux SA2.0\n",
      "Year:  2020\n",
      "0 to 60:  4.9\n",
      "Price:  1074450000\n",
      "Remaining details (hp, engine, zero_to_sixty, top_speed, price):  (228, 2.0, 4.9, 250, 1074450000)\n"
     ]
    }
   ],
   "metadata": {}
  },
  {
   "cell_type": "code",
   "execution_count": null,
   "source": [
    "vinfast_car(\"Lux SA2.0\", \r\n",
    "            \"2020\", \r\n",
    "            228, \r\n",
    "            2.0,\r\n",
    "            1074450000)"
   ],
   "outputs": [],
   "metadata": {}
  },
  {
   "cell_type": "code",
   "execution_count": null,
   "source": [
    "vinfast_car(\"Lux SA2.0\", \r\n",
    "            \"2020\", \r\n",
    "            hp=228, \r\n",
    "            engine=2.0,\r\n",
    "            zero_to_sixty=4.9,\r\n",
    "            top_speed=250,\r\n",
    "            price=1074450000)"
   ],
   "outputs": [],
   "metadata": {}
  },
  {
   "cell_type": "code",
   "execution_count": null,
   "source": [
    "vinfast_car(\"Lux SA2.0\", \r\n",
    "            \"2020\", \r\n",
    "            hp=228, \r\n",
    "            2.0,\r\n",
    "            zerotosixty=4.9,\r\n",
    "            top_speed=250,\r\n",
    "            price=1074450000)"
   ],
   "outputs": [],
   "metadata": {}
  },
  {
   "cell_type": "code",
   "execution_count": null,
   "source": [
    "def vinfast_car(model, year, hp, engine, zero_to_sixty, top_speed, price=976000000):\r\n",
    "    other_details = hp, engine, zero_to_sixty, top_speed, price\r\n",
    "\r\n",
    "    print(\"Name of the car: Vinfast \", model)\r\n",
    "    print(\"Year: \", year)\r\n",
    "    print(\"0 to 60: \", zero_to_sixty)\r\n",
    "    print(\"Price: \", price)\r\n",
    "    print(\"Remaining details (hp, engine, zero_to_sixty, top_speed, price): \", other_details)"
   ],
   "outputs": [],
   "metadata": {}
  },
  {
   "cell_type": "code",
   "execution_count": null,
   "source": [
    "vinfast_car(\"Lux SA2.0\", \r\n",
    "            \"2020\", \r\n",
    "            hp=228, \r\n",
    "            engine=2.0,\r\n",
    "            zero_to_sixty=4.9,\r\n",
    "            top_speed=250)"
   ],
   "outputs": [],
   "metadata": {}
  },
  {
   "cell_type": "code",
   "execution_count": null,
   "source": [
    "def vinfast_car_all_keywords(model=\"Lux 2.0\", year=\"2020\", hp=228, engine=2.0, zero_to_sixty=4.8, top_speed=250, price=976000000):\r\n",
    "    other_details = hp, engine, zero_to_sixty, top_speed, price\r\n",
    "\r\n",
    "    print(\"Name of the car: Vinfast \", model)\r\n",
    "    print(\"Year: \", year)\r\n",
    "    print(\"0 to 60: \", zero_to_sixty)\r\n",
    "    print(\"Price: \", price)\r\n",
    "    print(\"Remaining details (hp, engine, zero_to_sixty, top_speed, price): \", other_details)\r\n",
    "\r\n",
    "vinfast_car_all_keywords()"
   ],
   "outputs": [],
   "metadata": {}
  },
  {
   "cell_type": "code",
   "execution_count": null,
   "source": [
    "vinfast_car(year=\"2021\", price=1345000000)"
   ],
   "outputs": [],
   "metadata": {}
  },
  {
   "cell_type": "markdown",
   "source": [
    "## List/Dictionary unpacking"
   ],
   "metadata": {}
  },
  {
   "cell_type": "code",
   "execution_count": 4,
   "source": [
    "vals = [28, 2.0, 4.9, 250, 1074450000]\r\n",
    "hp, engine, zero_to_sixty, top_speed, price = vals"
   ],
   "outputs": [],
   "metadata": {}
  },
  {
   "cell_type": "code",
   "execution_count": 5,
   "source": [
    "hp, engine, zero_to_sixty, top_speed = vals"
   ],
   "outputs": [
    {
     "output_type": "error",
     "ename": "ValueError",
     "evalue": "too many values to unpack (expected 4)",
     "traceback": [
      "\u001b[1;31m---------------------------------------------------------------------------\u001b[0m",
      "\u001b[1;31mValueError\u001b[0m                                Traceback (most recent call last)",
      "\u001b[1;32m~\\AppData\\Local\\Temp/ipykernel_9632/1362294913.py\u001b[0m in \u001b[0;36m<module>\u001b[1;34m\u001b[0m\n\u001b[1;32m----> 1\u001b[1;33m \u001b[0mhp\u001b[0m\u001b[1;33m,\u001b[0m \u001b[0mengine\u001b[0m\u001b[1;33m,\u001b[0m \u001b[0mzero_to_sixty\u001b[0m\u001b[1;33m,\u001b[0m \u001b[0mtop_speed\u001b[0m \u001b[1;33m=\u001b[0m \u001b[0mvals\u001b[0m\u001b[1;33m\u001b[0m\u001b[1;33m\u001b[0m\u001b[0m\n\u001b[0m",
      "\u001b[1;31mValueError\u001b[0m: too many values to unpack (expected 4)"
     ]
    }
   ],
   "metadata": {}
  },
  {
   "cell_type": "code",
   "execution_count": null,
   "source": [
    "*others, price = vals\r\n",
    "others"
   ],
   "outputs": [],
   "metadata": {}
  },
  {
   "cell_type": "code",
   "execution_count": null,
   "source": [
    "hp, engine, *others = vals      # chỉ được phép có 1 dấu *\r\n",
    "others"
   ],
   "outputs": [],
   "metadata": {}
  },
  {
   "cell_type": "code",
   "execution_count": null,
   "source": [
    "# tương tự cho dictionary nhưng với **\r\n",
    "numbers = {\"one\": 1, \"two\": 2, \"three\": 3}\r\n",
    "letters = {\"a\": \"A\", \"b\": \"B\", \"c\": \"C\"}\r\n",
    "combination = {**numbers, **letters}\r\n",
    "combination"
   ],
   "outputs": [],
   "metadata": {}
  },
  {
   "cell_type": "code",
   "execution_count": null,
   "source": [
    "def vinfast_car_all_keywords(**kwargs):\r\n",
    "    for arg in kwargs.items():\r\n",
    "        print(f\"{arg[0]}: {arg[1]}\")\r\n",
    "\r\n",
    "vinfast_car_all_keywords(model=\"Lux 2.0\", year=\"2020\", hp=228, engine=2.0, zero_to_sixty=4.8, top_speed=250, price=976000000)"
   ],
   "outputs": [],
   "metadata": {}
  },
  {
   "cell_type": "code",
   "execution_count": 10,
   "source": [
    "# correct_function_definition.py\r\n",
    "def my_function(a, b, *args, **kwargs):\r\n",
    "    print(f\"{a} & {b} là các standard arguments\")\r\n",
    "    print(\"*args là các positional arguments\")\r\n",
    "    for arg in args:\r\n",
    "        print(f\"\\t{arg}\")\r\n",
    "    print(\"**kwargs là các named hoặc keyword arguments\")\r\n",
    "    for arg in kwargs.items():\r\n",
    "        print(f\"\\t{arg[0]}: {arg[1]}\")\r\n",
    "\r\n",
    "my_function(\"Lớp Python học vào\", \"thứ 3-5-7 có\", 40, \"bạn học viên\", coordinator=\"Vinh\", groups=8)"
   ],
   "outputs": [
    {
     "output_type": "stream",
     "name": "stdout",
     "text": [
      "Lớp Python học vào & thứ 3-5-7 có là các standard arguments\n",
      "*args là các positional arguments\n",
      "\t40\n",
      "\tbạn học viên\n",
      "**kwargs là các named hoặc keyword arguments\n",
      "\tcoordinator: Vinh\n",
      "\tgroups: 8\n"
     ]
    }
   ],
   "metadata": {}
  },
  {
   "cell_type": "markdown",
   "source": [
    "## Hàm như một đối tượng hạng nhất"
   ],
   "metadata": {}
  },
  {
   "cell_type": "code",
   "execution_count": null,
   "source": [
    "def my_car(car):\r\n",
    "    print(\"My car is a\", car)\r\n",
    "\r\n",
    "my_car(\"Vinfast Lux 2.0\")"
   ],
   "outputs": [],
   "metadata": {}
  },
  {
   "cell_type": "code",
   "execution_count": null,
   "source": [
    "my_car"
   ],
   "outputs": [],
   "metadata": {}
  },
  {
   "cell_type": "code",
   "execution_count": null,
   "source": [
    "car_fn = my_car"
   ],
   "outputs": [],
   "metadata": {}
  },
  {
   "cell_type": "code",
   "execution_count": null,
   "source": [
    "car_fn(\"Toyota\")"
   ],
   "outputs": [],
   "metadata": {}
  },
  {
   "cell_type": "code",
   "execution_count": null,
   "source": [
    "maximum = max"
   ],
   "outputs": [],
   "metadata": {}
  },
  {
   "cell_type": "code",
   "execution_count": null,
   "source": [
    "num_list = [56, 3, 5, 1467, 23]\r\n",
    "maximum(num_list)"
   ],
   "outputs": [],
   "metadata": {}
  },
  {
   "cell_type": "code",
   "execution_count": null,
   "source": [
    "maximum == max"
   ],
   "outputs": [],
   "metadata": {}
  },
  {
   "cell_type": "code",
   "execution_count": null,
   "source": [
    "d = {\"cat\": 1, my_car: 2, 42: 3}\r\n",
    "d[my_car]"
   ],
   "outputs": [],
   "metadata": {}
  },
  {
   "cell_type": "code",
   "execution_count": null,
   "source": [
    "def calculate_importTax(price, type_of_item):\r\n",
    "    if type_of_item == \"Product\":\r\n",
    "        return price * 1.1\r\n",
    "    elif type_of_item == \"Service\":\r\n",
    "        return price * 1.05\r\n",
    "\r\n",
    "    return price * 1.5"
   ],
   "outputs": [],
   "metadata": {}
  },
  {
   "cell_type": "code",
   "execution_count": null,
   "source": [
    "def calculate_VAT(price, type_of_item):\r\n",
    "    return price * 1.1"
   ],
   "outputs": [],
   "metadata": {}
  },
  {
   "cell_type": "code",
   "execution_count": null,
   "source": [
    "type_of_tax = calculate_importTax"
   ],
   "outputs": [],
   "metadata": {}
  },
  {
   "cell_type": "code",
   "execution_count": null,
   "source": [
    "type_of_tax(1000, \"Product\")"
   ],
   "outputs": [],
   "metadata": {}
  },
  {
   "cell_type": "code",
   "execution_count": null,
   "source": [
    "type_of_tax(1000, \"Service\")"
   ],
   "outputs": [],
   "metadata": {}
  },
  {
   "cell_type": "code",
   "execution_count": null,
   "source": [
    "type_of_tax = calculate_VAT"
   ],
   "outputs": [],
   "metadata": {}
  },
  {
   "cell_type": "code",
   "execution_count": null,
   "source": [
    "type_of_tax(1000, \"Product\")"
   ],
   "outputs": [],
   "metadata": {}
  },
  {
   "cell_type": "code",
   "execution_count": null,
   "source": [
    "type_of_tax(1000, \"Service\")"
   ],
   "outputs": [],
   "metadata": {}
  },
  {
   "cell_type": "code",
   "execution_count": null,
   "source": [
    "def find_tax_calculator(type_of_tax):\r\n",
    "    if type_of_tax == \"importTax\":\r\n",
    "        return calculate_importTax\r\n",
    "    elif type_of_tax == \"VAT\":\r\n",
    "        return calculate_VAT"
   ],
   "outputs": [],
   "metadata": {}
  },
  {
   "cell_type": "code",
   "execution_count": null,
   "source": [
    "importTax_fn = find_tax_calculator(\"importTax\")\r\n",
    "importTax_fn"
   ],
   "outputs": [],
   "metadata": {}
  },
  {
   "cell_type": "code",
   "execution_count": null,
   "source": [
    "vat_fn = find_tax_calculator(\"VAT\")\r\n",
    "vat_fn"
   ],
   "outputs": [],
   "metadata": {}
  },
  {
   "cell_type": "code",
   "execution_count": null,
   "source": [
    "importTax_fn(1000, \"Product\")"
   ],
   "outputs": [],
   "metadata": {}
  },
  {
   "cell_type": "code",
   "execution_count": null,
   "source": [
    "vat_fn(1000, \"Product\")"
   ],
   "outputs": [],
   "metadata": {}
  },
  {
   "cell_type": "code",
   "execution_count": null,
   "source": [
    "def get_price_plus_taxes(price, type_of_item, tax_fn):\r\n",
    "    return tax_fn(price, type_of_item)"
   ],
   "outputs": [],
   "metadata": {}
  },
  {
   "cell_type": "code",
   "execution_count": null,
   "source": [
    "get_price_plus_taxes(2000, \"Product\", tax_fn=calculate_importTax)"
   ],
   "outputs": [],
   "metadata": {}
  },
  {
   "cell_type": "code",
   "execution_count": null,
   "source": [
    "get_price_plus_taxes(2000, \"Product\", tax_fn=calculate_VAT)"
   ],
   "outputs": [],
   "metadata": {}
  },
  {
   "cell_type": "markdown",
   "source": [
    "## Functional programming"
   ],
   "metadata": {}
  },
  {
   "cell_type": "code",
   "execution_count": null,
   "source": [
    "sorted(logistic_centers)"
   ],
   "outputs": [],
   "metadata": {}
  },
  {
   "cell_type": "code",
   "execution_count": null,
   "source": [
    "sorted(logistic_centers, key=len)       # <--- len is a callback"
   ],
   "outputs": [],
   "metadata": {}
  },
  {
   "cell_type": "code",
   "execution_count": null,
   "source": [
    "def reverse_len(s):\r\n",
    "    return -len(s)\r\n",
    "\r\n",
    "sorted(logistic_centers, key=reverse_len)"
   ],
   "outputs": [],
   "metadata": {}
  },
  {
   "cell_type": "code",
   "execution_count": null,
   "source": [
    "names_with_case = ['harry', 'Suzy', 'al', 'Mark']\r\n",
    "sorted(names_with_case)"
   ],
   "outputs": [],
   "metadata": {}
  },
  {
   "cell_type": "code",
   "execution_count": null,
   "source": [
    "sorted(names_with_case, key=str.lower)"
   ],
   "outputs": [],
   "metadata": {}
  },
  {
   "cell_type": "code",
   "execution_count": null,
   "source": [
    "# 1st limitation\r\n",
    "def add(x, y):\r\n",
    "    return x + y\r\n",
    "values_to_add = [1, 2, 3]\r\n",
    "sorted(values_to_add, key=add)"
   ],
   "outputs": [],
   "metadata": {}
  },
  {
   "cell_type": "code",
   "execution_count": null,
   "source": [
    "# 2nd limitation\r\n",
    "values_to_cast = ['1', '2', '3', 'four']\r\n",
    "sorted(values_to_cast, key=int)"
   ],
   "outputs": [],
   "metadata": {}
  },
  {
   "cell_type": "code",
   "execution_count": null,
   "source": [
    "sorted(names_with_case, key=lambda x: x[::-1])"
   ],
   "outputs": [],
   "metadata": {}
  },
  {
   "cell_type": "code",
   "execution_count": null,
   "source": [
    "from collections import namedtuple\r\n",
    "\r\n",
    "Stock = namedtuple(\"Stock\", [\"symbol\", \"current\", \"high\", \"low\"])\r\n",
    "stock1 = Stock(\"CTG\", 32, high=42, low=19.1)\r\n",
    "stock2 = Stock(\"MBB\", 27.46, high=32.2, low=11.4)\r\n",
    "stock3 = Stock(\"ACB\", 32.16, high=38.2, low=16.5)\r\n",
    "VNIndex = [stock1, stock2, stock3]\r\n",
    "sorted(VNIndex, key=lambda x: getattr(x, 'high'), reverse=True)"
   ],
   "outputs": [],
   "metadata": {}
  },
  {
   "cell_type": "code",
   "execution_count": null,
   "source": [
    "prices = [1938098, 28485204, 29485772, 55838438]\r\n",
    "types = ['Product']*4\r\n",
    "final_prices = map(calculate_VAT, prices, types)\r\n",
    "list(final_prices)"
   ],
   "outputs": [],
   "metadata": {}
  }
 ],
 "metadata": {
  "orig_nbformat": 4,
  "language_info": {
   "name": "python",
   "version": "3.7.6",
   "mimetype": "text/x-python",
   "codemirror_mode": {
    "name": "ipython",
    "version": 3
   },
   "pygments_lexer": "ipython3",
   "nbconvert_exporter": "python",
   "file_extension": ".py"
  },
  "kernelspec": {
   "name": "python3",
   "display_name": "Python 3.7.6 64-bit"
  },
  "interpreter": {
   "hash": "04635d289a519a1410467dd0afb0db42f9184808881ca68b2eb5a687a20a5a94"
  }
 },
 "nbformat": 4,
 "nbformat_minor": 2
}