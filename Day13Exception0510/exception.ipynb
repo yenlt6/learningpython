{
 "cells": [
  {
   "cell_type": "markdown",
   "source": [
    "# Exceptions"
   ],
   "metadata": {}
  },
  {
   "cell_type": "markdown",
   "source": [
    "## Syntax Error\n",
    "\n",
    "Các lỗi cú pháp thường dễ xử lý, lỗi cú pháp có thể được phát hiện và cảnh báo ngay khi code"
   ],
   "metadata": {}
  },
  {
   "cell_type": "code",
   "execution_count": null,
   "source": [
    "# Lỗi thiếu dấu :\r\n",
    "while True: print(\"Syntax Error\")\r\n",
    "\r\n",
    "# Lỗi thụt lề\r\n",
    "if True:\r\n",
    "    x = 1\r\n",
    "    y = 2"
   ],
   "outputs": [],
   "metadata": {}
  },
  {
   "cell_type": "markdown",
   "source": [
    "## Logical Error (Exceptions)\n",
    "\n",
    "Lỗi xảy ra trong quá trình thực thi chương trình"
   ],
   "metadata": {}
  },
  {
   "cell_type": "code",
   "execution_count": null,
   "source": [
    "# Lỗi chia cho 0\r\n",
    "1 / 0\r\n",
    "\r\n",
    "# Lỗi kiểu dữ liệu không phù hợp\r\n",
    "1 + \"1\"\r\n",
    "\r\n",
    "# Lỗi index không hợp lệ\r\n",
    "l = []\r\n",
    "l[0]\r\n",
    "\r\n",
    "# Lỗi tệp tin không tồn tại\r\n",
    "open(\"abc.xyz\")\r\n",
    "\r\n",
    "class Demo:\r\n",
    "    pass\r\n",
    "\r\n",
    "# Lỗi attribute không tồn tại\r\n",
    "obj = Demo()\r\n",
    "obj.x"
   ],
   "outputs": [],
   "metadata": {}
  },
  {
   "cell_type": "markdown",
   "source": [
    "## Raising Exceptions\n",
    "\n",
    "Có thể ném ra một exception với điều kiện nhất định, sử dụng `raise` hoặc `assert`"
   ],
   "metadata": {}
  },
  {
   "cell_type": "code",
   "execution_count": 46,
   "source": [
    "#Viết hàm tính ra n!\r\n",
    "def factorial_yen1(n):\r\n",
    "    assert type(n)==int and n>=0, f\"Giá trị ko hợp lệ {n}\"\r\n",
    "    result = 1\r\n",
    "    for i in range(1,n):\r\n",
    "        result*=i\r\n",
    "    return result\r\n",
    "\r\n",
    "print(\"Gai thừa: \",factorial_yen1(6))"
   ],
   "outputs": [
    {
     "output_type": "stream",
     "name": "stdout",
     "text": [
      "Gai thừa:  120\n"
     ]
    }
   ],
   "metadata": {}
  },
  {
   "cell_type": "code",
   "execution_count": 54,
   "source": [
    "#Viết hàm tính ra n!\r\n",
    "# giai thừa của 0=1\r\n",
    "def factorial_yen2(n):\r\n",
    "    result = 1\r\n",
    "    if type(n)!=int or n<0:\r\n",
    "        print(f\"Giá trị n={n} ko hợp lệ, nó phải là một số nguyên và >=0\")\r\n",
    "        result=\"Ko hợp lệ\"\r\n",
    "    elif n==0:\r\n",
    "        return 1\r\n",
    "        # result = 1\r\n",
    "    else:  \r\n",
    "        for i in range(2,n+1):\r\n",
    "            result*=i\r\n",
    "    return result\r\n",
    "\r\n",
    "list_=[-1,0,6]\r\n",
    "for i in list_:\r\n",
    "    print(f\"Giá trị giai thừa của {i}: \",factorial_yen2(i))\r\n",
    "\r\n"
   ],
   "outputs": [
    {
     "output_type": "stream",
     "name": "stdout",
     "text": [
      "Giá trị n=-1 ko hợp lệ, nó phải là một số nguyên và >=0\n",
      "Giá trị giai thừa của -1:  Ko hợp lệ\n",
      "Giá trị giai thừa của 0:  1\n",
      "Giá trị giai thừa của 6:  720\n"
     ]
    }
   ],
   "metadata": {}
  },
  {
   "cell_type": "code",
   "execution_count": 55,
   "source": [
    "def factorial(number):\r\n",
    "    assert type(number) == int and number >= 0, f\"Giá trị không hợp lệ: '{number}'\"\r\n",
    "\r\n",
    "    result = number\r\n",
    "\r\n",
    "    if number == 0:\r\n",
    "        return 1\r\n",
    "\r\n",
    "    for i in range(2, number):\r\n",
    "        result *= i\r\n",
    "\r\n",
    "    return result\r\n",
    "\r\n",
    "print(factorial(\"abc\"))"
   ],
   "outputs": [
    {
     "output_type": "error",
     "ename": "AssertionError",
     "evalue": "Giá trị không hợp lệ: 'abc'",
     "traceback": [
      "\u001b[1;31m---------------------------------------------------------------------------\u001b[0m",
      "\u001b[1;31mAssertionError\u001b[0m                            Traceback (most recent call last)",
      "\u001b[1;32m<ipython-input-55-fba4db566897>\u001b[0m in \u001b[0;36m<module>\u001b[1;34m\u001b[0m\n\u001b[0;32m     12\u001b[0m     \u001b[1;32mreturn\u001b[0m \u001b[0mresult\u001b[0m\u001b[1;33m\u001b[0m\u001b[0m\n\u001b[0;32m     13\u001b[0m \u001b[1;33m\u001b[0m\u001b[0m\n\u001b[1;32m---> 14\u001b[1;33m \u001b[0mprint\u001b[0m\u001b[1;33m(\u001b[0m\u001b[0mfactorial\u001b[0m\u001b[1;33m(\u001b[0m\u001b[1;34m\"abc\"\u001b[0m\u001b[1;33m)\u001b[0m\u001b[1;33m)\u001b[0m\u001b[1;33m\u001b[0m\u001b[0m\n\u001b[0m",
      "\u001b[1;32m<ipython-input-55-fba4db566897>\u001b[0m in \u001b[0;36mfactorial\u001b[1;34m(number)\u001b[0m\n\u001b[0;32m      1\u001b[0m \u001b[1;32mdef\u001b[0m \u001b[0mfactorial\u001b[0m\u001b[1;33m(\u001b[0m\u001b[0mnumber\u001b[0m\u001b[1;33m)\u001b[0m\u001b[1;33m:\u001b[0m\u001b[1;33m\u001b[0m\u001b[0m\n\u001b[1;32m----> 2\u001b[1;33m     \u001b[1;32massert\u001b[0m \u001b[0mtype\u001b[0m\u001b[1;33m(\u001b[0m\u001b[0mnumber\u001b[0m\u001b[1;33m)\u001b[0m \u001b[1;33m==\u001b[0m \u001b[0mint\u001b[0m \u001b[1;32mand\u001b[0m \u001b[0mnumber\u001b[0m \u001b[1;33m>=\u001b[0m \u001b[1;36m0\u001b[0m\u001b[1;33m,\u001b[0m \u001b[1;34mf\"Giá trị không hợp lệ: '{number}'\"\u001b[0m\u001b[1;33m\u001b[0m\u001b[0m\n\u001b[0m\u001b[0;32m      3\u001b[0m \u001b[1;33m\u001b[0m\u001b[0m\n\u001b[0;32m      4\u001b[0m     \u001b[0mresult\u001b[0m \u001b[1;33m=\u001b[0m \u001b[0mnumber\u001b[0m\u001b[1;33m\u001b[0m\u001b[0m\n\u001b[0;32m      5\u001b[0m \u001b[1;33m\u001b[0m\u001b[0m\n",
      "\u001b[1;31mAssertionError\u001b[0m: Giá trị không hợp lệ: 'abc'"
     ]
    }
   ],
   "metadata": {}
  },
  {
   "cell_type": "markdown",
   "source": [
    "## Handling Exceptions\n",
    "\n",
    "Bắt và xử lý exception với khối lệnh `try except`\n",
    "\n",
    "Có thể có nhiều khối `except` để bóc tách và xử lý từng loại lỗi riêng biệt"
   ],
   "metadata": {}
  },
  {
   "cell_type": "code",
   "execution_count": 60,
   "source": [
    "factorial(\"fgdfg\")"
   ],
   "outputs": [
    {
     "output_type": "error",
     "ename": "AssertionError",
     "evalue": "Giá trị không hợp lệ: 'fgdfg'",
     "traceback": [
      "\u001b[1;31m---------------------------------------------------------------------------\u001b[0m",
      "\u001b[1;31mAssertionError\u001b[0m                            Traceback (most recent call last)",
      "\u001b[1;32m<ipython-input-60-49ff0305c5cc>\u001b[0m in \u001b[0;36m<module>\u001b[1;34m\u001b[0m\n\u001b[1;32m----> 1\u001b[1;33m \u001b[0mfactorial\u001b[0m\u001b[1;33m(\u001b[0m\u001b[1;34m\"fgdfg\"\u001b[0m\u001b[1;33m)\u001b[0m\u001b[1;33m\u001b[0m\u001b[0m\n\u001b[0m",
      "\u001b[1;32m<ipython-input-55-fba4db566897>\u001b[0m in \u001b[0;36mfactorial\u001b[1;34m(number)\u001b[0m\n\u001b[0;32m      1\u001b[0m \u001b[1;32mdef\u001b[0m \u001b[0mfactorial\u001b[0m\u001b[1;33m(\u001b[0m\u001b[0mnumber\u001b[0m\u001b[1;33m)\u001b[0m\u001b[1;33m:\u001b[0m\u001b[1;33m\u001b[0m\u001b[0m\n\u001b[1;32m----> 2\u001b[1;33m     \u001b[1;32massert\u001b[0m \u001b[0mtype\u001b[0m\u001b[1;33m(\u001b[0m\u001b[0mnumber\u001b[0m\u001b[1;33m)\u001b[0m \u001b[1;33m==\u001b[0m \u001b[0mint\u001b[0m \u001b[1;32mand\u001b[0m \u001b[0mnumber\u001b[0m \u001b[1;33m>=\u001b[0m \u001b[1;36m0\u001b[0m\u001b[1;33m,\u001b[0m \u001b[1;34mf\"Giá trị không hợp lệ: '{number}'\"\u001b[0m\u001b[1;33m\u001b[0m\u001b[0m\n\u001b[0m\u001b[0;32m      3\u001b[0m \u001b[1;33m\u001b[0m\u001b[0m\n\u001b[0;32m      4\u001b[0m     \u001b[0mresult\u001b[0m \u001b[1;33m=\u001b[0m \u001b[0mnumber\u001b[0m\u001b[1;33m\u001b[0m\u001b[0m\n\u001b[0;32m      5\u001b[0m \u001b[1;33m\u001b[0m\u001b[0m\n",
      "\u001b[1;31mAssertionError\u001b[0m: Giá trị không hợp lệ: 'fgdfg'"
     ]
    }
   ],
   "metadata": {}
  },
  {
   "cell_type": "code",
   "execution_count": 61,
   "source": [
    "list_ = [\"hello\", 0, 1, -2, 3,6]\r\n",
    "\r\n",
    "for value in list_:\r\n",
    "    try:\r\n",
    "        print(f\"{value}! =\", factorial(value))\r\n",
    "    except AssertionError as e:\r\n",
    "        print(\"Error:\", e)\r\n",
    "        print()"
   ],
   "outputs": [
    {
     "output_type": "stream",
     "name": "stdout",
     "text": [
      "Error: Giá trị không hợp lệ: 'hello'\n",
      "\n",
      "0! = 1\n",
      "1! = 1\n",
      "Error: Giá trị không hợp lệ: '-2'\n",
      "\n",
      "3! = 6\n",
      "6! = 720\n"
     ]
    }
   ],
   "metadata": {}
  },
  {
   "cell_type": "markdown",
   "source": [
    "## Clean-up Actions\n",
    "\n",
    "Khối lệnh `finally` thường chứa các đoạn mã có nhiệm vụ dọn dẹp như đóng file, ngắt kết nối, ...\n",
    "\n",
    "Một số loại đối tượng như file có thể sử dụng với câu lệnh `with` để tự động dọn dẹp khi không còn cần thiết"
   ],
   "metadata": {}
  },
  {
   "cell_type": "code",
   "execution_count": 58,
   "source": [
    "try:\r\n",
    "    file = open(\"demo.txt\")\r\n",
    "    for line in file:\r\n",
    "        print(line, end=\"\")\r\n",
    "except FileNotFoundError as e:\r\n",
    "    print(\"Không tìm thấy file demo.txt\")\r\n",
    "finally:\r\n",
    "    file.close()"
   ],
   "outputs": [
    {
     "output_type": "stream",
     "name": "stdout",
     "text": [
      "Yen  oi co gang len\n",
      "co len\n",
      "hi\n",
      "Hello"
     ]
    }
   ],
   "metadata": {}
  },
  {
   "cell_type": "code",
   "execution_count": 62,
   "source": [
    "try:\r\n",
    "    with open(\"demo.txt\") as file:\r\n",
    "        for line in file:\r\n",
    "            print(line, end=\"\")\r\n",
    "except FileNotFoundError as e:\r\n",
    "    print(\"Không tìm thấy file demo.txt\")"
   ],
   "outputs": [
    {
     "output_type": "stream",
     "name": "stdout",
     "text": [
      "Yen  oi co gang len\n",
      "co len\n",
      "hi\n",
      "Hello"
     ]
    }
   ],
   "metadata": {}
  },
  {
   "cell_type": "markdown",
   "source": [
    "## User-defined Exceptions\n",
    "\n",
    "Có thể tạo exception tùy chỉnh bằng cách tạo các class mới. Các class này phải kế thừa (trực tiếp hoặc gián tiếp) từ lớp `Exception`.\n",
    "\n",
    "Các exception theo quy ước có tên kết thúc với `Error` để phân biệt với các class thông thường.\n",
    "\n",
    "Mặc dù các class này có thể hoạt động giống như bất kỳ class thông thường nào, nhưng thường chỉ đơn giản là chứa một vài thuộc tính để mô tả mã lỗi hay thông báo lỗi"
   ],
   "metadata": {}
  },
  {
   "cell_type": "code",
   "execution_count": 65,
   "source": [
    "class Error(Exception):\r\n",
    "    \"\"\"Base class cho các exception trong module\"\"\"\r\n",
    "    pass\r\n",
    "\r\n",
    "class NotIntegerError(Error):\r\n",
    "    \"\"\"Ném ra khi giá trị đầu vào không phải integer\"\"\"\r\n",
    "\r\n",
    "    def __init__(self, value):\r\n",
    "        message = f\"Không phải số nguyên: {value}\"\r\n",
    "        self.value = value\r\n",
    "        self.message = message\r\n",
    "\r\n",
    "class NegativeError(Error):\r\n",
    "    \"\"\"Ném ra khi giá trị số là số âm\"\"\"\r\n",
    "    \r\n",
    "    def __init__(self, value):\r\n",
    "        message = f\"Không phải số nguyên dương: {value}\"\r\n",
    "        self.value = value\r\n",
    "        self.message = message\r\n",
    "\r\n",
    "\r\n",
    "def factorial(number):\r\n",
    "    if type(number) != int: raise NotIntegerError(number)\r\n",
    "\r\n",
    "    if number < 0: raise NegativeError(number)\r\n",
    "\r\n",
    "    result = number\r\n",
    "\r\n",
    "    if number == 0:\r\n",
    "        return 1\r\n",
    "\r\n",
    "    for i in range(2, number):\r\n",
    "        result *= i\r\n",
    "\r\n",
    "    return result\r\n",
    "\r\n",
    "# int(input())\r\n",
    "\r\n",
    "# print(factorial(\"abc\"))\r\n",
    "\r\n",
    "list_ = [\"hello\", 0, 1, -2, 3,6]\r\n",
    "\r\n",
    "for value in list_:\r\n",
    "    try:\r\n",
    "        print(f\"{value}! =\", factorial(value))\r\n",
    "    except (NotIntegerError,NegativeError) as e:\r\n",
    "        print(\"lay ra thuoc tinh message của exception: \", e.message,\"\\nvalue của exception có có ý nghĩa sử dụng:-------value:\",e.value )\r\n",
    "        print()"
   ],
   "outputs": [
    {
     "output_type": "stream",
     "name": "stdout",
     "text": [
      "lay ra thuoc tinh message của exception:  Không phải số nguyên: hello \n",
      "value của exception có có ý nghĩa sử dụng:-------value: hello\n",
      "\n",
      "0! = 1\n",
      "1! = 1\n",
      "lay ra thuoc tinh message của exception:  Không phải số nguyên dương: -2 \n",
      "value của exception có có ý nghĩa sử dụng:-------value: -2\n",
      "\n",
      "3! = 6\n",
      "6! = 720\n"
     ]
    }
   ],
   "metadata": {}
  },
  {
   "cell_type": "markdown",
   "source": [
    "## Excercise\n",
    "\n",
    "Game đoán số\n",
    "\n",
    "Tạo một số nguyên ngẫu nhiên trong khoảng 0 - 50, và gợi ý người dùng đoán một số, nếu trùng, hiển thị kết quả, nếu số đoán lớn hơn hoặc nhỏ hơn, hiển thị một thông báo lỗi tương ứng và gợi ý người dùng đoán lại. \n",
    "\n",
    "Số lần đoán tối đa: 3\n",
    "Xác định và xử lý các exception phù hợp"
   ],
   "metadata": {}
  },
  {
   "cell_type": "code",
   "execution_count": 3,
   "source": [
    "from random import randint\r\n",
    "\r\n",
    "class Error(Exception):\r\n",
    "    \"\"\"Base class cho các exception trong module\"\"\"\r\n",
    "    pass\r\n",
    "\r\n",
    "class NotIntegerError(Error):\r\n",
    "    \"\"\"Ném ra khi giá trị đầu vào không phải integer\"\"\"\r\n",
    "\r\n",
    "    def __init__(self, value):\r\n",
    "        message = f\"Không phải số nguyên: {value}\"\r\n",
    "        self.value = value\r\n",
    "        self.message = message\r\n",
    "\r\n",
    "class GreaterThanError(Error):\r\n",
    "    \"\"\"Ném ra khi giá trị số đoán là lớn hơn\"\"\"\r\n",
    "    \r\n",
    "    def __init__(self, value):\r\n",
    "        message = f\"Không phải số đúng, bạn đã đoán số lớn hơn: {value}\"\r\n",
    "        self.value = value\r\n",
    "        self.message = message\r\n",
    "\r\n",
    "class LessThanError(Error):\r\n",
    "    \"\"\"Ném ra khi giá trị số đoán là nhỏ hơn\"\"\"\r\n",
    "    \r\n",
    "    def __init__(self, value):\r\n",
    "        message = f\"Không phải số đúng, bạn đã đoán số nhỏ hơn: {value}\"\r\n",
    "        self.value = value\r\n",
    "        self.message = message\r\n",
    "def game(value):    \r\n",
    "    max=3\r\n",
    "    while max:\r\n",
    "        number_guess=int(input(\"Hãy nhập số mà bạn đoán:\"))\r\n",
    "        # print(\"bạn đoán lần thứ:\", f\"{4-max}\")\r\n",
    "        print(F\"bạn đoán lần thứ: {4-max}\")\r\n",
    "        max-=1\r\n",
    "        if type(number_guess) != int: raise NotIntegerError(number_guess)\r\n",
    "        if number_guess > value: raise GreaterThanError(number_guess)\r\n",
    "        if number_guess < value: raise LessThanError(number_guess)    \r\n",
    "        if number_guess==value:\r\n",
    "            print(\"ban đoán đúng rồi\")\r\n",
    "            break\r\n",
    "    \r\n",
    "value = randint(0, 50)\r\n",
    "print(\"Số random là:\",value)\r\n",
    "try:\r\n",
    "    game(value)\r\n",
    "except (GreaterThanError,LessThanError,NotIntegerError) as e:\r\n",
    "    print(e.message)"
   ],
   "outputs": [
    {
     "output_type": "stream",
     "name": "stdout",
     "text": [
      "Số random là: 50\n",
      "bạn đoán lần thứ: 1\n"
     ]
    },
    {
     "output_type": "error",
     "ename": "GreaterThanError",
     "evalue": "56",
     "traceback": [
      "\u001b[1;31m---------------------------------------------------------------------------\u001b[0m",
      "\u001b[1;31mGreaterThanError\u001b[0m                          Traceback (most recent call last)",
      "\u001b[1;32mC:\\Users\\YENLT6~1\\AppData\\Local\\Temp/ipykernel_14868/790797923.py\u001b[0m in \u001b[0;36m<module>\u001b[1;34m\u001b[0m\n\u001b[0;32m     39\u001b[0m     \u001b[0mmax\u001b[0m\u001b[1;33m-=\u001b[0m\u001b[1;36m1\u001b[0m\u001b[1;33m\u001b[0m\u001b[1;33m\u001b[0m\u001b[0m\n\u001b[0;32m     40\u001b[0m     \u001b[1;32mif\u001b[0m \u001b[0mtype\u001b[0m\u001b[1;33m(\u001b[0m\u001b[0mnumber_guess\u001b[0m\u001b[1;33m)\u001b[0m \u001b[1;33m!=\u001b[0m \u001b[0mint\u001b[0m\u001b[1;33m:\u001b[0m \u001b[1;32mraise\u001b[0m \u001b[0mNotIntegerError\u001b[0m\u001b[1;33m(\u001b[0m\u001b[0mnumber_guess\u001b[0m\u001b[1;33m)\u001b[0m\u001b[1;33m\u001b[0m\u001b[1;33m\u001b[0m\u001b[0m\n\u001b[1;32m---> 41\u001b[1;33m     \u001b[1;32mif\u001b[0m \u001b[0mnumber_guess\u001b[0m \u001b[1;33m>\u001b[0m \u001b[0mvalue\u001b[0m\u001b[1;33m:\u001b[0m \u001b[1;32mraise\u001b[0m \u001b[0mGreaterThanError\u001b[0m\u001b[1;33m(\u001b[0m\u001b[0mnumber_guess\u001b[0m\u001b[1;33m)\u001b[0m\u001b[1;33m\u001b[0m\u001b[1;33m\u001b[0m\u001b[0m\n\u001b[0m\u001b[0;32m     42\u001b[0m     \u001b[1;32mif\u001b[0m \u001b[0mnumber_guess\u001b[0m \u001b[1;33m<\u001b[0m \u001b[0mvalue\u001b[0m\u001b[1;33m:\u001b[0m \u001b[1;32mraise\u001b[0m \u001b[0mLessThanError\u001b[0m\u001b[1;33m(\u001b[0m\u001b[0mnumber_guess\u001b[0m\u001b[1;33m)\u001b[0m\u001b[1;33m\u001b[0m\u001b[1;33m\u001b[0m\u001b[0m\n\u001b[0;32m     43\u001b[0m     \u001b[1;32mif\u001b[0m \u001b[0mnumber_guess\u001b[0m\u001b[1;33m==\u001b[0m\u001b[0mvalue\u001b[0m\u001b[1;33m:\u001b[0m\u001b[1;33m\u001b[0m\u001b[1;33m\u001b[0m\u001b[0m\n",
      "\u001b[1;31mGreaterThanError\u001b[0m: 56"
     ]
    }
   ],
   "metadata": {}
  },
  {
   "cell_type": "code",
   "execution_count": null,
   "source": [
    "value = randint(0, 50)\r\n",
    "print(\"Số random là:\",value)\r\n",
    "max=3\r\n",
    "while max:\r\n",
    "    number_guess=int(input(\"Hãy nhập số mà bạn đoán:\"))\r\n",
    "    # print(\"bạn đoán lần thứ:\", f\"{4-max}\")\r\n",
    "    print(F\"bạn đoán lần thứ: {4-max}\")\r\n",
    "    max-=1\r\n",
    "    if number_guess==value:\r\n",
    "        print(\"ban đoán đúng rồi\")\r\n",
    "        break\r\n",
    "    elif number_guess > value:\r\n",
    "        if max==0:\r\n",
    "            print(\"Bạn đã hết 3 lần đoán và rất tiếc bạn đã đoán sai cả 3\")\r\n",
    "        else:        \r\n",
    "            print(\"số bạn đoán lớn hơn rồi hãy đoán lại nhé\")\r\n",
    "    elif number_guess < value:\r\n",
    "        if max==0:\r\n",
    "            print(\"Bạn đã hết 3 lần đoán và rất tiếc bạn đã đoán sai cả 3\")\r\n",
    "        else:        \r\n",
    "            print(\"số bạn đoán nhỏ hơn rồi hãy đoán lại nhé\")\r\n"
   ],
   "outputs": [],
   "metadata": {}
  }
 ],
 "metadata": {
  "interpreter": {
   "hash": "04635d289a519a1410467dd0afb0db42f9184808881ca68b2eb5a687a20a5a94"
  },
  "kernelspec": {
   "name": "python3",
   "display_name": "Python 3.7.6 64-bit (system)"
  },
  "language_info": {
   "codemirror_mode": {
    "name": "ipython",
    "version": 3
   },
   "file_extension": ".py",
   "mimetype": "text/x-python",
   "name": "python",
   "nbconvert_exporter": "python",
   "pygments_lexer": "ipython3",
   "version": "3.7.6"
  },
  "orig_nbformat": 4
 },
 "nbformat": 4,
 "nbformat_minor": 2
}