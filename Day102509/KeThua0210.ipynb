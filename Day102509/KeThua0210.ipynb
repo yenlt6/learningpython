{
 "cells": [
  {
   "cell_type": "code",
   "execution_count": null,
   "source": [
    "#kế thừa: xây dựng 1 lớp mới từ 1 lớp có sẵn\r\n",
    "#Lớp dẫn xuất: Derived class,\r\n",
    "#Lớp cơ sở: Base class\r\n",
    "Employee is a person ( employee là một người)"
   ],
   "outputs": [],
   "metadata": {}
  }
 ],
 "metadata": {
  "orig_nbformat": 4,
  "language_info": {
   "name": "python"
  }
 },
 "nbformat": 4,
 "nbformat_minor": 2
}