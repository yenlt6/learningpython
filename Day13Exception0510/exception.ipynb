{
 "cells": [
  {
   "cell_type": "markdown",
   "metadata": {},
   "source": [
    "# Exceptions"
   ]
  },
  {
   "cell_type": "markdown",
   "metadata": {},
   "source": [
    "## Syntax Error\n",
    "\n",
    "Các lỗi cú pháp thường dễ xử lý, lỗi cú pháp có thể được phát hiện và cảnh báo ngay khi code"
   ]
  },
  {
   "cell_type": "code",
   "execution_count": null,
   "metadata": {},
   "outputs": [],
   "source": [
    "# Lỗi thiếu dấu :\n",
    "while True: print(\"Syntax Error\")\n",
    "\n",
    "# Lỗi thụt lề\n",
    "if True:\n",
    "    x = 1\n",
    "    y = 2"
   ]
  },
  {
   "cell_type": "markdown",
   "metadata": {},
   "source": [
    "## Logical Error (Exceptions)\n",
    "\n",
    "Lỗi xảy ra trong quá trình thực thi chương trình"
   ]
  },
  {
   "cell_type": "code",
   "execution_count": null,
   "metadata": {},
   "outputs": [],
   "source": [
    "# Lỗi chia cho 0\n",
    "1 / 0\n",
    "\n",
    "# Lỗi kiểu dữ liệu không phù hợp\n",
    "1 + \"1\"\n",
    "\n",
    "# Lỗi index không hợp lệ\n",
    "l = []\n",
    "l[0]\n",
    "\n",
    "# Lỗi tệp tin không tồn tại\n",
    "open(\"abc.xyz\")\n",
    "\n",
    "class Demo:\n",
    "    pass\n",
    "\n",
    "# Lỗi attribute không tồn tại\n",
    "obj = Demo()\n",
    "obj.x"
   ]
  },
  {
   "cell_type": "markdown",
   "metadata": {},
   "source": [
    "## Raising Exceptions\n",
    "\n",
    "Có thể ném ra một exception với điều kiện nhất định, sử dụng `raise` hoặc `assert`"
   ]
  },
  {
   "cell_type": "code",
   "execution_count": 46,
   "metadata": {},
   "outputs": [
    {
     "name": "stdout",
     "output_type": "stream",
     "text": [
      "Gai thừa:  120\n"
     ]
    }
   ],
   "source": [
    "#Viết hàm tính ra n!\n",
    "def factorial_yen1(n):\n",
    "    assert type(n)==int and n>=0, f\"Giá trị ko hợp lệ {n}\"\n",
    "    result = 1\n",
    "    for i in range(1,n):\n",
    "        result*=i\n",
    "    return result\n",
    "\n",
    "print(\"Gai thừa: \",factorial_yen1(6))"
   ]
  },
  {
   "cell_type": "code",
   "execution_count": 54,
   "metadata": {},
   "outputs": [
    {
     "name": "stdout",
     "output_type": "stream",
     "text": [
      "Giá trị n=-1 ko hợp lệ, nó phải là một số nguyên và >=0\n",
      "Giá trị giai thừa của -1:  Ko hợp lệ\n",
      "Giá trị giai thừa của 0:  1\n",
      "Giá trị giai thừa của 6:  720\n"
     ]
    }
   ],
   "source": [
    "#Viết hàm tính ra n!\n",
    "# giai thừa của 0=1\n",
    "def factorial_yen2(n):\n",
    "    result = 1\n",
    "    if type(n)!=int or n<0:\n",
    "        print(f\"Giá trị n={n} ko hợp lệ, nó phải là một số nguyên và >=0\")\n",
    "        result=\"Ko hợp lệ\"\n",
    "    elif n==0:\n",
    "        return 1\n",
    "        # result = 1\n",
    "    else:  \n",
    "        for i in range(2,n+1):\n",
    "            result*=i\n",
    "    return result\n",
    "\n",
    "list_=[-1,0,6]\n",
    "for i in list_:\n",
    "    print(f\"Giá trị giai thừa của {i}: \",factorial_yen2(i))\n",
    "\n"
   ]
  },
  {
   "cell_type": "code",
   "execution_count": 55,
   "metadata": {},
   "outputs": [
    {
     "ename": "AssertionError",
     "evalue": "Giá trị không hợp lệ: 'abc'",
     "output_type": "error",
     "traceback": [
      "\u001b[1;31m---------------------------------------------------------------------------\u001b[0m",
      "\u001b[1;31mAssertionError\u001b[0m                            Traceback (most recent call last)",
      "\u001b[1;32m<ipython-input-55-fba4db566897>\u001b[0m in \u001b[0;36m<module>\u001b[1;34m\u001b[0m\n\u001b[0;32m     12\u001b[0m     \u001b[1;32mreturn\u001b[0m \u001b[0mresult\u001b[0m\u001b[1;33m\u001b[0m\u001b[0m\n\u001b[0;32m     13\u001b[0m \u001b[1;33m\u001b[0m\u001b[0m\n\u001b[1;32m---> 14\u001b[1;33m \u001b[0mprint\u001b[0m\u001b[1;33m(\u001b[0m\u001b[0mfactorial\u001b[0m\u001b[1;33m(\u001b[0m\u001b[1;34m\"abc\"\u001b[0m\u001b[1;33m)\u001b[0m\u001b[1;33m)\u001b[0m\u001b[1;33m\u001b[0m\u001b[0m\n\u001b[0m",
      "\u001b[1;32m<ipython-input-55-fba4db566897>\u001b[0m in \u001b[0;36mfactorial\u001b[1;34m(number)\u001b[0m\n\u001b[0;32m      1\u001b[0m \u001b[1;32mdef\u001b[0m \u001b[0mfactorial\u001b[0m\u001b[1;33m(\u001b[0m\u001b[0mnumber\u001b[0m\u001b[1;33m)\u001b[0m\u001b[1;33m:\u001b[0m\u001b[1;33m\u001b[0m\u001b[0m\n\u001b[1;32m----> 2\u001b[1;33m     \u001b[1;32massert\u001b[0m \u001b[0mtype\u001b[0m\u001b[1;33m(\u001b[0m\u001b[0mnumber\u001b[0m\u001b[1;33m)\u001b[0m \u001b[1;33m==\u001b[0m \u001b[0mint\u001b[0m \u001b[1;32mand\u001b[0m \u001b[0mnumber\u001b[0m \u001b[1;33m>=\u001b[0m \u001b[1;36m0\u001b[0m\u001b[1;33m,\u001b[0m \u001b[1;34mf\"Giá trị không hợp lệ: '{number}'\"\u001b[0m\u001b[1;33m\u001b[0m\u001b[0m\n\u001b[0m\u001b[0;32m      3\u001b[0m \u001b[1;33m\u001b[0m\u001b[0m\n\u001b[0;32m      4\u001b[0m     \u001b[0mresult\u001b[0m \u001b[1;33m=\u001b[0m \u001b[0mnumber\u001b[0m\u001b[1;33m\u001b[0m\u001b[0m\n\u001b[0;32m      5\u001b[0m \u001b[1;33m\u001b[0m\u001b[0m\n",
      "\u001b[1;31mAssertionError\u001b[0m: Giá trị không hợp lệ: 'abc'"
     ]
    }
   ],
   "source": [
    "def factorial(number):\n",
    "    assert type(number) == int and number >= 0, f\"Giá trị không hợp lệ: '{number}'\"\n",
    "\n",
    "    result = number\n",
    "\n",
    "    if number == 0:\n",
    "        return 1\n",
    "\n",
    "    for i in range(2, number):\n",
    "        result *= i\n",
    "\n",
    "    return result\n",
    "\n",
    "print(factorial(\"abc\"))"
   ]
  },
  {
   "cell_type": "markdown",
   "metadata": {},
   "source": [
    "## Handling Exceptions\n",
    "\n",
    "Bắt và xử lý exception với khối lệnh `try except`\n",
    "\n",
    "Có thể có nhiều khối `except` để bóc tách và xử lý từng loại lỗi riêng biệt"
   ]
  },
  {
   "cell_type": "code",
   "execution_count": 60,
   "metadata": {},
   "outputs": [
    {
     "ename": "AssertionError",
     "evalue": "Giá trị không hợp lệ: 'fgdfg'",
     "output_type": "error",
     "traceback": [
      "\u001b[1;31m---------------------------------------------------------------------------\u001b[0m",
      "\u001b[1;31mAssertionError\u001b[0m                            Traceback (most recent call last)",
      "\u001b[1;32m<ipython-input-60-49ff0305c5cc>\u001b[0m in \u001b[0;36m<module>\u001b[1;34m\u001b[0m\n\u001b[1;32m----> 1\u001b[1;33m \u001b[0mfactorial\u001b[0m\u001b[1;33m(\u001b[0m\u001b[1;34m\"fgdfg\"\u001b[0m\u001b[1;33m)\u001b[0m\u001b[1;33m\u001b[0m\u001b[0m\n\u001b[0m",
      "\u001b[1;32m<ipython-input-55-fba4db566897>\u001b[0m in \u001b[0;36mfactorial\u001b[1;34m(number)\u001b[0m\n\u001b[0;32m      1\u001b[0m \u001b[1;32mdef\u001b[0m \u001b[0mfactorial\u001b[0m\u001b[1;33m(\u001b[0m\u001b[0mnumber\u001b[0m\u001b[1;33m)\u001b[0m\u001b[1;33m:\u001b[0m\u001b[1;33m\u001b[0m\u001b[0m\n\u001b[1;32m----> 2\u001b[1;33m     \u001b[1;32massert\u001b[0m \u001b[0mtype\u001b[0m\u001b[1;33m(\u001b[0m\u001b[0mnumber\u001b[0m\u001b[1;33m)\u001b[0m \u001b[1;33m==\u001b[0m \u001b[0mint\u001b[0m \u001b[1;32mand\u001b[0m \u001b[0mnumber\u001b[0m \u001b[1;33m>=\u001b[0m \u001b[1;36m0\u001b[0m\u001b[1;33m,\u001b[0m \u001b[1;34mf\"Giá trị không hợp lệ: '{number}'\"\u001b[0m\u001b[1;33m\u001b[0m\u001b[0m\n\u001b[0m\u001b[0;32m      3\u001b[0m \u001b[1;33m\u001b[0m\u001b[0m\n\u001b[0;32m      4\u001b[0m     \u001b[0mresult\u001b[0m \u001b[1;33m=\u001b[0m \u001b[0mnumber\u001b[0m\u001b[1;33m\u001b[0m\u001b[0m\n\u001b[0;32m      5\u001b[0m \u001b[1;33m\u001b[0m\u001b[0m\n",
      "\u001b[1;31mAssertionError\u001b[0m: Giá trị không hợp lệ: 'fgdfg'"
     ]
    }
   ],
   "source": [
    "factorial(\"fgdfg\")"
   ]
  },
  {
   "cell_type": "code",
   "execution_count": 61,
   "metadata": {},
   "outputs": [
    {
     "name": "stdout",
     "output_type": "stream",
     "text": [
      "Error: Giá trị không hợp lệ: 'hello'\n",
      "\n",
      "0! = 1\n",
      "1! = 1\n",
      "Error: Giá trị không hợp lệ: '-2'\n",
      "\n",
      "3! = 6\n",
      "6! = 720\n"
     ]
    }
   ],
   "source": [
    "list_ = [\"hello\", 0, 1, -2, 3,6]\n",
    "\n",
    "for value in list_:\n",
    "    try:\n",
    "        print(f\"{value}! =\", factorial(value))\n",
    "    except AssertionError as e:\n",
    "        print(\"Error:\", e)\n",
    "        print()"
   ]
  },
  {
   "cell_type": "markdown",
   "metadata": {},
   "source": [
    "## Clean-up Actions\n",
    "\n",
    "Khối lệnh `finally` thường chứa các đoạn mã có nhiệm vụ dọn dẹp như đóng file, ngắt kết nối, ...\n",
    "\n",
    "Một số loại đối tượng như file có thể sử dụng với câu lệnh `with` để tự động dọn dẹp khi không còn cần thiết"
   ]
  },
  {
   "cell_type": "code",
   "execution_count": 58,
   "metadata": {},
   "outputs": [
    {
     "name": "stdout",
     "output_type": "stream",
     "text": [
      "Yen  oi co gang len\n",
      "co len\n",
      "hi\n",
      "Hello"
     ]
    }
   ],
   "source": [
    "try:\n",
    "    file = open(\"demo.txt\")\n",
    "    for line in file:\n",
    "        print(line, end=\"\")\n",
    "except FileNotFoundError as e:\n",
    "    print(\"Không tìm thấy file demo.txt\")\n",
    "finally:\n",
    "    file.close()"
   ]
  },
  {
   "cell_type": "code",
   "execution_count": 62,
   "metadata": {},
   "outputs": [
    {
     "name": "stdout",
     "output_type": "stream",
     "text": [
      "Yen  oi co gang len\n",
      "co len\n",
      "hi\n",
      "Hello"
     ]
    }
   ],
   "source": [
    "try:\n",
    "    with open(\"demo.txt\") as file:\n",
    "        for line in file:\n",
    "            print(line, end=\"\")\n",
    "except FileNotFoundError as e:\n",
    "    print(\"Không tìm thấy file demo.txt\")"
   ]
  },
  {
   "cell_type": "markdown",
   "metadata": {},
   "source": [
    "## User-defined Exceptions\n",
    "\n",
    "Có thể tạo exception tùy chỉnh bằng cách tạo các class mới. Các class này phải kế thừa (trực tiếp hoặc gián tiếp) từ lớp `Exception`.\n",
    "\n",
    "Các exception theo quy ước có tên kết thúc với `Error` để phân biệt với các class thông thường.\n",
    "\n",
    "Mặc dù các class này có thể hoạt động giống như bất kỳ class thông thường nào, nhưng thường chỉ đơn giản là chứa một vài thuộc tính để mô tả mã lỗi hay thông báo lỗi"
   ]
  },
  {
   "cell_type": "code",
   "execution_count": 65,
   "metadata": {},
   "outputs": [
    {
     "name": "stdout",
     "output_type": "stream",
     "text": [
      "lay ra thuoc tinh message của exception:  Không phải số nguyên: hello \n",
      "value của exception có có ý nghĩa sử dụng:-------value: hello\n",
      "\n",
      "0! = 1\n",
      "1! = 1\n",
      "lay ra thuoc tinh message của exception:  Không phải số nguyên dương: -2 \n",
      "value của exception có có ý nghĩa sử dụng:-------value: -2\n",
      "\n",
      "3! = 6\n",
      "6! = 720\n"
     ]
    }
   ],
   "source": [
    "class Error(Exception):\n",
    "    \"\"\"Base class cho các exception trong module\"\"\"\n",
    "    pass\n",
    "\n",
    "class NotIntegerError(Error):\n",
    "    \"\"\"Ném ra khi giá trị đầu vào không phải integer\"\"\"\n",
    "\n",
    "    def __init__(self, value):\n",
    "        message = f\"Không phải số nguyên: {value}\"\n",
    "        self.value = value\n",
    "        self.message = message\n",
    "\n",
    "class NegativeError(Error):\n",
    "    \"\"\"Ném ra khi giá trị số là số âm\"\"\"\n",
    "    \n",
    "    def __init__(self, value):\n",
    "        message = f\"Không phải số nguyên dương: {value}\"\n",
    "        self.value = value\n",
    "        self.message = message\n",
    "\n",
    "\n",
    "def factorial(number):\n",
    "    if type(number) != int: raise NotIntegerError(number)\n",
    "\n",
    "    if number < 0: raise NegativeError(number)\n",
    "\n",
    "    result = number\n",
    "\n",
    "    if number == 0:\n",
    "        return 1\n",
    "\n",
    "    for i in range(2, number):\n",
    "        result *= i\n",
    "\n",
    "    return result\n",
    "\n",
    "# int(input())\n",
    "\n",
    "# print(factorial(\"abc\"))\n",
    "\n",
    "list_ = [\"hello\", 0, 1, -2, 3,6]\n",
    "\n",
    "for value in list_:\n",
    "    try:\n",
    "        print(f\"{value}! =\", factorial(value))\n",
    "    except (NotIntegerError,NegativeError) as e:\n",
    "        print(\"lay ra thuoc tinh message của exception: \", e.message,\"\\nvalue của exception có có ý nghĩa sử dụng:-------value:\",e.value )\n",
    "        print()"
   ]
  },
  {
   "cell_type": "markdown",
   "metadata": {},
   "source": [
    "## Excercise\n",
    "\n",
    "Game đoán số\n",
    "\n",
    "Tạo một số nguyên ngẫu nhiên trong khoảng 0 - 50, và gợi ý người dùng đoán một số, nếu trùng, hiển thị kết quả, nếu số đoán lớn hơn hoặc nhỏ hơn, hiển thị một thông báo lỗi tương ứng và gợi ý người dùng đoán lại. \n",
    "\n",
    "Số lần đoán tối đa: 3\n",
    "Xác định và xử lý các exception phù hợp"
   ]
  },
  {
   "cell_type": "code",
   "execution_count": 92,
   "metadata": {},
   "outputs": [
    {
     "name": "stdout",
     "output_type": "stream",
     "text": [
      "Số random là: 31\n"
     ]
    },
    {
     "ename": "ValueError",
     "evalue": "invalid literal for int() with base 10: ''",
     "output_type": "error",
     "traceback": [
      "\u001b[1;31m---------------------------------------------------------------------------\u001b[0m",
      "\u001b[1;31mValueError\u001b[0m                                Traceback (most recent call last)",
      "\u001b[1;32m<ipython-input-92-00bedc9772f0>\u001b[0m in \u001b[0;36m<module>\u001b[1;34m\u001b[0m\n\u001b[0;32m      4\u001b[0m \u001b[0mmax\u001b[0m\u001b[1;33m=\u001b[0m\u001b[1;36m3\u001b[0m\u001b[1;33m\u001b[0m\u001b[0m\n\u001b[0;32m      5\u001b[0m \u001b[1;32mwhile\u001b[0m \u001b[0mmax\u001b[0m\u001b[1;33m:\u001b[0m\u001b[1;33m\u001b[0m\u001b[0m\n\u001b[1;32m----> 6\u001b[1;33m     \u001b[0mnumber_guess\u001b[0m\u001b[1;33m=\u001b[0m\u001b[0mint\u001b[0m\u001b[1;33m(\u001b[0m\u001b[0minput\u001b[0m\u001b[1;33m(\u001b[0m\u001b[1;34m\"Hãy nhập số mà bạn đoán:\"\u001b[0m\u001b[1;33m)\u001b[0m\u001b[1;33m)\u001b[0m\u001b[1;33m\u001b[0m\u001b[0m\n\u001b[0m\u001b[0;32m      7\u001b[0m     \u001b[0mprint\u001b[0m\u001b[1;33m(\u001b[0m\u001b[1;34m\"bạn đã đoán\"\u001b[0m\u001b[1;33m,\u001b[0m \u001b[1;34mf\"{4-max} lan\"\u001b[0m\u001b[1;33m)\u001b[0m\u001b[1;33m\u001b[0m\u001b[0m\n\u001b[0;32m      8\u001b[0m     \u001b[0mmax\u001b[0m\u001b[1;33m-=\u001b[0m\u001b[1;36m1\u001b[0m\u001b[1;33m\u001b[0m\u001b[0m\n",
      "\u001b[1;31mValueError\u001b[0m: invalid literal for int() with base 10: ''"
     ]
    }
   ],
   "source": [
    "from random import randint\n",
    "value = randint(0, 50)\n",
    "print(\"Số random là:\",value)\n",
    "max=3\n",
    "while max:\n",
    "    number_guess=int(input(\"Hãy nhập số mà bạn đoán:\"))\n",
    "    print(\"bạn đã đoán\", f\"{4-max} lan\")\n",
    "    max-=1\n",
    "    if number_guess==value:\n",
    "        print(\"ban đoán đúng rồi\")\n",
    "        break\n",
    "    elif number_guess > value:\n",
    "        if max==0:\n",
    "            print(\"Bạn đã hết 3 lần đoán và rất tiếc bạn đã đoán sai cả 3\")\n",
    "        else:        \n",
    "            print(\"số bạn đoán lớn hơn rồi hãy đoán lại nhé\")\n",
    "    elif number_guess < value:\n",
    "        if max==0:\n",
    "            print(\"Bạn đã hết 3 lần đoán và rất tiếc bạn đã đoán sai cả 3\")\n",
    "        else:        \n",
    "            print(\"số bạn đoán nhỏ hơn rồi hãy đoán lại nhé\")\n"
   ]
  }
 ],
 "metadata": {
  "interpreter": {
   "hash": "e7c37ba80a6e54a3d63188245ab5de6a3e0d381993bcb1990a7020536fc2299e"
  },
  "kernelspec": {
   "display_name": "Python 3.6.3 64-bit",
   "name": "python3"
  },
  "language_info": {
   "codemirror_mode": {
    "name": "ipython",
    "version": 3
   },
   "file_extension": ".py",
   "mimetype": "text/x-python",
   "name": "python",
   "nbconvert_exporter": "python",
   "pygments_lexer": "ipython3",
   "version": "3.6.3"
  },
  "orig_nbformat": 4
 },
 "nbformat": 4,
 "nbformat_minor": 2
}
