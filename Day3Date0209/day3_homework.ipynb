{
 "cells": [
  {
   "cell_type": "code",
   "execution_count": 1,
   "source": [
    "''' Bài 1===\r\n",
    "In ra tam giác từ các hình * và space\r\n",
    "'''\r\n",
    "start=\"*\"\r\n",
    "space= \" \"\r\n",
    "continue_start=\"Y\"\r\n",
    "# print(      # f-string Python\r\n",
    "#     f\"{start:>4}\\n\"\r\n",
    "#     f\"{2*start:>4}\\n\"\r\n",
    "#     f\"{3*start:>4}\\n\"\r\n",
    "#     f\"{4*start:>4}\\n\"\r\n",
    "# )  \r\n",
    "\r\n",
    "while continue_start==\"Y\" or continue_start==\"y\":\r\n",
    "    print(\"nhập số * bạn muốn in\")\r\n",
    "    number_start=int(input())\r\n",
    "    for i in range(1,number_start+1):\r\n",
    "        space_number=number_start-i\r\n",
    "        # print(f\"{i*start:>number_start}\\n\")      \r\n",
    "        print(space_number*space + i*start)    \r\n",
    "    print(\"Nhâp Y để tiếp tục\")\r\n",
    "    continue_start=input()\r\n",
    "    \r\n"
   ],
   "outputs": [
    {
     "output_type": "stream",
     "name": "stdout",
     "text": [
      "nhập số * bạn muốn in\n",
      "   *\n",
      "  **\n",
      " ***\n",
      "****\n",
      "Nhâp Y để tiếp tục\n"
     ]
    }
   ],
   "metadata": {}
  },
  {
   "cell_type": "code",
   "execution_count": 3,
   "source": [
    "start=\"*\"\r\n",
    "space= \" \"\r\n",
    "continue_start=\"Y\"\r\n",
    "# print(      # f-string Python\r\n",
    "#     f\"{start:>4}\\n\"\r\n",
    "#     f\"{2*start:>4}\\n\"\r\n",
    "#     f\"{3*start:>4}\\n\"\r\n",
    "#     f\"{4*start:>4}\\n\"\r\n",
    "# )  \r\n",
    "\r\n",
    "while continue_start==\"Y\" or continue_start==\"y\":\r\n",
    "    print(\"nhập số * bạn muốn in\")\r\n",
    "    number_start=int(input())\r\n",
    "    for i in range(1,number_start+1):\r\n",
    "        space_number=number_start-i\r\n",
    "        # print(f\"{i*start:>number_start}\\n\")\r\n",
    "        if(i==number_start):\r\n",
    "            print(i*2*start)      \r\n",
    "        else:\r\n",
    "            print(space_number*space + i*start) \r\n",
    "    for j in range(number_start,0,-1):\r\n",
    "        print(number_start*space  + j*start) \r\n",
    "    print(\"Nhâp Y để tiếp tục\")\r\n",
    "    continue_start=input()"
   ],
   "outputs": [
    {
     "output_type": "stream",
     "name": "stdout",
     "text": [
      "nhập số * bạn muốn in\n",
      "   *\n",
      "  **\n",
      " ***\n",
      "********\n",
      "    ****\n",
      "    ***\n",
      "    **\n",
      "    *\n",
      "Nhâp Y để tiếp tục\n"
     ]
    }
   ],
   "metadata": {}
  },
  {
   "cell_type": "code",
   "execution_count": 10,
   "source": [
    "''' Bài 2\r\n",
    "Viết chương trình trả ra từ điển với key là các số trong list, value là số lần xuất hiện của số trong list\r\n",
    "my_list = [10, 21, 21, 40, 40, 52, 52, 1, 1, 2, 2, 2, 2, 11, 11, 11, 11, 25, 24, 24, 60, 40]\r\n",
    "Trả ra\r\n",
    "{10: 1, 21: 2, 40: 3, 52: 2, 1: 2, 2: 4, 11: 4, 25: 1, 24: 2, 60: 1}'''\r\n",
    "\r\n",
    "my_list = [10, 21, 21, 40, 40, 52, 52, 1, 1, 2, 2, 2, 2, 11, 11, 11, 11, 25, 24, 24, 60, 40]\r\n",
    "dict_1={}\r\n",
    "dict_1\r\n",
    "for i in my_list:\r\n",
    "    if i not in dict_1.keys():\r\n",
    "           dict_1[i]=1\r\n",
    "    elif i in dict_1.keys():\r\n",
    "        value =1+dict_1.get(i)\r\n",
    "        dict_1[i]=value\r\n",
    "\r\n",
    "print(\"từ điển với key là các số trong list, value là số lần xuất hiện của số trong list:\\n\",dict_1)\r\n"
   ],
   "outputs": [
    {
     "output_type": "stream",
     "name": "stdout",
     "text": [
      "từ điển với key là các số trong list, value là số lần xuất hiện của số trong list:\n",
      " {10: 1, 21: 2, 40: 3, 52: 2, 1: 2, 2: 4, 11: 4, 25: 1, 24: 2, 60: 1}\n"
     ]
    }
   ],
   "metadata": {}
  },
  {
   "cell_type": "code",
   "execution_count": 1,
   "source": [
    "'''Bài 3\r\n",
    "For/While loop và Dictionary/Tuple/Set - Đếm ngược đến XMas\r\n",
    "Viết chương trình in ra thời gian đếm ngược đến XMas 2021 sau mỗi khoảng thời gian nhất định.\r\n",
    "vd in ra sau mỗi 5s:\r\n",
    "Countdown to Xmas 2021: 112 days, 11:47:01.339588\r\n",
    "Countdown to Xmas 2021: 112 days, 11:46:56.324008\r\n",
    "Countdown to Xmas 2021: 112 days, 11:46:51.310473'''\r\n",
    "import time\r\n",
    "from datetime import datetime\r\n",
    "\r\n",
    "def count_down(t):\r\n",
    "    while t>0:\r\n",
    "        mins, secs = divmod(t, 60)\r\n",
    "        timer = '{:02d}:{:02d}'.format(mins, secs)\r\n",
    "        # print(timer)\r\n",
    "        print(timer, end=\"\\r\")\r\n",
    "        time.sleep(1)      \r\n",
    "        t-=1\r\n",
    "def print_countdown_to_xmas(t):\r\n",
    "    xmas_date = \"2021-12-25 00:00:00\"\r\n",
    "    format_string = \"%Y-%m-%d %H:%M:%S\"\r\n",
    "    today  = datetime.now()\r\n",
    "    print(\"today:\",today)\r\n",
    "    print(\"xmas day:\",xmas_date)\r\n",
    "    xmas_date=datetime.strptime(xmas_date, format_string)    \r\n",
    "    while today<xmas_date:\r\n",
    "        today  = datetime.now()\r\n",
    "        remain_time=xmas_date-today\r\n",
    "        print(\"Countdown to Xmas 2021:\",remain_time)        \r\n",
    "        count_down(t)\r\n",
    "\r\n",
    "t=input(\"nhập khoảng thời gian:\")\r\n",
    "print_countdown_to_xmas(int(t))"
   ],
   "outputs": [
    {
     "output_type": "stream",
     "name": "stdout",
     "text": [
      "today: 2021-09-25 13:23:27.490619\n",
      "xmas day: 2021-12-25 00:00:00\n",
      "Countdown to Xmas 2021: 90 days, 10:36:32.508382\n",
      "Countdown to Xmas 2021: 90 days, 10:36:22.417340\n"
     ]
    },
    {
     "output_type": "error",
     "ename": "KeyboardInterrupt",
     "evalue": "",
     "traceback": [
      "\u001b[1;31m---------------------------------------------------------------------------\u001b[0m",
      "\u001b[1;31mKeyboardInterrupt\u001b[0m                         Traceback (most recent call last)",
      "\u001b[1;32m~\\AppData\\Local\\Temp/ipykernel_8252/2315794482.py\u001b[0m in \u001b[0;36m<module>\u001b[1;34m\u001b[0m\n\u001b[0;32m     31\u001b[0m \u001b[1;33m\u001b[0m\u001b[0m\n\u001b[0;32m     32\u001b[0m \u001b[0mt\u001b[0m\u001b[1;33m=\u001b[0m\u001b[0minput\u001b[0m\u001b[1;33m(\u001b[0m\u001b[1;34m\"nhập khoảng thời gian:\"\u001b[0m\u001b[1;33m)\u001b[0m\u001b[1;33m\u001b[0m\u001b[1;33m\u001b[0m\u001b[0m\n\u001b[1;32m---> 33\u001b[1;33m \u001b[0mprint_countdown_to_xmas\u001b[0m\u001b[1;33m(\u001b[0m\u001b[0mint\u001b[0m\u001b[1;33m(\u001b[0m\u001b[0mt\u001b[0m\u001b[1;33m)\u001b[0m\u001b[1;33m)\u001b[0m\u001b[1;33m\u001b[0m\u001b[1;33m\u001b[0m\u001b[0m\n\u001b[0m",
      "\u001b[1;32m~\\AppData\\Local\\Temp/ipykernel_8252/2315794482.py\u001b[0m in \u001b[0;36mprint_countdown_to_xmas\u001b[1;34m(t)\u001b[0m\n\u001b[0;32m     28\u001b[0m         \u001b[0mremain_time\u001b[0m\u001b[1;33m=\u001b[0m\u001b[0mxmas_date\u001b[0m\u001b[1;33m-\u001b[0m\u001b[0mtoday\u001b[0m\u001b[1;33m\u001b[0m\u001b[1;33m\u001b[0m\u001b[0m\n\u001b[0;32m     29\u001b[0m         \u001b[0mprint\u001b[0m\u001b[1;33m(\u001b[0m\u001b[1;34m\"Countdown to Xmas 2021:\"\u001b[0m\u001b[1;33m,\u001b[0m\u001b[0mremain_time\u001b[0m\u001b[1;33m)\u001b[0m\u001b[1;33m\u001b[0m\u001b[1;33m\u001b[0m\u001b[0m\n\u001b[1;32m---> 30\u001b[1;33m         \u001b[0mcount_down\u001b[0m\u001b[1;33m(\u001b[0m\u001b[0mt\u001b[0m\u001b[1;33m)\u001b[0m\u001b[1;33m\u001b[0m\u001b[1;33m\u001b[0m\u001b[0m\n\u001b[0m\u001b[0;32m     31\u001b[0m \u001b[1;33m\u001b[0m\u001b[0m\n\u001b[0;32m     32\u001b[0m \u001b[0mt\u001b[0m\u001b[1;33m=\u001b[0m\u001b[0minput\u001b[0m\u001b[1;33m(\u001b[0m\u001b[1;34m\"nhập khoảng thời gian:\"\u001b[0m\u001b[1;33m)\u001b[0m\u001b[1;33m\u001b[0m\u001b[1;33m\u001b[0m\u001b[0m\n",
      "\u001b[1;32m~\\AppData\\Local\\Temp/ipykernel_8252/2315794482.py\u001b[0m in \u001b[0;36mcount_down\u001b[1;34m(t)\u001b[0m\n\u001b[0;32m     15\u001b[0m         \u001b[1;31m# print(timer)\u001b[0m\u001b[1;33m\u001b[0m\u001b[1;33m\u001b[0m\u001b[1;33m\u001b[0m\u001b[0m\n\u001b[0;32m     16\u001b[0m         \u001b[0mprint\u001b[0m\u001b[1;33m(\u001b[0m\u001b[0mtimer\u001b[0m\u001b[1;33m,\u001b[0m \u001b[0mend\u001b[0m\u001b[1;33m=\u001b[0m\u001b[1;34m\"\\r\"\u001b[0m\u001b[1;33m)\u001b[0m\u001b[1;33m\u001b[0m\u001b[1;33m\u001b[0m\u001b[0m\n\u001b[1;32m---> 17\u001b[1;33m         \u001b[0mtime\u001b[0m\u001b[1;33m.\u001b[0m\u001b[0msleep\u001b[0m\u001b[1;33m(\u001b[0m\u001b[1;36m1\u001b[0m\u001b[1;33m)\u001b[0m\u001b[1;33m\u001b[0m\u001b[1;33m\u001b[0m\u001b[0m\n\u001b[0m\u001b[0;32m     18\u001b[0m         \u001b[0mt\u001b[0m\u001b[1;33m-=\u001b[0m\u001b[1;36m1\u001b[0m\u001b[1;33m\u001b[0m\u001b[1;33m\u001b[0m\u001b[0m\n\u001b[0;32m     19\u001b[0m \u001b[1;32mdef\u001b[0m \u001b[0mprint_countdown_to_xmas\u001b[0m\u001b[1;33m(\u001b[0m\u001b[0mt\u001b[0m\u001b[1;33m)\u001b[0m\u001b[1;33m:\u001b[0m\u001b[1;33m\u001b[0m\u001b[1;33m\u001b[0m\u001b[0m\n",
      "\u001b[1;31mKeyboardInterrupt\u001b[0m: "
     ]
    }
   ],
   "metadata": {}
  },
  {
   "cell_type": "code",
   "execution_count": 50,
   "source": [
    "'''Bài 4\r\n",
    "Cho một list gồm 1 hoặc nhiều từ điển (Dictionary). \r\n",
    "Viết chương trình để trả ra tập hợp tất cả các giá trị (values) \r\n",
    "duy nhất trong tất cả danh sách các từ ển trên.\r\n",
    "[VD1]: Trường hợp dưới đây danh sách đầu vào có 1 từ điển map tên người vào tuổi của họ.\r\n",
    " Trả ra set các tuổi duy nhất.\r\n",
    "unique_value_dict(\r\n",
    "    [dict(Trang=38, Thu=38, Ngoc=27, Thanh=26, Yen=25, Hang=22, Thuy=22)]\r\n",
    "    ) == {22, 25, 26, 27, 38}\r\n",
    "[VD2]: Trường hợp dưới đây danh sách đầu vào có 7 dicts, mỗi dict chỉ có 1 cặp key-values. 5 giá trị trả về là duy nhất.\r\n",
    "unique_value_dict(\r\n",
    "    [{\"V\":\"S001\"},\r\n",
    "     {\"V\": \"S002\"}, \r\n",
    "     {\"VI\": \"S001\"}, \r\n",
    "     {\"VI\": \"S005\"},\r\n",
    "      {\"VII\":\"S005\"},\r\n",
    "       {\"V\":\"S009\"},\r\n",
    "       {\"VIII\":\"S007\"}]) == {'S009', 'S007', 'S002', 'S001', 'S005'} '''\r\n",
    "# dict_2=dict(Trang=38, Thu=38, Ngoc=27, Thanh=26, Yen=25, Hang=22, Thuy=22)\r\n",
    "# print(\"key_list\",dict_2.keys())\r\n",
    "# print(\"Value_list\",dict_2.values())\r\n",
    "# set_value=set(dict_2.values())\r\n",
    "# print(\"Lấy ra giá trị duy nhất của value\",set_value)\r\n",
    "def unique_value_dict(list_param):\r\n",
    "    list_2=[]\r\n",
    "    set_1=set()\r\n",
    "    for i in list_param:\r\n",
    "        length=i.values()\r\n",
    "        for j in i.values():\r\n",
    "            list_2.append(j)\r\n",
    "    print(\"tat ca cac gia tri duoc lay ra tu list các dictionary\",list_2)\r\n",
    "    set_1=set(list_2)\r\n",
    "    print(\"Lấy ra giá trị duy nhất của value\",set_1)\r\n",
    "    return set_1\r\n",
    "\r\n",
    "list_1=[dict(Trang=38, Thu=38, Ngoc=27, Thanh=26, Yen=25, Hang=22, Thuy=22)]\r\n",
    "print(\"====  List 1 ====\")\r\n",
    "unique_value_dict(list_1)\r\n",
    "list_2= [{\"V\":\"S001\"},\r\n",
    "         {\"V\": \"S002\"}, \r\n",
    "         {\"VI\": \"S001\"}, \r\n",
    "         {\"VI\": \"S005\"},\r\n",
    "         {\"VII\":\"S005\"},\r\n",
    "         {\"V\":\"S009\"},\r\n",
    "         {\"VIII\":\"S007\"}]\r\n",
    "print(\"====  List 2 ====\")\r\n",
    "unique_value_dict(list_2)"
   ],
   "outputs": [
    {
     "output_type": "stream",
     "name": "stdout",
     "text": [
      "====  List 1 ====\n",
      "tat ca cac gia tri duoc lay ra tu list các dictionary [38, 38, 27, 26, 25, 22, 22]\n",
      "Lấy ra giá trị duy nhất của value {38, 22, 25, 26, 27}\n",
      "====  List 2 ====\n",
      "tat ca cac gia tri duoc lay ra tu list các dictionary ['S001', 'S002', 'S001', 'S005', 'S005', 'S009', 'S007']\n",
      "Lấy ra giá trị duy nhất của value {'S009', 'S007', 'S005', 'S002', 'S001'}\n"
     ]
    },
    {
     "output_type": "execute_result",
     "data": {
      "text/plain": [
       "{'S001', 'S002', 'S005', 'S007', 'S009'}"
      ]
     },
     "metadata": {},
     "execution_count": 50
    }
   ],
   "metadata": {}
  },
  {
   "cell_type": "code",
   "execution_count": 44,
   "source": [
    "''' Bai 5\r\n",
    "Cho list A chứa các số nguyên đã sắp xếp theo thứ tự tăng dần.\r\n",
    "Vd A = [3, 6, 7, 9, 11, 12] và một số nguyên sum. Tìm tất cả các cặp số (a,b) trong mảng A có tổng bằng sum\r\n",
    "vd ở đây nếu sum = 18 thì kết quả là [(7,11), (6,12)]. Nếu không có cặp số nào thỏa mãn thì in ra list rỗng []\r\n",
    "'''\r\n",
    "sum=int(input(\"Nhập tổng mà ban muốn:\"))\r\n",
    "list_1=[]\r\n",
    "list_2=[]\r\n",
    "tuple_1 = ()\r\n",
    "A = [3, 6, 7, 9, 11, 12]\r\n",
    "# A = [1,2,3,4,5,6,7,8,9,10,11,12,13,14,15,16,17]\r\n",
    "for i in range(0,len(A)//2):\r\n",
    "    b=sum-A[i]\r\n",
    "    if b in A:\r\n",
    "        tuple_1=tuple([A[i],b])\r\n",
    "        print(\"tuple_1\",tuple_1)\r\n",
    "        list_2.append(tuple_1)\r\n",
    "print(\"Ket qua list cac cap co tong =\",sum,\"là:\\n\",list_2)\r\n"
   ],
   "outputs": [
    {
     "output_type": "stream",
     "name": "stdout",
     "text": [
      "tuple_1 (6, 12)\n",
      "tuple_1 (7, 11)\n",
      "Ket qua list cac cap co tong = 18 là:\n",
      " [(6, 12), (7, 11)]\n"
     ]
    }
   ],
   "metadata": {}
  }
 ],
 "metadata": {
  "orig_nbformat": 4,
  "language_info": {
   "name": "python",
   "version": "3.7.6",
   "mimetype": "text/x-python",
   "codemirror_mode": {
    "name": "ipython",
    "version": 3
   },
   "pygments_lexer": "ipython3",
   "nbconvert_exporter": "python",
   "file_extension": ".py"
  },
  "kernelspec": {
   "name": "python3",
   "display_name": "Python 3.7.6 64-bit"
  },
  "interpreter": {
   "hash": "04635d289a519a1410467dd0afb0db42f9184808881ca68b2eb5a687a20a5a94"
  }
 },
 "nbformat": 4,
 "nbformat_minor": 2
}