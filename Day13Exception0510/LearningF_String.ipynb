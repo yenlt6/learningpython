{
 "cells": [
  {
   "cell_type": "code",
   "execution_count": null,
   "metadata": {},
   "outputs": [],
   "source": [
    "#https://realpython.com/python-f-strings/\n",
    "#https://docs.python.org/3/library/stdtypes.html#printf-style-string-formatting\n",
    "#https://realpython.com/python-formatted-output/\n"
   ]
  },
  {
   "cell_type": "code",
   "execution_count": null,
   "metadata": {},
   "outputs": [],
   "source": [
    "name = \"Eric\"\n",
    "person = {'name': 'Eric', 'age': 74}\n",
    "age = 74\n",
    "print(\"Hello, %s.\" % name)\n",
    "print(\"Hello, %s. You are %s.\" % (name, age))\n",
    "\n",
    "print(\"Hello, {}. You are {}.\".format(name, age))\n",
    "print(\"Hello, {1}. You are {0}.\".format(age, name))\n",
    "print(\"Hello, {name}. You are {age}.\".format(name=person['name'], age=person['age']))\n",
    "# print(f(\"Hello, {name}. You are {age}.\"))\n"
   ]
  },
  {
   "cell_type": "code",
   "execution_count": null,
   "metadata": {},
   "outputs": [],
   "source": [
    "person = {'name': 'Eric', 'age': 74}\n",
    "print(\"Hello, {name}. You are {age}.\".format(**person))\n",
    "print(f\"Hello, {name}. You are {age}.\")\n",
    "\n",
    "def to_lowercase(input):\n",
    "    return input.lower()\n",
    "name = \"Yen Le\"\n",
    "\n",
    "# f\"{to_lowercase(name)} is funny\"\n",
    "\n",
    "f\"{name.lower()} is funny.\""
   ]
  },
  {
   "cell_type": "code",
   "execution_count": 2,
   "metadata": {},
   "outputs": [
    {
     "name": "stdout",
     "output_type": "stream",
     "text": [
      "Eric Idle is 74.\n",
      "Eric Idle is 74. Surprise!\n"
     ]
    }
   ],
   "source": [
    "class Comedian:\n",
    "    def __init__(self, first_name, last_name, age):\n",
    "        self.first_name = first_name\n",
    "        self.last_name = last_name\n",
    "        self.age = age\n",
    "\n",
    "    def __str__(self):\n",
    "        return f\"{self.first_name} {self.last_name} is {self.age}.\"\n",
    "\n",
    "    def __repr__(self):\n",
    "        return f\"{self.first_name} {self.last_name} is {self.age}. Surprise!\"\n",
    "\n",
    "new_comedian = Comedian(\"Eric\", \"Idle\", \"74\")\n",
    "\n",
    "print(f\"{new_comedian}\")\n",
    "print(f\"{new_comedian!r}\")\n"
   ]
  }
 ],
 "metadata": {
  "interpreter": {
   "hash": "04635d289a519a1410467dd0afb0db42f9184808881ca68b2eb5a687a20a5a94"
  },
  "kernelspec": {
   "display_name": "Python 3.7.6 64-bit",
   "name": "python3"
  },
  "language_info": {
   "codemirror_mode": {
    "name": "ipython",
    "version": 3
   },
   "file_extension": ".py",
   "mimetype": "text/x-python",
   "name": "python",
   "nbconvert_exporter": "python",
   "pygments_lexer": "ipython3",
   "version": "3.7.6"
  },
  "orig_nbformat": 4
 },
 "nbformat": 4,
 "nbformat_minor": 2
}
