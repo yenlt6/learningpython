{
 "metadata": {
  "language_info": {
   "codemirror_mode": {
    "name": "ipython",
    "version": 3
   },
   "file_extension": ".py",
   "mimetype": "text/x-python",
   "name": "python",
   "nbconvert_exporter": "python",
   "pygments_lexer": "ipython3",
   "version": "3.9.5"
  },
  "orig_nbformat": 4,
  "kernelspec": {
   "name": "python3",
   "display_name": "Python 3.9.5 64-bit ('python_tester_env': venv)"
  },
  "interpreter": {
   "hash": "24cd0c75bfe4a706d6789947de4493a267f99aa12d72755b5ca874abcfbcc979"
  }
 },
 "nbformat": 4,
 "nbformat_minor": 2,
 "cells": [
  {
   "cell_type": "markdown",
   "source": [
    "## Kế thừa đơn giản"
   ],
   "metadata": {}
  },
  {
   "cell_type": "code",
   "execution_count": null,
   "source": [
    "from IPython.core.interactiveshell import InteractiveShell\r\n",
    "InteractiveShell.ast_node_interactivity = \"all\"\r\n",
    "\r\n",
    "class MySubClass(object): \r\n",
    "    pass "
   ],
   "outputs": [],
   "metadata": {}
  },
  {
   "cell_type": "code",
   "execution_count": null,
   "source": [
    "class Contact:\r\n",
    "    all_contacts = []\r\n",
    "\r\n",
    "    def __init__(self, name, email):\r\n",
    "        self.name = name\r\n",
    "        self.email = email\r\n",
    "        Contact.all_contacts.append(self)"
   ],
   "outputs": [],
   "metadata": {}
  },
  {
   "cell_type": "code",
   "execution_count": null,
   "source": [
    "class Supplier(Contact):\r\n",
    "    def order(self, order):\r\n",
    "        print(\r\n",
    "        \"If this were a real system we would send \"\r\n",
    "        f\"'{order}' order to '{self.name}'\"\r\n",
    "        )"
   ],
   "outputs": [],
   "metadata": {}
  },
  {
   "cell_type": "code",
   "execution_count": null,
   "source": [
    "c = Contact(\"Some Body\", \"somebody@example.net\")\r\n",
    "s = Supplier(\"Sup Plier\", \"supplier@example.net\")\r\n",
    "print(c.name, c.email, s.name, s.email)\r\n",
    "c.all_contacts"
   ],
   "outputs": [],
   "metadata": {}
  },
  {
   "cell_type": "code",
   "execution_count": null,
   "source": [
    "s.order(\"I need pliers\")\r\n",
    "c.order(\"I need pliers\")"
   ],
   "outputs": [],
   "metadata": {}
  },
  {
   "cell_type": "code",
   "execution_count": null,
   "source": [
    "class Piece:\r\n",
    "    def __init__(self, color):\r\n",
    "        self.color = color\r\n",
    "        # print(\"Parent class instance\")\r\n",
    "    \r\n",
    "    def __str__(self):\r\n",
    "        return \"I'm a {} piece in the chessSet\".format(self.color)\r\n",
    "\r\n",
    "class Pawn(Piece):\r\n",
    "    def __init__(self, color, col):\r\n",
    "        Piece.__init__(self, color)\r\n",
    "        self.col = col\r\n",
    "\r\n",
    "    def __str__(self):\r\n",
    "        return \"I'm a {} pawn in {} col. I only move forward 1 or 2 step\".format(self.color, self.col)\r\n",
    "\r\n",
    "class Rook(Piece):\r\n",
    "    def __init__(self, color, col):\r\n",
    "        super().__init__(color)\r\n",
    "        self.col = col\r\n",
    "\r\n",
    "    def __str__(self):\r\n",
    "        return super().__str__() + \"- I can go horizontally or vertically up to 8 step\"\r\n",
    "\r\n",
    "piece = Piece(\"black\")\r\n",
    "print(piece)\r\n",
    "\r\n",
    "pawnB = Pawn(\"white\", \"B\")\r\n",
    "print(pawnB)\r\n",
    "\r\n",
    "rookH = Rook(\"black\", \"H\")\r\n",
    "print(rookH)"
   ],
   "outputs": [],
   "metadata": {}
  }
 ]
}